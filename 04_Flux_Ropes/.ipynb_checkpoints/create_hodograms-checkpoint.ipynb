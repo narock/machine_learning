{
 "cells": [
  {
   "cell_type": "code",
   "execution_count": 1,
   "metadata": {},
   "outputs": [],
   "source": [
    "import glob\n",
    "import numpy as np\n",
    "from PIL import Image\n",
    "import matplotlib.pyplot as plt"
   ]
  },
  {
   "cell_type": "markdown",
   "metadata": {},
   "source": [
    "### Define functions we'll need throughout"
   ]
  },
  {
   "cell_type": "code",
   "execution_count": 2,
   "metadata": {},
   "outputs": [],
   "source": [
    "def readCSV(file):\n",
    "              \n",
    "    x = []\n",
    "    y = []\n",
    "    z = []\n",
    "    openFile = open(file, \"r\")\n",
    "    for line in openFile:\n",
    "        parts = line.split(\",\")\n",
    "        x.append(float(parts[0]))\n",
    "        y.append(float(parts[1]))\n",
    "        z.append(float(parts[2]))\n",
    "    openFile.close()\n",
    "        \n",
    "    bx = np.array(x)\n",
    "    by = np.array(y)\n",
    "    bz = np.array(z)\n",
    "       \n",
    "    return bx, by, bz"
   ]
  },
  {
   "cell_type": "code",
   "execution_count": 3,
   "metadata": {},
   "outputs": [],
   "source": [
    "def createHodo(bx, by, bz, outPath):\n",
    "\n",
    "    fnames = ['hodo_bx_by.jpg', 'hodo_bx_bz.jpg', 'hodo_bz_by.jpg']\n",
    "    for i in range(3):\n",
    "\n",
    "        fig, ax = plt.subplots(1,1,figsize=(1.5,1.5))\n",
    "\n",
    "        ax.set_axis_off()\n",
    "        if (i == 0):\n",
    "            ax.plot(bx, by, 'k') # 'k' is color abbreviation for black\n",
    "            ax.set_ylim(-1,1)\n",
    "            ax.set_xlim(-1,1)\n",
    "            ax.scatter(bx[0], by[0], s=30, c='black')\n",
    "        elif (i == 1):\n",
    "            ax.plot(bx, bz, 'k') # 'k' is color abbreviation for black\n",
    "            ax.set_ylim(-1,1)\n",
    "            ax.set_xlim(-1,1)\n",
    "            ax.scatter(bx[0], bz[0], s=30, c='black')\n",
    "        else:\n",
    "            ax.plot(bz, by, 'k') # 'k' is color abbreviation for black\n",
    "            ax.set_ylim(-1,1)\n",
    "            ax.set_xlim(-1,1)\n",
    "            ax.scatter(bz[0], by[0], s=30, c='black')\n",
    "        \n",
    "        fig.savefig(outPath + fnames[i])\n",
    "        plt.close()\n",
    "        \n",
    "    stacked = np.zeros( shape=(108,108,3) )\n",
    "    for i in range(3):\n",
    "        img = np.array(Image.open(outPath + fnames[i]).convert('L'))\n",
    "        img = img / np.max(img)\n",
    "        img[img < 0.65] = -1\n",
    "        img[img >= 0.65] = 0\n",
    "        img[img == -1] = 1\n",
    "        stacked[:,:,i] = img\n",
    "        \n",
    "    return stacked"
   ]
  },
  {
   "cell_type": "markdown",
   "metadata": {},
   "source": [
    "### Configuration variables and path setup"
   ]
  },
  {
   "cell_type": "code",
   "execution_count": 4,
   "metadata": {},
   "outputs": [],
   "source": [
    "outPath = \"/home/narock/Desktop/\"\n",
    "csvPath = \"/data/fluxrope_ml/csv_teressa/\"\n",
    "imgPath = \"/data/fluxrope_ml/hodos/\""
   ]
  },
  {
   "cell_type": "markdown",
   "metadata": {},
   "source": [
    "### Get a list of all fluxrope files"
   ]
  },
  {
   "cell_type": "code",
   "execution_count": 5,
   "metadata": {},
   "outputs": [
    {
     "name": "stdout",
     "output_type": "stream",
     "text": [
      "Found 5324 fluxrope data files\n"
     ]
    }
   ],
   "source": [
    "# For now, grab just the y0/R = 0 files, also grab just the B0=10 files to remove redundant images\n",
    "allFiles = glob.glob( csvPath + \"fluxrope_10_*_*_0_*.txt\")\n",
    "\n",
    "nFiles = len(allFiles)\n",
    "print(\"Found\", nFiles, \"fluxrope data files\")"
   ]
  },
  {
   "cell_type": "markdown",
   "metadata": {},
   "source": [
    "### Create hodograms"
   ]
  },
  {
   "cell_type": "code",
   "execution_count": 15,
   "metadata": {},
   "outputs": [
    {
     "data": {
      "image/png": "[encoded data removed]",
      "text/plain": [
       "<Figure size 432x288 with 1 Axes>"
      ]
     },
     "metadata": {
      "needs_background": "light"
     },
     "output_type": "display_data"
    }
   ],
   "source": [
    "count = 0\n",
    "tf = int(0.25 * nFiles)\n",
    "ft = int(0.50 * nFiles)\n",
    "sv = int(0.75 * nFiles)\n",
    "\n",
    "for i in range(1):\n",
    "#for i in range(nFiles):\n",
    "\n",
    "    bx, by, bz = readCSV(allFiles[i])\n",
    "\n",
    "    sp = 5\n",
    "    ix = 0\n",
    "    n = bx.shape[0]\n",
    "\n",
    "    allHodos = np.zeros( shape=(10,108,108,3))\n",
    "\n",
    "    while (sp <= n):\n",
    "\n",
    "        # break into 10 hodograms, 0 to 10%, 0 to 20%, 0 to 30%, etc.\n",
    "        bxTemp = bx[0:sp].copy()\n",
    "        byTemp = by[0:sp].copy()\n",
    "        bzTemp = bz[0:sp].copy()\n",
    "        \n",
    "        size = len(bxTemp)\n",
    "        n1 = np.random.normal(0,0.1,size)\n",
    "        n2 = np.random.normal(0,0.1,size)\n",
    "        n3 = np.random.normal(0,0.1,size)\n",
    "            \n",
    "        bxTemp += n1\n",
    "        byTemp += n2\n",
    "        bzTemp += n2\n",
    "            \n",
    "        mag = np.sqrt( bxTemp*bxTemp + byTemp*byTemp + bzTemp*bzTemp )\n",
    "        #mx = np.max(mag)\n",
    "        bxTemp /= mag#mx\n",
    "        byTemp /= mag#mx\n",
    "        bzTemp /= mag#mx\n",
    "        \n",
    "        #allHodos[ix,:,:,:] = createHodo(bxTemp, byTemp, bzTemp, outPath)\n",
    "    \n",
    "        #parts = allFiles[i].split('/')\n",
    "        #fname = parts[-1].strip()\n",
    "        #parts = fname.split('.')\n",
    "        #fname = parts[0].strip()\n",
    "        #outfile = imgPath + fname + '.npz'\n",
    "        #np.savez(outfile, hodo=allHodos)\n",
    "        \n",
    "        sp += 5\n",
    "        ix += 1\n",
    "        \n",
    "    plt.plot(bxTemp,byTemp)\n",
    "    plt.ylim(-1,1)\n",
    "    plt.xlim(-1,1)\n",
    "\n",
    "    count += 1\n",
    "    if (count == tf):\n",
    "        print(\"   25% done...\")\n",
    "    if (count == ft):\n",
    "        print(\"   50% done...\")\n",
    "    if (count == sv):\n",
    "        print(\"   75% done...\")"
   ]
  },
  {
   "cell_type": "code",
   "execution_count": 47,
   "metadata": {},
   "outputs": [],
   "source": [
    "bx, by, bz = readCSV(allFiles[i])"
   ]
  },
  {
   "cell_type": "code",
   "execution_count": 48,
   "metadata": {},
   "outputs": [
    {
     "data": {
      "text/plain": [
       "10.440306483413353"
      ]
     },
     "execution_count": 48,
     "metadata": {},
     "output_type": "execute_result"
    }
   ],
   "source": [
    "np.sqrt( bx[0]*bx[0] + by[0]*by[0] + bz[0]*bz[0] )"
   ]
  },
  {
   "cell_type": "code",
   "execution_count": 76,
   "metadata": {},
   "outputs": [],
   "source": [
    "sp=40\n",
    "bxTemp = bx[0:sp].copy()\n",
    "byTemp = by[0:sp].copy()\n",
    "bzTemp = bz[0:sp].copy()\n",
    "mag = np.sqrt( bxTemp*bxTemp + byTemp*byTemp + bzTemp*bzTemp )\n",
    "mx = np.max(mag)\n",
    "bxTemp /= mx\n",
    "byTemp /= mx\n",
    "bzTemp /= mx"
   ]
  },
  {
   "cell_type": "code",
   "execution_count": 77,
   "metadata": {},
   "outputs": [
    {
     "data": {
      "text/plain": [
       "[<matplotlib.lines.Line2D at 0x7fc4b6409550>]"
      ]
     },
     "execution_count": 77,
     "metadata": {},
     "output_type": "execute_result"
    },
    {
     "data": {
      "image/png": "[encoded data removed]",
      "text/plain": [
       "<Figure size 432x288 with 1 Axes>"
      ]
     },
     "metadata": {
      "needs_background": "light"
     },
     "output_type": "display_data"
    }
   ],
   "source": [
    "plt.plot(byTemp)"
   ]
  },
  {
   "cell_type": "code",
   "execution_count": 36,
   "metadata": {},
   "outputs": [
    {
     "data": {
      "text/plain": [
       "(50,)"
      ]
     },
     "execution_count": 36,
     "metadata": {},
     "output_type": "execute_result"
    }
   ],
   "source": [
    "bx.shape"
   ]
  },
  {
   "cell_type": "code",
   "execution_count": null,
   "metadata": {},
   "outputs": [],
   "source": []
  }
 ],
 "metadata": {
  "kernelspec": {
   "display_name": "Python 3",
   "language": "python",
   "name": "python3"
  },
  "language_info": {
   "codemirror_mode": {
    "name": "ipython",
    "version": 3
   },
   "file_extension": ".py",
   "mimetype": "text/x-python",
   "name": "python",
   "nbconvert_exporter": "python",
   "pygments_lexer": "ipython3",
   "version": "3.6.9"
  }
 },
 "nbformat": 4,
 "nbformat_minor": 4
}
