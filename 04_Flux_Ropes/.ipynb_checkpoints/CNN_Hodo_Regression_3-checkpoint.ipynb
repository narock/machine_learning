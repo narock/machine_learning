{
 "cells": [
  {
   "cell_type": "code",
   "execution_count": 52,
   "metadata": {},
   "outputs": [],
   "source": [
    "#import io\n",
    "#import os\n",
    "import time\n",
    "import glob\n",
    "import random\n",
    "\n",
    "import numpy as np\n",
    "import matplotlib.pyplot as plt\n",
    "\n",
    "import tensorflow as tf\n",
    "\n",
    "#from PIL import Image\n",
    "#from skimage import color\n",
    "#from sklearn.preprocessing import LabelEncoder\n",
    "\n",
    "import keras\n",
    "from keras.utils import Sequence\n",
    "from keras.models import Sequential, Input, Model\n",
    "from keras.layers import Dense\n",
    "from keras.layers import Dropout, Flatten \n",
    "from keras.layers import Conv2D, MaxPooling2D, concatenate"
   ]
  },
  {
   "cell_type": "markdown",
   "metadata": {},
   "source": [
    "### Configuration variables and path setup"
   ]
  },
  {
   "cell_type": "code",
   "execution_count": 55,
   "metadata": {},
   "outputs": [],
   "source": [
    "#imgPath = \"/media/narock/One Touch/data/fluxropes/cc_npz/\"\n",
    "npzPath = \"/data/fluxrope_ml/cc_npz_individual/\""
   ]
  },
  {
   "cell_type": "markdown",
   "metadata": {},
   "source": [
    "### Split the data into training, testing, and validation"
   ]
  },
  {
   "cell_type": "markdown",
   "metadata": {},
   "source": [
    "### Dataset: phi [5, 355], theta [-85, 85], y0 [0 and 95]"
   ]
  },
  {
   "cell_type": "code",
   "execution_count": 56,
   "metadata": {},
   "outputs": [
    {
     "name": "stdout",
     "output_type": "stream",
     "text": [
      "Dataset size: 94392\n"
     ]
    }
   ],
   "source": [
    "allFiles = glob.glob( npzPath + \"*.npz\" )\n",
    "random.shuffle(allFiles)\n",
    "print(\"Dataset size:\", len(allFiles))"
   ]
  },
  {
   "cell_type": "code",
   "execution_count": 57,
   "metadata": {},
   "outputs": [
    {
     "name": "stdout",
     "output_type": "stream",
     "text": [
      "Training files: 56635\n",
      "Test files: 18878\n",
      "Validation files: 18879\n",
      "\n",
      "Total number of files: 94392\n"
     ]
    }
   ],
   "source": [
    "# Distribution is 60% Training, 20% Validation, and 20% Testing\n",
    "cutOff = int(len(allFiles) * 0.6)\n",
    "train = allFiles[:cutOff]\n",
    "rest = allFiles[cutOff:]\n",
    "\n",
    "# there's 40% left over, split it in half for testing and validation\n",
    "test = rest[ : int(len(rest) * 0.5)]\n",
    "validation = rest[ int(len(rest) * 0.5) : ]\n",
    "\n",
    "print(\"Training files:\", len(train))\n",
    "print(\"Test files:\", len(test))\n",
    "print(\"Validation files:\", len(validation))\n",
    "print()\n",
    "print(\"Total number of files:\", len(allFiles))\n",
    "\n",
    "# check to make sure we split everything correctly\n",
    "total = len(test) + len(train) + len(validation)\n",
    "assert total == len(allFiles)"
   ]
  },
  {
   "cell_type": "markdown",
   "metadata": {},
   "source": [
    "### Data reader"
   ]
  },
  {
   "cell_type": "code",
   "execution_count": 58,
   "metadata": {},
   "outputs": [],
   "source": [
    "class NpzDataGenerator(Sequence):\n",
    "    \n",
    "    def __init__(self, files, batch_size=1, shuffle=False):\n",
    "        \n",
    "        self.batch_size = batch_size\n",
    "        self.files = files\n",
    "        self.shuffle = shuffle\n",
    "        self.on_epoch_end()\n",
    "\n",
    "    def __len__(self):\n",
    "        \n",
    "        'Denotes the number of batches per epoch'\n",
    "\n",
    "        'If the batch size doesnt divide evenly then add 1'\n",
    "        diff = (len(self.files) / self.batch_size) - np.floor((len(self.files) / self.batch_size))\n",
    "        if ( diff > 0 ):\n",
    "            return int(np.floor(len(self.files) / self.batch_size))+1\n",
    "        else:\n",
    "            return int(np.floor(len(self.files) / self.batch_size))\n",
    "\n",
    "    def __getitem__(self, index):\n",
    "        \n",
    "        'Generate one batch of data'\n",
    "        # Generate indexes of the batch\n",
    "        indexes = self.indexes[index*self.batch_size:(index+1)*self.batch_size]\n",
    "\n",
    "        # get list of files\n",
    "        files = [self.files[k] for k in indexes]\n",
    "\n",
    "        n = int(len(files)*10)\n",
    "        phis = np.empty( shape=(n,2) )\n",
    "        thetas = np.empty( shape=(n,2) )\n",
    "        y0s = np.empty( shape=(n) )\n",
    "        hs = np.empty( shape=(n) )\n",
    "        x = np.zeros( shape=(n,100,100,3) )\n",
    "        \n",
    "        st = 0\n",
    "        sp = 10\n",
    "        for file in files:\n",
    " \n",
    "            # load npz file\n",
    "            data = np.load(file)\n",
    "            x[st:sp,:,:,:] = data['x']\n",
    "            phis[st:sp,:] = data['phi']\n",
    "            thetas[st:sp,:] = data['theta']\n",
    "            y0s[st:sp] = data['y0']\n",
    "            hs[st:sp] = data['h']\n",
    "            \n",
    "            st = sp\n",
    "            sp += 10\n",
    "            \n",
    "        y = {\"phi\": phis, \"theta\": thetas, \"y0\": y0s, \"handedness\": hs}\n",
    "\n",
    "        return x, y\n",
    "\n",
    "    def on_epoch_end(self):\n",
    "        \n",
    "        'Updates indexes after each epoch'\n",
    "        self.indexes = np.arange(len(self.files))\n",
    "        if self.shuffle == True:\n",
    "            np.random.shuffle(self.indexes)"
   ]
  },
  {
   "cell_type": "markdown",
   "metadata": {},
   "source": [
    "### Train the model"
   ]
  },
  {
   "cell_type": "code",
   "execution_count": 10,
   "metadata": {},
   "outputs": [],
   "source": [
    "# This is required for my GPU: GeForce RTX 2060\n",
    "# Without this config, tensorflow cannot properly allocate GPU memory\n",
    "config = tf.compat.v1.ConfigProto()\n",
    "config.gpu_options.allow_growth = True\n",
    "config.gpu_options.per_process_gpu_memory_fraction = 0.90\n",
    "session = tf.compat.v1.Session(config=config)"
   ]
  },
  {
   "cell_type": "code",
   "execution_count": 59,
   "metadata": {},
   "outputs": [],
   "source": [
    "# define model\n",
    "from keras.optimizers import Adam\n",
    "\n",
    "dim = 100\n",
    "input_shape = (dim,dim,3)\n",
    "\n",
    "def get_model():\n",
    "    \n",
    "    inp = Input(input_shape, name=\"input\")\n",
    "    x = Conv2D(filters=32, kernel_size=3, activation='relu', padding=\"same\")(inp)\n",
    "    x = Conv2D(filters=64, kernel_size=3, activation='relu', padding=\"same\")(x)\n",
    "    x = Dropout(0.5, name=\"dropout\")(x, training=False)\n",
    "    x = MaxPooling2D(pool_size=2)(x)\n",
    "    x = Flatten(name=\"flatten\")(x)\n",
    "    out1 = Dense(2, name=\"phi\", activation=\"tanh\")(x)\n",
    "    out2 = Dense(2, name=\"theta\", activation=\"tanh\")(x)\n",
    "    out3 = Dense(1, name=\"y0\", activation=\"tanh\")(x)\n",
    "    out4 = Dense(1, name=\"handedness\", activation='sigmoid')(x)\n",
    "    \n",
    "    losses = {'phi': 'mean_squared_error',\n",
    "              'theta': 'mean_squared_error', \n",
    "              'y0': 'mean_squared_error',\n",
    "              'handedness': 'binary_crossentropy'}\n",
    "    \n",
    "    lossWeights = {\"phi\": 1.0, \"theta\": 1.0, \"y0\": 1.0, \"handedness\": 1.0}\n",
    "    \n",
    "    model = Model(inputs=inp, outputs=[out1,out2,out3,out4])\n",
    "\n",
    "    #optimizer=Adam(clipnorm=1.,epsilon=0.1)) #\n",
    "    model.compile(loss=losses, loss_weights=lossWeights, optimizer='adam')\n",
    "        \n",
    "    return model"
   ]
  },
  {
   "cell_type": "code",
   "execution_count": 60,
   "metadata": {},
   "outputs": [
    {
     "name": "stdout",
     "output_type": "stream",
     "text": [
      "Model: \"functional_1\"\n",
      "__________________________________________________________________________________________________\n",
      "Layer (type)                    Output Shape         Param #     Connected to                     \n",
      "==================================================================================================\n",
      "input (InputLayer)              [(None, 100, 100, 3) 0                                            \n",
      "__________________________________________________________________________________________________\n",
      "conv2d (Conv2D)                 (None, 100, 100, 32) 896         input[0][0]                      \n",
      "__________________________________________________________________________________________________\n",
      "conv2d_1 (Conv2D)               (None, 100, 100, 64) 18496       conv2d[0][0]                     \n",
      "__________________________________________________________________________________________________\n",
      "dropout (Dropout)               (None, 100, 100, 64) 0           conv2d_1[0][0]                   \n",
      "__________________________________________________________________________________________________\n",
      "max_pooling2d (MaxPooling2D)    (None, 50, 50, 64)   0           dropout[0][0]                    \n",
      "__________________________________________________________________________________________________\n",
      "flatten (Flatten)               (None, 160000)       0           max_pooling2d[0][0]              \n",
      "__________________________________________________________________________________________________\n",
      "phi (Dense)                     (None, 2)            320002      flatten[0][0]                    \n",
      "__________________________________________________________________________________________________\n",
      "theta (Dense)                   (None, 2)            320002      flatten[0][0]                    \n",
      "__________________________________________________________________________________________________\n",
      "y0 (Dense)                      (None, 1)            160001      flatten[0][0]                    \n",
      "__________________________________________________________________________________________________\n",
      "handedness (Dense)              (None, 1)            160001      flatten[0][0]                    \n",
      "==================================================================================================\n",
      "Total params: 979,398\n",
      "Trainable params: 979,398\n",
      "Non-trainable params: 0\n",
      "__________________________________________________________________________________________________\n"
     ]
    }
   ],
   "source": [
    "# clear out any old models hanging around\n",
    "keras.backend.clear_session()\n",
    "\n",
    "# define model\n",
    "model = get_model()\n",
    "\n",
    "model.summary()"
   ]
  },
  {
   "cell_type": "code",
   "execution_count": 61,
   "metadata": {
    "scrolled": true
   },
   "outputs": [
    {
     "name": "stdout",
     "output_type": "stream",
     "text": [
      "Epoch 1/25\n",
      "18879/18879 [==============================] - 428s 23ms/step - loss: 0.2332 - phi_loss: 0.1025 - theta_loss: 0.0369 - y0_loss: 0.0299 - handedness_loss: 0.0639 - val_loss: 0.1060 - val_phi_loss: 0.0578 - val_theta_loss: 0.0216 - val_y0_loss: 0.0189 - val_handedness_loss: 0.0078\n",
      "Epoch 2/25\n",
      "18879/18879 [==============================] - 424s 22ms/step - loss: 0.0880 - phi_loss: 0.0471 - theta_loss: 0.0184 - y0_loss: 0.0170 - handedness_loss: 0.0056 - val_loss: 0.0785 - val_phi_loss: 0.0423 - val_theta_loss: 0.0167 - val_y0_loss: 0.0153 - val_handedness_loss: 0.0043\n",
      "Epoch 3/25\n",
      "18879/18879 [==============================] - 418s 22ms/step - loss: 0.0678 - phi_loss: 0.0361 - theta_loss: 0.0142 - y0_loss: 0.0140 - handedness_loss: 0.0034 - val_loss: 0.0721 - val_phi_loss: 0.0373 - val_theta_loss: 0.0159 - val_y0_loss: 0.0148 - val_handedness_loss: 0.0041\n",
      "Epoch 4/25\n",
      "18879/18879 [==============================] - 424s 22ms/step - loss: 0.0585 - phi_loss: 0.0309 - theta_loss: 0.0124 - y0_loss: 0.0125 - handedness_loss: 0.0027 - val_loss: 0.0704 - val_phi_loss: 0.0382 - val_theta_loss: 0.0144 - val_y0_loss: 0.0141 - val_handedness_loss: 0.0036\n",
      "Epoch 5/25\n",
      "18879/18879 [==============================] - 420s 22ms/step - loss: 0.0529 - phi_loss: 0.0278 - theta_loss: 0.0112 - y0_loss: 0.0117 - handedness_loss: 0.0021 - val_loss: 0.0703 - val_phi_loss: 0.0375 - val_theta_loss: 0.0147 - val_y0_loss: 0.0150 - val_handedness_loss: 0.0030\n",
      "Epoch 6/25\n",
      "18879/18879 [==============================] - 419s 22ms/step - loss: 0.0493 - phi_loss: 0.0258 - theta_loss: 0.0106 - y0_loss: 0.0111 - handedness_loss: 0.0019 - val_loss: 0.0617 - val_phi_loss: 0.0322 - val_theta_loss: 0.0133 - val_y0_loss: 0.0133 - val_handedness_loss: 0.0029\n",
      "Epoch 7/25\n",
      "18879/18879 [==============================] - 423s 22ms/step - loss: 0.0464 - phi_loss: 0.0242 - theta_loss: 0.0100 - y0_loss: 0.0107 - handedness_loss: 0.0016 - val_loss: 0.0612 - val_phi_loss: 0.0325 - val_theta_loss: 0.0128 - val_y0_loss: 0.0133 - val_handedness_loss: 0.0026\n",
      "Epoch 8/25\n",
      "18879/18879 [==============================] - 425s 22ms/step - loss: 0.0443 - phi_loss: 0.0230 - theta_loss: 0.0096 - y0_loss: 0.0103 - handedness_loss: 0.0014 - val_loss: 0.0584 - val_phi_loss: 0.0303 - val_theta_loss: 0.0129 - val_y0_loss: 0.0127 - val_handedness_loss: 0.0024\n",
      "Epoch 9/25\n",
      "18879/18879 [==============================] - 427s 23ms/step - loss: 0.0427 - phi_loss: 0.0221 - theta_loss: 0.0091 - y0_loss: 0.0101 - handedness_loss: 0.0013 - val_loss: 0.0557 - val_phi_loss: 0.0290 - val_theta_loss: 0.0120 - val_y0_loss: 0.0125 - val_handedness_loss: 0.0022\n",
      "Epoch 10/25\n",
      "18879/18879 [==============================] - 422s 22ms/step - loss: 0.0414 - phi_loss: 0.0214 - theta_loss: 0.0089 - y0_loss: 0.0099 - handedness_loss: 0.0012 - val_loss: 0.0572 - val_phi_loss: 0.0294 - val_theta_loss: 0.0127 - val_y0_loss: 0.0128 - val_handedness_loss: 0.0023\n",
      "Epoch 11/25\n",
      "18879/18879 [==============================] - 426s 23ms/step - loss: 0.0404 - phi_loss: 0.0208 - theta_loss: 0.0087 - y0_loss: 0.0097 - handedness_loss: 0.0011 - val_loss: 0.0550 - val_phi_loss: 0.0285 - val_theta_loss: 0.0120 - val_y0_loss: 0.0123 - val_handedness_loss: 0.0022\n",
      "Epoch 12/25\n",
      "18879/18879 [==============================] - 423s 22ms/step - loss: 0.0394 - phi_loss: 0.0203 - theta_loss: 0.0085 - y0_loss: 0.0096 - handedness_loss: 0.0010 - val_loss: 0.0561 - val_phi_loss: 0.0291 - val_theta_loss: 0.0123 - val_y0_loss: 0.0125 - val_handedness_loss: 0.0022\n",
      "Epoch 13/25\n",
      "18879/18879 [==============================] - 421s 22ms/step - loss: 0.0385 - phi_loss: 0.0197 - theta_loss: 0.0083 - y0_loss: 0.0095 - handedness_loss: 9.5045e-04 - val_loss: 0.0573 - val_phi_loss: 0.0294 - val_theta_loss: 0.0127 - val_y0_loss: 0.0129 - val_handedness_loss: 0.0023\n",
      "Epoch 14/25\n",
      "18879/18879 [==============================] - 422s 22ms/step - loss: 0.0378 - phi_loss: 0.0194 - theta_loss: 0.0082 - y0_loss: 0.0093 - handedness_loss: 8.9474e-04 - val_loss: 0.0577 - val_phi_loss: 0.0297 - val_theta_loss: 0.0129 - val_y0_loss: 0.0130 - val_handedness_loss: 0.0021\n",
      "Epoch 15/25\n",
      "18879/18879 [==============================] - 421s 22ms/step - loss: 0.0372 - phi_loss: 0.0190 - theta_loss: 0.0081 - y0_loss: 0.0092 - handedness_loss: 8.2219e-04 - val_loss: 0.0553 - val_phi_loss: 0.0283 - val_theta_loss: 0.0120 - val_y0_loss: 0.0124 - val_handedness_loss: 0.0025\n",
      "Epoch 16/25\n",
      "18879/18879 [==============================] - 418s 22ms/step - loss: 0.0367 - phi_loss: 0.0188 - theta_loss: 0.0079 - y0_loss: 0.0092 - handedness_loss: 8.0322e-04 - val_loss: 0.0548 - val_phi_loss: 0.0283 - val_theta_loss: 0.0119 - val_y0_loss: 0.0125 - val_handedness_loss: 0.0021\n",
      "Epoch 17/25\n",
      "18879/18879 [==============================] - 421s 22ms/step - loss: 0.0363 - phi_loss: 0.0185 - theta_loss: 0.0079 - y0_loss: 0.0091 - handedness_loss: 7.7753e-04 - val_loss: 0.0548 - val_phi_loss: 0.0282 - val_theta_loss: 0.0118 - val_y0_loss: 0.0126 - val_handedness_loss: 0.0022\n",
      "Epoch 18/25\n",
      "18879/18879 [==============================] - 421s 22ms/step - loss: 0.0356 - phi_loss: 0.0182 - theta_loss: 0.0077 - y0_loss: 0.0090 - handedness_loss: 7.3773e-04 - val_loss: 0.0540 - val_phi_loss: 0.0276 - val_theta_loss: 0.0117 - val_y0_loss: 0.0125 - val_handedness_loss: 0.0021\n",
      "Epoch 19/25\n",
      "18879/18879 [==============================] - 426s 23ms/step - loss: 0.0353 - phi_loss: 0.0180 - theta_loss: 0.0077 - y0_loss: 0.0090 - handedness_loss: 7.0900e-04 - val_loss: 0.0539 - val_phi_loss: 0.0275 - val_theta_loss: 0.0119 - val_y0_loss: 0.0123 - val_handedness_loss: 0.0022\n",
      "Epoch 20/25\n",
      "18879/18879 [==============================] - 420s 22ms/step - loss: 0.0348 - phi_loss: 0.0178 - theta_loss: 0.0076 - y0_loss: 0.0088 - handedness_loss: 6.7234e-04 - val_loss: 0.0565 - val_phi_loss: 0.0284 - val_theta_loss: 0.0124 - val_y0_loss: 0.0134 - val_handedness_loss: 0.0023\n",
      "Epoch 21/25\n",
      "18879/18879 [==============================] - 422s 22ms/step - loss: 0.0344 - phi_loss: 0.0175 - theta_loss: 0.0075 - y0_loss: 0.0087 - handedness_loss: 6.5980e-04 - val_loss: 0.0542 - val_phi_loss: 0.0277 - val_theta_loss: 0.0118 - val_y0_loss: 0.0127 - val_handedness_loss: 0.0021\n",
      "Epoch 22/25\n",
      "18879/18879 [==============================] - 419s 22ms/step - loss: 0.0340 - phi_loss: 0.0173 - theta_loss: 0.0074 - y0_loss: 0.0087 - handedness_loss: 6.0777e-04 - val_loss: 0.0605 - val_phi_loss: 0.0299 - val_theta_loss: 0.0131 - val_y0_loss: 0.0148 - val_handedness_loss: 0.0027\n",
      "Epoch 23/25\n",
      "18879/18879 [==============================] - 424s 22ms/step - loss: 0.0339 - phi_loss: 0.0173 - theta_loss: 0.0074 - y0_loss: 0.0087 - handedness_loss: 6.1997e-04 - val_loss: 0.0560 - val_phi_loss: 0.0292 - val_theta_loss: 0.0120 - val_y0_loss: 0.0125 - val_handedness_loss: 0.0023\n",
      "Epoch 24/25\n",
      "18879/18879 [==============================] - 420s 22ms/step - loss: 0.0335 - phi_loss: 0.0170 - theta_loss: 0.0073 - y0_loss: 0.0086 - handedness_loss: 5.8565e-04 - val_loss: 0.0579 - val_phi_loss: 0.0289 - val_theta_loss: 0.0126 - val_y0_loss: 0.0146 - val_handedness_loss: 0.0019\n",
      "Epoch 25/25\n",
      "18879/18879 [==============================] - 421s 22ms/step - loss: 0.0332 - phi_loss: 0.0169 - theta_loss: 0.0072 - y0_loss: 0.0085 - handedness_loss: 5.4707e-04 - val_loss: 0.0536 - val_phi_loss: 0.0273 - val_theta_loss: 0.0118 - val_y0_loss: 0.0124 - val_handedness_loss: 0.0020\n",
      "Fit took 176.03 minutes\n",
      "Fit took 2.93 hours\n"
     ]
    }
   ],
   "source": [
    "start = time.time()\n",
    "\n",
    "epochs = 25\n",
    "trainGen = NpzDataGenerator(train, batch_size=3)\n",
    "valGen = NpzDataGenerator(validation, batch_size=3)\n",
    "\n",
    "model.fit(trainGen, epochs=epochs, shuffle=True, verbose=1, validation_data=(valGen), \\\n",
    "         max_queue_size = 16, workers = 8, use_multiprocessing = False)\n",
    "\n",
    "stop = time.time()\n",
    "duration = stop-start\n",
    "print(\"Fit took\", round(duration/60,2), \"minutes\")\n",
    "print(\"Fit took\", round(duration/60/60,2), \"hours\")"
   ]
  },
  {
   "cell_type": "markdown",
   "metadata": {},
   "source": [
    "### Visualize the loss"
   ]
  },
  {
   "cell_type": "code",
   "execution_count": 62,
   "metadata": {},
   "outputs": [
    {
     "data": {
      "text/plain": [
       "Text(0.5, 1.0, 'Loss')"
      ]
     },
     "execution_count": 62,
     "metadata": {},
     "output_type": "execute_result"
    },
    {
     "data": {
      "image/png": "[encoded data removed]",
      "text/plain": [
       "<Figure size 432x288 with 1 Axes>"
      ]
     },
     "metadata": {
      "needs_background": "light"
     },
     "output_type": "display_data"
    }
   ],
   "source": [
    "plt.plot(model.history.history['loss'], label=\"Loss\", color='blue')\n",
    "plt.plot(model.history.history['val_loss'], label=\"Validation\", color='red')\n",
    "plt.legend()\n",
    "plt.xlim(0,25)\n",
    "#plt.ylim(0,10)\n",
    "plt.yscale(\"log\")\n",
    "plt.title('Loss')"
   ]
  },
  {
   "cell_type": "markdown",
   "metadata": {},
   "source": [
    "### Evaluate on the test data"
   ]
  },
  {
   "cell_type": "code",
   "execution_count": 63,
   "metadata": {},
   "outputs": [
    {
     "name": "stdout",
     "output_type": "stream",
     "text": [
      "6293/6293 [==============================] - 240s 38ms/step - loss: 0.0553 - phi_loss: 0.0274 - theta_loss: 0.0122 - y0_loss: 0.0129 - handedness_loss: 0.0029\n"
     ]
    }
   ],
   "source": [
    "testGen = NpzDataGenerator(test, batch_size=3)\n",
    "errors = model.evaluate(testGen, verbose=1)"
   ]
  },
  {
   "cell_type": "markdown",
   "metadata": {},
   "source": [
    "### Write model to a file"
   ]
  },
  {
   "cell_type": "code",
   "execution_count": 64,
   "metadata": {},
   "outputs": [],
   "source": [
    "model.save_weights(\"/media/narock/One Touch/data/fluxropes/models/cnn_model_one_input_regression.h5\")"
   ]
  },
  {
   "cell_type": "markdown",
   "metadata": {},
   "source": [
    "### Write test file names to an output file"
   ]
  },
  {
   "cell_type": "code",
   "execution_count": 65,
   "metadata": {},
   "outputs": [],
   "source": [
    "outFile = '/media/narock/One Touch/data/fluxropes/models/testing_files_one_input.txt'\n",
    "f = open(outFile, \"w\")\n",
    "for t in test:\n",
    "    line = t.strip() + '\\n'\n",
    "    f.write(line)\n",
    "f.close()"
   ]
  },
  {
   "cell_type": "code",
   "execution_count": null,
   "metadata": {},
   "outputs": [],
   "source": []
  }
 ],
 "metadata": {
  "kernelspec": {
   "display_name": "Python 3",
   "language": "python",
   "name": "python3"
  },
  "language_info": {
   "codemirror_mode": {
    "name": "ipython",
    "version": 3
   },
   "file_extension": ".py",
   "mimetype": "text/x-python",
   "name": "python",
   "nbconvert_exporter": "python",
   "pygments_lexer": "ipython3",
   "version": "3.8.5"
  }
 },
 "nbformat": 4,
 "nbformat_minor": 4
}
