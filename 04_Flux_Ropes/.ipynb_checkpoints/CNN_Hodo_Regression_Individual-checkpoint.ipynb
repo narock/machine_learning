{
 "cells": [
  {
   "cell_type": "code",
   "execution_count": 1,
   "metadata": {},
   "outputs": [],
   "source": [
    "import os\n",
    "import time\n",
    "import glob\n",
    "import random\n",
    "\n",
    "import numpy as np\n",
    "import matplotlib.pyplot as plt\n",
    "\n",
    "import tensorflow as tf\n",
    "\n",
    "from sklearn.preprocessing import LabelEncoder\n",
    "\n",
    "import keras\n",
    "from keras.utils import Sequence\n",
    "from keras.models import Sequential, Input, Model\n",
    "from keras.layers import Dense\n",
    "from keras.layers import Dropout, Flatten \n",
    "from keras.layers import Conv2D, MaxPooling2D"
   ]
  },
  {
   "cell_type": "markdown",
   "metadata": {},
   "source": [
    "### Configuration variables and path setup"
   ]
  },
  {
   "cell_type": "code",
   "execution_count": 2,
   "metadata": {},
   "outputs": [],
   "source": [
    "csvPath = \"/data/fluxrope_ml/csv_teressa/\"\n",
    "imgPath = \"/data/fluxrope_ml/hodos_noise_small_individual/\"\n",
    "\n",
    "input_shape = (50,50,3)\n",
    "flattenDim = input_shape[0]*input_shape[1]*input_shape[2]"
   ]
  },
  {
   "cell_type": "markdown",
   "metadata": {},
   "source": [
    "### Split the data into training, testing, and validation"
   ]
  },
  {
   "cell_type": "code",
   "execution_count": 3,
   "metadata": {},
   "outputs": [],
   "source": [
    "allFiles = [f for f in os.listdir(imgPath) if os.path.isfile(os.path.join(imgPath, f))]\n",
    "random.shuffle(allFiles)"
   ]
  },
  {
   "cell_type": "code",
   "execution_count": 4,
   "metadata": {},
   "outputs": [
    {
     "name": "stdout",
     "output_type": "stream",
     "text": [
      "Starting size: 74536\n",
      "Ending size: 37268\n"
     ]
    }
   ],
   "source": [
    "def removeFiles(files):\n",
    "    remove = glob.glob( imgPath + \"fluxrope_15_*_*_*_*_noise_*.npz\")\n",
    "    for file in remove:\n",
    "        parts = file.split('/')\n",
    "        f = parts[-1].strip()\n",
    "        files.remove(f)\n",
    "    return files\n",
    "\n",
    "print(\"Starting size:\", len(allFiles))\n",
    "allFiles = removeFiles(allFiles)\n",
    "print(\"Ending size:\", len(allFiles))"
   ]
  },
  {
   "cell_type": "code",
   "execution_count": 4,
   "metadata": {},
   "outputs": [
    {
     "name": "stdout",
     "output_type": "stream",
     "text": [
      "Training files: 223608\n",
      "Test files: 74536\n",
      "Validation files: 74536\n",
      "\n",
      "Total number of files: 372680\n"
     ]
    }
   ],
   "source": [
    "# Distribution is 60% Training, 20% Validation, and 20% Testing\n",
    "cutOff = int(len(allFiles) * 0.6)\n",
    "train = allFiles[:cutOff]\n",
    "rest = allFiles[cutOff:]\n",
    "\n",
    "# there's 40% left over, split it in half for testing and validation\n",
    "test = rest[ : int(len(rest) * 0.5)]\n",
    "validation = rest[ int(len(rest) * 0.5) : ]\n",
    "\n",
    "print(\"Training files:\", len(train))\n",
    "print(\"Test files:\", len(test))\n",
    "print(\"Validation files:\", len(validation))\n",
    "print()\n",
    "print(\"Total number of files:\", len(allFiles))\n",
    "\n",
    "# check to make sure we split everything correctly\n",
    "total = len(test) + len(train) + len(validation)\n",
    "assert total == len(allFiles)"
   ]
  },
  {
   "cell_type": "markdown",
   "metadata": {},
   "source": [
    "### Sanity check - Load and visualize one of the hodograms"
   ]
  },
  {
   "cell_type": "code",
   "execution_count": 6,
   "metadata": {},
   "outputs": [
    {
     "name": "stdout",
     "output_type": "stream",
     "text": [
      "(50, 50, 3)\n"
     ]
    },
    {
     "data": {
      "text/plain": [
       "<matplotlib.image.AxesImage at 0x7fd85cb4e7f0>"
      ]
     },
     "execution_count": 6,
     "metadata": {},
     "output_type": "execute_result"
    },
    {
     "data": {
      "image/png": "[encoded data removed]",
      "text/plain": [
       "<Figure size 432x288 with 1 Axes>"
      ]
     },
     "metadata": {
      "needs_background": "light"
     },
     "output_type": "display_data"
    }
   ],
   "source": [
    "npzfile = np.load( imgPath + train[0] )\n",
    "hodo = npzfile['hodo']\n",
    "print(hodo.shape)\n",
    "\n",
    "plt.imshow(hodo[:,:,0])"
   ]
  },
  {
   "cell_type": "markdown",
   "metadata": {},
   "source": [
    "### Data reading test"
   ]
  },
  {
   "cell_type": "code",
   "execution_count": 9,
   "metadata": {},
   "outputs": [
    {
     "name": "stdout",
     "output_type": "stream",
     "text": [
      "X (50, 50, 3)\n",
      "Y (3,)\n",
      "Phi, Theta, H [200.  30.   1.]\n"
     ]
    }
   ],
   "source": [
    "# Generate data\n",
    "npzfile = np.load(imgPath + train[0])\n",
    "hodo = npzfile['hodo']\n",
    "          \n",
    "y = np.zeros( shape=(3) )\n",
    "x = hodo[:, :, :]\n",
    "\n",
    "parts = train[0].split(\"_\")\n",
    "\n",
    "# B0, phi, theta, y0, H\n",
    "y[0] = parts[2] # phi\n",
    "y[1] = parts[3] # theta\n",
    "y[2] = parts[5] # handedness\n",
    "        \n",
    "print(\"X\", x.shape)\n",
    "print(\"Y\", y.shape)\n",
    "print(\"Phi, Theta, H\", y)"
   ]
  },
  {
   "cell_type": "markdown",
   "metadata": {},
   "source": [
    "### Data reader"
   ]
  },
  {
   "cell_type": "code",
   "execution_count": 10,
   "metadata": {},
   "outputs": [],
   "source": [
    "class NpzDataGenerator(Sequence):\n",
    "    \n",
    "    def __init__(self, d, files, batch_size=1, shuffle=False):\n",
    "        \n",
    "        self.batch_size = batch_size\n",
    "        self.files = files\n",
    "        self.dir = d\n",
    "        self.shuffle = shuffle\n",
    "        self.on_epoch_end()\n",
    "\n",
    "    def __len__(self):\n",
    "        \n",
    "        'Denotes the number of batches per epoch'\n",
    "\n",
    "        'If the batch size doesnt divide evenly then add 1'\n",
    "        diff = (len(self.files) / self.batch_size) - np.floor((len(self.files) / self.batch_size))\n",
    "        if ( diff > 0 ):\n",
    "            return int(np.floor(len(self.files) / self.batch_size))+1\n",
    "        else:\n",
    "            return int(np.floor(len(self.files) / self.batch_size))\n",
    "\n",
    "    def __getitem__(self, index):\n",
    "        \n",
    "        'Generate one batch of data'\n",
    "        # Generate indexes of the batch\n",
    "        indexes = self.indexes[index*self.batch_size:(index+1)*self.batch_size]\n",
    "\n",
    "        # get list of files\n",
    "        files = [self.files[k] for k in indexes]\n",
    "        \n",
    "        count = 0\n",
    "        for file in files:\n",
    "            \n",
    "            # Generate data\n",
    "            npzfile = np.load(self.dir + file)\n",
    "            x = npzfile['hodo']\n",
    "        \n",
    "            parts = file.split(\"_\")\n",
    "\n",
    "            # B0, phi, theta, y0, H\n",
    "            phi = np.radians( float(parts[2]) )\n",
    "            theta = np.radians( float(parts[3]) )\n",
    "            h = int(parts[5]) # handedness\n",
    "        \n",
    "            p = np.zeros( shape=(2) )\n",
    "            p[0] = np.sin( phi )\n",
    "            p[1] = np.cos( phi )\n",
    "        \n",
    "            t = np.zeros( shape=(2) )\n",
    "            t[0] = np.sin( theta )\n",
    "            t[1] = np.cos( theta )\n",
    "        \n",
    "            if (h == -1):\n",
    "                ha = 0\n",
    "            else:\n",
    "                ha = h\n",
    "        \n",
    "            batch_y = {\"phi\": p, \"theta\": t, \"handedness\": ha}\n",
    "        \n",
    "            if ( count == 0 ):\n",
    "                X = x\n",
    "                Y = batch_y\n",
    "            else:\n",
    "                X = np.concatenate( (X, x) )\n",
    "                tmp = Y[\"phi\"]\n",
    "                tmp = np.concatenate( (tmp,batch_y[\"phi\"]) ) \n",
    "                Y[\"phi\"] = tmp\n",
    "                tmp = Y[\"theta\"]\n",
    "                tmp = np.concatenate( (tmp,batch_y[\"theta\"]) )\n",
    "                Y[\"theta\"] = tmp\n",
    "                tmp = Y[\"handedness\"]\n",
    "                tmp = np.concatenate( (tmp,batch_y[\"handedness\"]) )\n",
    "                Y[\"handedness\"] = tmp\n",
    "                \n",
    "            count += 1\n",
    "            \n",
    "        return X, Y\n",
    "\n",
    "    def on_epoch_end(self):\n",
    "        \n",
    "        'Updates indexes after each epoch'\n",
    "        self.indexes = np.arange(len(self.files))\n",
    "        if self.shuffle == True:\n",
    "            np.random.shuffle(self.indexes)"
   ]
  },
  {
   "cell_type": "markdown",
   "metadata": {},
   "source": [
    "### Train the model"
   ]
  },
  {
   "cell_type": "code",
   "execution_count": 11,
   "metadata": {},
   "outputs": [],
   "source": [
    "# This is required for my GPU: GeForce RTX 2060\n",
    "# Without this config, tensorflow cannot properly allocate GPU memory\n",
    "config = tf.compat.v1.ConfigProto()\n",
    "config.gpu_options.allow_growth = True\n",
    "config.gpu_options.per_process_gpu_memory_fraction = 0.95\n",
    "session = tf.compat.v1.Session(config=config)"
   ]
  },
  {
   "cell_type": "code",
   "execution_count": 12,
   "metadata": {},
   "outputs": [],
   "source": [
    "# define model\n",
    "\n",
    "def get_model():\n",
    "    \n",
    "    inp = Input(input_shape, name=\"input\")\n",
    "    x = Conv2D(filters=32, kernel_size=3, activation='relu', padding=\"same\")(inp)\n",
    "    x = Conv2D(filters=64, kernel_size=3, activation='relu', padding=\"same\")(x)\n",
    "    x = Dropout(0.25, name=\"dropout\")(x)\n",
    "    x = MaxPooling2D(pool_size=2)(x)\n",
    "    x = Flatten(name=\"flatten\")(x)\n",
    "    out1 = Dense(2, name=\"phi\", activation=\"tanh\")(x)\n",
    "    out2 = Dense(2, name=\"theta\", activation=\"tanh\")(x)\n",
    "    out3 = Dense(1, name=\"handedness\", activation='sigmoid')(x)\n",
    "    \n",
    "    losses = {'phi': 'mean_absolute_error',\n",
    "              'theta': 'mean_absolute_error',\n",
    "              'handedness': 'binary_crossentropy'}\n",
    "    \n",
    "    lossWeights = {\"phi\": 1.0, \"theta\": 1.0, \"handedness\": 1.0}\n",
    "    \n",
    "    model = Model(inputs=inp, outputs=[out1,out2,out3])\n",
    "\n",
    "    model.compile(loss=losses, loss_weights=lossWeights, optimizer='adam')\n",
    "        \n",
    "    return model"
   ]
  },
  {
   "cell_type": "code",
   "execution_count": 13,
   "metadata": {
    "scrolled": true
   },
   "outputs": [
    {
     "name": "stdout",
     "output_type": "stream",
     "text": [
      "Model: \"functional_1\"\n",
      "__________________________________________________________________________________________________\n",
      "Layer (type)                    Output Shape         Param #     Connected to                     \n",
      "==================================================================================================\n",
      "input (InputLayer)              [(None, 50, 50, 3)]  0                                            \n",
      "__________________________________________________________________________________________________\n",
      "conv2d (Conv2D)                 (None, 50, 50, 32)   896         input[0][0]                      \n",
      "__________________________________________________________________________________________________\n",
      "conv2d_1 (Conv2D)               (None, 50, 50, 64)   18496       conv2d[0][0]                     \n",
      "__________________________________________________________________________________________________\n",
      "dropout (Dropout)               (None, 50, 50, 64)   0           conv2d_1[0][0]                   \n",
      "__________________________________________________________________________________________________\n",
      "max_pooling2d (MaxPooling2D)    (None, 25, 25, 64)   0           dropout[0][0]                    \n",
      "__________________________________________________________________________________________________\n",
      "flatten (Flatten)               (None, 40000)        0           max_pooling2d[0][0]              \n",
      "__________________________________________________________________________________________________\n",
      "phi (Dense)                     (None, 2)            80002       flatten[0][0]                    \n",
      "__________________________________________________________________________________________________\n",
      "theta (Dense)                   (None, 2)            80002       flatten[0][0]                    \n",
      "__________________________________________________________________________________________________\n",
      "handedness (Dense)              (None, 1)            40001       flatten[0][0]                    \n",
      "==================================================================================================\n",
      "Total params: 219,397\n",
      "Trainable params: 219,397\n",
      "Non-trainable params: 0\n",
      "__________________________________________________________________________________________________\n"
     ]
    }
   ],
   "source": [
    "# clear out any old models hanging around\n",
    "keras.backend.clear_session()\n",
    "\n",
    "trainGen = NpzDataGenerator(imgPath, train)\n",
    "valGen = NpzDataGenerator(imgPath, validation)\n",
    "    \n",
    "# define model\n",
    "model = get_model()\n",
    "\n",
    "model.summary()"
   ]
  },
  {
   "cell_type": "code",
   "execution_count": 14,
   "metadata": {},
   "outputs": [
    {
     "name": "stdout",
     "output_type": "stream",
     "text": [
      "Epoch 1/25\n",
      "22360/22360 [==============================] - 173s 8ms/step - loss: 0.5741 - phi_loss: 0.2788 - theta_loss: 0.1358 - handedness_loss: 0.1595 - val_loss: 0.4835 - val_phi_loss: 0.2498 - val_theta_loss: 0.1153 - val_handedness_loss: 0.1185\n",
      "Epoch 2/25\n",
      "22360/22360 [==============================] - 171s 8ms/step - loss: 0.4686 - phi_loss: 0.2525 - theta_loss: 0.1155 - handedness_loss: 0.1006 - val_loss: 0.4563 - val_phi_loss: 0.2455 - val_theta_loss: 0.1123 - val_handedness_loss: 0.0986\n",
      "Epoch 3/25\n",
      "22360/22360 [==============================] - 166s 7ms/step - loss: 0.4434 - phi_loss: 0.2462 - theta_loss: 0.1111 - handedness_loss: 0.0861 - val_loss: 0.4359 - val_phi_loss: 0.2407 - val_theta_loss: 0.1095 - val_handedness_loss: 0.0857\n",
      "Epoch 4/25\n",
      "22360/22360 [==============================] - 178s 8ms/step - loss: 0.4292 - phi_loss: 0.2429 - theta_loss: 0.1087 - handedness_loss: 0.0776 - val_loss: 0.4332 - val_phi_loss: 0.2412 - val_theta_loss: 0.1096 - val_handedness_loss: 0.0824\n",
      "Epoch 5/25\n",
      "22360/22360 [==============================] - 175s 8ms/step - loss: 0.4210 - phi_loss: 0.2412 - theta_loss: 0.1072 - handedness_loss: 0.0726 - val_loss: 0.4257 - val_phi_loss: 0.2408 - val_theta_loss: 0.1069 - val_handedness_loss: 0.0780\n",
      "Epoch 6/25\n",
      "22360/22360 [==============================] - 168s 8ms/step - loss: 0.4152 - phi_loss: 0.2398 - theta_loss: 0.1062 - handedness_loss: 0.0692 - val_loss: 0.4154 - val_phi_loss: 0.2380 - val_theta_loss: 0.1029 - val_handedness_loss: 0.0745\n",
      "Epoch 7/25\n",
      "22360/22360 [==============================] - 173s 8ms/step - loss: 0.4113 - phi_loss: 0.2390 - theta_loss: 0.1056 - handedness_loss: 0.0668 - val_loss: 0.4197 - val_phi_loss: 0.2384 - val_theta_loss: 0.1067 - val_handedness_loss: 0.0746\n",
      "Epoch 8/25\n",
      "22360/22360 [==============================] - 172s 8ms/step - loss: 0.4075 - phi_loss: 0.2378 - theta_loss: 0.1051 - handedness_loss: 0.0647 - val_loss: 0.4164 - val_phi_loss: 0.2377 - val_theta_loss: 0.1070 - val_handedness_loss: 0.0717\n",
      "Epoch 9/25\n",
      "22360/22360 [==============================] - 172s 8ms/step - loss: 0.4055 - phi_loss: 0.2380 - theta_loss: 0.1044 - handedness_loss: 0.0631 - val_loss: 0.4109 - val_phi_loss: 0.2366 - val_theta_loss: 0.1039 - val_handedness_loss: 0.0704\n",
      "Epoch 10/25\n",
      "22360/22360 [==============================] - 176s 8ms/step - loss: 0.4037 - phi_loss: 0.2374 - theta_loss: 0.1045 - handedness_loss: 0.0619 - val_loss: 0.4098 - val_phi_loss: 0.2377 - val_theta_loss: 0.1009 - val_handedness_loss: 0.0712\n",
      "Epoch 11/25\n",
      "22360/22360 [==============================] - 174s 8ms/step - loss: 0.4013 - phi_loss: 0.2368 - theta_loss: 0.1039 - handedness_loss: 0.0607 - val_loss: 0.4117 - val_phi_loss: 0.2372 - val_theta_loss: 0.1053 - val_handedness_loss: 0.0691\n",
      "Epoch 12/25\n",
      "22360/22360 [==============================] - 167s 7ms/step - loss: 0.3998 - phi_loss: 0.2369 - theta_loss: 0.1038 - handedness_loss: 0.0591 - val_loss: 0.4078 - val_phi_loss: 0.2363 - val_theta_loss: 0.1022 - val_handedness_loss: 0.0693\n",
      "Epoch 13/25\n",
      "22360/22360 [==============================] - 162s 7ms/step - loss: 0.3976 - phi_loss: 0.2361 - theta_loss: 0.1034 - handedness_loss: 0.0581 - val_loss: 0.4112 - val_phi_loss: 0.2357 - val_theta_loss: 0.1065 - val_handedness_loss: 0.0690\n",
      "Epoch 14/25\n",
      "22360/22360 [==============================] - 167s 7ms/step - loss: 0.3970 - phi_loss: 0.2361 - theta_loss: 0.1035 - handedness_loss: 0.0574 - val_loss: 0.4055 - val_phi_loss: 0.2363 - val_theta_loss: 0.1015 - val_handedness_loss: 0.0677\n",
      "Epoch 15/25\n",
      "22360/22360 [==============================] - 170s 8ms/step - loss: 0.3961 - phi_loss: 0.2361 - theta_loss: 0.1033 - handedness_loss: 0.0567 - val_loss: 0.4045 - val_phi_loss: 0.2359 - val_theta_loss: 0.1012 - val_handedness_loss: 0.0674\n",
      "Epoch 16/25\n",
      "22360/22360 [==============================] - 167s 7ms/step - loss: 0.3946 - phi_loss: 0.2361 - theta_loss: 0.1030 - handedness_loss: 0.0555 - val_loss: 0.4055 - val_phi_loss: 0.2361 - val_theta_loss: 0.1015 - val_handedness_loss: 0.0678\n",
      "Epoch 17/25\n",
      "22360/22360 [==============================] - 166s 7ms/step - loss: 0.3942 - phi_loss: 0.2357 - theta_loss: 0.1031 - handedness_loss: 0.0553 - val_loss: 0.4057 - val_phi_loss: 0.2365 - val_theta_loss: 0.1028 - val_handedness_loss: 0.0664\n",
      "Epoch 18/25\n",
      "22360/22360 [==============================] - 165s 7ms/step - loss: 0.3941 - phi_loss: 0.2358 - theta_loss: 0.1029 - handedness_loss: 0.0554 - val_loss: 0.4059 - val_phi_loss: 0.2372 - val_theta_loss: 0.1026 - val_handedness_loss: 0.0661\n",
      "Epoch 19/25\n",
      "22360/22360 [==============================] - 178s 8ms/step - loss: 0.3941 - phi_loss: 0.2358 - theta_loss: 0.1029 - handedness_loss: 0.0554 - val_loss: 0.4015 - val_phi_loss: 0.2345 - val_theta_loss: 0.1005 - val_handedness_loss: 0.0664\n",
      "Epoch 20/25\n",
      "22360/22360 [==============================] - 169s 8ms/step - loss: 0.3925 - phi_loss: 0.2354 - theta_loss: 0.1027 - handedness_loss: 0.0544 - val_loss: 0.3985 - val_phi_loss: 0.2354 - val_theta_loss: 0.0997 - val_handedness_loss: 0.0635\n",
      "Epoch 21/25\n",
      "22360/22360 [==============================] - 170s 8ms/step - loss: 0.3928 - phi_loss: 0.2356 - theta_loss: 0.1026 - handedness_loss: 0.0546 - val_loss: 0.4039 - val_phi_loss: 0.2377 - val_theta_loss: 0.1008 - val_handedness_loss: 0.0654\n",
      "Epoch 22/25\n",
      "22360/22360 [==============================] - 174s 8ms/step - loss: 0.3915 - phi_loss: 0.2357 - theta_loss: 0.1027 - handedness_loss: 0.0531 - val_loss: 0.4028 - val_phi_loss: 0.2379 - val_theta_loss: 0.1010 - val_handedness_loss: 0.0639\n",
      "Epoch 23/25\n",
      "22360/22360 [==============================] - 165s 7ms/step - loss: 0.3903 - phi_loss: 0.2352 - theta_loss: 0.1023 - handedness_loss: 0.0527 - val_loss: 0.3977 - val_phi_loss: 0.2342 - val_theta_loss: 0.1005 - val_handedness_loss: 0.0630\n",
      "Epoch 24/25\n",
      "22360/22360 [==============================] - 165s 7ms/step - loss: 0.3905 - phi_loss: 0.2352 - theta_loss: 0.1026 - handedness_loss: 0.0527 - val_loss: 0.4017 - val_phi_loss: 0.2369 - val_theta_loss: 0.1001 - val_handedness_loss: 0.0646\n",
      "Epoch 25/25\n",
      "22360/22360 [==============================] - 165s 7ms/step - loss: 0.3902 - phi_loss: 0.2353 - theta_loss: 0.1024 - handedness_loss: 0.0525 - val_loss: 0.3991 - val_phi_loss: 0.2351 - val_theta_loss: 0.1008 - val_handedness_loss: 0.0633\n",
      "Fit took 4254.36 seconds\n",
      "Fit took 70.91 minutes\n",
      "Fit took 1.18 hours\n"
     ]
    }
   ],
   "source": [
    "start = time.time()\n",
    "\n",
    "epochs = 25\n",
    "model.fit(trainGen, epochs=epochs, shuffle=False, verbose=1, validation_data=(valGen))\n",
    "\n",
    "stop = time.time()\n",
    "duration = stop-start\n",
    "print(\"Fit took\", round(duration,2), \"seconds\")\n",
    "print(\"Fit took\", round(duration/60,2), \"minutes\")\n",
    "print(\"Fit took\", round(duration/60/60,2), \"hours\")"
   ]
  },
  {
   "cell_type": "markdown",
   "metadata": {},
   "source": [
    "### Visualize the loss"
   ]
  },
  {
   "cell_type": "code",
   "execution_count": 16,
   "metadata": {},
   "outputs": [
    {
     "data": {
      "text/plain": [
       "Text(0.5, 1.0, 'Loss')"
      ]
     },
     "execution_count": 16,
     "metadata": {},
     "output_type": "execute_result"
    },
    {
     "data": {
      "image/png": "[encoded data removed]",
      "text/plain": [
       "<Figure size 432x288 with 1 Axes>"
      ]
     },
     "metadata": {
      "needs_background": "light"
     },
     "output_type": "display_data"
    }
   ],
   "source": [
    "plt.plot(model.history.history['loss'], label=\"Loss\", color='blue')\n",
    "plt.plot(model.history.history['val_loss'], label=\"Validation\", color='red')\n",
    "plt.legend()\n",
    "plt.xlim(0,25)\n",
    "plt.ylim(0,.6)\n",
    "plt.title('Loss')"
   ]
  },
  {
   "cell_type": "markdown",
   "metadata": {},
   "source": [
    "### Evaluate on the test data"
   ]
  },
  {
   "cell_type": "code",
   "execution_count": 17,
   "metadata": {},
   "outputs": [
    {
     "name": "stdout",
     "output_type": "stream",
     "text": [
      "7454/7454 [==============================] - 64s 9ms/step - loss: 0.3954 - phi_loss: 0.2303 - theta_loss: 0.0982 - handedness_loss: 0.0670\n",
      "Testing MSE: [0.3954414129257202, 0.23029379546642303, 0.0981554314494133, 0.06699274480342865]\n"
     ]
    }
   ],
   "source": [
    "testGen = NpzDataGenerator(imgPath, test)\n",
    "mse = model.evaluate(testGen, verbose=1)\n",
    "print(\"Testing MSE:\", mse)"
   ]
  },
  {
   "cell_type": "code",
   "execution_count": 18,
   "metadata": {},
   "outputs": [],
   "source": [
    "def differencePhi(v1, v2):\n",
    "    \n",
    "    if ( v1 > v2 ):\n",
    "        mx = v1\n",
    "        mn = v2\n",
    "    else:\n",
    "        mx = v2\n",
    "        mn = v1\n",
    "    \n",
    "    d1 = mx - mn\n",
    "    d2 = 360 - mx + mn\n",
    "    \n",
    "    return np.min([d1,d2])\n",
    "\n",
    "def differenceTheta(v1, v2):\n",
    "    \n",
    "    #if ( v1 > v2 ):\n",
    "    #    mx = v1\n",
    "    #    mn = v2\n",
    "    #else:\n",
    "    #    mx = v2\n",
    "    #    mn = v1\n",
    "    \n",
    "    #d1 = mx - mn\n",
    "    #d2 = 90 - mx + mn\n",
    "    \n",
    "    #return np.min([d1,d2])\n",
    "\n",
    "    return np.abs(v1-v2)"
   ]
  },
  {
   "cell_type": "markdown",
   "metadata": {},
   "source": [
    "### Make some predictions"
   ]
  },
  {
   "cell_type": "code",
   "execution_count": 19,
   "metadata": {},
   "outputs": [],
   "source": [
    "def evaluatePredictions(test, ix):\n",
    "\n",
    "    n = len(test)\n",
    "    tf = int( 0.25 * n )\n",
    "    ft = int( 0.50 * n )\n",
    "    sf = int( 0.75 * n )\n",
    "\n",
    "    dPhi = np.zeros( shape=(n) )\n",
    "    dTheta = np.zeros( shape=(n) )\n",
    "    dH = np.zeros( shape=(n) )\n",
    "\n",
    "    phiPredicted = np.zeros( shape=(n) )\n",
    "    phiActual = np.zeros( shape=(n) )\n",
    "    thetaPredicted = np.zeros( shape=(n) )\n",
    "    thetaActual = np.zeros( shape=(n) )\n",
    "    hPredicted = np.zeros( shape=(n) )\n",
    "    hActual = np.zeros( shape=(n) )\n",
    "    noiseLevel = np.zeros( shape=(n) )\n",
    "    \n",
    "    for i in range(n):\n",
    "\n",
    "        npzfile = np.load(imgPath + test[i])\n",
    "        hodo = npzfile['hodo']\n",
    "          \n",
    "        x = hodo[ix,:,:,:]\n",
    "        x = x.reshape(1,50,50,3)\n",
    "        p = model.predict(x)\n",
    "\n",
    "        phi = p[0][0]\n",
    "        sin = phi[0]\n",
    "        cos = phi[1]\n",
    "        phi = np.degrees( np.arctan2(sin,cos) )\n",
    "            \n",
    "        # check the quadrant\n",
    "        if ( phi < 0. ):\n",
    "            phi += 360.\n",
    "            \n",
    "        theta = p[1][0]\n",
    "        sin = theta[0]\n",
    "        cos = theta[1]\n",
    "        theta = np.degrees( np.arctan2(sin,cos) )\n",
    "\n",
    "        if (p[2] < 0.5):\n",
    "            h = -1.\n",
    "        else:\n",
    "            h = 1.\n",
    "    \n",
    "        parts = test[i].split(\"_\")\n",
    "\n",
    "        # B0, phi, theta, y0, H\n",
    "        phiY = float(parts[2]) \n",
    "        thetaY = float(parts[3]) \n",
    "        hY = int(parts[5]) \n",
    "        noise = parts[7]\n",
    "        noise = noise[0:-4]\n",
    "    \n",
    "        phiPredicted[i] = phi\n",
    "        phiActual[i] = phiY\n",
    "        thetaPredicted[i] = theta\n",
    "        thetaActual[i] = thetaY\n",
    "        hPredicted[i] = h\n",
    "        hActual[i] = hY\n",
    "        noiseLevel[i] = noise\n",
    "\n",
    "        dPhi[i] = differencePhi(phi, phiY)\n",
    "        dTheta[i] = differenceTheta(theta, thetaY)\n",
    "        dH[i] = np.abs(h-hY)\n",
    "\n",
    "    return dPhi, dTheta, dH, phiPredicted, phiActual, thetaPredicted, thetaActual, hPredicted, hActual, noiseLevel\n",
    "        #if ( i == tf ):\n",
    "        #    print(\"   25% done...\")\n",
    "        #if ( i == ft ):\n",
    "        #    print(\"   50% done...\")\n",
    "        #if ( i == sf ):\n",
    "        #    print(\"   75% done...\")\n",
    "\n",
    "    #print(ix, threshold\n",
    "    #      np.round(np.sum(dPhi <= threshold)/n,2), \n",
    "    #      np.round(np.sum(dTheta <= threshold)/n,2), \n",
    "    #      np.round(np.sum(dH == 0)/n,2))\n"
   ]
  },
  {
   "cell_type": "code",
   "execution_count": 21,
   "metadata": {},
   "outputs": [],
   "source": [
    "for i in range(10):\n",
    "    dPhi, dTheta, dH, phiPredicted, phiActual, thetaPredicted, thetaActual, hPredicted, hActual, noiseLevel = \\\n",
    "        evaluatePredictions(test, i)\n",
    "    outFile = '/data/fluxrope_ml/hodo_results/results_unscaled_' + str(i).strip() + '.npz'\n",
    "    np.savez(outFile, dPhi=dPhi, dTheta=dTheta, dH=dH, phiPredicted=phiPredicted, phiActual=phiActual, \\\n",
    "            thetaPredicted=thetaPredicted, thetaActual=thetaActual, hPredicted=hPredicted, hActual=hActual, \\\n",
    "            noiseLevel=noiseLevel)"
   ]
  },
  {
   "cell_type": "code",
   "execution_count": 22,
   "metadata": {},
   "outputs": [
    {
     "name": "stdout",
     "output_type": "stream",
     "text": [
      "1 10 0.34 0.69 0.93\n"
     ]
    }
   ],
   "source": [
    "index = '1'\n",
    "threshold = 10\n",
    "\n",
    "npzfile = np.load('/data/fluxrope_ml/hodo_results/results_unscaled_' + index + '.npz')\n",
    "dPhi = npzfile['dPhi']\n",
    "dTheta= npzfile['dTheta'] \n",
    "dH = npzfile['dH'] \n",
    "phiPredicted = npzfile['phiPredicted'] \n",
    "phiActual = npzfile['phiActual'] \n",
    "thetaPredicted = npzfile['thetaPredicted'] \n",
    "thetaActual = npzfile['thetaActual'] \n",
    "hPredicted = npzfile['hPredicted'] \n",
    "hActual = npzfile['hActual'] \n",
    "noiseLevel = npzfile['noiseLevel'] \n",
    "\n",
    "n = len(dPhi)\n",
    "\n",
    "print(index, threshold,\n",
    "    np.round(np.sum(dPhi <= threshold)/n,2), \n",
    "    np.round(np.sum(dTheta <= threshold)/n,2), \n",
    "    np.round(np.sum(dH == 0)/n,2))\n",
    "    \n",
    "\n"
   ]
  },
  {
   "cell_type": "code",
   "execution_count": 110,
   "metadata": {},
   "outputs": [
    {
     "data": {
      "text/plain": [
       "(array([6933.,  151.,   57.,   52.,   43.,   40.,   47.,   43.,   41.,\n",
       "          47.]),\n",
       " array([5.34057617e-05, 1.79918755e+01, 3.59836975e+01, 5.39755196e+01,\n",
       "        7.19673416e+01, 8.99591637e+01, 1.07950986e+02, 1.25942808e+02,\n",
       "        1.43934630e+02, 1.61926452e+02, 1.79918274e+02]),\n",
       " <BarContainer object of 10 artists>)"
      ]
     },
     "execution_count": 110,
     "metadata": {},
     "output_type": "execute_result"
    },
    {
     "data": {
      "image/png": "[encoded data removed]",
      "text/plain": [
       "<Figure size 432x288 with 1 Axes>"
      ]
     },
     "metadata": {
      "needs_background": "light"
     },
     "output_type": "display_data"
    }
   ],
   "source": [
    "plt.hist(dPhi)"
   ]
  },
  {
   "cell_type": "code",
   "execution_count": 113,
   "metadata": {},
   "outputs": [
    {
     "name": "stdout",
     "output_type": "stream",
     "text": [
      "65.0 90.0 1.0\n",
      "184.0 87.5 1.0\n",
      "\n",
      "320.0 90.0 -1.0\n",
      "134.2 86.6 -1.0\n",
      "\n",
      "60.0 -90.0 1.0\n",
      "165.6 -85.3 1.0\n",
      "\n",
      "145.0 90.0 1.0\n",
      "334.4 86.8 1.0\n",
      "\n",
      "315.0 90.0 -1.0\n",
      "134.2 86.6 -1.0\n",
      "\n",
      "185.0 -90.0 -1.0\n",
      "31.0 -88.9 -1.0\n",
      "\n",
      "295.0 -90.0 1.0\n",
      "165.6 -85.3 1.0\n",
      "\n",
      "5.0 -90.0 -1.0\n",
      "116.1 -88.4 -1.0\n",
      "\n",
      "65.0 -90.0 1.0\n",
      "165.6 -85.3 1.0\n",
      "\n",
      "300.0 90.0 -1.0\n",
      "134.2 86.6 -1.0\n",
      "\n",
      "240.0 -90.0 -1.0\n",
      "116.3 -88.4 -1.0\n",
      "\n",
      "330.0 -90.0 1.0\n",
      "152.5 -88.0 1.0\n",
      "\n",
      "25.0 -90.0 1.0\n",
      "161.7 -85.0 1.0\n",
      "\n",
      "35.0 -90.0 1.0\n",
      "151.8 -85.6 1.0\n",
      "\n",
      "335.0 -90.0 1.0\n",
      "166.9 -85.2 1.0\n",
      "\n",
      "230.0 -90.0 -1.0\n",
      "116.1 -88.4 -1.0\n",
      "\n",
      "230.0 90.0 -1.0\n",
      "30.2 86.6 -1.0\n",
      "\n",
      "330.0 -90.0 -1.0\n",
      "116.1 -88.4 -1.0\n",
      "\n",
      "30.0 -90.0 1.0\n",
      "174.4 -84.2 1.0\n",
      "\n",
      "45.0 -90.0 1.0\n",
      "166.9 -85.2 1.0\n",
      "\n",
      "235.0 -90.0 -1.0\n",
      "116.3 -88.4 -1.0\n",
      "\n",
      "255.0 90.0 -1.0\n",
      "134.2 86.6 -1.0\n",
      "\n",
      "125.0 90.0 1.0\n",
      "334.4 86.8 1.0\n",
      "\n",
      "235.0 90.0 -1.0\n",
      "134.2 86.6 -1.0\n",
      "\n",
      "295.0 -90.0 1.0\n",
      "166.9 -85.2 1.0\n",
      "\n",
      "5.0 -90.0 1.0\n",
      "165.6 -85.3 1.0\n",
      "\n",
      "275.0 -90.0 1.0\n",
      "156.8 -84.1 1.0\n",
      "\n",
      "350.0 -90.0 1.0\n",
      "165.6 -85.3 1.0\n",
      "\n",
      "310.0 90.0 1.0\n",
      "81.7 79.9 1.0\n",
      "\n",
      "350.0 -90.0 1.0\n",
      "156.8 -84.1 1.0\n",
      "\n",
      "40.0 -90.0 1.0\n",
      "166.9 -85.2 1.0\n",
      "\n",
      "50.0 -90.0 1.0\n",
      "165.6 -85.3 1.0\n",
      "\n",
      "295.0 -90.0 -1.0\n",
      "118.8 -88.4 -1.0\n",
      "\n",
      "330.0 90.0 1.0\n",
      "94.0 82.3 1.0\n",
      "\n",
      "265.0 -90.0 1.0\n",
      "156.8 -84.1 1.0\n",
      "\n",
      "30.0 -90.0 1.0\n",
      "166.9 -85.2 1.0\n",
      "\n",
      "60.0 90.0 1.0\n",
      "184.0 87.5 1.0\n",
      "\n",
      "295.0 90.0 -1.0\n",
      "134.2 86.6 -1.0\n",
      "\n",
      "305.0 -90.0 1.0\n",
      "166.9 -85.2 1.0\n",
      "\n",
      "325.0 90.0 -1.0\n",
      "134.2 86.6 -1.0\n",
      "\n",
      "255.0 -90.0 -1.0\n",
      "38.1 -87.4 -1.0\n",
      "\n",
      "310.0 -90.0 -1.0\n",
      "116.1 -88.4 -1.0\n",
      "\n",
      "35.0 90.0 1.0\n",
      "184.0 87.5 1.0\n",
      "\n",
      "180.0 90.0 -1.0\n",
      "30.2 86.6 -1.0\n",
      "\n",
      "320.0 -90.0 1.0\n",
      "156.8 -84.1 1.0\n",
      "\n",
      "165.0 90.0 1.0\n",
      "334.4 86.8 1.0\n",
      "\n",
      "245.0 -90.0 -1.0\n",
      "116.1 -88.4 -1.0\n",
      "\n",
      "30.0 -90.0 1.0\n",
      "166.9 -85.2 1.0\n",
      "\n",
      "35.0 90.0 1.0\n",
      "184.0 87.5 1.0\n",
      "\n",
      "170.0 90.0 1.0\n",
      "334.4 86.8 1.0\n",
      "\n",
      "75.0 90.0 1.0\n",
      "184.0 87.5 1.0\n",
      "\n",
      "305.0 -90.0 -1.0\n",
      "116.1 -88.4 -1.0\n",
      "\n",
      "335.0 90.0 1.0\n",
      "184.0 87.5 1.0\n",
      "\n",
      "200.0 90.0 1.0\n",
      "334.4 86.8 1.0\n",
      "\n",
      "340.0 90.0 -1.0\n",
      "134.2 86.6 -1.0\n",
      "\n",
      "270.0 -85.0 1.0\n",
      "133.7 -86.8 1.0\n",
      "\n",
      "340.0 90.0 1.0\n",
      "184.0 87.5 1.0\n",
      "\n",
      "5.0 -90.0 1.0\n",
      "166.9 -85.2 1.0\n",
      "\n",
      "45.0 -90.0 1.0\n",
      "166.2 -85.3 1.0\n",
      "\n",
      "325.0 -90.0 -1.0\n",
      "116.1 -88.4 -1.0\n",
      "\n",
      "240.0 90.0 -1.0\n",
      "134.2 86.6 -1.0\n",
      "\n",
      "280.0 90.0 1.0\n",
      "84.2 86.4 1.0\n",
      "\n",
      "160.0 -90.0 -1.0\n",
      "38.1 -87.4 -1.0\n",
      "\n",
      "305.0 90.0 1.0\n",
      "184.0 87.5 1.0\n",
      "\n",
      "0.0 -90.0 1.0\n",
      "166.9 -85.2 1.0\n",
      "\n",
      "300.0 90.0 1.0\n",
      "184.0 87.5 1.0\n",
      "\n",
      "345.0 90.0 1.0\n",
      "98.3 82.1 1.0\n",
      "\n",
      "330.0 -90.0 1.0\n",
      "165.6 -85.3 1.0\n",
      "\n",
      "200.0 90.0 -1.0\n",
      "30.2 86.6 -1.0\n",
      "\n",
      "230.0 90.0 -1.0\n",
      "120.9 86.1 -1.0\n",
      "\n",
      "290.0 -90.0 -1.0\n",
      "38.1 -87.4 -1.0\n",
      "\n",
      "340.0 90.0 1.0\n",
      "93.8 81.3 1.0\n",
      "\n",
      "75.0 90.0 1.0\n",
      "201.2 87.5 1.0\n",
      "\n",
      "45.0 -90.0 1.0\n",
      "166.9 -85.2 1.0\n",
      "\n",
      "295.0 90.0 -1.0\n",
      "59.2 86.0 -1.0\n",
      "\n",
      "320.0 90.0 1.0\n",
      "184.0 87.5 1.0\n",
      "\n",
      "35.0 90.0 -1.0\n",
      "150.9 80.4 -1.0\n",
      "\n",
      "315.0 -90.0 1.0\n",
      "166.9 -85.2 1.0\n",
      "\n",
      "275.0 -90.0 1.0\n",
      "158.2 -85.2 1.0\n",
      "\n",
      "225.0 -90.0 -1.0\n",
      "116.1 -88.4 -1.0\n",
      "\n",
      "210.0 90.0 1.0\n",
      "334.4 86.8 1.0\n",
      "\n",
      "285.0 -90.0 -1.0\n",
      "137.1 -86.7 -1.0\n",
      "\n",
      "25.0 90.0 -1.0\n",
      "134.2 86.6 -1.0\n",
      "\n",
      "160.0 90.0 -1.0\n",
      "46.2 85.0 -1.0\n",
      "\n",
      "250.0 90.0 -1.0\n",
      "90.1 86.9 -1.0\n",
      "\n",
      "315.0 90.0 -1.0\n",
      "122.2 85.9 -1.0\n",
      "\n",
      "240.0 90.0 -1.0\n",
      "134.2 86.6 -1.0\n",
      "\n",
      "40.0 -90.0 1.0\n",
      "165.6 -85.3 1.0\n",
      "\n",
      "330.0 -90.0 1.0\n",
      "166.9 -85.2 1.0\n",
      "\n",
      "250.0 90.0 -1.0\n",
      "134.2 86.6 -1.0\n",
      "\n",
      "325.0 90.0 1.0\n",
      "184.0 87.5 1.0\n",
      "\n",
      "270.0 -90.0 1.0\n",
      "165.6 -85.3 1.0\n",
      "\n",
      "15.0 90.0 1.0\n",
      "184.0 87.5 1.0\n",
      "\n",
      "325.0 -90.0 1.0\n",
      "92.6 -85.6 1.0\n",
      "\n",
      "345.0 -90.0 1.0\n",
      "165.6 -85.3 1.0\n",
      "\n",
      "265.0 -90.0 -1.0\n",
      "38.1 -87.4 -1.0\n",
      "\n",
      "225.0 -90.0 -1.0\n",
      "116.1 -88.4 -1.0\n",
      "\n",
      "265.0 90.0 -1.0\n",
      "134.2 86.6 -1.0\n",
      "\n",
      "290.0 90.0 1.0\n",
      "184.0 87.5 1.0\n",
      "\n",
      "35.0 -90.0 1.0\n",
      "156.8 -84.1 1.0\n",
      "\n",
      "160.0 90.0 1.0\n",
      "334.4 86.8 1.0\n",
      "\n",
      "325.0 -90.0 -1.0\n",
      "139.9 -88.3 -1.0\n",
      "\n",
      "300.0 -90.0 -1.0\n",
      "116.3 -88.4 -1.0\n",
      "\n",
      "340.0 -90.0 -1.0\n",
      "180.9 -91.0 -1.0\n",
      "\n",
      "210.0 90.0 1.0\n",
      "85.4 84.0 1.0\n",
      "\n",
      "245.0 90.0 -1.0\n",
      "30.2 86.6 -1.0\n",
      "\n",
      "305.0 90.0 -1.0\n",
      "135.4 86.5 -1.0\n",
      "\n",
      "355.0 90.0 1.0\n",
      "184.0 87.5 1.0\n",
      "\n",
      "20.0 -90.0 1.0\n",
      "156.8 -84.1 1.0\n",
      "\n",
      "0.0 -90.0 1.0\n",
      "156.8 -84.1 1.0\n",
      "\n",
      "315.0 -90.0 -1.0\n",
      "116.1 -88.4 -1.0\n",
      "\n",
      "50.0 90.0 1.0\n",
      "184.0 87.5 1.0\n",
      "\n",
      "250.0 -90.0 -1.0\n",
      "10.3 -90.4 -1.0\n",
      "\n",
      "200.0 90.0 1.0\n",
      "320.8 86.5 1.0\n",
      "\n",
      "45.0 -90.0 -1.0\n",
      "179.8 -87.9 -1.0\n",
      "\n",
      "330.0 90.0 -1.0\n",
      "134.2 86.6 -1.0\n",
      "\n",
      "85.0 90.0 1.0\n",
      "334.4 86.8 1.0\n",
      "\n",
      "210.0 90.0 -1.0\n",
      "35.8 86.0 -1.0\n",
      "\n",
      "5.0 90.0 -1.0\n",
      "134.2 86.6 -1.0\n",
      "\n",
      "320.0 -90.0 -1.0\n",
      "139.9 -88.3 -1.0\n",
      "\n",
      "280.0 90.0 -1.0\n",
      "134.2 86.6 -1.0\n",
      "\n",
      "35.0 -90.0 1.0\n",
      "166.9 -85.2 1.0\n",
      "\n",
      "140.0 90.0 1.0\n",
      "334.4 86.8 1.0\n",
      "\n",
      "240.0 90.0 -1.0\n",
      "15.1 80.6 -1.0\n",
      "\n",
      "25.0 -90.0 1.0\n",
      "156.8 -84.1 1.0\n",
      "\n",
      "250.0 90.0 -1.0\n",
      "30.2 86.6 -1.0\n",
      "\n",
      "235.0 90.0 -1.0\n",
      "122.1 86.6 -1.0\n",
      "\n",
      "15.0 -90.0 -1.0\n",
      "163.7 -87.9 -1.0\n",
      "\n",
      "30.0 -90.0 1.0\n",
      "166.4 -88.9 1.0\n",
      "\n",
      "65.0 90.0 1.0\n",
      "321.7 88.1 1.0\n",
      "\n",
      "270.0 -90.0 1.0\n",
      "166.9 -85.2 1.0\n",
      "\n",
      "220.0 -90.0 -1.0\n",
      "116.3 -88.4 -1.0\n",
      "\n",
      "355.0 -90.0 1.0\n",
      "165.6 -85.3 1.0\n",
      "\n",
      "285.0 -90.0 1.0\n",
      "156.8 -84.1 1.0\n",
      "\n",
      "20.0 -90.0 1.0\n",
      "166.2 -85.3 1.0\n",
      "\n",
      "200.0 -90.0 -1.0\n",
      "38.1 -87.4 -1.0\n",
      "\n",
      "310.0 90.0 1.0\n",
      "87.0 86.4 1.0\n",
      "\n",
      "225.0 -90.0 -1.0\n",
      "13.2 -86.5 -1.0\n",
      "\n",
      "10.0 90.0 -1.0\n",
      "114.0 86.9 -1.0\n",
      "\n",
      "290.0 -90.0 1.0\n",
      "165.6 -85.3 1.0\n",
      "\n",
      "270.0 90.0 -1.0\n",
      "134.2 86.6 -1.0\n",
      "\n",
      "350.0 90.0 1.0\n",
      "211.5 84.4 1.0\n",
      "\n",
      "245.0 -90.0 -1.0\n",
      "116.1 -88.4 -1.0\n",
      "\n",
      "345.0 -90.0 -1.0\n",
      "136.8 -88.8 -1.0\n",
      "\n",
      "270.0 -90.0 -1.0\n",
      "90.8 -84.3 -1.0\n",
      "\n",
      "45.0 -90.0 1.0\n",
      "156.8 -84.1 1.0\n",
      "\n",
      "25.0 -90.0 -1.0\n",
      "136.6 -88.8 -1.0\n",
      "\n",
      "270.0 90.0 -1.0\n",
      "30.2 86.6 -1.0\n",
      "\n",
      "315.0 -90.0 -1.0\n",
      "139.9 -88.3 -1.0\n",
      "\n",
      "280.0 -90.0 1.0\n",
      "166.9 -85.2 1.0\n",
      "\n",
      "30.0 90.0 1.0\n",
      "201.2 87.5 1.0\n",
      "\n",
      "230.0 -90.0 -1.0\n",
      "38.1 -87.4 -1.0\n",
      "\n",
      "320.0 90.0 -1.0\n",
      "114.6 86.8 -1.0\n",
      "\n",
      "75.0 90.0 -1.0\n",
      "268.6 84.9 -1.0\n",
      "\n",
      "70.0 90.0 1.0\n",
      "201.2 87.5 1.0\n",
      "\n",
      "355.0 90.0 -1.0\n",
      "139.2 86.3 -1.0\n",
      "\n",
      "355.0 90.0 -1.0\n",
      "134.2 86.6 -1.0\n",
      "\n",
      "290.0 90.0 1.0\n",
      "184.0 87.5 1.0\n",
      "\n",
      "0.0 90.0 -1.0\n",
      "157.0 85.8 -1.0\n",
      "\n",
      "25.0 -90.0 1.0\n",
      "166.9 -85.2 1.0\n",
      "\n",
      "260.0 -90.0 -1.0\n",
      "136.6 -88.8 -1.0\n",
      "\n",
      "245.0 90.0 1.0\n",
      "84.2 86.4 1.0\n",
      "\n",
      "235.0 90.0 -1.0\n",
      "30.2 86.6 -1.0\n",
      "\n",
      "310.0 -90.0 -1.0\n",
      "83.8 -89.4 -1.0\n",
      "\n",
      "300.0 -90.0 1.0\n",
      "166.2 -85.3 1.0\n",
      "\n",
      "355.0 90.0 -1.0\n",
      "139.2 86.3 -1.0\n",
      "\n",
      "260.0 -90.0 1.0\n",
      "103.9 -81.0 1.0\n",
      "\n",
      "250.0 -90.0 -1.0\n",
      "116.1 -88.4 -1.0\n",
      "\n",
      "250.0 90.0 -1.0\n",
      "134.2 86.6 -1.0\n",
      "\n",
      "290.0 -90.0 -1.0\n",
      "116.1 -88.4 -1.0\n",
      "\n",
      "25.0 -90.0 1.0\n",
      "166.9 -85.2 1.0\n",
      "\n",
      "260.0 90.0 -1.0\n",
      "114.0 86.9 -1.0\n",
      "\n",
      "340.0 90.0 1.0\n",
      "184.0 87.5 1.0\n",
      "\n",
      "285.0 -90.0 -1.0\n",
      "116.3 -88.4 -1.0\n",
      "\n",
      "35.0 90.0 1.0\n",
      "201.2 87.5 1.0\n",
      "\n",
      "320.0 -90.0 -1.0\n",
      "116.1 -88.4 -1.0\n",
      "\n",
      "275.0 90.0 1.0\n",
      "70.1 82.3 1.0\n",
      "\n",
      "135.0 90.0 1.0\n",
      "328.9 84.4 1.0\n",
      "\n",
      "340.0 -90.0 1.0\n",
      "107.8 -84.8 1.0\n",
      "\n",
      "285.0 90.0 -1.0\n",
      "30.2 86.6 -1.0\n",
      "\n",
      "285.0 90.0 -1.0\n",
      "134.2 86.6 -1.0\n",
      "\n",
      "305.0 90.0 -1.0\n",
      "134.2 86.6 -1.0\n",
      "\n",
      "350.0 90.0 -1.0\n",
      "134.2 86.6 -1.0\n",
      "\n",
      "40.0 -90.0 1.0\n",
      "166.9 -85.2 1.0\n",
      "\n",
      "285.0 -90.0 -1.0\n",
      "116.3 -88.4 -1.0\n",
      "\n",
      "310.0 -90.0 1.0\n",
      "156.8 -84.1 1.0\n",
      "\n",
      "15.0 -90.0 1.0\n",
      "156.8 -84.1 1.0\n",
      "\n",
      "230.0 -90.0 1.0\n",
      "94.1 -84.7 1.0\n",
      "\n",
      "295.0 90.0 1.0\n",
      "184.0 87.5 1.0\n",
      "\n",
      "235.0 -90.0 -1.0\n",
      "38.1 -87.4 -1.0\n",
      "\n",
      "0.0 90.0 1.0\n",
      "184.0 87.5 1.0\n",
      "\n"
     ]
    }
   ],
   "source": [
    "ix = np.where( dPhi > 100 )\n",
    "n = len(ix[0])\n",
    "for i in range(n):\n",
    "    print(phiActual[ix[0][i]], thetaActual[ix[0][i]], hActual[ix[0][i]] )\n",
    "    print(round(phiPredicted[ix[0][i]],1), round(thetaPredicted[ix[0][i]],1), round(hPredicted[ix[0][i]],1))\n",
    "    print()"
   ]
  },
  {
   "cell_type": "code",
   "execution_count": 149,
   "metadata": {},
   "outputs": [
    {
     "name": "stdout",
     "output_type": "stream",
     "text": [
      "(10, 50, 50, 3)\n"
     ]
    },
    {
     "data": {
      "text/plain": [
       "<matplotlib.image.AxesImage at 0x7f16873725b0>"
      ]
     },
     "execution_count": 149,
     "metadata": {},
     "output_type": "execute_result"
    },
    {
     "data": {
      "image/png": "[encoded data removed]",
      "text/plain": [
       "<Figure size 432x288 with 1 Axes>"
      ]
     },
     "metadata": {
      "needs_background": "light"
     },
     "output_type": "display_data"
    }
   ],
   "source": [
    "npzfile = np.load( imgPath + 'fluxrope_10_315_90_0_-1_noise_0.npz' )\n",
    "hodo = npzfile['hodo']\n",
    "print(hodo.shape)\n",
    "\n",
    "plt.imshow(hodo[9,:,:,0])"
   ]
  },
  {
   "cell_type": "code",
   "execution_count": 151,
   "metadata": {},
   "outputs": [
    {
     "name": "stdout",
     "output_type": "stream",
     "text": [
      "(10, 50, 50, 3)\n"
     ]
    },
    {
     "data": {
      "text/plain": [
       "<matplotlib.image.AxesImage at 0x7f181bed7400>"
      ]
     },
     "execution_count": 151,
     "metadata": {},
     "output_type": "execute_result"
    },
    {
     "data": {
      "image/png": "[encoded data removed]",
      "text/plain": [
       "<Figure size 432x288 with 1 Axes>"
      ]
     },
     "metadata": {
      "needs_background": "light"
     },
     "output_type": "display_data"
    }
   ],
   "source": [
    "npzfile = np.load( imgPath + 'fluxrope_10_135_85_0_-1_noise_0.npz' )\n",
    "hodo = npzfile['hodo']\n",
    "print(hodo.shape)\n",
    "\n",
    "plt.imshow(hodo[9,:,:,0])"
   ]
  },
  {
   "cell_type": "code",
   "execution_count": 119,
   "metadata": {},
   "outputs": [],
   "source": [
    "def readCSV(file):\n",
    "              \n",
    "    x = []\n",
    "    y = []\n",
    "    z = []\n",
    "    openFile = open(file, \"r\")\n",
    "    for line in openFile:\n",
    "        parts = line.split(\",\")\n",
    "        x.append(float(parts[0]))\n",
    "        y.append(float(parts[1]))\n",
    "        z.append(float(parts[2]))\n",
    "    openFile.close()\n",
    "        \n",
    "    bx = np.array(x)\n",
    "    by = np.array(y)\n",
    "    bz = np.array(z)\n",
    "       \n",
    "    return bx, by, bz"
   ]
  },
  {
   "cell_type": "code",
   "execution_count": 183,
   "metadata": {},
   "outputs": [
    {
     "data": {
      "text/plain": [
       "Text(0, 0.5, 'bz')"
      ]
     },
     "execution_count": 183,
     "metadata": {},
     "output_type": "execute_result"
    },
    {
     "data": {
      "image/png": "[encoded data removed]",
      "text/plain": [
       "<Figure size 720x720 with 3 Axes>"
      ]
     },
     "metadata": {
      "needs_background": "light"
     },
     "output_type": "display_data"
    }
   ],
   "source": [
    "csvPath = \"/data/fluxrope_ml/csv_teressa/\"\n",
    "csv1 = csvPath + 'fluxrope_10_315_90_0_-1.txt'\n",
    "bx, by, bz = readCSV(csv1)\n",
    "#mag = np.sqrt( bx*bx + by*by + bz*bz )\n",
    "#bx /= mag\n",
    "#by /= mag\n",
    "#bz /= mag\n",
    "\n",
    "fig, ax = plt.subplots(3,1,figsize=(10,10))\n",
    "   \n",
    "ax[0].plot(bx, 'k') # 'k' is color abbreviation for black\n",
    "ax[0].set_ylim(-1.5,1.5)\n",
    "ax[0].set_ylabel('bx')\n",
    "ax[1].plot(by, 'k') # 'k' is color abbreviation for black\n",
    "#ax[1].set_ylim(-1.5,1.5)\n",
    "ax[1].set_ylabel('by')\n",
    "ax[2].plot(bz, 'k') # 'k' is color abbreviation for black\n",
    "#ax[2].set_ylim(-1.5,1.5)\n",
    "ax[2].set_ylabel('bz')"
   ]
  },
  {
   "cell_type": "code",
   "execution_count": 203,
   "metadata": {},
   "outputs": [
    {
     "data": {
      "text/plain": [
       "Text(0, 0.5, 'bz')"
      ]
     },
     "execution_count": 203,
     "metadata": {},
     "output_type": "execute_result"
    },
    {
     "data": {
      "image/png": "[encoded data removed]",
      "text/plain": [
       "<Figure size 720x720 with 3 Axes>"
      ]
     },
     "metadata": {
      "needs_background": "light"
     },
     "output_type": "display_data"
    }
   ],
   "source": [
    "csvPath = \"/data/fluxrope_ml/csv_teressa/\"\n",
    "csv1 = csvPath + 'fluxrope_10_135_85_0_-1.txt'\n",
    "bx, by, bz = readCSV(csv1)\n",
    "#mag = np.sqrt( bx*bx + by*by + bz*bz )\n",
    "#bx /= mag\n",
    "#by /= mag\n",
    "#bz /= mag\n",
    "\n",
    "fig, ax = plt.subplots(3,1,figsize=(10,10))\n",
    "   \n",
    "ax[0].plot(bx, 'k') # 'k' is color abbreviation for black\n",
    "ax[0].set_ylim(-1.5,1.5)\n",
    "ax[0].set_ylabel('bx')\n",
    "ax[1].plot(by, 'k') # 'k' is color abbreviation for black\n",
    "#ax[1].set_ylim(-1.5,1.5)\n",
    "ax[1].set_ylabel('by')\n",
    "ax[2].plot(bz, 'k') # 'k' is color abbreviation for black\n",
    "#ax[2].set_ylim(-1.5,1.5)\n",
    "ax[2].set_ylabel('bz')"
   ]
  },
  {
   "cell_type": "code",
   "execution_count": 205,
   "metadata": {},
   "outputs": [
    {
     "data": {
      "text/plain": [
       "[<matplotlib.lines.Line2D at 0x7f1685fc7e50>]"
      ]
     },
     "execution_count": 205,
     "metadata": {},
     "output_type": "execute_result"
    },
    {
     "data": {
      "image/png": "[encoded data removed]",
      "text/plain": [
       "<Figure size 432x288 with 1 Axes>"
      ]
     },
     "metadata": {
      "needs_background": "light"
     },
     "output_type": "display_data"
    }
   ],
   "source": [
    "plt.plot(bx,by)\n",
    "#plt.xlim(-1,1)"
   ]
  },
  {
   "cell_type": "code",
   "execution_count": 201,
   "metadata": {},
   "outputs": [
    {
     "data": {
      "text/plain": [
       "Text(0, 0.5, 'bz')"
      ]
     },
     "execution_count": 201,
     "metadata": {},
     "output_type": "execute_result"
    },
    {
     "data": {
      "image/png": "[encoded data removed]",
      "text/plain": [
       "<Figure size 720x720 with 3 Axes>"
      ]
     },
     "metadata": {
      "needs_background": "light"
     },
     "output_type": "display_data"
    }
   ],
   "source": [
    "csvPath = \"/data/fluxrope_ml/csv_teressa/\"\n",
    "csv1 = csvPath + 'fluxrope_10_135_85_0_-1.txt'\n",
    "bx, by, bz = readCSV(csv1)\n",
    "mag = np.sqrt( bx*bx + by*by + bz*bz )\n",
    "bx /= mag\n",
    "by /= mag\n",
    "bz /= mag\n",
    "\n",
    "fig, ax = plt.subplots(3,1,figsize=(10,10))\n",
    "   \n",
    "ax[0].plot(bx, 'k') # 'k' is color abbreviation for black\n",
    "ax[0].set_ylim(-1.5,1.5)\n",
    "ax[0].set_ylabel('bx')\n",
    "ax[1].plot(by, 'k') # 'k' is color abbreviation for black\n",
    "ax[1].set_ylim(-1.5,1.5)\n",
    "ax[1].set_ylabel('by')\n",
    "ax[2].plot(bz, 'k') # 'k' is color abbreviation for black\n",
    "ax[2].set_ylim(-1.5,1.5)\n",
    "ax[2].set_ylabel('bz')"
   ]
  },
  {
   "cell_type": "code",
   "execution_count": 196,
   "metadata": {},
   "outputs": [
    {
     "data": {
      "text/plain": [
       "-0.017708795790353275"
      ]
     },
     "execution_count": 196,
     "metadata": {},
     "output_type": "execute_result"
    }
   ],
   "source": [
    "bx[0]"
   ]
  },
  {
   "cell_type": "markdown",
   "metadata": {},
   "source": [
    "### Write model to a file"
   ]
  },
  {
   "cell_type": "code",
   "execution_count": 87,
   "metadata": {},
   "outputs": [],
   "source": [
    "model.save_weights(\"/data/fluxrope_ml/models/cnn_model_hodo_regression.h5\")"
   ]
  }
 ],
 "metadata": {
  "kernelspec": {
   "display_name": "Python 3",
   "language": "python",
   "name": "python3"
  },
  "language_info": {
   "codemirror_mode": {
    "name": "ipython",
    "version": 3
   },
   "file_extension": ".py",
   "mimetype": "text/x-python",
   "name": "python",
   "nbconvert_exporter": "python",
   "pygments_lexer": "ipython3",
   "version": "3.8.5"
  }
 },
 "nbformat": 4,
 "nbformat_minor": 4
}
