{
 "cells": [
  {
   "cell_type": "code",
   "execution_count": 21,
   "metadata": {},
   "outputs": [],
   "source": [
    "import os\n",
    "import time\n",
    "import random\n",
    "\n",
    "import numpy as np\n",
    "import matplotlib.pyplot as plt\n",
    "\n",
    "import tensorflow as tf\n",
    "\n",
    "import keras\n",
    "from keras.utils import Sequence\n",
    "from keras.models import Sequential\n",
    "from keras.layers import Dense\n",
    "from keras.layers import Dropout, Flatten \n",
    "from keras.layers import Conv2D, MaxPooling2D"
   ]
  },
  {
   "cell_type": "markdown",
   "metadata": {},
   "source": [
    "### Configuration variables and path setup"
   ]
  },
  {
   "cell_type": "code",
   "execution_count": 22,
   "metadata": {},
   "outputs": [],
   "source": [
    "csvPath = \"/data/fluxrope_ml/csv_teressa/\"\n",
    "imgPath = \"/data/fluxrope_ml/hodos_noise/\"\n",
    "\n",
    "input_shape = (100,100,3)\n",
    "flattenDim = input_shape[0]*input_shape[1]*input_shape[2]"
   ]
  },
  {
   "cell_type": "markdown",
   "metadata": {},
   "source": [
    "### Split the data into training, testing, and validation"
   ]
  },
  {
   "cell_type": "code",
   "execution_count": 23,
   "metadata": {},
   "outputs": [],
   "source": [
    "allFiles = [f for f in os.listdir(imgPath) if os.path.isfile(os.path.join(imgPath, f))]\n",
    "random.shuffle(allFiles)"
   ]
  },
  {
   "cell_type": "code",
   "execution_count": 24,
   "metadata": {},
   "outputs": [
    {
     "name": "stdout",
     "output_type": "stream",
     "text": [
      "Training files: 22360\n",
      "Test files: 7454\n",
      "Validation files: 7454\n",
      "\n",
      "Total number of files: 37268\n"
     ]
    }
   ],
   "source": [
    "# Distribution is 60% Training, 20% Validation, and 20% Testing\n",
    "cutOff = int(len(allFiles) * 0.6)\n",
    "train = allFiles[:cutOff]\n",
    "rest = allFiles[cutOff:]\n",
    "\n",
    "# there's 40% left over, split it in half for testing and validation\n",
    "test = rest[ : int(len(rest) * 0.5)]\n",
    "validation = rest[ int(len(rest) * 0.5) : ]\n",
    "\n",
    "print(\"Training files:\", len(train))\n",
    "print(\"Test files:\", len(test))\n",
    "print(\"Validation files:\", len(validation))\n",
    "print()\n",
    "print(\"Total number of files:\", len(allFiles))\n",
    "\n",
    "# check to make sure we split everything correctly\n",
    "total = len(test) + len(train) + len(validation)\n",
    "assert total == len(allFiles)"
   ]
  },
  {
   "cell_type": "markdown",
   "metadata": {},
   "source": [
    "### Sanity check - Load and visualize one of the hodograms"
   ]
  },
  {
   "cell_type": "code",
   "execution_count": 25,
   "metadata": {},
   "outputs": [
    {
     "name": "stdout",
     "output_type": "stream",
     "text": [
      "(10, 100, 100, 3)\n"
     ]
    },
    {
     "data": {
      "text/plain": [
       "<matplotlib.image.AxesImage at 0x7fbab0dbf910>"
      ]
     },
     "execution_count": 25,
     "metadata": {},
     "output_type": "execute_result"
    },
    {
     "data": {
      "image/png": "[encoded data removed]",
      "text/plain": [
       "<Figure size 432x288 with 1 Axes>"
      ]
     },
     "metadata": {
      "needs_background": "light"
     },
     "output_type": "display_data"
    }
   ],
   "source": [
    "npzfile = np.load( imgPath + train[0] )\n",
    "hodo = npzfile['hodo']\n",
    "print(hodo.shape)\n",
    "\n",
    "plt.imshow(hodo[0,:,:,1], cmap='gray')"
   ]
  },
  {
   "cell_type": "code",
   "execution_count": 26,
   "metadata": {},
   "outputs": [
    {
     "data": {
      "text/plain": [
       "<matplotlib.image.AxesImage at 0x7fba6a771c40>"
      ]
     },
     "execution_count": 26,
     "metadata": {},
     "output_type": "execute_result"
    },
    {
     "data": {
      "image/png": "[encoded data removed]",
      "text/plain": [
       "<Figure size 432x288 with 1 Axes>"
      ]
     },
     "metadata": {
      "needs_background": "light"
     },
     "output_type": "display_data"
    }
   ],
   "source": [
    "plt.imshow(hodo[5,:,:,1], cmap='gray')"
   ]
  },
  {
   "cell_type": "markdown",
   "metadata": {},
   "source": [
    "### Data reading test"
   ]
  },
  {
   "cell_type": "code",
   "execution_count": 27,
   "metadata": {},
   "outputs": [
    {
     "name": "stdout",
     "output_type": "stream",
     "text": [
      "X (9, 100, 100, 3)\n",
      "Y (9, 30000)\n"
     ]
    }
   ],
   "source": [
    "# Generate data\n",
    "npzfile = np.load(imgPath + train[0])\n",
    "hodo = npzfile['hodo']\n",
    "          \n",
    "y = np.zeros( shape=(9,100,100,3) )\n",
    "x = hodo[0:9, :, :, :]\n",
    "\n",
    "for i in range(9):\n",
    "    y[i,:, :, :] = hodo[-1, :, :, :]  \n",
    "\n",
    "y = y.flatten().reshape(9,flattenDim)\n",
    "        \n",
    "print(\"X\", x.shape)\n",
    "print(\"Y\", y.shape)"
   ]
  },
  {
   "cell_type": "code",
   "execution_count": 28,
   "metadata": {},
   "outputs": [
    {
     "name": "stdout",
     "output_type": "stream",
     "text": [
      "X (1, 100, 100, 3)\n",
      "Y (1, 30000)\n"
     ]
    }
   ],
   "source": [
    "# Generate data\n",
    "npzfile = np.load(imgPath + train[0])\n",
    "hodo = npzfile['hodo']\n",
    "\n",
    "y = np.zeros( shape=(1,100,100,3) )\n",
    "x = hodo[8, :, :, :]\n",
    "    \n",
    "x = x.reshape(1,100,100,3)\n",
    "y[0,:, :, :] = hodo[-1, :, :, :] \n",
    "        \n",
    "y = y.flatten().reshape(1,flattenDim)\n",
    "\n",
    "print(\"X\", x.shape)\n",
    "print(\"Y\", y.shape)"
   ]
  },
  {
   "cell_type": "markdown",
   "metadata": {},
   "source": [
    "### Data reader"
   ]
  },
  {
   "cell_type": "code",
   "execution_count": 29,
   "metadata": {},
   "outputs": [],
   "source": [
    "class NpzDataGenerator(Sequence):\n",
    "    \n",
    "    def __init__(self, d, files, batch_size=1, shuffle=False):\n",
    "        \n",
    "        self.batch_size = batch_size\n",
    "        self.files = files\n",
    "        self.dir = d\n",
    "        self.shuffle = shuffle\n",
    "        self.on_epoch_end()\n",
    "\n",
    "    def __len__(self):\n",
    "        \n",
    "        'Denotes the number of batches per epoch'\n",
    "\n",
    "        'If the batch size doesnt divide evenly then add 1'\n",
    "        diff = (len(self.files) / self.batch_size) - np.floor((len(self.files) / self.batch_size))\n",
    "        if ( diff > 0 ):\n",
    "            return int(np.floor(len(self.files) / self.batch_size))+1\n",
    "        else:\n",
    "            return int(np.floor(len(self.files) / self.batch_size))\n",
    "\n",
    "    def __getitem__(self, index):\n",
    "        \n",
    "        'Generate one batch of data'\n",
    "        # Generate indexes of the batch\n",
    "        indexes = self.indexes[index*self.batch_size:(index+1)*self.batch_size]\n",
    "\n",
    "        # get list of files\n",
    "        #files = [self.files[k] for k in indexes]\n",
    "        file = self.files[indexes[0]]\n",
    "        \n",
    "        # Generate data\n",
    "        npzfile = np.load(self.dir + file)\n",
    "        hodo = npzfile['hodo']\n",
    "        \n",
    "        #y = np.zeros( shape=(9,100,100,3) )\n",
    "        #x = hodo[0:9, :, :, :]\n",
    "        \n",
    "        y = np.zeros( shape=(1,100,100,3) )\n",
    "        x = hodo[8, :, :, :]\n",
    "    \n",
    "        #for i in range(9):\n",
    "        #    y[i,:, :, :] = hodo[-1, :, :, :]   \n",
    "        x = x.reshape(1,100,100,3)\n",
    "        y[0,:, :, :] = hodo[-1, :, :, :] \n",
    "        \n",
    "        #y = y.flatten().reshape(9,flattenDim)\n",
    "        y = y.flatten().reshape(1,flattenDim)\n",
    "        \n",
    "        return x, y\n",
    "\n",
    "    def on_epoch_end(self):\n",
    "        \n",
    "        'Updates indexes after each epoch'\n",
    "        self.indexes = np.arange(len(self.files))\n",
    "        if self.shuffle == True:\n",
    "            np.random.shuffle(self.indexes)"
   ]
  },
  {
   "cell_type": "markdown",
   "metadata": {},
   "source": [
    "### Train the model"
   ]
  },
  {
   "cell_type": "code",
   "execution_count": 30,
   "metadata": {},
   "outputs": [],
   "source": [
    "# This is required for my GPU: GeForce RTX 2060\n",
    "# Without this config, tensorflow cannot properly allocate GPU memory\n",
    "config = tf.compat.v1.ConfigProto()\n",
    "config.gpu_options.allow_growth = True\n",
    "config.gpu_options.per_process_gpu_memory_fraction = 0.95\n",
    "session = tf.compat.v1.Session(config=config)"
   ]
  },
  {
   "cell_type": "code",
   "execution_count": 31,
   "metadata": {},
   "outputs": [],
   "source": [
    "# define model\n",
    "\n",
    "def get_model():\n",
    "\n",
    "    model = Sequential()\n",
    "    model.add(Conv2D(filters=32, kernel_size=3, activation='relu', padding=\"same\", input_shape=input_shape))\n",
    "    model.add(Conv2D(filters=64, kernel_size=3, activation='relu', padding=\"same\"))\n",
    "    model.add(Dropout(0.25))\n",
    "    model.add(MaxPooling2D(pool_size=8))\n",
    "    model.add(MaxPooling2D(pool_size=4))\n",
    "    model.add(Flatten())\n",
    "    model.add(Dense(flattenDim))\n",
    "    \n",
    "    model.compile(loss='mse', optimizer='adam')\n",
    "        \n",
    "    return model"
   ]
  },
  {
   "cell_type": "code",
   "execution_count": 32,
   "metadata": {
    "scrolled": true
   },
   "outputs": [
    {
     "name": "stdout",
     "output_type": "stream",
     "text": [
      "Model: \"sequential\"\n",
      "_________________________________________________________________\n",
      "Layer (type)                 Output Shape              Param #   \n",
      "=================================================================\n",
      "conv2d (Conv2D)              (None, 100, 100, 32)      896       \n",
      "_________________________________________________________________\n",
      "conv2d_1 (Conv2D)            (None, 100, 100, 64)      18496     \n",
      "_________________________________________________________________\n",
      "dropout (Dropout)            (None, 100, 100, 64)      0         \n",
      "_________________________________________________________________\n",
      "max_pooling2d (MaxPooling2D) (None, 12, 12, 64)        0         \n",
      "_________________________________________________________________\n",
      "max_pooling2d_1 (MaxPooling2 (None, 3, 3, 64)          0         \n",
      "_________________________________________________________________\n",
      "flatten (Flatten)            (None, 576)               0         \n",
      "_________________________________________________________________\n",
      "dense (Dense)                (None, 30000)             17310000  \n",
      "=================================================================\n",
      "Total params: 17,329,392\n",
      "Trainable params: 17,329,392\n",
      "Non-trainable params: 0\n",
      "_________________________________________________________________\n"
     ]
    }
   ],
   "source": [
    "# clear out any old models hanging around\n",
    "keras.backend.clear_session()\n",
    "\n",
    "trainGen = NpzDataGenerator(imgPath, train)\n",
    "valGen = NpzDataGenerator(imgPath, validation)\n",
    "    \n",
    "# define model\n",
    "model = get_model()\n",
    "\n",
    "model.summary()"
   ]
  },
  {
   "cell_type": "code",
   "execution_count": 33,
   "metadata": {},
   "outputs": [
    {
     "name": "stdout",
     "output_type": "stream",
     "text": [
      "Epoch 1/25\n",
      "    1/22360 [..............................] - ETA: 5s - loss: 0.0239WARNING:tensorflow:Callbacks method `on_train_batch_end` is slow compared to the batch time (batch time: 0.0019s vs `on_train_batch_end` time: 0.0032s). Check your callbacks.\n",
      "22360/22360 [==============================] - 462s 21ms/step - loss: 0.0130 - val_loss: 0.0121\n",
      "Epoch 2/25\n",
      "22360/22360 [==============================] - 471s 21ms/step - loss: 0.0115 - val_loss: 0.0117\n",
      "Epoch 3/25\n",
      "22360/22360 [==============================] - 472s 21ms/step - loss: 0.0111 - val_loss: 0.0114\n",
      "Epoch 4/25\n",
      "22360/22360 [==============================] - 471s 21ms/step - loss: 0.0110 - val_loss: 0.0114\n",
      "Epoch 5/25\n",
      "22360/22360 [==============================] - 473s 21ms/step - loss: 0.0109 - val_loss: 0.0113\n",
      "Epoch 6/25\n",
      "22360/22360 [==============================] - 470s 21ms/step - loss: 0.0108 - val_loss: 0.0112\n",
      "Epoch 7/25\n",
      "22360/22360 [==============================] - 469s 21ms/step - loss: 0.0108 - val_loss: 0.0113\n",
      "Epoch 8/25\n",
      "22360/22360 [==============================] - 464s 21ms/step - loss: 0.0107 - val_loss: 0.0113\n",
      "Epoch 9/25\n",
      "22360/22360 [==============================] - 468s 21ms/step - loss: 0.0107 - val_loss: 0.0112\n",
      "Epoch 10/25\n",
      "22360/22360 [==============================] - 464s 21ms/step - loss: 0.0107 - val_loss: 0.0111\n",
      "Epoch 11/25\n",
      "22360/22360 [==============================] - 468s 21ms/step - loss: 0.0106 - val_loss: 0.0112\n",
      "Epoch 12/25\n",
      "22360/22360 [==============================] - 469s 21ms/step - loss: 0.0106 - val_loss: 0.0112\n",
      "Epoch 13/25\n",
      "22360/22360 [==============================] - 467s 21ms/step - loss: 0.0106 - val_loss: 0.0113\n",
      "Epoch 14/25\n",
      "22360/22360 [==============================] - 468s 21ms/step - loss: 0.0106 - val_loss: 0.0112\n",
      "Epoch 15/25\n",
      "22360/22360 [==============================] - 463s 21ms/step - loss: 0.0106 - val_loss: 0.0111\n",
      "Epoch 16/25\n",
      "22360/22360 [==============================] - 463s 21ms/step - loss: 0.0106 - val_loss: 0.0112\n",
      "Epoch 17/25\n",
      "22360/22360 [==============================] - 463s 21ms/step - loss: 0.0106 - val_loss: 0.0112\n",
      "Epoch 18/25\n",
      "22360/22360 [==============================] - 461s 21ms/step - loss: 0.0106 - val_loss: 0.0111\n",
      "Epoch 19/25\n",
      "22360/22360 [==============================] - 463s 21ms/step - loss: 0.0106 - val_loss: 0.0112\n",
      "Epoch 20/25\n",
      "22360/22360 [==============================] - 466s 21ms/step - loss: 0.0106 - val_loss: 0.0112\n",
      "Epoch 21/25\n",
      "22360/22360 [==============================] - 460s 21ms/step - loss: 0.0105 - val_loss: 0.0111\n",
      "Epoch 22/25\n",
      "22360/22360 [==============================] - 459s 21ms/step - loss: 0.0105 - val_loss: 0.0111\n",
      "Epoch 23/25\n",
      "22360/22360 [==============================] - 458s 20ms/step - loss: 0.0105 - val_loss: 0.0111\n",
      "Epoch 24/25\n",
      "22360/22360 [==============================] - 462s 21ms/step - loss: 0.0105 - val_loss: 0.0112\n",
      "Epoch 25/25\n",
      "22360/22360 [==============================] - 448s 20ms/step - loss: 0.0105 - val_loss: 0.0112\n",
      "Fit took 11625.7 seconds\n",
      "Fit took 193.76 minutes\n",
      "Fit took 3.23 hours\n"
     ]
    }
   ],
   "source": [
    "start = time.time()\n",
    "\n",
    "epochs = 25\n",
    "model.fit(trainGen, epochs=epochs, shuffle=False, verbose=1, validation_data=(valGen))\n",
    "\n",
    "stop = time.time()\n",
    "duration = stop-start\n",
    "print(\"Fit took\", round(duration,2), \"seconds\")\n",
    "print(\"Fit took\", round(duration/60,2), \"minutes\")\n",
    "print(\"Fit took\", round(duration/60/60,2), \"hours\")"
   ]
  },
  {
   "cell_type": "markdown",
   "metadata": {},
   "source": [
    "### Visualize the loss"
   ]
  },
  {
   "cell_type": "code",
   "execution_count": 35,
   "metadata": {},
   "outputs": [
    {
     "data": {
      "text/plain": [
       "Text(0.5, 1.0, 'Loss')"
      ]
     },
     "execution_count": 35,
     "metadata": {},
     "output_type": "execute_result"
    },
    {
     "data": {
      "image/png": "[encoded data removed]",
      "text/plain": [
       "<Figure size 432x288 with 1 Axes>"
      ]
     },
     "metadata": {
      "needs_background": "light"
     },
     "output_type": "display_data"
    }
   ],
   "source": [
    "plt.plot(model.history.history['loss'], label=\"Loss\", color='blue')\n",
    "plt.plot(model.history.history['val_loss'], label=\"Validation\", color='red')\n",
    "plt.legend()\n",
    "plt.xlim(0,25)\n",
    "plt.ylim(0,.015)\n",
    "plt.title('Loss')"
   ]
  },
  {
   "cell_type": "markdown",
   "metadata": {},
   "source": [
    "### Evaluate on the test data"
   ]
  },
  {
   "cell_type": "code",
   "execution_count": 36,
   "metadata": {},
   "outputs": [
    {
     "name": "stdout",
     "output_type": "stream",
     "text": [
      "WARNING:tensorflow:From <ipython-input-36-1a0b321f1dfa>:2: Model.evaluate_generator (from tensorflow.python.keras.engine.training) is deprecated and will be removed in a future version.\n",
      "Instructions for updating:\n",
      "Please use Model.evaluate, which supports generators.\n",
      "7454/7454 [==============================] - 121s 16ms/step - loss: 0.0112\n",
      "Testing MSE: 0.01118799764662981\n"
     ]
    }
   ],
   "source": [
    "testGen = NpzDataGenerator(imgPath, test)\n",
    "mse = model.evaluate(testGen, verbose=1)\n",
    "print(\"Testing MSE:\", mse)"
   ]
  },
  {
   "cell_type": "markdown",
   "metadata": {},
   "source": [
    "### Make some predictions"
   ]
  },
  {
   "cell_type": "code",
   "execution_count": 37,
   "metadata": {},
   "outputs": [
    {
     "name": "stdout",
     "output_type": "stream",
     "text": [
      "X (1, 100, 100, 3)\n",
      "Y (100, 100, 3)\n"
     ]
    },
    {
     "data": {
      "text/plain": [
       "<matplotlib.image.AxesImage at 0x7fbab07f1a90>"
      ]
     },
     "execution_count": 37,
     "metadata": {},
     "output_type": "execute_result"
    },
    {
     "data": {
      "image/png": "[encoded data removed]",
      "text/plain": [
       "<Figure size 432x288 with 1 Axes>"
      ]
     },
     "metadata": {
      "needs_background": "light"
     },
     "output_type": "display_data"
    }
   ],
   "source": [
    "npzfile = np.load(imgPath + test[100])\n",
    "hodo = npzfile['hodo']\n",
    "          \n",
    "x = hodo[8,:,:,:]\n",
    "x = x.reshape(1,100,100,3)\n",
    "\n",
    "y = hodo[9,:,:,:]\n",
    "        \n",
    "print(\"X\", x.shape)\n",
    "print(\"Y\", y.shape)\n",
    "\n",
    "p = model.predict(x)\n",
    "p = p.reshape(100,100,3)\n",
    "plt.imshow(p[:,:,2],cmap='gray_r')\n",
    "#plt.imshow(x[0,:,:,0])"
   ]
  },
  {
   "cell_type": "code",
   "execution_count": 38,
   "metadata": {
    "scrolled": true
   },
   "outputs": [
    {
     "data": {
      "text/plain": [
       "<matplotlib.image.AxesImage at 0x7fba66713070>"
      ]
     },
     "execution_count": 38,
     "metadata": {},
     "output_type": "execute_result"
    },
    {
     "data": {
      "image/png": "[encoded data removed]",
      "text/plain": [
       "<Figure size 432x288 with 1 Axes>"
      ]
     },
     "metadata": {
      "needs_background": "light"
     },
     "output_type": "display_data"
    }
   ],
   "source": [
    "plt.imshow(hodo[9,:,:,2],cmap='gray_r')"
   ]
  },
  {
   "cell_type": "code",
   "execution_count": 39,
   "metadata": {},
   "outputs": [
    {
     "name": "stdout",
     "output_type": "stream",
     "text": [
      "(100, 100, 3)\n",
      "-0.2881962 0.80400145\n",
      "28849 (100, 100, 3)\n"
     ]
    },
    {
     "data": {
      "text/plain": [
       "<matplotlib.image.AxesImage at 0x7fba666d6d30>"
      ]
     },
     "execution_count": 39,
     "metadata": {},
     "output_type": "execute_result"
    },
    {
     "data": {
      "image/png": "[encoded data removed]",
      "text/plain": [
       "<Figure size 432x288 with 1 Axes>"
      ]
     },
     "metadata": {
      "needs_background": "light"
     },
     "output_type": "display_data"
    }
   ],
   "source": [
    "x=p[:,:].copy()\n",
    "print(x.shape)\n",
    "print(x.min(),x.max())\n",
    "thr = 0.25\n",
    "print(len(x[x < thr]), x.shape)\n",
    "x[x < thr] = 0\n",
    "x[x >= thr] = 1\n",
    "plt.imshow(x[:,:],cmap='gray_r')"
   ]
  },
  {
   "cell_type": "code",
   "execution_count": 40,
   "metadata": {},
   "outputs": [
    {
     "name": "stdout",
     "output_type": "stream",
     "text": [
      "(100, 100, 3)\n",
      "0.0 1.0\n"
     ]
    },
    {
     "data": {
      "image/png": "[encoded data removed]",
      "text/plain": [
       "<Figure size 432x288 with 1 Axes>"
      ]
     },
     "metadata": {
      "needs_background": "light"
     },
     "output_type": "display_data"
    }
   ],
   "source": [
    "plt.imshow(x[:,:,2], cmap='gray_r')\n",
    "print(x.shape)\n",
    "print(x.min(),x.max())"
   ]
  },
  {
   "cell_type": "code",
   "execution_count": 228,
   "metadata": {},
   "outputs": [
    {
     "data": {
      "text/plain": [
       "<matplotlib.image.AxesImage at 0x7fdd9c446dd8>"
      ]
     },
     "execution_count": 228,
     "metadata": {},
     "output_type": "execute_result"
    },
    {
     "data": {
      "image/png": "[encoded data removed]",
      "text/plain": [
       "<Figure size 432x288 with 1 Axes>"
      ]
     },
     "metadata": {
      "needs_background": "light"
     },
     "output_type": "display_data"
    }
   ],
   "source": [
    "plt.imshow(y[:,:,0], cmap='gray_r')"
   ]
  },
  {
   "cell_type": "code",
   "execution_count": 230,
   "metadata": {},
   "outputs": [
    {
     "data": {
      "text/plain": [
       "(array([2.0200e+02, 2.6486e+04, 2.2380e+03, 5.1800e+02, 2.2900e+02,\n",
       "        1.6500e+02, 8.3000e+01, 4.5000e+01, 2.3000e+01, 1.1000e+01]),\n",
       " array([-0.13261673, -0.03114248,  0.07033177,  0.17180601,  0.27328026,\n",
       "         0.3747545 ,  0.47622874,  0.577703  ,  0.6791772 ,  0.7806515 ,\n",
       "         0.88212574], dtype=float32),\n",
       " <a list of 10 Patch objects>)"
      ]
     },
     "execution_count": 230,
     "metadata": {},
     "output_type": "execute_result"
    },
    {
     "data": {
      "image/png": "[encoded data removed]",
      "text/plain": [
       "<Figure size 432x288 with 1 Axes>"
      ]
     },
     "metadata": {
      "needs_background": "light"
     },
     "output_type": "display_data"
    }
   ],
   "source": [
    "plt.hist(p.flatten())"
   ]
  },
  {
   "cell_type": "markdown",
   "metadata": {},
   "source": [
    "### Write model to a file"
   ]
  },
  {
   "cell_type": "code",
   "execution_count": 210,
   "metadata": {},
   "outputs": [],
   "source": [
    "model.save_weights(\"/data/fluxrope_ml/models/cnn_model_predict_hodo.h5\")"
   ]
  }
 ],
 "metadata": {
  "kernelspec": {
   "display_name": "Python 3",
   "language": "python",
   "name": "python3"
  },
  "language_info": {
   "codemirror_mode": {
    "name": "ipython",
    "version": 3
   },
   "file_extension": ".py",
   "mimetype": "text/x-python",
   "name": "python",
   "nbconvert_exporter": "python",
   "pygments_lexer": "ipython3",
   "version": "3.8.5"
  }
 },
 "nbformat": 4,
 "nbformat_minor": 4
}
