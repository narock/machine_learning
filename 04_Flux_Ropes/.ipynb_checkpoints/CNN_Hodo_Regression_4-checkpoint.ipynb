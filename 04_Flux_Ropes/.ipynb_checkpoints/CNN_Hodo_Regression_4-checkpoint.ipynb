{
 "cells": [
  {
   "cell_type": "code",
   "execution_count": 1,
   "metadata": {},
   "outputs": [],
   "source": [
    "#import io\n",
    "#import os\n",
    "import time\n",
    "import glob\n",
    "import random\n",
    "\n",
    "import numpy as np\n",
    "import matplotlib.pyplot as plt\n",
    "\n",
    "import tensorflow as tf\n",
    "\n",
    "#from PIL import Image\n",
    "#from skimage import color\n",
    "#from sklearn.preprocessing import LabelEncoder\n",
    "\n",
    "import keras\n",
    "from keras.utils import Sequence\n",
    "from keras.models import Sequential, Input, Model\n",
    "from keras.layers import Dense\n",
    "from keras.layers import Dropout, Flatten \n",
    "from keras.layers import Conv2D, MaxPooling2D, concatenate"
   ]
  },
  {
   "cell_type": "markdown",
   "metadata": {},
   "source": [
    "### Configuration variables and path setup"
   ]
  },
  {
   "cell_type": "code",
   "execution_count": 2,
   "metadata": {},
   "outputs": [],
   "source": [
    "#imgPath = \"/media/narock/One Touch/data/fluxropes/cc_npz/\"\n",
    "npzPath = \"/data/fluxrope_ml/cc_npz_individual/\""
   ]
  },
  {
   "cell_type": "markdown",
   "metadata": {},
   "source": [
    "### Split the data into training, testing, and validation"
   ]
  },
  {
   "cell_type": "markdown",
   "metadata": {},
   "source": [
    "### Dataset: phi [5, 355], theta [-85, 85], y0 [0 and 95]"
   ]
  },
  {
   "cell_type": "code",
   "execution_count": 3,
   "metadata": {},
   "outputs": [
    {
     "name": "stdout",
     "output_type": "stream",
     "text": [
      "Dataset size: 94392\n"
     ]
    }
   ],
   "source": [
    "allFiles = glob.glob( npzPath + \"*.npz\" )\n",
    "random.shuffle(allFiles)\n",
    "print(\"Dataset size:\", len(allFiles))"
   ]
  },
  {
   "cell_type": "code",
   "execution_count": 4,
   "metadata": {},
   "outputs": [
    {
     "name": "stdout",
     "output_type": "stream",
     "text": [
      "Training files: 56635\n",
      "Test files: 18878\n",
      "Validation files: 18879\n",
      "\n",
      "Total number of files: 94392\n"
     ]
    }
   ],
   "source": [
    "# Distribution is 60% Training, 20% Validation, and 20% Testing\n",
    "cutOff = int(len(allFiles) * 0.6)\n",
    "train = allFiles[:cutOff]\n",
    "rest = allFiles[cutOff:]\n",
    "\n",
    "# there's 40% left over, split it in half for testing and validation\n",
    "test = rest[ : int(len(rest) * 0.5)]\n",
    "validation = rest[ int(len(rest) * 0.5) : ]\n",
    "\n",
    "print(\"Training files:\", len(train))\n",
    "print(\"Test files:\", len(test))\n",
    "print(\"Validation files:\", len(validation))\n",
    "print()\n",
    "print(\"Total number of files:\", len(allFiles))\n",
    "\n",
    "# check to make sure we split everything correctly\n",
    "total = len(test) + len(train) + len(validation)\n",
    "assert total == len(allFiles)"
   ]
  },
  {
   "cell_type": "markdown",
   "metadata": {},
   "source": [
    "### Data reader"
   ]
  },
  {
   "cell_type": "code",
   "execution_count": 5,
   "metadata": {},
   "outputs": [],
   "source": [
    "class NpzDataGenerator(Sequence):\n",
    "    \n",
    "    def __init__(self, files, batch_size=1, shuffle=False):\n",
    "        \n",
    "        self.batch_size = batch_size\n",
    "        self.files = files\n",
    "        self.shuffle = shuffle\n",
    "        self.on_epoch_end()\n",
    "\n",
    "    def __len__(self):\n",
    "        \n",
    "        'Denotes the number of batches per epoch'\n",
    "\n",
    "        'If the batch size doesnt divide evenly then add 1'\n",
    "        diff = (len(self.files) / self.batch_size) - np.floor((len(self.files) / self.batch_size))\n",
    "        if ( diff > 0 ):\n",
    "            return int(np.floor(len(self.files) / self.batch_size))+1\n",
    "        else:\n",
    "            return int(np.floor(len(self.files) / self.batch_size))\n",
    "\n",
    "    def __getitem__(self, index):\n",
    "        \n",
    "        'Generate one batch of data'\n",
    "        # Generate indexes of the batch\n",
    "        indexes = self.indexes[index*self.batch_size:(index+1)*self.batch_size]\n",
    "\n",
    "        # get list of files\n",
    "        files = [self.files[k] for k in indexes]\n",
    "\n",
    "        n = int(len(files)*10)\n",
    "        phis = np.empty( shape=(n,2) )\n",
    "        thetas = np.empty( shape=(n,2) )\n",
    "        y0s = np.empty( shape=(n) )\n",
    "        hs = np.empty( shape=(n) )\n",
    "        x = np.zeros( shape=(n,100,100,3) )\n",
    "        \n",
    "        st = 0\n",
    "        sp = 10\n",
    "        for file in files:\n",
    " \n",
    "            # load npz file\n",
    "            data = np.load(file)\n",
    "            x[st:sp,:,:,:] = data['x']\n",
    "            phis[st:sp,:] = data['phi']\n",
    "            thetas[st:sp,:] = data['theta']\n",
    "            y0s[st:sp] = data['y0']\n",
    "            hs[st:sp] = data['h']\n",
    "            \n",
    "            st = sp\n",
    "            sp += 10\n",
    "            \n",
    "        x = {\"bx-by\": x[:,:,:,0], \"bx-bz\": x[:,:,:,1], \"bz-by\": x[:,:,:,2]}\n",
    "        y = {\"phi\": phis, \"theta\": thetas, \"y0\": y0s, \"handedness\": hs}\n",
    "\n",
    "        return x, y\n",
    "\n",
    "    def on_epoch_end(self):\n",
    "        \n",
    "        'Updates indexes after each epoch'\n",
    "        self.indexes = np.arange(len(self.files))\n",
    "        if self.shuffle == True:\n",
    "            np.random.shuffle(self.indexes)"
   ]
  },
  {
   "cell_type": "markdown",
   "metadata": {},
   "source": [
    "### Train the model"
   ]
  },
  {
   "cell_type": "code",
   "execution_count": 6,
   "metadata": {},
   "outputs": [],
   "source": [
    "# This is required for my GPU: GeForce RTX 2060\n",
    "# Without this config, tensorflow cannot properly allocate GPU memory\n",
    "config = tf.compat.v1.ConfigProto()\n",
    "config.gpu_options.allow_growth = True\n",
    "config.gpu_options.per_process_gpu_memory_fraction = 0.90\n",
    "session = tf.compat.v1.Session(config=config)"
   ]
  },
  {
   "cell_type": "code",
   "execution_count": 7,
   "metadata": {},
   "outputs": [],
   "source": [
    "# define model\n",
    "\n",
    "input_shape = (100,100,1)\n",
    "\n",
    "def get_model():\n",
    "    \n",
    "    inp1 = Input(input_shape, name=\"bx-by\")\n",
    "    x1 = Conv2D(filters=32, kernel_size=3, activation='relu', padding=\"same\")(inp1)\n",
    "    x1 = Conv2D(filters=64, kernel_size=3, activation='relu', padding=\"same\")(x1)\n",
    "    x1 = Dropout(0.5, name=\"dropout-inp1\")(x1, training=False)\n",
    "    x1 = MaxPooling2D(pool_size=2)(x1)\n",
    "    out1 = Flatten(name=\"flatten-inp1\")(x1)\n",
    "    \n",
    "    inp2 = Input(input_shape, name=\"bx-bz\")\n",
    "    x2 = Conv2D(filters=32, kernel_size=3, activation='relu', padding=\"same\")(inp2)\n",
    "    x2 = Conv2D(filters=64, kernel_size=3, activation='relu', padding=\"same\")(x2)\n",
    "    x2 = Dropout(0.5, name=\"dropout-inp2\")(x2, training=False)\n",
    "    x2 = MaxPooling2D(pool_size=2)(x2)\n",
    "    out2 = Flatten(name=\"flatten-inp2\")(x2)\n",
    "    \n",
    "    inp3 = Input(input_shape, name=\"bz-by\")\n",
    "    x3 = Conv2D(filters=32, kernel_size=3, activation='relu', padding=\"same\")(inp3)\n",
    "    x3 = Conv2D(filters=64, kernel_size=3, activation='relu', padding=\"same\")(x3)\n",
    "    x3 = Dropout(0.5, name=\"dropout-inp3\")(x3, training=False)\n",
    "    x3 = MaxPooling2D(pool_size=2)(x3)\n",
    "    out3 = Flatten(name=\"flatten-inp3\")(x3)\n",
    "    \n",
    "    concatenated = concatenate([out1,out2,out3])\n",
    "    \n",
    "    out1 = Dense(2, name=\"phi\", activation=\"tanh\")(concatenated)\n",
    "    out2 = Dense(2, name=\"theta\", activation=\"tanh\")(concatenated)\n",
    "    out3 = Dense(1, name=\"y0\", activation=\"tanh\")(concatenated)\n",
    "    out4 = Dense(1, name=\"handedness\", activation='sigmoid')(concatenated)\n",
    "    \n",
    "    losses = {'phi': 'mean_squared_error',\n",
    "              'theta': 'mean_squared_error', \n",
    "              'y0': 'mean_squared_error',\n",
    "              'handedness': 'binary_crossentropy'}\n",
    "    \n",
    "    lossWeights = {\"phi\": 1.0, \"theta\": 1.0, \"y0\": 1.0, \"handedness\": 1.0}\n",
    "    \n",
    "    model = Model(inputs=[inp1,inp2,inp3], outputs=[out1,out2,out3,out4])\n",
    "\n",
    "    model.compile(loss=losses, loss_weights=lossWeights, optimizer='adam')\n",
    "        \n",
    "    return model"
   ]
  },
  {
   "cell_type": "code",
   "execution_count": 8,
   "metadata": {},
   "outputs": [
    {
     "name": "stdout",
     "output_type": "stream",
     "text": [
      "Model: \"functional_1\"\n",
      "__________________________________________________________________________________________________\n",
      "Layer (type)                    Output Shape         Param #     Connected to                     \n",
      "==================================================================================================\n",
      "bx-by (InputLayer)              [(None, 100, 100, 1) 0                                            \n",
      "__________________________________________________________________________________________________\n",
      "bx-bz (InputLayer)              [(None, 100, 100, 1) 0                                            \n",
      "__________________________________________________________________________________________________\n",
      "bz-by (InputLayer)              [(None, 100, 100, 1) 0                                            \n",
      "__________________________________________________________________________________________________\n",
      "conv2d (Conv2D)                 (None, 100, 100, 32) 320         bx-by[0][0]                      \n",
      "__________________________________________________________________________________________________\n",
      "conv2d_2 (Conv2D)               (None, 100, 100, 32) 320         bx-bz[0][0]                      \n",
      "__________________________________________________________________________________________________\n",
      "conv2d_4 (Conv2D)               (None, 100, 100, 32) 320         bz-by[0][0]                      \n",
      "__________________________________________________________________________________________________\n",
      "conv2d_1 (Conv2D)               (None, 100, 100, 64) 18496       conv2d[0][0]                     \n",
      "__________________________________________________________________________________________________\n",
      "conv2d_3 (Conv2D)               (None, 100, 100, 64) 18496       conv2d_2[0][0]                   \n",
      "__________________________________________________________________________________________________\n",
      "conv2d_5 (Conv2D)               (None, 100, 100, 64) 18496       conv2d_4[0][0]                   \n",
      "__________________________________________________________________________________________________\n",
      "dropout-inp1 (Dropout)          (None, 100, 100, 64) 0           conv2d_1[0][0]                   \n",
      "__________________________________________________________________________________________________\n",
      "dropout-inp2 (Dropout)          (None, 100, 100, 64) 0           conv2d_3[0][0]                   \n",
      "__________________________________________________________________________________________________\n",
      "dropout-inp3 (Dropout)          (None, 100, 100, 64) 0           conv2d_5[0][0]                   \n",
      "__________________________________________________________________________________________________\n",
      "max_pooling2d (MaxPooling2D)    (None, 50, 50, 64)   0           dropout-inp1[0][0]               \n",
      "__________________________________________________________________________________________________\n",
      "max_pooling2d_1 (MaxPooling2D)  (None, 50, 50, 64)   0           dropout-inp2[0][0]               \n",
      "__________________________________________________________________________________________________\n",
      "max_pooling2d_2 (MaxPooling2D)  (None, 50, 50, 64)   0           dropout-inp3[0][0]               \n",
      "__________________________________________________________________________________________________\n",
      "flatten-inp1 (Flatten)          (None, 160000)       0           max_pooling2d[0][0]              \n",
      "__________________________________________________________________________________________________\n",
      "flatten-inp2 (Flatten)          (None, 160000)       0           max_pooling2d_1[0][0]            \n",
      "__________________________________________________________________________________________________\n",
      "flatten-inp3 (Flatten)          (None, 160000)       0           max_pooling2d_2[0][0]            \n",
      "__________________________________________________________________________________________________\n",
      "concatenate (Concatenate)       (None, 480000)       0           flatten-inp1[0][0]               \n",
      "                                                                 flatten-inp2[0][0]               \n",
      "                                                                 flatten-inp3[0][0]               \n",
      "__________________________________________________________________________________________________\n",
      "phi (Dense)                     (None, 2)            960002      concatenate[0][0]                \n",
      "__________________________________________________________________________________________________\n",
      "theta (Dense)                   (None, 2)            960002      concatenate[0][0]                \n",
      "__________________________________________________________________________________________________\n",
      "y0 (Dense)                      (None, 1)            480001      concatenate[0][0]                \n",
      "__________________________________________________________________________________________________\n",
      "handedness (Dense)              (None, 1)            480001      concatenate[0][0]                \n",
      "==================================================================================================\n",
      "Total params: 2,936,454\n",
      "Trainable params: 2,936,454\n",
      "Non-trainable params: 0\n",
      "__________________________________________________________________________________________________\n"
     ]
    }
   ],
   "source": [
    "# clear out any old models hanging around\n",
    "keras.backend.clear_session()\n",
    "\n",
    "# define model\n",
    "model = get_model()\n",
    "\n",
    "model.summary()"
   ]
  },
  {
   "cell_type": "code",
   "execution_count": 9,
   "metadata": {
    "scrolled": true
   },
   "outputs": [
    {
     "name": "stdout",
     "output_type": "stream",
     "text": [
      "Epoch 1/25\n",
      "    2/18879 [..............................] - ETA: 8:56 - loss: 1.9142 - phi_loss: 0.6120 - theta_loss: 0.4110 - y0_loss: 0.1927 - handedness_loss: 0.6985WARNING:tensorflow:Callbacks method `on_train_batch_end` is slow compared to the batch time (batch time: 0.0189s vs `on_train_batch_end` time: 0.0362s). Check your callbacks.\n",
      "18879/18879 [==============================] - 1018s 54ms/step - loss: 0.1998 - phi_loss: 0.0953 - theta_loss: 0.0307 - y0_loss: 0.0280 - handedness_loss: 0.0458 - val_loss: 0.0977 - val_phi_loss: 0.0519 - val_theta_loss: 0.0189 - val_y0_loss: 0.0185 - val_handedness_loss: 0.0084\n",
      "Epoch 2/25\n",
      "18879/18879 [==============================] - 1017s 54ms/step - loss: 0.0748 - phi_loss: 0.0391 - theta_loss: 0.0152 - y0_loss: 0.0152 - handedness_loss: 0.0053 - val_loss: 0.0680 - val_phi_loss: 0.0350 - val_theta_loss: 0.0137 - val_y0_loss: 0.0144 - val_handedness_loss: 0.0049\n",
      "Epoch 3/25\n",
      "18879/18879 [==============================] - 1014s 54ms/step - loss: 0.0568 - phi_loss: 0.0289 - theta_loss: 0.0121 - y0_loss: 0.0123 - handedness_loss: 0.0034 - val_loss: 0.0597 - val_phi_loss: 0.0298 - val_theta_loss: 0.0133 - val_y0_loss: 0.0131 - val_handedness_loss: 0.0035\n",
      "Epoch 4/25\n",
      "18879/18879 [==============================] - 1014s 54ms/step - loss: 0.0484 - phi_loss: 0.0243 - theta_loss: 0.0105 - y0_loss: 0.0111 - handedness_loss: 0.0025 - val_loss: 0.0548 - val_phi_loss: 0.0273 - val_theta_loss: 0.0120 - val_y0_loss: 0.0126 - val_handedness_loss: 0.0029\n",
      "Epoch 5/25\n",
      "18879/18879 [==============================] - 1013s 54ms/step - loss: 0.0436 - phi_loss: 0.0218 - theta_loss: 0.0095 - y0_loss: 0.0103 - handedness_loss: 0.0020 - val_loss: 0.0518 - val_phi_loss: 0.0254 - val_theta_loss: 0.0115 - val_y0_loss: 0.0122 - val_handedness_loss: 0.0027\n",
      "Epoch 6/25\n",
      "18879/18879 [==============================] - 1017s 54ms/step - loss: 0.0402 - phi_loss: 0.0199 - theta_loss: 0.0089 - y0_loss: 0.0098 - handedness_loss: 0.0016 - val_loss: 0.0505 - val_phi_loss: 0.0248 - val_theta_loss: 0.0111 - val_y0_loss: 0.0122 - val_handedness_loss: 0.0024\n",
      "Epoch 7/25\n",
      "18879/18879 [==============================] - 1017s 54ms/step - loss: 0.0377 - phi_loss: 0.0186 - theta_loss: 0.0083 - y0_loss: 0.0094 - handedness_loss: 0.0014 - val_loss: 0.0496 - val_phi_loss: 0.0244 - val_theta_loss: 0.0108 - val_y0_loss: 0.0121 - val_handedness_loss: 0.0024\n",
      "Epoch 8/25\n",
      "18879/18879 [==============================] - 1017s 54ms/step - loss: 0.0359 - phi_loss: 0.0176 - theta_loss: 0.0080 - y0_loss: 0.0091 - handedness_loss: 0.0012 - val_loss: 0.0518 - val_phi_loss: 0.0255 - val_theta_loss: 0.0112 - val_y0_loss: 0.0128 - val_handedness_loss: 0.0023\n",
      "Epoch 9/25\n",
      "18879/18879 [==============================] - 1016s 54ms/step - loss: 0.0345 - phi_loss: 0.0169 - theta_loss: 0.0076 - y0_loss: 0.0089 - handedness_loss: 0.0011 - val_loss: 0.0477 - val_phi_loss: 0.0230 - val_theta_loss: 0.0104 - val_y0_loss: 0.0122 - val_handedness_loss: 0.0020\n",
      "Epoch 10/25\n",
      "18879/18879 [==============================] - 1016s 54ms/step - loss: 0.0334 - phi_loss: 0.0163 - theta_loss: 0.0074 - y0_loss: 0.0087 - handedness_loss: 0.0010 - val_loss: 0.0483 - val_phi_loss: 0.0234 - val_theta_loss: 0.0105 - val_y0_loss: 0.0124 - val_handedness_loss: 0.0019\n",
      "Epoch 11/25\n",
      "18879/18879 [==============================] - 1016s 54ms/step - loss: 0.0322 - phi_loss: 0.0156 - theta_loss: 0.0071 - y0_loss: 0.0085 - handedness_loss: 9.3470e-04 - val_loss: 0.0465 - val_phi_loss: 0.0223 - val_theta_loss: 0.0100 - val_y0_loss: 0.0122 - val_handedness_loss: 0.0019\n",
      "Epoch 12/25\n",
      "18879/18879 [==============================] - 1014s 54ms/step - loss: 0.0315 - phi_loss: 0.0153 - theta_loss: 0.0070 - y0_loss: 0.0084 - handedness_loss: 8.6158e-04 - val_loss: 0.0463 - val_phi_loss: 0.0227 - val_theta_loss: 0.0099 - val_y0_loss: 0.0120 - val_handedness_loss: 0.0017\n",
      "Epoch 13/25\n",
      "18879/18879 [==============================] - 1022s 54ms/step - loss: 0.0307 - phi_loss: 0.0148 - theta_loss: 0.0068 - y0_loss: 0.0083 - handedness_loss: 7.8921e-04 - val_loss: 0.0467 - val_phi_loss: 0.0223 - val_theta_loss: 0.0103 - val_y0_loss: 0.0124 - val_handedness_loss: 0.0017\n",
      "Epoch 14/25\n",
      "18879/18879 [==============================] - 1020s 54ms/step - loss: 0.0300 - phi_loss: 0.0145 - theta_loss: 0.0066 - y0_loss: 0.0082 - handedness_loss: 7.2866e-04 - val_loss: 0.0470 - val_phi_loss: 0.0226 - val_theta_loss: 0.0103 - val_y0_loss: 0.0123 - val_handedness_loss: 0.0018\n",
      "Epoch 15/25\n",
      "18879/18879 [==============================] - 1022s 54ms/step - loss: 0.0295 - phi_loss: 0.0142 - theta_loss: 0.0065 - y0_loss: 0.0081 - handedness_loss: 6.9770e-04 - val_loss: 0.0455 - val_phi_loss: 0.0218 - val_theta_loss: 0.0099 - val_y0_loss: 0.0122 - val_handedness_loss: 0.0017\n",
      "Epoch 16/25\n",
      "18879/18879 [==============================] - 1022s 54ms/step - loss: 0.0289 - phi_loss: 0.0138 - theta_loss: 0.0064 - y0_loss: 0.0080 - handedness_loss: 6.7738e-04 - val_loss: 0.0469 - val_phi_loss: 0.0222 - val_theta_loss: 0.0103 - val_y0_loss: 0.0126 - val_handedness_loss: 0.0019\n",
      "Epoch 17/25\n",
      "18879/18879 [==============================] - 1020s 54ms/step - loss: 0.0285 - phi_loss: 0.0136 - theta_loss: 0.0063 - y0_loss: 0.0080 - handedness_loss: 6.4282e-04 - val_loss: 0.0462 - val_phi_loss: 0.0221 - val_theta_loss: 0.0101 - val_y0_loss: 0.0124 - val_handedness_loss: 0.0016\n",
      "Epoch 18/25\n",
      "18879/18879 [==============================] - 1021s 54ms/step - loss: 0.0280 - phi_loss: 0.0134 - theta_loss: 0.0062 - y0_loss: 0.0079 - handedness_loss: 6.0943e-04 - val_loss: 0.0487 - val_phi_loss: 0.0236 - val_theta_loss: 0.0104 - val_y0_loss: 0.0131 - val_handedness_loss: 0.0015\n",
      "Epoch 19/25\n",
      "18879/18879 [==============================] - 1022s 54ms/step - loss: 0.0277 - phi_loss: 0.0132 - theta_loss: 0.0061 - y0_loss: 0.0078 - handedness_loss: 5.5549e-04 - val_loss: 0.0457 - val_phi_loss: 0.0217 - val_theta_loss: 0.0100 - val_y0_loss: 0.0124 - val_handedness_loss: 0.0016\n",
      "Epoch 20/25\n",
      "18879/18879 [==============================] - 1021s 54ms/step - loss: 0.0273 - phi_loss: 0.0130 - theta_loss: 0.0060 - y0_loss: 0.0077 - handedness_loss: 5.4274e-04 - val_loss: 0.0459 - val_phi_loss: 0.0220 - val_theta_loss: 0.0101 - val_y0_loss: 0.0122 - val_handedness_loss: 0.0016\n",
      "Epoch 21/25\n",
      "18879/18879 [==============================] - 1021s 54ms/step - loss: 0.0269 - phi_loss: 0.0128 - theta_loss: 0.0059 - y0_loss: 0.0077 - handedness_loss: 5.2987e-04 - val_loss: 0.0469 - val_phi_loss: 0.0214 - val_theta_loss: 0.0104 - val_y0_loss: 0.0134 - val_handedness_loss: 0.0016\n",
      "Epoch 22/25\n",
      "18879/18879 [==============================] - 1020s 54ms/step - loss: 0.0265 - phi_loss: 0.0126 - theta_loss: 0.0058 - y0_loss: 0.0076 - handedness_loss: 5.0410e-04 - val_loss: 0.0455 - val_phi_loss: 0.0213 - val_theta_loss: 0.0103 - val_y0_loss: 0.0121 - val_handedness_loss: 0.0018\n",
      "Epoch 23/25\n",
      "18879/18879 [==============================] - 1023s 54ms/step - loss: 0.0264 - phi_loss: 0.0125 - theta_loss: 0.0058 - y0_loss: 0.0076 - handedness_loss: 4.9899e-04 - val_loss: 0.0455 - val_phi_loss: 0.0218 - val_theta_loss: 0.0099 - val_y0_loss: 0.0123 - val_handedness_loss: 0.0016\n",
      "Epoch 24/25\n",
      "18879/18879 [==============================] - 1021s 54ms/step - loss: 0.0261 - phi_loss: 0.0124 - theta_loss: 0.0057 - y0_loss: 0.0075 - handedness_loss: 4.6486e-04 - val_loss: 0.0469 - val_phi_loss: 0.0224 - val_theta_loss: 0.0102 - val_y0_loss: 0.0127 - val_handedness_loss: 0.0016\n",
      "Epoch 25/25\n",
      "18879/18879 [==============================] - 1019s 54ms/step - loss: 0.0260 - phi_loss: 0.0123 - theta_loss: 0.0057 - y0_loss: 0.0075 - handedness_loss: 4.7138e-04 - val_loss: 0.0459 - val_phi_loss: 0.0217 - val_theta_loss: 0.0099 - val_y0_loss: 0.0123 - val_handedness_loss: 0.0019\n",
      "Fit took 424.54 minutes\n",
      "Fit took 7.08 hours\n"
     ]
    }
   ],
   "source": [
    "start = time.time()\n",
    "\n",
    "epochs = 25\n",
    "trainGen = NpzDataGenerator(train, batch_size=3)\n",
    "valGen = NpzDataGenerator(validation, batch_size=3)\n",
    "\n",
    "model.fit(trainGen, epochs=epochs, shuffle=True, verbose=1, validation_data=(valGen), \\\n",
    "         max_queue_size = 16, workers = 8, use_multiprocessing = False)\n",
    "\n",
    "stop = time.time()\n",
    "duration = stop-start\n",
    "print(\"Fit took\", round(duration/60,2), \"minutes\")\n",
    "print(\"Fit took\", round(duration/60/60,2), \"hours\")"
   ]
  },
  {
   "cell_type": "markdown",
   "metadata": {},
   "source": [
    "### Visualize the loss"
   ]
  },
  {
   "cell_type": "code",
   "execution_count": 10,
   "metadata": {},
   "outputs": [
    {
     "data": {
      "text/plain": [
       "Text(0.5, 1.0, 'Loss')"
      ]
     },
     "execution_count": 10,
     "metadata": {},
     "output_type": "execute_result"
    },
    {
     "data": {
      "image/png": "[encoded data removed]",
      "text/plain": [
       "<Figure size 432x288 with 1 Axes>"
      ]
     },
     "metadata": {
      "needs_background": "light"
     },
     "output_type": "display_data"
    }
   ],
   "source": [
    "plt.plot(model.history.history['loss'], label=\"Loss\", color='blue')\n",
    "plt.plot(model.history.history['val_loss'], label=\"Validation\", color='red')\n",
    "plt.legend()\n",
    "plt.xlim(0,25)\n",
    "#plt.ylim(0,10)\n",
    "plt.yscale(\"log\")\n",
    "plt.title('Loss')"
   ]
  },
  {
   "cell_type": "markdown",
   "metadata": {},
   "source": [
    "### Evaluate on the test data"
   ]
  },
  {
   "cell_type": "code",
   "execution_count": 11,
   "metadata": {},
   "outputs": [
    {
     "name": "stdout",
     "output_type": "stream",
     "text": [
      "6293/6293 [==============================] - 243s 39ms/step - loss: 0.0461 - phi_loss: 0.0218 - theta_loss: 0.0098 - y0_loss: 0.0121 - handedness_loss: 0.0024\n"
     ]
    }
   ],
   "source": [
    "testGen = NpzDataGenerator(test, batch_size=3)\n",
    "errors = model.evaluate(testGen, verbose=1)"
   ]
  },
  {
   "cell_type": "markdown",
   "metadata": {},
   "source": [
    "### Write model to a file"
   ]
  },
  {
   "cell_type": "code",
   "execution_count": 12,
   "metadata": {},
   "outputs": [],
   "source": [
    "model.save_weights(\"/media/narock/One Touch/data/fluxropes/models/cnn_model_three_input_regression.h5\")"
   ]
  },
  {
   "cell_type": "markdown",
   "metadata": {},
   "source": [
    "### Write test file names to an output file"
   ]
  },
  {
   "cell_type": "code",
   "execution_count": 13,
   "metadata": {},
   "outputs": [],
   "source": [
    "outFile = '/media/narock/One Touch/data/fluxropes/models/testing_files_three_input.txt'\n",
    "f = open(outFile, \"w\")\n",
    "for t in test:\n",
    "    line = t.strip() + '\\n'\n",
    "    f.write(line)\n",
    "f.close()"
   ]
  },
  {
   "cell_type": "code",
   "execution_count": null,
   "metadata": {},
   "outputs": [],
   "source": []
  }
 ],
 "metadata": {
  "kernelspec": {
   "display_name": "Python 3",
   "language": "python",
   "name": "python3"
  },
  "language_info": {
   "codemirror_mode": {
    "name": "ipython",
    "version": 3
   },
   "file_extension": ".py",
   "mimetype": "text/x-python",
   "name": "python",
   "nbconvert_exporter": "python",
   "pygments_lexer": "ipython3",
   "version": "3.8.5"
  }
 },
 "nbformat": 4,
 "nbformat_minor": 4
}
