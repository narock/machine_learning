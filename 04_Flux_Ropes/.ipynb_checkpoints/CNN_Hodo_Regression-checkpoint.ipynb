{
 "cells": [
  {
   "cell_type": "code",
   "execution_count": 1,
   "metadata": {},
   "outputs": [],
   "source": [
    "import os\n",
    "import time\n",
    "import glob\n",
    "import random\n",
    "\n",
    "import numpy as np\n",
    "import matplotlib.pyplot as plt\n",
    "\n",
    "import tensorflow as tf\n",
    "\n",
    "from sklearn.preprocessing import LabelEncoder\n",
    "\n",
    "import keras\n",
    "from keras.utils import Sequence\n",
    "from keras.models import Sequential, Input, Model\n",
    "from keras.layers import Dense\n",
    "from keras.layers import Dropout, Flatten \n",
    "from keras.layers import Conv2D, MaxPooling2D"
   ]
  },
  {
   "cell_type": "markdown",
   "metadata": {},
   "source": [
    "### Configuration variables and path setup"
   ]
  },
  {
   "cell_type": "code",
   "execution_count": 2,
   "metadata": {},
   "outputs": [],
   "source": [
    "csvPath = \"/data/fluxrope_ml/csv_teressa/\"\n",
    "imgPath = \"/data/fluxrope_ml/hodos/\"\n",
    "\n",
    "input_shape = (50,50,3)\n",
    "flattenDim = input_shape[0]*input_shape[1]*input_shape[2]"
   ]
  },
  {
   "cell_type": "markdown",
   "metadata": {},
   "source": [
    "### Split the data into training, testing, and validation"
   ]
  },
  {
   "cell_type": "markdown",
   "metadata": {},
   "source": [
    "### Dataset: phi [5, 355], theta [-85, 85], y0 [0 and 95]"
   ]
  },
  {
   "cell_type": "code",
   "execution_count": 4,
   "metadata": {},
   "outputs": [
    {
     "name": "stdout",
     "output_type": "stream",
     "text": [
      "Dataset size: 283176\n"
     ]
    }
   ],
   "source": [
    "allFiles = glob.glob( imgPath + \"fluxrope_*_*_*_*_*_noise*.npz\" )\n",
    "random.shuffle(allFiles)\n",
    "print(\"Dataset size:\", len(allFiles))"
   ]
  },
  {
   "cell_type": "code",
   "execution_count": 5,
   "metadata": {},
   "outputs": [
    {
     "name": "stdout",
     "output_type": "stream",
     "text": [
      "Training files: 169905\n",
      "Test files: 56635\n",
      "Validation files: 56636\n",
      "\n",
      "Total number of files: 283176\n"
     ]
    }
   ],
   "source": [
    "# Distribution is 60% Training, 20% Validation, and 20% Testing\n",
    "cutOff = int(len(allFiles) * 0.6)\n",
    "train = allFiles[:cutOff]\n",
    "rest = allFiles[cutOff:]\n",
    "\n",
    "# there's 40% left over, split it in half for testing and validation\n",
    "test = rest[ : int(len(rest) * 0.5)]\n",
    "validation = rest[ int(len(rest) * 0.5) : ]\n",
    "\n",
    "print(\"Training files:\", len(train))\n",
    "print(\"Test files:\", len(test))\n",
    "print(\"Validation files:\", len(validation))\n",
    "print()\n",
    "print(\"Total number of files:\", len(allFiles))\n",
    "\n",
    "# check to make sure we split everything correctly\n",
    "total = len(test) + len(train) + len(validation)\n",
    "assert total == len(allFiles)"
   ]
  },
  {
   "cell_type": "markdown",
   "metadata": {},
   "source": [
    "### Sanity check - Load and visualize one of the hodograms"
   ]
  },
  {
   "cell_type": "code",
   "execution_count": 6,
   "metadata": {},
   "outputs": [
    {
     "name": "stdout",
     "output_type": "stream",
     "text": [
      "(10, 50, 50, 3)\n"
     ]
    },
    {
     "data": {
      "text/plain": [
       "<matplotlib.image.AxesImage at 0x7fd3916227c0>"
      ]
     },
     "execution_count": 6,
     "metadata": {},
     "output_type": "execute_result"
    },
    {
     "data": {
      "image/png": "[encoded data removed]",
      "text/plain": [
       "<Figure size 432x288 with 1 Axes>"
      ]
     },
     "metadata": {
      "needs_background": "light"
     },
     "output_type": "display_data"
    }
   ],
   "source": [
    "npzfile = np.load( train[0] )\n",
    "hodo = npzfile['hodo']\n",
    "print(hodo.shape)\n",
    "\n",
    "plt.imshow(hodo[0,:,:])"
   ]
  },
  {
   "cell_type": "code",
   "execution_count": 7,
   "metadata": {},
   "outputs": [
    {
     "data": {
      "text/plain": [
       "<matplotlib.image.AxesImage at 0x7fd396fca250>"
      ]
     },
     "execution_count": 7,
     "metadata": {},
     "output_type": "execute_result"
    },
    {
     "data": {
      "image/png": "[encoded data removed]",
      "text/plain": [
       "<Figure size 432x288 with 1 Axes>"
      ]
     },
     "metadata": {
      "needs_background": "light"
     },
     "output_type": "display_data"
    }
   ],
   "source": [
    "plt.imshow(hodo[5,:,:])"
   ]
  },
  {
   "cell_type": "markdown",
   "metadata": {},
   "source": [
    "### Data reading test"
   ]
  },
  {
   "cell_type": "code",
   "execution_count": 8,
   "metadata": {},
   "outputs": [
    {
     "name": "stdout",
     "output_type": "stream",
     "text": [
      "X (9, 50, 50, 3)\n",
      "Y (4,)\n",
      "\n",
      "fluxrope_10_190_40_50_1_noise_0.npz\n",
      "Phi: 190.0\n",
      "Theta: 40.0\n",
      "Y0: 50.0\n",
      "H: 1.0\n"
     ]
    }
   ],
   "source": [
    "# Generate data\n",
    "f = train[1]\n",
    "npzfile = np.load(f)\n",
    "hodo = npzfile['hodo']\n",
    "          \n",
    "y = np.zeros( shape=(4) )\n",
    "x = hodo[0:9, :, :, :]\n",
    "\n",
    "parts = f.split(\"/\")\n",
    "fname = parts[-1]\n",
    "parts = fname.split(\"_\")\n",
    "\n",
    "# B0, phi, theta, y0, H\n",
    "y[0] = parts[2] # phi\n",
    "y[1] = parts[3] # theta\n",
    "y[2] = parts[4] # y0\n",
    "y[3] = parts[5] # handedness\n",
    "        \n",
    "print(\"X\", x.shape)\n",
    "print(\"Y\", y.shape)\n",
    "print()\n",
    "print(fname)\n",
    "print(\"Phi:\", y[0])\n",
    "print(\"Theta:\", y[1])\n",
    "print(\"Y0:\", y[2])\n",
    "print(\"H:\", y[3])"
   ]
  },
  {
   "cell_type": "markdown",
   "metadata": {},
   "source": [
    "### Data reader"
   ]
  },
  {
   "cell_type": "code",
   "execution_count": 9,
   "metadata": {},
   "outputs": [],
   "source": [
    "class NpzDataGenerator(Sequence):\n",
    "    \n",
    "    def __init__(self, files, batch_size=1, shuffle=False):\n",
    "        \n",
    "        self.batch_size = batch_size\n",
    "        self.files = files\n",
    "        #self.dir = d\n",
    "        self.shuffle = shuffle\n",
    "        self.on_epoch_end()\n",
    "\n",
    "    def __len__(self):\n",
    "        \n",
    "        'Denotes the number of batches per epoch'\n",
    "\n",
    "        'If the batch size doesnt divide evenly then add 1'\n",
    "        diff = (len(self.files) / self.batch_size) - np.floor((len(self.files) / self.batch_size))\n",
    "        if ( diff > 0 ):\n",
    "            return int(np.floor(len(self.files) / self.batch_size))+1\n",
    "        else:\n",
    "            return int(np.floor(len(self.files) / self.batch_size))\n",
    "\n",
    "    def __getitem__(self, index):\n",
    "        \n",
    "        'Generate one batch of data'\n",
    "        # Generate indexes of the batch\n",
    "        indexes = self.indexes[index*self.batch_size:(index+1)*self.batch_size]\n",
    "\n",
    "        # get list of files\n",
    "        files = [self.files[k] for k in indexes]\n",
    "        #file = self.files[indexes[0]]\n",
    "       \n",
    "        count = 0\n",
    "        #y0Bins = np.arange(0, 95, 5)\n",
    "        #phiBins = np.arange(0, 360, 5)\n",
    "        #thetaBins = np.arange(-90, 95, 5)\n",
    "        for file in files:\n",
    " \n",
    "            # Generate data\n",
    "            npzfile = np.load(file)\n",
    "            hodo = npzfile['hodo']\n",
    "        \n",
    "            x = hodo[0:10, :, :, :]\n",
    "\n",
    "            parts = file.split(\"/\")\n",
    "            fname = parts[-1]\n",
    "            parts = fname.split(\"_\")\n",
    "\n",
    "            # B0, phi, theta, y0, H\n",
    "            #phi = float(parts[2]) \n",
    "            #theta = float(parts[3]) \n",
    "            phi = np.radians( float(parts[2]) )\n",
    "            theta = np.radians( float(parts[3]) )\n",
    "            y0 = float(parts[4])/100. # y0\n",
    "            h = int(parts[5]) # handedness\n",
    "        \n",
    "            #p = np.zeros( shape=(10) )\n",
    "            #p[:] = phi\n",
    "            p = np.zeros( shape=(10,2) )\n",
    "            p[:,0] = np.sin( phi )\n",
    "            p[:,1] = np.cos( phi )\n",
    "            #ix = np.where( phiBins == float(parts[2]) )\n",
    "            #phi = np.zeros( shape=(10,72) ) \n",
    "            #phi[:,ix[0]] = 1\n",
    "            \n",
    "            #t = np.zeros( shape=(10) )\n",
    "            #t[:] = theta\n",
    "            t = np.zeros( shape=(10,2) )\n",
    "            t[:,0] = np.sin( theta )\n",
    "            t[:,1] = np.cos( theta )\n",
    "            #ix = np.where( thetaBins == float(parts[3]) )\n",
    "            #theta = np.zeros( shape=(10,37) ) \n",
    "            #theta[:,ix[0]] = 1\n",
    "\n",
    "            #ix = np.where( y0Bins == float(parts[4]) )\n",
    "            y0s = np.zeros( shape=(10) )\n",
    "            #y0s[:,ix[0]] = 1\n",
    "            y0s[:] = y0\n",
    "            \n",
    "            ha = np.zeros( shape=(10) )\n",
    "            ha[:] = h\n",
    "            ha[ ha==-1 ] = 0\n",
    "        \n",
    "            batch_y = {\"phi\": p, \"theta\": t, \"y0\": y0s, \"handedness\": ha}\n",
    "            #batch_y = {\"phi\": phi, \"theta\": theta, \"y0\": y0s, \"handedness\": ha}\n",
    "            \n",
    "            if ( count == 0 ):\n",
    "                X = x\n",
    "                Y = batch_y\n",
    "            else:\n",
    "                X = np.concatenate( (X, x) )\n",
    "                tmp = Y[\"phi\"]\n",
    "                tmp = np.concatenate( (tmp,batch_y[\"phi\"]) ) \n",
    "                Y[\"phi\"] = tmp\n",
    "                tmp = Y[\"theta\"]\n",
    "                tmp = np.concatenate( (tmp,batch_y[\"theta\"]) )\n",
    "                Y[\"theta\"] = tmp\n",
    "                tmp = Y[\"y0\"]\n",
    "                tmp = np.concatenate( (tmp,batch_y[\"y0\"]) )\n",
    "                Y[\"y0\"] = tmp                \n",
    "                tmp = Y[\"handedness\"]\n",
    "                tmp = np.concatenate( (tmp,batch_y[\"handedness\"]) )\n",
    "                Y[\"handedness\"] = tmp\n",
    "                \n",
    "            count += 1\n",
    "         \n",
    "        return X, Y\n",
    "        #return x, batch_y\n",
    "\n",
    "    def on_epoch_end(self):\n",
    "        \n",
    "        'Updates indexes after each epoch'\n",
    "        self.indexes = np.arange(len(self.files))\n",
    "        if self.shuffle == True:\n",
    "            np.random.shuffle(self.indexes)"
   ]
  },
  {
   "cell_type": "markdown",
   "metadata": {},
   "source": [
    "### Train the model"
   ]
  },
  {
   "cell_type": "code",
   "execution_count": 10,
   "metadata": {},
   "outputs": [],
   "source": [
    "# This is required for my GPU: GeForce RTX 2060\n",
    "# Without this config, tensorflow cannot properly allocate GPU memory\n",
    "config = tf.compat.v1.ConfigProto()\n",
    "config.gpu_options.allow_growth = True\n",
    "config.gpu_options.per_process_gpu_memory_fraction = 0.90\n",
    "session = tf.compat.v1.Session(config=config)"
   ]
  },
  {
   "cell_type": "code",
   "execution_count": 150,
   "metadata": {},
   "outputs": [],
   "source": [
    "# Custom loss function for angles\n",
    "from keras import backend as K\n",
    "\n",
    "def phi_loss(y_true, y_pred):\n",
    "    \n",
    "    phiPred = K.eval(y_pred)\n",
    "    phiTrue = K.eval(y_true)\n",
    "    \n",
    "    #sin = sinCosPred[:,0]\n",
    "    #cos = sinCosPred[:,1]\n",
    "    #phiPred = np.degrees( np.arctan2(sin,cos) )\n",
    "    \n",
    "    #sin = sinCosTrue[:,0]\n",
    "    #cos = sinCosTrue[:,1]\n",
    "    #phiTrue = np.degrees( np.arctan2(sin,cos) )\n",
    "    \n",
    "    n = phiTrue.shape[0]\n",
    "    diffs = np.zeros( shape=(100) )\n",
    "    for i in range(n):\n",
    "        if ( phiTrue[i] > phiPred[i] ):\n",
    "            mx = phiTrue[i]\n",
    "            mn = phiPred[i]\n",
    "        else:\n",
    "            mx = phiPred[i]\n",
    "            mn = phiTrue[i]\n",
    "    \n",
    "        d1 = mx - mn\n",
    "        d2 = 360 - mx + mn\n",
    "    \n",
    "        diffs[i] = np.min([d1,d2])\n",
    "    \n",
    "    #ix = np.where( diffs == 0. )\n",
    "    #if ( len(ix[0]) > 1 ):\n",
    "    #    diffs[ix[0]] = 0.1\n",
    "    \n",
    "    loss = K.square(diffs)\n",
    "    loss = K.sum(loss)\n",
    "    print(\"LOSS:\", loss)\n",
    "    \n",
    "    return loss   "
   ]
  },
  {
   "cell_type": "code",
   "execution_count": 11,
   "metadata": {},
   "outputs": [],
   "source": [
    "# define model\n",
    "\n",
    "def get_model():\n",
    "    \n",
    "    inp = Input(input_shape, name=\"input\")\n",
    "    x = Conv2D(filters=32, kernel_size=3, activation='relu', padding=\"same\")(inp)\n",
    "    x = Conv2D(filters=64, kernel_size=3, activation='relu', padding=\"same\")(x)\n",
    "    x = Dropout(0.5, name=\"dropout\")(x, training=False)\n",
    "    x = MaxPooling2D(pool_size=2)(x)\n",
    "    x = Flatten(name=\"flatten\")(x)\n",
    "    out1 = Dense(2, name=\"phi\", activation=\"tanh\")(x)\n",
    "    #out1 = Dense(72, name=\"phi\", activation=\"softmax\")(x)\n",
    "    out2 = Dense(2, name=\"theta\", activation=\"tanh\")(x)\n",
    "    #out2 = Dense(37, name=\"theta\", activation=\"softmax\")(x)\n",
    "    out3 = Dense(1, name=\"y0\", activation=\"tanh\")(x)\n",
    "    #out3 = Dense(19, name=\"y0\", activation=\"softmax\")(x)\n",
    "    out4 = Dense(1, name=\"handedness\", activation='sigmoid')(x)\n",
    "    \n",
    "    losses = {'phi': 'mean_squared_error',\n",
    "              'theta': 'mean_squared_error', \n",
    "              'y0': 'mean_squared_error',\n",
    "              'handedness': 'binary_crossentropy'}\n",
    "    \n",
    "    lossWeights = {\"phi\": 1.0, \"theta\": 1.0, \"y0\": 1.0, \"handedness\": 1.0}\n",
    "    \n",
    "    model = Model(inputs=inp, outputs=[out1,out2,out3,out4])\n",
    "\n",
    "    model.compile(loss=losses, loss_weights=lossWeights, optimizer='adam', run_eagerly=True)\n",
    "        \n",
    "    return model"
   ]
  },
  {
   "cell_type": "code",
   "execution_count": 12,
   "metadata": {
    "scrolled": true
   },
   "outputs": [
    {
     "name": "stdout",
     "output_type": "stream",
     "text": [
      "Model: \"functional_1\"\n",
      "__________________________________________________________________________________________________\n",
      "Layer (type)                    Output Shape         Param #     Connected to                     \n",
      "==================================================================================================\n",
      "input (InputLayer)              [(None, 50, 50, 3)]  0                                            \n",
      "__________________________________________________________________________________________________\n",
      "conv2d (Conv2D)                 (None, 50, 50, 32)   896         input[0][0]                      \n",
      "__________________________________________________________________________________________________\n",
      "conv2d_1 (Conv2D)               (None, 50, 50, 64)   18496       conv2d[0][0]                     \n",
      "__________________________________________________________________________________________________\n",
      "dropout (Dropout)               (None, 50, 50, 64)   0           conv2d_1[0][0]                   \n",
      "__________________________________________________________________________________________________\n",
      "max_pooling2d (MaxPooling2D)    (None, 25, 25, 64)   0           dropout[0][0]                    \n",
      "__________________________________________________________________________________________________\n",
      "flatten (Flatten)               (None, 40000)        0           max_pooling2d[0][0]              \n",
      "__________________________________________________________________________________________________\n",
      "phi (Dense)                     (None, 2)            80002       flatten[0][0]                    \n",
      "__________________________________________________________________________________________________\n",
      "theta (Dense)                   (None, 2)            80002       flatten[0][0]                    \n",
      "__________________________________________________________________________________________________\n",
      "y0 (Dense)                      (None, 1)            40001       flatten[0][0]                    \n",
      "__________________________________________________________________________________________________\n",
      "handedness (Dense)              (None, 1)            40001       flatten[0][0]                    \n",
      "==================================================================================================\n",
      "Total params: 259,398\n",
      "Trainable params: 259,398\n",
      "Non-trainable params: 0\n",
      "__________________________________________________________________________________________________\n"
     ]
    }
   ],
   "source": [
    "# clear out any old models hanging around\n",
    "keras.backend.clear_session()\n",
    "\n",
    "trainGen = NpzDataGenerator(train, batch_size=20)\n",
    "valGen = NpzDataGenerator(validation, batch_size=20)\n",
    "    \n",
    "# define model\n",
    "model = get_model()\n",
    "\n",
    "model.summary()"
   ]
  },
  {
   "cell_type": "code",
   "execution_count": 13,
   "metadata": {},
   "outputs": [
    {
     "name": "stdout",
     "output_type": "stream",
     "text": [
      "Epoch 1/25\n",
      "8496/8496 [==============================] - 580s 68ms/step - loss: 0.2198 - phi_loss: 0.0986 - theta_loss: 0.0308 - y0_loss: 0.0222 - handedness_loss: 0.0682 - val_loss: 0.1115 - val_phi_loss: 0.0602 - val_theta_loss: 0.0179 - val_y0_loss: 0.0163 - val_handedness_loss: 0.0171\n",
      "Epoch 2/25\n",
      "8496/8496 [==============================] - 595s 70ms/step - loss: 0.0929 - phi_loss: 0.0525 - theta_loss: 0.0158 - y0_loss: 0.0144 - handedness_loss: 0.0101 - val_loss: 0.0821 - val_phi_loss: 0.0472 - val_theta_loss: 0.0140 - val_y0_loss: 0.0134 - val_handedness_loss: 0.0074\n",
      "Epoch 3/25\n",
      "8496/8496 [==============================] - 597s 70ms/step - loss: 0.0749 - phi_loss: 0.0439 - theta_loss: 0.0130 - y0_loss: 0.0124 - handedness_loss: 0.0056 - val_loss: 0.0749 - val_phi_loss: 0.0431 - val_theta_loss: 0.0131 - val_y0_loss: 0.0127 - val_handedness_loss: 0.0060\n",
      "Epoch 4/25\n",
      "8496/8496 [==============================] - 604s 71ms/step - loss: 0.0674 - phi_loss: 0.0400 - theta_loss: 0.0118 - y0_loss: 0.0115 - handedness_loss: 0.0042 - val_loss: 0.0670 - val_phi_loss: 0.0400 - val_theta_loss: 0.0113 - val_y0_loss: 0.0114 - val_handedness_loss: 0.0043\n",
      "Epoch 5/25\n",
      "8496/8496 [==============================] - 595s 70ms/step - loss: 0.0633 - phi_loss: 0.0378 - theta_loss: 0.0111 - y0_loss: 0.0110 - handedness_loss: 0.0034 - val_loss: 0.0657 - val_phi_loss: 0.0392 - val_theta_loss: 0.0113 - val_y0_loss: 0.0111 - val_handedness_loss: 0.0041\n",
      "Epoch 6/25\n",
      "8496/8496 [==============================] - 597s 70ms/step - loss: 0.0604 - phi_loss: 0.0363 - theta_loss: 0.0106 - y0_loss: 0.0106 - handedness_loss: 0.0029 - val_loss: 0.0619 - val_phi_loss: 0.0368 - val_theta_loss: 0.0107 - val_y0_loss: 0.0107 - val_handedness_loss: 0.0037\n",
      "Epoch 7/25\n",
      "8496/8496 [==============================] - 601s 71ms/step - loss: 0.0584 - phi_loss: 0.0352 - theta_loss: 0.0103 - y0_loss: 0.0103 - handedness_loss: 0.0026 - val_loss: 0.0623 - val_phi_loss: 0.0372 - val_theta_loss: 0.0109 - val_y0_loss: 0.0109 - val_handedness_loss: 0.0033\n",
      "Epoch 8/25\n",
      "8496/8496 [==============================] - 583s 69ms/step - loss: 0.0570 - phi_loss: 0.0345 - theta_loss: 0.0101 - y0_loss: 0.0101 - handedness_loss: 0.0023 - val_loss: 0.0610 - val_phi_loss: 0.0366 - val_theta_loss: 0.0107 - val_y0_loss: 0.0106 - val_handedness_loss: 0.0030\n",
      "Epoch 9/25\n",
      "8496/8496 [==============================] - 582s 69ms/step - loss: 0.0559 - phi_loss: 0.0338 - theta_loss: 0.0099 - y0_loss: 0.0101 - handedness_loss: 0.0021 - val_loss: 0.0594 - val_phi_loss: 0.0354 - val_theta_loss: 0.0105 - val_y0_loss: 0.0105 - val_handedness_loss: 0.0030\n",
      "Epoch 10/25\n",
      "8496/8496 [==============================] - 591s 70ms/step - loss: 0.0550 - phi_loss: 0.0334 - theta_loss: 0.0098 - y0_loss: 0.0099 - handedness_loss: 0.0020 - val_loss: 0.0604 - val_phi_loss: 0.0358 - val_theta_loss: 0.0109 - val_y0_loss: 0.0106 - val_handedness_loss: 0.0032\n",
      "Epoch 11/25\n",
      "8496/8496 [==============================] - 589s 69ms/step - loss: 0.0542 - phi_loss: 0.0329 - theta_loss: 0.0097 - y0_loss: 0.0098 - handedness_loss: 0.0019 - val_loss: 0.0579 - val_phi_loss: 0.0348 - val_theta_loss: 0.0102 - val_y0_loss: 0.0101 - val_handedness_loss: 0.0027\n",
      "Epoch 12/25\n",
      "8496/8496 [==============================] - 599s 71ms/step - loss: 0.0537 - phi_loss: 0.0326 - theta_loss: 0.0096 - y0_loss: 0.0098 - handedness_loss: 0.0017 - val_loss: 0.0620 - val_phi_loss: 0.0373 - val_theta_loss: 0.0106 - val_y0_loss: 0.0110 - val_handedness_loss: 0.0031\n",
      "Epoch 13/25\n",
      "8496/8496 [==============================] - 589s 69ms/step - loss: 0.0530 - phi_loss: 0.0322 - theta_loss: 0.0095 - y0_loss: 0.0097 - handedness_loss: 0.0016 - val_loss: 0.0595 - val_phi_loss: 0.0359 - val_theta_loss: 0.0105 - val_y0_loss: 0.0103 - val_handedness_loss: 0.0028\n",
      "Epoch 14/25\n",
      "8496/8496 [==============================] - 581s 68ms/step - loss: 0.0526 - phi_loss: 0.0320 - theta_loss: 0.0094 - y0_loss: 0.0096 - handedness_loss: 0.0016 - val_loss: 0.0584 - val_phi_loss: 0.0350 - val_theta_loss: 0.0104 - val_y0_loss: 0.0103 - val_handedness_loss: 0.0028\n",
      "Epoch 15/25\n",
      "8496/8496 [==============================] - 586s 69ms/step - loss: 0.0520 - phi_loss: 0.0316 - theta_loss: 0.0093 - y0_loss: 0.0095 - handedness_loss: 0.0015 - val_loss: 0.0574 - val_phi_loss: 0.0342 - val_theta_loss: 0.0102 - val_y0_loss: 0.0103 - val_handedness_loss: 0.0027\n",
      "Epoch 16/25\n",
      "8496/8496 [==============================] - 597s 70ms/step - loss: 0.0517 - phi_loss: 0.0315 - theta_loss: 0.0093 - y0_loss: 0.0095 - handedness_loss: 0.0014 - val_loss: 0.0570 - val_phi_loss: 0.0340 - val_theta_loss: 0.0102 - val_y0_loss: 0.0101 - val_handedness_loss: 0.0027\n",
      "Epoch 17/25\n",
      "8496/8496 [==============================] - 597s 70ms/step - loss: 0.0513 - phi_loss: 0.0312 - theta_loss: 0.0092 - y0_loss: 0.0095 - handedness_loss: 0.0014 - val_loss: 0.0576 - val_phi_loss: 0.0347 - val_theta_loss: 0.0102 - val_y0_loss: 0.0102 - val_handedness_loss: 0.0026\n",
      "Epoch 18/25\n",
      "8496/8496 [==============================] - 591s 70ms/step - loss: 0.0512 - phi_loss: 0.0312 - theta_loss: 0.0092 - y0_loss: 0.0095 - handedness_loss: 0.0014 - val_loss: 0.0575 - val_phi_loss: 0.0346 - val_theta_loss: 0.0102 - val_y0_loss: 0.0101 - val_handedness_loss: 0.0025\n",
      "Epoch 19/25\n",
      "8496/8496 [==============================] - 585s 69ms/step - loss: 0.0508 - phi_loss: 0.0310 - theta_loss: 0.0092 - y0_loss: 0.0094 - handedness_loss: 0.0013 - val_loss: 0.0579 - val_phi_loss: 0.0348 - val_theta_loss: 0.0103 - val_y0_loss: 0.0101 - val_handedness_loss: 0.0027\n",
      "Epoch 20/25\n",
      "8496/8496 [==============================] - 597s 70ms/step - loss: 0.0505 - phi_loss: 0.0308 - theta_loss: 0.0091 - y0_loss: 0.0093 - handedness_loss: 0.0013 - val_loss: 0.0569 - val_phi_loss: 0.0342 - val_theta_loss: 0.0099 - val_y0_loss: 0.0102 - val_handedness_loss: 0.0026\n",
      "Epoch 21/25\n",
      "8496/8496 [==============================] - 587s 69ms/step - loss: 0.0503 - phi_loss: 0.0307 - theta_loss: 0.0091 - y0_loss: 0.0093 - handedness_loss: 0.0012 - val_loss: 0.0578 - val_phi_loss: 0.0348 - val_theta_loss: 0.0101 - val_y0_loss: 0.0101 - val_handedness_loss: 0.0027\n",
      "Epoch 22/25\n",
      "8496/8496 [==============================] - 594s 70ms/step - loss: 0.0501 - phi_loss: 0.0306 - theta_loss: 0.0090 - y0_loss: 0.0093 - handedness_loss: 0.0012 - val_loss: 0.0565 - val_phi_loss: 0.0339 - val_theta_loss: 0.0100 - val_y0_loss: 0.0101 - val_handedness_loss: 0.0025\n",
      "Epoch 23/25\n",
      "8496/8496 [==============================] - 587s 69ms/step - loss: 0.0497 - phi_loss: 0.0303 - theta_loss: 0.0090 - y0_loss: 0.0092 - handedness_loss: 0.0012 - val_loss: 0.0561 - val_phi_loss: 0.0337 - val_theta_loss: 0.0100 - val_y0_loss: 0.0099 - val_handedness_loss: 0.0025\n",
      "Epoch 24/25\n",
      "8496/8496 [==============================] - 591s 70ms/step - loss: 0.0497 - phi_loss: 0.0304 - theta_loss: 0.0090 - y0_loss: 0.0092 - handedness_loss: 0.0012 - val_loss: 0.0565 - val_phi_loss: 0.0342 - val_theta_loss: 0.0099 - val_y0_loss: 0.0099 - val_handedness_loss: 0.0025\n",
      "Epoch 25/25\n",
      "8496/8496 [==============================] - 604s 71ms/step - loss: 0.0494 - phi_loss: 0.0302 - theta_loss: 0.0089 - y0_loss: 0.0092 - handedness_loss: 0.0011 - val_loss: 0.0552 - val_phi_loss: 0.0333 - val_theta_loss: 0.0097 - val_y0_loss: 0.0098 - val_handedness_loss: 0.0023\n",
      "Fit took 14811.24 seconds\n",
      "Fit took 246.85 minutes\n",
      "Fit took 4.11 hours\n"
     ]
    }
   ],
   "source": [
    "start = time.time()\n",
    "\n",
    "epochs = 25\n",
    "model.fit(trainGen, epochs=epochs, shuffle=True, verbose=1, validation_data=(valGen), \\\n",
    "         max_queue_size = 60, workers = 4, use_multiprocessing = False)\n",
    "\n",
    "stop = time.time()\n",
    "duration = stop-start\n",
    "print(\"Fit took\", round(duration,2), \"seconds\")\n",
    "print(\"Fit took\", round(duration/60,2), \"minutes\")\n",
    "print(\"Fit took\", round(duration/60/60,2), \"hours\")"
   ]
  },
  {
   "cell_type": "markdown",
   "metadata": {},
   "source": [
    "### Visualize the loss"
   ]
  },
  {
   "cell_type": "code",
   "execution_count": 14,
   "metadata": {},
   "outputs": [
    {
     "data": {
      "text/plain": [
       "Text(0.5, 1.0, 'Loss')"
      ]
     },
     "execution_count": 14,
     "metadata": {},
     "output_type": "execute_result"
    },
    {
     "data": {
      "image/png": "[encoded data removed]",
      "text/plain": [
       "<Figure size 432x288 with 1 Axes>"
      ]
     },
     "metadata": {
      "needs_background": "light"
     },
     "output_type": "display_data"
    }
   ],
   "source": [
    "plt.plot(model.history.history['loss'], label=\"Loss\", color='blue')\n",
    "plt.plot(model.history.history['val_loss'], label=\"Validation\", color='red')\n",
    "plt.legend()\n",
    "plt.xlim(0,25)\n",
    "#plt.ylim(0,10)\n",
    "plt.yscale(\"log\")\n",
    "plt.title('Loss')"
   ]
  },
  {
   "cell_type": "markdown",
   "metadata": {},
   "source": [
    "### Evaluate on the test data"
   ]
  },
  {
   "cell_type": "code",
   "execution_count": 15,
   "metadata": {},
   "outputs": [
    {
     "name": "stdout",
     "output_type": "stream",
     "text": [
      "1888/1888 [==============================] - 296s 157ms/step - loss: 0.0538 - phi_loss: 0.0328 - theta_loss: 0.0096 - y0_loss: 0.0096 - handedness_loss: 0.0018\n"
     ]
    }
   ],
   "source": [
    "testGen = NpzDataGenerator(test, batch_size=30)\n",
    "errors = model.evaluate(testGen, verbose=1)"
   ]
  },
  {
   "cell_type": "markdown",
   "metadata": {},
   "source": [
    "### Write model to a file"
   ]
  },
  {
   "cell_type": "code",
   "execution_count": 16,
   "metadata": {},
   "outputs": [],
   "source": [
    "model.save_weights(\"/data/fluxrope_ml/models/cnn_model_hodo_regression.h5\")"
   ]
  },
  {
   "cell_type": "markdown",
   "metadata": {},
   "source": [
    "### Write test file names to an output file"
   ]
  },
  {
   "cell_type": "code",
   "execution_count": 17,
   "metadata": {},
   "outputs": [],
   "source": [
    "outFile = '/data/fluxrope_ml/hodo_results/results_testing_files.txt'\n",
    "f = open(outFile, \"w\")\n",
    "for t in test:\n",
    "    line = t.strip() + '\\n'\n",
    "    f.write(line)\n",
    "f.close()"
   ]
  },
  {
   "cell_type": "code",
   "execution_count": null,
   "metadata": {},
   "outputs": [],
   "source": []
  }
 ],
 "metadata": {
  "kernelspec": {
   "display_name": "Python 3",
   "language": "python",
   "name": "python3"
  },
  "language_info": {
   "codemirror_mode": {
    "name": "ipython",
    "version": 3
   },
   "file_extension": ".py",
   "mimetype": "text/x-python",
   "name": "python",
   "nbconvert_exporter": "python",
   "pygments_lexer": "ipython3",
   "version": "3.8.5"
  }
 },
 "nbformat": 4,
 "nbformat_minor": 4
}
