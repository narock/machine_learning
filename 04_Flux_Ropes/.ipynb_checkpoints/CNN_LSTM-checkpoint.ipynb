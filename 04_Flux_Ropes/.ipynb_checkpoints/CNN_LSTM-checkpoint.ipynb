{
 "cells": [
  {
   "cell_type": "code",
   "execution_count": 10,
   "metadata": {},
   "outputs": [],
   "source": [
    "import os\n",
    "import time\n",
    "import random\n",
    "\n",
    "import numpy as np\n",
    "import matplotlib.pyplot as plt\n",
    "\n",
    "import tensorflow as tf\n",
    "\n",
    "import keras\n",
    "from keras.utils import Sequence\n",
    "from keras.models import Sequential\n",
    "from keras.layers import LSTM\n",
    "from keras.layers import Dense\n",
    "from keras.layers import RepeatVector\n",
    "from keras.layers import TimeDistributed\n",
    "from keras.layers import Dropout, Flatten \n",
    "from keras.layers import Conv2D, MaxPooling2D"
   ]
  },
  {
   "cell_type": "markdown",
   "metadata": {},
   "source": [
    "### Define functions we'll need throughout"
   ]
  },
  {
   "cell_type": "markdown",
   "metadata": {},
   "source": [
    "### Configuration variables and path setup"
   ]
  },
  {
   "cell_type": "code",
   "execution_count": 2,
   "metadata": {},
   "outputs": [],
   "source": [
    "csvPath = \"/data/lstm/csv_teressa/\"\n",
    "imgPath = \"/data/lstm/hodos/\""
   ]
  },
  {
   "cell_type": "markdown",
   "metadata": {},
   "source": [
    "### Split the data into training, testing, and validation"
   ]
  },
  {
   "cell_type": "code",
   "execution_count": 3,
   "metadata": {},
   "outputs": [],
   "source": [
    "allFiles = [f for f in os.listdir(imgPath) if os.path.isfile(os.path.join(imgPath, f))]\n",
    "random.shuffle(allFiles)"
   ]
  },
  {
   "cell_type": "code",
   "execution_count": 4,
   "metadata": {},
   "outputs": [
    {
     "name": "stdout",
     "output_type": "stream",
     "text": [
      "Training files: 25555\n",
      "Test files: 8518\n",
      "Validation files: 8519\n",
      "\n",
      "Total number of files: 42592\n"
     ]
    }
   ],
   "source": [
    "# Distribution is 60% Training, 20% Validation, and 20% Testing\n",
    "cutOff = int(len(allFiles) * 0.6)\n",
    "train = allFiles[:cutOff]\n",
    "rest = allFiles[cutOff:]\n",
    "\n",
    "# there's 40% left over, split it in half for testing and validation\n",
    "test = rest[ : int(len(rest) * 0.5)]\n",
    "validation = rest[ int(len(rest) * 0.5) : ]\n",
    "\n",
    "print(\"Training files:\", len(train))\n",
    "print(\"Test files:\", len(test))\n",
    "print(\"Validation files:\", len(validation))\n",
    "print()\n",
    "print(\"Total number of files:\", len(allFiles))\n",
    "\n",
    "# check to make sure we split everything correctly\n",
    "total = len(test) + len(train) + len(validation)\n",
    "assert total == len(allFiles)"
   ]
  },
  {
   "cell_type": "markdown",
   "metadata": {},
   "source": [
    "### Write the names of the test files to disk for later evaluations"
   ]
  },
  {
   "cell_type": "markdown",
   "metadata": {},
   "source": [
    "### Create npz files of training, testing, and validation to speed up network"
   ]
  },
  {
   "cell_type": "markdown",
   "metadata": {},
   "source": [
    "### Sanity check - Load and visualize one of the hodograms"
   ]
  },
  {
   "cell_type": "code",
   "execution_count": 7,
   "metadata": {},
   "outputs": [
    {
     "name": "stdout",
     "output_type": "stream",
     "text": [
      "(10, 100, 100, 3)\n"
     ]
    },
    {
     "data": {
      "text/plain": [
       "<matplotlib.image.AxesImage at 0x7f55aeea3550>"
      ]
     },
     "execution_count": 7,
     "metadata": {},
     "output_type": "execute_result"
    },
    {
     "data": {
      "image/png": "[encoded data removed]",
      "text/plain": [
       "<Figure size 432x288 with 1 Axes>"
      ]
     },
     "metadata": {
      "needs_background": "light"
     },
     "output_type": "display_data"
    }
   ],
   "source": [
    "npzfile = np.load( imgPath + train[0] )\n",
    "hodo = npzfile['hodo']\n",
    "print(hodo.shape)\n",
    "\n",
    "plt.imshow(hodo[0,:,:,:])"
   ]
  },
  {
   "cell_type": "markdown",
   "metadata": {},
   "source": [
    "### Create sequences"
   ]
  },
  {
   "cell_type": "markdown",
   "metadata": {},
   "source": [
    "### Data reader"
   ]
  },
  {
   "cell_type": "code",
   "execution_count": 14,
   "metadata": {},
   "outputs": [],
   "source": [
    "class NpzDataGenerator(Sequence):\n",
    "    \n",
    "    def __init__(self, d, files, batch_size=1, shuffle=False):\n",
    "        \n",
    "        self.batch_size = batch_size\n",
    "        self.files = files\n",
    "        self.dir = d\n",
    "        self.shuffle = shuffle\n",
    "        self.on_epoch_end()\n",
    "\n",
    "    def __len__(self):\n",
    "        \n",
    "        'Denotes the number of batches per epoch'\n",
    "\n",
    "        'If the batch size doesnt divide evenly then add 1'\n",
    "        diff = (len(self.files) / self.batch_size) - np.floor((len(self.files) / self.batch_size))\n",
    "        if ( diff > 0 ):\n",
    "            return int(np.floor(len(self.files) / self.batch_size))+1\n",
    "        else:\n",
    "            return int(np.floor(len(self.files) / self.batch_size))\n",
    "\n",
    "    def __getitem__(self, index):\n",
    "        \n",
    "        'Generate one batch of data'\n",
    "        # Generate indexes of the batch\n",
    "        indexes = self.indexes[index*self.batch_size:(index+1)*self.batch_size]\n",
    "\n",
    "        # get list of files\n",
    "        #files = [self.files[k] for k in indexes]\n",
    "        file = self.files[indexes[0]]\n",
    "        \n",
    "        # Generate data\n",
    "        npzfile = np.load(self.dir + file)\n",
    "        hodo = npzfile['hodo']\n",
    "        \n",
    "        #0,1,2,3,4,5,6,7,8,9\n",
    "        #0,1,2 -> 3\n",
    "        #1,2,3 -> 4\n",
    "        #2,3,4 -> 5\n",
    "        #3,4,5 -> 6\n",
    "        #4,5,6 -> 7\n",
    "        #5,6,7 -> 8\n",
    "        #6,7,8 -> 9\n",
    "        #7,8,9 -> 10\n",
    "                \n",
    "        x = np.zeros( shape=(8,3,100,100,3) )\n",
    "        y = np.zeros( shape=(8,100,100,3) )\n",
    "        \n",
    "        for j in range(7):\n",
    "            for i in range(8):\n",
    "                x[j, :, :, :, :] = hodo[i:i+2, :, :, :]\n",
    "                y[j, :, :, :] = hodo[i+3, :, :, :]\n",
    "        \n",
    "        return x, y\n",
    "\n",
    "    def on_epoch_end(self):\n",
    "        \n",
    "        'Updates indexes after each epoch'\n",
    "        self.indexes = np.arange(len(self.files))\n",
    "        if self.shuffle == True:\n",
    "            np.random.shuffle(self.indexes)"
   ]
  },
  {
   "cell_type": "markdown",
   "metadata": {},
   "source": [
    "### Train the model"
   ]
  },
  {
   "cell_type": "code",
   "execution_count": 36,
   "metadata": {},
   "outputs": [],
   "source": [
    "# define model\n",
    "\n",
    "def get_model():\n",
    "    \n",
    "    input_shape = (3,100,100,3)\n",
    "\n",
    "    model = Sequential()\n",
    "    model.add(TimeDistributed(Conv2D(filters=32, kernel_size=3, activation='relu', padding=\"same\"), input_shape=input_shape))\n",
    "    model.add(TimeDistributed(Conv2D(filters=64, kernel_size=3, activation='relu', padding=\"same\")))\n",
    "    model.add(TimeDistributed(Dropout(0.25)))\n",
    "    model.add(TimeDistributed(MaxPooling2D(pool_size=2)))\n",
    "    model.add(TimeDistributed(Flatten()))\n",
    "    model.add(LSTM(50))\n",
    "    model.add(Dropout(0.5))\n",
    "    model.add(Dense(100))\n",
    "    \n",
    "    model.compile(loss='mse', optimizer='adam')\n",
    "        \n",
    "    return model"
   ]
  },
  {
   "cell_type": "code",
   "execution_count": 37,
   "metadata": {},
   "outputs": [
    {
     "name": "stdout",
     "output_type": "stream",
     "text": [
      "Model: \"sequential_1\"\n",
      "_________________________________________________________________\n",
      "Layer (type)                 Output Shape              Param #   \n",
      "=================================================================\n",
      "time_distributed_1 (TimeDist (None, 3, 100, 100, 32)   896       \n",
      "_________________________________________________________________\n",
      "time_distributed_2 (TimeDist (None, 3, 100, 100, 64)   18496     \n",
      "_________________________________________________________________\n",
      "time_distributed_3 (TimeDist (None, 3, 100, 100, 64)   0         \n",
      "_________________________________________________________________\n",
      "time_distributed_4 (TimeDist (None, 3, 50, 50, 64)     0         \n",
      "_________________________________________________________________\n",
      "time_distributed_5 (TimeDist (None, 3, 160000)         0         \n",
      "_________________________________________________________________\n",
      "lstm_1 (LSTM)                (None, 50)                32010200  \n",
      "_________________________________________________________________\n",
      "dropout_2 (Dropout)          (None, 50)                0         \n",
      "_________________________________________________________________\n",
      "dense_1 (Dense)              (None, 100)               5100      \n",
      "=================================================================\n",
      "Total params: 32,034,692\n",
      "Trainable params: 32,034,692\n",
      "Non-trainable params: 0\n",
      "_________________________________________________________________\n"
     ]
    }
   ],
   "source": [
    "# clear out any old models hanging around\n",
    "keras.backend.clear_session()\n",
    "\n",
    "trainGen = NpzDataGenerator(imgPath, train)\n",
    "valGen = NpzDataGenerator(imgPath, validation)\n",
    "    \n",
    "# define model\n",
    "model = get_model()\n",
    "\n",
    "model.summary()"
   ]
  },
  {
   "cell_type": "code",
   "execution_count": 38,
   "metadata": {},
   "outputs": [
    {
     "data": {
      "text/plain": [
       "10000"
      ]
     },
     "execution_count": 38,
     "metadata": {},
     "output_type": "execute_result"
    }
   ],
   "source": [
    "100*100\n"
   ]
  },
  {
   "cell_type": "code",
   "execution_count": 18,
   "metadata": {},
   "outputs": [],
   "source": [
    "# This is required for my GPU: GeForce RTX 2060\n",
    "# Without this config, tensorflow cannot properly allocate GPU memory\n",
    "config = tf.ConfigProto()\n",
    "config.gpu_options.allow_growth = True\n",
    "session = tf.Session(config=config)"
   ]
  },
  {
   "cell_type": "markdown",
   "metadata": {},
   "source": [
    "### Sanity check - do the sequences have the correct dimensions"
   ]
  },
  {
   "cell_type": "code",
   "execution_count": 212,
   "metadata": {},
   "outputs": [
    {
     "name": "stdout",
     "output_type": "stream",
     "text": [
      "Epoch 1/100\n",
      "336/336 [==============================] - 23s 68ms/step - loss: 0.0242 - val_loss: 0.0259\n",
      "Epoch 2/100\n",
      "336/336 [==============================] - 23s 69ms/step - loss: 0.0121 - val_loss: 0.0238\n",
      "Epoch 3/100\n",
      "336/336 [==============================] - 23s 69ms/step - loss: 0.0112 - val_loss: 0.0238\n",
      "Epoch 4/100\n",
      "336/336 [==============================] - 23s 69ms/step - loss: 0.0109 - val_loss: 0.0239\n",
      "Epoch 5/100\n",
      "336/336 [==============================] - 23s 69ms/step - loss: 0.0107 - val_loss: 0.0239\n",
      "Epoch 6/100\n",
      "336/336 [==============================] - 23s 69ms/step - loss: 0.0106 - val_loss: 0.0237\n",
      "Epoch 7/100\n",
      "336/336 [==============================] - 23s 69ms/step - loss: 0.0105 - val_loss: 0.0237\n",
      "Epoch 8/100\n",
      "336/336 [==============================] - 23s 68ms/step - loss: 0.0104 - val_loss: 0.0236\n",
      "Epoch 9/100\n",
      "336/336 [==============================] - 23s 69ms/step - loss: 0.0103 - val_loss: 0.0235\n",
      "Epoch 10/100\n",
      "336/336 [==============================] - 23s 68ms/step - loss: 0.0102 - val_loss: 0.0234\n",
      "Epoch 11/100\n",
      "336/336 [==============================] - 23s 69ms/step - loss: 0.0102 - val_loss: 0.0234\n",
      "Epoch 12/100\n",
      "336/336 [==============================] - 23s 69ms/step - loss: 0.0102 - val_loss: 0.0232\n",
      "Epoch 13/100\n",
      "336/336 [==============================] - 23s 69ms/step - loss: 0.0101 - val_loss: 0.0230\n",
      "Epoch 14/100\n",
      "336/336 [==============================] - 23s 69ms/step - loss: 0.0101 - val_loss: 0.0230\n",
      "Epoch 15/100\n",
      "336/336 [==============================] - 23s 69ms/step - loss: 0.0100 - val_loss: 0.0230\n",
      "Epoch 16/100\n",
      "336/336 [==============================] - 23s 69ms/step - loss: 0.0100 - val_loss: 0.0230\n",
      "Epoch 17/100\n",
      "336/336 [==============================] - 23s 69ms/step - loss: 0.0099 - val_loss: 0.0229\n",
      "Epoch 18/100\n",
      "336/336 [==============================] - 23s 70ms/step - loss: 0.0099 - val_loss: 0.0228\n",
      "Epoch 19/100\n",
      "336/336 [==============================] - 23s 68ms/step - loss: 0.0099 - val_loss: 0.0228\n",
      "Epoch 20/100\n",
      "336/336 [==============================] - 23s 69ms/step - loss: 0.0099 - val_loss: 0.0227\n",
      "Epoch 21/100\n",
      "336/336 [==============================] - 23s 69ms/step - loss: 0.0098 - val_loss: 0.0227\n",
      "Epoch 22/100\n",
      "336/336 [==============================] - 23s 69ms/step - loss: 0.0098 - val_loss: 0.0226\n",
      "Epoch 23/100\n",
      "336/336 [==============================] - 23s 68ms/step - loss: 0.0098 - val_loss: 0.0226\n",
      "Epoch 24/100\n",
      "336/336 [==============================] - 23s 69ms/step - loss: 0.0098 - val_loss: 0.0225\n",
      "Epoch 25/100\n",
      "336/336 [==============================] - 23s 68ms/step - loss: 0.0098 - val_loss: 0.0225\n",
      "Epoch 26/100\n",
      "336/336 [==============================] - 23s 68ms/step - loss: 0.0097 - val_loss: 0.0225\n",
      "Epoch 27/100\n",
      "336/336 [==============================] - 23s 69ms/step - loss: 0.0097 - val_loss: 0.0224\n",
      "Epoch 28/100\n",
      "336/336 [==============================] - 23s 68ms/step - loss: 0.0097 - val_loss: 0.0224\n",
      "Epoch 29/100\n",
      "336/336 [==============================] - 23s 69ms/step - loss: 0.0097 - val_loss: 0.0224\n",
      "Epoch 30/100\n",
      "336/336 [==============================] - 23s 69ms/step - loss: 0.0097 - val_loss: 0.0223\n",
      "Epoch 31/100\n",
      "336/336 [==============================] - 23s 69ms/step - loss: 0.0096 - val_loss: 0.0223\n",
      "Epoch 32/100\n",
      "336/336 [==============================] - 23s 69ms/step - loss: 0.0096 - val_loss: 0.0223\n",
      "Epoch 33/100\n",
      "336/336 [==============================] - 23s 68ms/step - loss: 0.0096 - val_loss: 0.0223\n",
      "Epoch 34/100\n",
      "336/336 [==============================] - 23s 69ms/step - loss: 0.0096 - val_loss: 0.0222\n",
      "Epoch 35/100\n",
      "336/336 [==============================] - 23s 69ms/step - loss: 0.0096 - val_loss: 0.0222\n",
      "Epoch 36/100\n",
      "336/336 [==============================] - 23s 68ms/step - loss: 0.0096 - val_loss: 0.0222\n",
      "Epoch 37/100\n",
      "336/336 [==============================] - 23s 69ms/step - loss: 0.0096 - val_loss: 0.0222\n",
      "Epoch 38/100\n",
      "336/336 [==============================] - 23s 69ms/step - loss: 0.0096 - val_loss: 0.0222\n",
      "Epoch 39/100\n",
      "336/336 [==============================] - 23s 70ms/step - loss: 0.0095 - val_loss: 0.0222\n",
      "Epoch 40/100\n",
      "336/336 [==============================] - 23s 70ms/step - loss: 0.0095 - val_loss: 0.0222\n",
      "Epoch 41/100\n",
      "336/336 [==============================] - 23s 69ms/step - loss: 0.0095 - val_loss: 0.0222\n",
      "Epoch 42/100\n",
      "336/336 [==============================] - 23s 69ms/step - loss: 0.0095 - val_loss: 0.0221\n",
      "Epoch 43/100\n",
      "336/336 [==============================] - 23s 69ms/step - loss: 0.0095 - val_loss: 0.0222\n",
      "Epoch 44/100\n",
      "336/336 [==============================] - 23s 69ms/step - loss: 0.0095 - val_loss: 0.0221\n",
      "Epoch 45/100\n",
      "336/336 [==============================] - 23s 69ms/step - loss: 0.0095 - val_loss: 0.0221\n",
      "Epoch 46/100\n",
      "336/336 [==============================] - 23s 69ms/step - loss: 0.0094 - val_loss: 0.0222\n",
      "Epoch 47/100\n",
      "336/336 [==============================] - 23s 68ms/step - loss: 0.0094 - val_loss: 0.0222\n",
      "Epoch 48/100\n",
      "336/336 [==============================] - 23s 70ms/step - loss: 0.0094 - val_loss: 0.0222\n",
      "Epoch 49/100\n",
      "336/336 [==============================] - 23s 69ms/step - loss: 0.0094 - val_loss: 0.0222\n",
      "Epoch 50/100\n",
      "336/336 [==============================] - 23s 69ms/step - loss: 0.0094 - val_loss: 0.0221\n",
      "Epoch 51/100\n",
      "336/336 [==============================] - 23s 69ms/step - loss: 0.0094 - val_loss: 0.0221\n",
      "Epoch 52/100\n",
      "336/336 [==============================] - 23s 69ms/step - loss: 0.0094 - val_loss: 0.0221\n",
      "Epoch 53/100\n",
      "336/336 [==============================] - 23s 70ms/step - loss: 0.0094 - val_loss: 0.0222\n",
      "Epoch 54/100\n",
      "336/336 [==============================] - 23s 68ms/step - loss: 0.0094 - val_loss: 0.0221\n",
      "Epoch 55/100\n",
      "336/336 [==============================] - 23s 68ms/step - loss: 0.0094 - val_loss: 0.0221\n",
      "Epoch 56/100\n",
      "336/336 [==============================] - 23s 68ms/step - loss: 0.0094 - val_loss: 0.0221\n",
      "Epoch 57/100\n",
      "336/336 [==============================] - 23s 69ms/step - loss: 0.0094 - val_loss: 0.0221\n",
      "Epoch 58/100\n",
      "336/336 [==============================] - 23s 69ms/step - loss: 0.0093 - val_loss: 0.0221\n",
      "Epoch 59/100\n",
      "336/336 [==============================] - 23s 70ms/step - loss: 0.0093 - val_loss: 0.0221\n",
      "Epoch 60/100\n",
      "336/336 [==============================] - 23s 69ms/step - loss: 0.0093 - val_loss: 0.0222\n",
      "Epoch 61/100\n",
      "336/336 [==============================] - 23s 69ms/step - loss: 0.0093 - val_loss: 0.0221\n",
      "Epoch 62/100\n",
      "336/336 [==============================] - 23s 69ms/step - loss: 0.0093 - val_loss: 0.0221\n",
      "Epoch 63/100\n",
      "336/336 [==============================] - 23s 68ms/step - loss: 0.0093 - val_loss: 0.0221\n",
      "Epoch 64/100\n",
      "336/336 [==============================] - 23s 69ms/step - loss: 0.0093 - val_loss: 0.0221\n",
      "Epoch 65/100\n",
      "336/336 [==============================] - 23s 69ms/step - loss: 0.0093 - val_loss: 0.0221\n",
      "Epoch 66/100\n",
      "336/336 [==============================] - 23s 69ms/step - loss: 0.0093 - val_loss: 0.0221\n",
      "Epoch 67/100\n",
      "336/336 [==============================] - 23s 69ms/step - loss: 0.0093 - val_loss: 0.0221\n",
      "Epoch 68/100\n",
      "336/336 [==============================] - 23s 69ms/step - loss: 0.0093 - val_loss: 0.0221\n",
      "Epoch 69/100\n",
      "336/336 [==============================] - 23s 69ms/step - loss: 0.0093 - val_loss: 0.0221\n",
      "Epoch 70/100\n",
      "336/336 [==============================] - 23s 69ms/step - loss: 0.0093 - val_loss: 0.0221\n",
      "Epoch 71/100\n",
      "336/336 [==============================] - 23s 69ms/step - loss: 0.0093 - val_loss: 0.0222\n",
      "Epoch 72/100\n",
      "336/336 [==============================] - 23s 68ms/step - loss: 0.0093 - val_loss: 0.0221\n",
      "Epoch 73/100\n",
      "336/336 [==============================] - 23s 68ms/step - loss: 0.0093 - val_loss: 0.0221\n",
      "Epoch 74/100\n",
      "336/336 [==============================] - 23s 69ms/step - loss: 0.0093 - val_loss: 0.0221\n",
      "Epoch 75/100\n",
      "336/336 [==============================] - 23s 69ms/step - loss: 0.0093 - val_loss: 0.0221\n",
      "Epoch 76/100\n",
      "336/336 [==============================] - 23s 68ms/step - loss: 0.0092 - val_loss: 0.0221\n",
      "Epoch 77/100\n",
      "336/336 [==============================] - 23s 69ms/step - loss: 0.0093 - val_loss: 0.0221\n",
      "Epoch 78/100\n",
      "336/336 [==============================] - 23s 69ms/step - loss: 0.0092 - val_loss: 0.0222\n",
      "Epoch 79/100\n",
      "336/336 [==============================] - 23s 69ms/step - loss: 0.0092 - val_loss: 0.0221\n"
     ]
    },
    {
     "name": "stdout",
     "output_type": "stream",
     "text": [
      "Epoch 80/100\n",
      "336/336 [==============================] - 23s 70ms/step - loss: 0.0092 - val_loss: 0.0221\n",
      "Epoch 81/100\n",
      "336/336 [==============================] - 23s 69ms/step - loss: 0.0092 - val_loss: 0.0222\n",
      "Epoch 82/100\n",
      "336/336 [==============================] - 23s 68ms/step - loss: 0.0092 - val_loss: 0.0221\n",
      "Epoch 83/100\n",
      "336/336 [==============================] - 23s 69ms/step - loss: 0.0092 - val_loss: 0.0221\n",
      "Epoch 84/100\n",
      "336/336 [==============================] - 23s 68ms/step - loss: 0.0092 - val_loss: 0.0221\n",
      "Epoch 85/100\n",
      "336/336 [==============================] - 23s 69ms/step - loss: 0.0092 - val_loss: 0.0221\n",
      "Epoch 86/100\n",
      "336/336 [==============================] - 23s 69ms/step - loss: 0.0092 - val_loss: 0.0221\n",
      "Epoch 87/100\n",
      "336/336 [==============================] - 23s 69ms/step - loss: 0.0092 - val_loss: 0.0221\n",
      "Epoch 88/100\n",
      "336/336 [==============================] - 23s 69ms/step - loss: 0.0092 - val_loss: 0.0221\n",
      "Epoch 89/100\n",
      "336/336 [==============================] - 23s 69ms/step - loss: 0.0092 - val_loss: 0.0221\n",
      "Epoch 90/100\n",
      "336/336 [==============================] - 23s 69ms/step - loss: 0.0092 - val_loss: 0.0221\n",
      "Epoch 91/100\n",
      "336/336 [==============================] - 23s 68ms/step - loss: 0.0092 - val_loss: 0.0221\n",
      "Epoch 92/100\n",
      "336/336 [==============================] - 23s 69ms/step - loss: 0.0092 - val_loss: 0.0221\n",
      "Epoch 93/100\n",
      "336/336 [==============================] - 23s 68ms/step - loss: 0.0092 - val_loss: 0.0221\n",
      "Epoch 94/100\n",
      "336/336 [==============================] - 23s 69ms/step - loss: 0.0092 - val_loss: 0.0221\n",
      "Epoch 95/100\n",
      "336/336 [==============================] - 23s 69ms/step - loss: 0.0092 - val_loss: 0.0221\n",
      "Epoch 96/100\n",
      "336/336 [==============================] - 23s 68ms/step - loss: 0.0092 - val_loss: 0.0221\n",
      "Epoch 97/100\n",
      "336/336 [==============================] - 23s 69ms/step - loss: 0.0092 - val_loss: 0.0221\n",
      "Epoch 98/100\n",
      "336/336 [==============================] - 23s 68ms/step - loss: 0.0092 - val_loss: 0.0221\n",
      "Epoch 99/100\n",
      "336/336 [==============================] - 23s 69ms/step - loss: 0.0092 - val_loss: 0.0221\n",
      "Epoch 100/100\n",
      "336/336 [==============================] - 23s 70ms/step - loss: 0.0092 - val_loss: 0.0221\n"
     ]
    },
    {
     "data": {
      "text/plain": [
       "<keras.callbacks.callbacks.History at 0x7fad4441f128>"
      ]
     },
     "execution_count": 212,
     "metadata": {},
     "output_type": "execute_result"
    }
   ],
   "source": [
    "# fit model\n",
    "\n",
    "epochs = 100\n",
    "model.fit_generator(trainGen, epochs=epochs, shuffle=False, verbose=1, validation_data=(valGen))"
   ]
  },
  {
   "cell_type": "markdown",
   "metadata": {},
   "source": [
    "### Visualize the loss"
   ]
  },
  {
   "cell_type": "code",
   "execution_count": 213,
   "metadata": {},
   "outputs": [
    {
     "data": {
      "text/plain": [
       "Text(0.5, 1.0, 'Loss')"
      ]
     },
     "execution_count": 213,
     "metadata": {},
     "output_type": "execute_result"
    },
    {
     "data": {
      "image/png": "[encoded data removed]",
      "text/plain": [
       "<Figure size 432x288 with 1 Axes>"
      ]
     },
     "metadata": {
      "needs_background": "light"
     },
     "output_type": "display_data"
    }
   ],
   "source": [
    "plt.plot(model.history.history['loss'], label=\"Loss\", color='blue')\n",
    "plt.plot(model.history.history['val_loss'], label=\"Validation\", color='red')\n",
    "plt.legend()\n",
    "plt.xlim(0,105)\n",
    "plt.ylim(0,.05)\n",
    "plt.title('Loss')"
   ]
  },
  {
   "cell_type": "markdown",
   "metadata": {},
   "source": [
    "### Evaluate on the test data"
   ]
  },
  {
   "cell_type": "code",
   "execution_count": 214,
   "metadata": {},
   "outputs": [
    {
     "name": "stdout",
     "output_type": "stream",
     "text": [
      "112/112 [==============================] - 7s 62ms/step\n",
      "Testing MSE: 0.0005700502078980207\n"
     ]
    }
   ],
   "source": [
    "testGen = NpzDataGenerator(npzPath+'testing_sequences/', test)\n",
    "mse = model.evaluate_generator(testGen, verbose=1)\n",
    "print(\"Testing MSE:\", mse)"
   ]
  },
  {
   "cell_type": "markdown",
   "metadata": {},
   "source": [
    "### Make some predictions"
   ]
  },
  {
   "cell_type": "markdown",
   "metadata": {},
   "source": [
    "### Write model to a file"
   ]
  },
  {
   "cell_type": "code",
   "execution_count": 216,
   "metadata": {},
   "outputs": [],
   "source": [
    "model.save_weights(\"/data/lstm/models/cnn_model_16in_8out_no_noise_z.h5\")"
   ]
  },
  {
   "cell_type": "markdown",
   "metadata": {},
   "source": [
    "### Visualize prediction"
   ]
  },
  {
   "cell_type": "markdown",
   "metadata": {},
   "source": [
    "### Use the first set of predictions to make another set of predictions"
   ]
  }
 ],
 "metadata": {
  "kernelspec": {
   "display_name": "Python 3",
   "language": "python",
   "name": "python3"
  },
  "language_info": {
   "codemirror_mode": {
    "name": "ipython",
    "version": 3
   },
   "file_extension": ".py",
   "mimetype": "text/x-python",
   "name": "python",
   "nbconvert_exporter": "python",
   "pygments_lexer": "ipython3",
   "version": "3.6.9"
  }
 },
 "nbformat": 4,
 "nbformat_minor": 4
}
