{
 "cells": [
  {
   "cell_type": "markdown",
   "metadata": {},
   "source": [
    "We're going to train a classifier again on the Iris flower dataset. This dataset has data on 3 species of Iris flower, their petal width and lenght, and their sepal width and length. A sepals is the part of the Iris that functions as protection for the flower in bud, and often as support for the petals when in bloom.\n",
    "\n",
    "Each of the 3 species of Iris has a distinct relationship between sepal width and sepal length. The goal here is to build a classifier, that when given a new sepal width and sepal length, will correctly determine the species."
   ]
  },
  {
   "cell_type": "markdown",
   "metadata": {},
   "source": [
    "This time, we are going to use K-Nearest Neighbors (KNN). Find the K closest points to a new point, determine how they are classified, and classify the new point by the majority vote."
   ]
  },
  {
   "cell_type": "code",
   "execution_count": 3,
   "metadata": {},
   "outputs": [],
   "source": [
    "# load Iris dataset - it's built into scikit-learn\n",
    "import numpy as np\n",
    "from sklearn import datasets\n",
    "\n",
    "iris = datasets.load_iris()\n",
    "x_iris, y_iris = iris.data, iris.target"
   ]
  },
  {
   "cell_type": "markdown",
   "metadata": {},
   "source": [
    "The dataset contains 3 species of Iris. Scikit-learn's SGD classifier can work with this. It will create 3 classifier lines - one separating species 0 from species 1 and 2, one separating species 1 from species 0 and 2, and one separating species 2 from species 0 and 1.\n",
    "\n",
    "However, for simplicity, let's just look at two species - Setosa and Versicolor (labeled 0 and 1 in the dataset). This way we end up with just one classifier and it's easier to see what's happening."
   ]
  },
  {
   "cell_type": "code",
   "execution_count": 4,
   "metadata": {},
   "outputs": [],
   "source": [
    "from sklearn.preprocessing import StandardScaler\n",
    "\n",
    "# in this Iris dataset there are many features of the Iris, e.g. sepal width and length as \n",
    "# as well as pedal width and length. in this example, we're only going to look at 2 features\n",
    "# of each flower: sepal width and sepal length\n",
    "#\n",
    "# also, the dataset has three species of Iris flowers. let's keep things simple and only\n",
    "# look at two species. that way, we have a binary classifier. y_iris is the species \n",
    "# [0, 1, or 2]\n",
    "x = []\n",
    "y = []\n",
    "for i in range(len(y_iris)):\n",
    "    if ( (y_iris[i] == 0) or (y_iris[i] == 1) ):\n",
    "        x.append( x_iris[i,:2] )\n",
    "        y.append( y_iris[i] )\n",
    "        \n",
    "x = np.array(x)\n",
    "y = np.array(y)\n",
    "\n",
    "# Feature Scaling - for each feature, calculate the average, subtract the mean value \n",
    "# from the feature value, and divide the result by their standard deviation. After scaling, \n",
    "# each feature will have a zero average, with a standard deviation of one.\n",
    "scaler = StandardScaler().fit(x)\n",
    "x = scaler.transform(x)"
   ]
  },
  {
   "cell_type": "markdown",
   "metadata": {},
   "source": [
    "What does our 2 species dataset look like? Plot the sepal length against the sepal width and color code by species. We're looking for a linear classifier that will separate the setosa species (red) from the versicolor species (green)."
   ]
  },
  {
   "cell_type": "code",
   "execution_count": 6,
   "metadata": {},
   "outputs": [
    {
     "data": {
      "text/plain": [
       "Text(0,0.5,'Sepal width')"
      ]
     },
     "execution_count": 6,
     "metadata": {},
     "output_type": "execute_result"
    },
    {
     "data": {
      "image/png": "[encoded data removed]",
      "text/plain": [
       "<Figure size 432x288 with 1 Axes>"
      ]
     },
     "metadata": {
      "needs_background": "light"
     },
     "output_type": "display_data"
    }
   ],
   "source": [
    "import matplotlib.pyplot as plt\n",
    "\n",
    "# sort the data\n",
    "setosa = []\n",
    "versicolor = []\n",
    "for i in range(len(x)):\n",
    "    if ( y[i] == 0 ):\n",
    "        setosa.append( tuple( (x[i, 0], x[i, 1]) ) )\n",
    "    else:\n",
    "        versicolor.append( tuple( (x[i, 0], x[i, 1]) ) )\n",
    "        \n",
    "plt.scatter( *zip(*setosa), color='red', label='Setosa' )\n",
    "plt.scatter( *zip(*versicolor), color='greenyellow', label='Versicolor' )\n",
    "\n",
    "plt.legend( ['Setosa', 'Versicolor'] )\n",
    "plt.xlabel('Sepal length')\n",
    "plt.ylabel('Sepal width')"
   ]
  },
  {
   "cell_type": "markdown",
   "metadata": {},
   "source": [
    "Create the training and testing sets"
   ]
  },
  {
   "cell_type": "code",
   "execution_count": 7,
   "metadata": {},
   "outputs": [],
   "source": [
    "from sklearn.model_selection import train_test_split\n",
    "from sklearn.preprocessing import StandardScaler\n",
    "\n",
    "# split the dataset into a training and a testing set\n",
    "# test set will be the 25% taken randomly\n",
    "# random_state is a seed used by the random number generator to randomly choose the 25%\n",
    "# random_state is optional, set here so that we get the same random 25% each time the\n",
    "# notebook is run - for testing and validation\n",
    "x_train, x_test, y_train, y_test = train_test_split(x, y, test_size=0.25, random_state=33)"
   ]
  },
  {
   "cell_type": "markdown",
   "metadata": {},
   "source": [
    "The fit function is probably the most important one in scikit-learn. It receives the training data and the training classes, and builds the classifier. Every supervised learning method in scikit-learn implements this function."
   ]
  },
  {
   "cell_type": "code",
   "execution_count": 9,
   "metadata": {},
   "outputs": [
    {
     "data": {
      "text/plain": [
       "KNeighborsClassifier(algorithm='auto', leaf_size=30, metric='minkowski',\n",
       "           metric_params=None, n_jobs=None, n_neighbors=5, p=2,\n",
       "           weights='uniform')"
      ]
     },
     "execution_count": 9,
     "metadata": {},
     "output_type": "execute_result"
    }
   ],
   "source": [
    "# create the KNN classifier\n",
    "from sklearn.neighbors import KNeighborsClassifier\n",
    "\n",
    "knn = KNeighborsClassifier()\n",
    "knn.fit(x_train, y_train)"
   ]
  },
  {
   "cell_type": "markdown",
   "metadata": {},
   "source": [
    "Plot the model on top of the data."
   ]
  },
  {
   "cell_type": "code",
   "execution_count": 10,
   "metadata": {},
   "outputs": [
    {
     "data": {
      "text/plain": [
       "Text(0,0.5,'Sepal width')"
      ]
     },
     "execution_count": 10,
     "metadata": {},
     "output_type": "execute_result"
    },
    {
     "data": {
      "image/png": "[encoded data removed]",
      "text/plain": [
       "<Figure size 432x288 with 1 Axes>"
      ]
     },
     "metadata": {
      "needs_background": "light"
     },
     "output_type": "display_data"
    }
   ],
   "source": [
    "import matplotlib.cm as cm\n",
    "from matplotlib.colors import ListedColormap, BoundaryNorm\n",
    "import matplotlib.patches as mpatches\n",
    "\n",
    "# get the plot axis object\n",
    "axs = plt.axes()\n",
    "\n",
    "# create a mesh of points \n",
    "h = 0.02 # stepsize for meshgrid, optional\n",
    "xt = x[:,0]\n",
    "yt = x[:,1] \n",
    "x_min, x_max = xt.min() - 1, xt.max() + 1\n",
    "y_min, y_max = yt.min() - 1, yt.max() + 1\n",
    "xx, yy = np.meshgrid(np.arange(x_min, x_max, h), np.arange(y_min, y_max, h))\n",
    "\n",
    "# use the knn to make predictions within our mesh of points\n",
    "predicts = knn.predict( np.c_[xx.ravel(), yy.ravel()] )\n",
    "predicts = predicts.reshape(xx.shape)\n",
    "\n",
    "# plot the predictions as a contour map\n",
    "out = axs.contourf(xx, yy, predicts, cmap=plt.cm.coolwarm, alpha=0.8)\n",
    "\n",
    "# scatter plot of our training dataset plotted on top\n",
    "\n",
    "# sort the data\n",
    "setosa = []\n",
    "versicolor = []\n",
    "for i in range(len(x)):\n",
    "    if ( y[i] == 0 ):\n",
    "        setosa.append( tuple( (x[i, 0], x[i, 1]) ) )\n",
    "    else:\n",
    "        versicolor.append( tuple( (x[i, 0], x[i, 1]) ) )\n",
    "        \n",
    "plt.scatter( *zip(*setosa), color='red', label='Setosa' )\n",
    "plt.scatter( *zip(*versicolor), color='greenyellow', label='Versicolor' )\n",
    "\n",
    "plt.legend( ['Setosa', 'Versicolor'] )\n",
    "plt.xlabel('Sepal length')\n",
    "plt.ylabel('Sepal width')"
   ]
  },
  {
   "cell_type": "markdown",
   "metadata": {},
   "source": [
    "Let's measure the overall accuracy by trying to classify the values in our test set."
   ]
  },
  {
   "cell_type": "code",
   "execution_count": 12,
   "metadata": {},
   "outputs": [
    {
     "name": "stdout",
     "output_type": "stream",
     "text": [
      "0.96\n"
     ]
    }
   ],
   "source": [
    "# measure accuracy on the testing set\n",
    "from sklearn import metrics\n",
    "y_pred = knn.predict(x_test)\n",
    "print (metrics.accuracy_score(y_test, y_pred))"
   ]
  },
  {
   "cell_type": "code",
   "execution_count": 13,
   "metadata": {},
   "outputs": [
    {
     "name": "stdout",
     "output_type": "stream",
     "text": [
      "              precision    recall  f1-score   support\n",
      "\n",
      "      setosa       1.00      0.88      0.93         8\n",
      "  versicolor       0.94      1.00      0.97        17\n",
      "\n",
      "   micro avg       0.96      0.96      0.96        25\n",
      "   macro avg       0.97      0.94      0.95        25\n",
      "weighted avg       0.96      0.96      0.96        25\n",
      "\n"
     ]
    }
   ],
   "source": [
    "print (metrics.classification_report(y_test, y_pred, target_names=['setosa','versicolor']))"
   ]
  },
  {
   "cell_type": "code",
   "execution_count": 14,
   "metadata": {},
   "outputs": [
    {
     "name": "stdout",
     "output_type": "stream",
     "text": [
      "Missed on [-1.52079513 -1.67737625]\n",
      "Predicted: 1 Actual: 0\n"
     ]
    }
   ],
   "source": [
    "for i in range(len(y_pred)):\n",
    "    if ( y_pred[i] != y_test[i] ):\n",
    "        print(\"Missed on\", x_test[i])\n",
    "        print(\"Predicted:\", y_pred[i], \"Actual:\", y_test[i])"
   ]
  },
  {
   "cell_type": "markdown",
   "metadata": {},
   "source": [
    "Cross-validation allows us to avoid this particular case, reducing result variance and producing a more realistic score for our models.\n",
    "\n",
    "The usual steps for k-fold cross-validation are the following:\n",
    "\n",
    "1. Partition the dataset into k different subsets.\n",
    "2. Create k different models by training on k-1 subsets and testing on the remaining subset.\n",
    "3. Measure the performance on each of the k models and take the average measure."
   ]
  },
  {
   "cell_type": "code",
   "execution_count": 15,
   "metadata": {},
   "outputs": [
    {
     "name": "stdout",
     "output_type": "stream",
     "text": [
      "[0.95 1.   1.   1.   1.  ]\n"
     ]
    }
   ],
   "source": [
    "# Create a new classifier: a pipeline of the standarizer and the linear model. \n",
    "# Measure the cross-validation accuracy.\n",
    "\n",
    "from sklearn.model_selection import cross_val_score, KFold\n",
    "from sklearn.pipeline import Pipeline\n",
    "\n",
    "# create a composite estimator made by a pipeline of the standarization and the linear model\n",
    "clf = Pipeline([\n",
    "        ('scaler', StandardScaler()),\n",
    "        ('knn', KNeighborsClassifier())\n",
    "])\n",
    "\n",
    "# create a k-fold croos validation iterator of k=5 folds\n",
    "cv = KFold(n_splits=5, shuffle=True, random_state=33)\n",
    "\n",
    "# by default the score used is the one returned by score method of the estimator (accuracy)\n",
    "scores = cross_val_score(knn, x, y, cv=cv)\n",
    "print (scores)"
   ]
  },
  {
   "cell_type": "code",
   "execution_count": 16,
   "metadata": {},
   "outputs": [
    {
     "name": "stdout",
     "output_type": "stream",
     "text": [
      "Mean score: 0.990 (+/-0.010)\n"
     ]
    }
   ],
   "source": [
    "# Calculate the mean and standard error of cross-validation accuracy\n",
    "\n",
    "from scipy.stats import sem\n",
    "\n",
    "def mean_score(scores):\n",
    "    \"\"\"Print the empirical mean score and standard error of the mean.\"\"\"\n",
    "    return (\"Mean score: {0:.3f} (+/-{1:.3f})\").format(\n",
    "        np.mean(scores), sem(scores))\n",
    "\n",
    "print (mean_score(scores))"
   ]
  }
 ],
 "metadata": {
  "kernelspec": {
   "display_name": "Python 3",
   "language": "python",
   "name": "python3"
  },
  "language_info": {
   "codemirror_mode": {
    "name": "ipython",
    "version": 3
   },
   "file_extension": ".py",
   "mimetype": "text/x-python",
   "name": "python",
   "nbconvert_exporter": "python",
   "pygments_lexer": "ipython3",
   "version": "3.6.1"
  }
 },
 "nbformat": 4,
 "nbformat_minor": 2
}
