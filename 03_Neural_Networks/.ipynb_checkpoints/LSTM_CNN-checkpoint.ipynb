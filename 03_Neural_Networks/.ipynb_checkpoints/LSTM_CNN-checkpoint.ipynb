{
 "cells": [
  {
   "cell_type": "code",
   "execution_count": 1,
   "metadata": {},
   "outputs": [
    {
     "name": "stderr",
     "output_type": "stream",
     "text": [
      "Using TensorFlow backend.\n"
     ]
    }
   ],
   "source": [
    "# multivariate multi-step encoder-decoder lstm example\n",
    "import os\n",
    "import time\n",
    "import random\n",
    "\n",
    "import numpy as np\n",
    "import matplotlib.pyplot as plt\n",
    "\n",
    "import tensorflow as tf\n",
    "\n",
    "import keras\n",
    "from keras.utils import Sequence\n",
    "from keras.models import Sequential\n",
    "from keras.layers import LSTM\n",
    "from keras.layers import Dense\n",
    "from keras.layers import RepeatVector\n",
    "from keras.layers import TimeDistributed\n",
    "from keras.layers import Dropout, Flatten \n",
    "from keras.layers import Conv1D, Conv2D, MaxPooling2D\n",
    "from keras.layers.convolutional import MaxPooling1D"
   ]
  },
  {
   "cell_type": "markdown",
   "metadata": {},
   "source": [
    "### Define functions we'll need throughout"
   ]
  },
  {
   "cell_type": "code",
   "execution_count": 2,
   "metadata": {},
   "outputs": [],
   "source": [
    "def normalizeVector(x,y,z,magnitude):\n",
    "    return x/magnitude, y/magnitude, z/magnitude"
   ]
  },
  {
   "cell_type": "code",
   "execution_count": 3,
   "metadata": {},
   "outputs": [],
   "source": [
    "def readCSV(dir,files):\n",
    "\n",
    "    count = 0\n",
    "    for file in files:\n",
    "              \n",
    "        x = []\n",
    "        y = []\n",
    "        z = []\n",
    "        openFile = open(dir + file, \"r\")\n",
    "        for line in openFile:\n",
    "            parts = line.split(\",\")\n",
    "            x.append(float(parts[0]))\n",
    "            y.append(float(parts[1]))\n",
    "            z.append(float(parts[2]))\n",
    "        openFile.close()\n",
    "        \n",
    "        x = np.array(x)\n",
    "        y = np.array(y)\n",
    "        z = np.array(z)\n",
    "        b = np.sqrt( x*x + y*y + z*z )\n",
    "        #x, y, z = normalizeVector(x, y, z, b)\n",
    "        x, y, z = normalizeVector(x, y, z, 40)\n",
    "        \n",
    "        if ( count == 0 ):\n",
    "            bx, by, bz = x, y, z\n",
    "        else:\n",
    "            bx = np.vstack((bx,x))\n",
    "            by = np.vstack((by,y))\n",
    "            bz = np.vstack((bz,z))\n",
    "            \n",
    "        count += 1\n",
    "        \n",
    "    return bx, by, bz"
   ]
  },
  {
   "cell_type": "code",
   "execution_count": 4,
   "metadata": {},
   "outputs": [],
   "source": [
    "# split a multivariate sequence into samples\n",
    "def split_sequences(sequences, n_steps_in, n_steps_out):\n",
    "    X, y = list(), list()\n",
    "    for i in range(len(sequences)):\n",
    "        # find the end of this pattern\n",
    "        end_ix = i + n_steps_in\n",
    "        out_end_ix = end_ix + n_steps_out\n",
    "        # check if we are beyond the dataset\n",
    "        if out_end_ix > len(sequences):\n",
    "            break\n",
    "        # gather input and output parts of the pattern\n",
    "        seq_x, seq_y = sequences[i:end_ix, :], sequences[end_ix:out_end_ix, :]\n",
    "        X.append(seq_x)\n",
    "        y.append(seq_y)\n",
    "    return np.array(X), np.array(y)"
   ]
  },
  {
   "cell_type": "code",
   "execution_count": 5,
   "metadata": {},
   "outputs": [],
   "source": [
    "def makeNpzFiles(csvP, npzP, fileList, stepSize):\n",
    "    \n",
    "    # make sure there are no npz files left over from a previous run\n",
    "    c = 0\n",
    "    for filename in os.listdir(npzP):\n",
    "        file_path = os.path.join(npzP, filename)\n",
    "        try:\n",
    "            if os.path.isfile(file_path) or os.path.islink(file_path):\n",
    "                os.unlink(file_path)\n",
    "                c += 1\n",
    "        except Exception as e:\n",
    "            print('Failed to delete %s. Reason: %s' % (file_path, e))\n",
    "\n",
    "    print(\"Deleted\", c, \"npz files in\", npzP)\n",
    "        \n",
    "    loops = int(np.ceil(len(fileList)/stepSize))\n",
    "    index1 = 0\n",
    "    index2 = stepSize\n",
    "    numFiles = 0\n",
    "    for l in range(loops):\n",
    "        files = fileList[index1:index2]\n",
    "        bx, by, bz = readCSV(csvP, files)\n",
    "        if (l < 10):\n",
    "            counter = '00' + str(l)\n",
    "        elif ( (l >= 10) and (l < 100) ):\n",
    "            counter = '0' + str(l)\n",
    "        else:\n",
    "            counter = str(l)\n",
    "        outfile = npzP + 'fluxropes_' + counter + '.npz'\n",
    "        np.savez(outfile, bx=bx, by=by, bz=bz)\n",
    "        index1 = index2\n",
    "        index2 += stepSize\n",
    "        numFiles += 1\n",
    "    print(\"Created\", numFiles, \"npz files in\", npzP)"
   ]
  },
  {
   "cell_type": "code",
   "execution_count": 6,
   "metadata": {},
   "outputs": [],
   "source": [
    "def makeSequences(files, npzP, path):\n",
    "    \n",
    "    # make sure there are no npz files left over from a previous run\n",
    "    c = 0\n",
    "    p = npzP+path+'_sequences/'\n",
    "    for filename in os.listdir(p):\n",
    "        file_path = os.path.join(p, filename)\n",
    "        try:\n",
    "            if os.path.isfile(file_path) or os.path.islink(file_path):\n",
    "                os.unlink(file_path)\n",
    "                c += 1\n",
    "        except Exception as e:\n",
    "            print('Failed to delete %s. Reason: %s' % (file_path, e))\n",
    "\n",
    "    print(\"Deleted\", c, \"npz files in\", p)\n",
    "    \n",
    "    for file in files:\n",
    "        \n",
    "        npzfile = np.load(npzP + path + '/' + file)\n",
    "        bx = npzfile['bx']\n",
    "        by = npzfile['by']\n",
    "        bz = npzfile['bz']\n",
    "        \n",
    "        n1 = bx.shape[0]\n",
    "        n2 = bx.shape[1]\n",
    "        for i in range( n1 ):\n",
    "            \n",
    "            in_seq1 = bx[i,:].reshape((n2, 1))\n",
    "            in_seq2 = by[i,:].reshape((n2, 1))\n",
    "            in_seq3 = bz[i,:].reshape((n2, 1))\n",
    "            dataset = np.hstack((in_seq1,in_seq2,in_seq3))\n",
    "    \n",
    "            # covert into input/output\n",
    "            xc, yc = split_sequences(dataset, n_steps_in, n_steps_out)\n",
    "    \n",
    "            if ( i == 0 ):\n",
    "                x, y = xc, yc\n",
    "            else:\n",
    "                x = np.concatenate((x,xc))\n",
    "                y = np.concatenate((y,yc))\n",
    "            \n",
    "            \n",
    "        parts = file.split('_')\n",
    "        parts = parts[1].split('.')\n",
    "        counter = parts[0].strip()\n",
    "    \n",
    "        outfile = npzP + path + '_sequences/fluxropes_sequences_' + counter + '.npz'\n",
    "        np.savez(outfile, x=x, y=y)\n",
    "        \n",
    "    print(\"Completed\",path,\"sequence generation\")\n",
    "    "
   ]
  },
  {
   "cell_type": "markdown",
   "metadata": {},
   "source": [
    "### Configuration variables and path setup"
   ]
  },
  {
   "cell_type": "code",
   "execution_count": 28,
   "metadata": {},
   "outputs": [],
   "source": [
    "csvPath = \"/data/lstm/csv_teressa/\"\n",
    "npzPath = \"/data/lstm/npz/\"\n",
    "\n",
    "n_features = 3 # bx, by, and bz\n",
    "n_steps_in, n_steps_out = 8, 24"
   ]
  },
  {
   "cell_type": "markdown",
   "metadata": {},
   "source": [
    "### Split the data into training, testing, and validation"
   ]
  },
  {
   "cell_type": "code",
   "execution_count": 29,
   "metadata": {},
   "outputs": [],
   "source": [
    "allFiles = [f for f in os.listdir(csvPath) if os.path.isfile(os.path.join(csvPath, f))]\n",
    "random.shuffle(allFiles)"
   ]
  },
  {
   "cell_type": "code",
   "execution_count": 30,
   "metadata": {},
   "outputs": [
    {
     "name": "stdout",
     "output_type": "stream",
     "text": [
      "Training files: 536659\n",
      "Test files: 178886\n",
      "Validation files: 178887\n",
      "\n",
      "Total number of files: 894432\n"
     ]
    }
   ],
   "source": [
    "# Distribution is 60% Training, 20% Validation, and 20% Testing\n",
    "cutOff = int(len(allFiles) * 0.6)\n",
    "train = allFiles[:cutOff]\n",
    "rest = allFiles[cutOff:]\n",
    "\n",
    "# there's 40% left over, split it in half for testing and validation\n",
    "test = rest[ : int(len(rest) * 0.5)]\n",
    "validation = rest[ int(len(rest) * 0.5) : ]\n",
    "\n",
    "print(\"Training files:\", len(train))\n",
    "print(\"Test files:\", len(test))\n",
    "print(\"Validation files:\", len(validation))\n",
    "print()\n",
    "print(\"Total number of files:\", len(allFiles))\n",
    "\n",
    "# check to make sure we split everything correctly\n",
    "total = len(test) + len(train) + len(validation)\n",
    "assert total == len(allFiles)"
   ]
  },
  {
   "cell_type": "markdown",
   "metadata": {},
   "source": [
    "### Write the names of the test files to disk for later evaluations"
   ]
  },
  {
   "cell_type": "code",
   "execution_count": 31,
   "metadata": {},
   "outputs": [],
   "source": [
    "filename = '/data/lstm/models/test_file_list.txt'\n",
    "fout = open(filename,'w')\n",
    "for file in test:\n",
    "    line = file.strip() + \"\\n\"\n",
    "    fout.write(line)\n",
    "fout.close()"
   ]
  },
  {
   "cell_type": "markdown",
   "metadata": {},
   "source": [
    "### Create npz files of training, testing, and validation to speed up network"
   ]
  },
  {
   "cell_type": "code",
   "execution_count": 32,
   "metadata": {},
   "outputs": [
    {
     "name": "stdout",
     "output_type": "stream",
     "text": [
      "Deleted 112 npz files in /data/lstm/npz/testing/\n",
      "Created 112 npz files in /data/lstm/npz/testing/\n",
      "Deleted 336 npz files in /data/lstm/npz/training/\n",
      "Created 336 npz files in /data/lstm/npz/training/\n",
      "Deleted 112 npz files in /data/lstm/npz/validation/\n",
      "Created 112 npz files in /data/lstm/npz/validation/\n",
      "\n",
      "Data generation: 3.24 minutes\n"
     ]
    }
   ],
   "source": [
    "startTime = time.time()\n",
    "\n",
    "makeNpzFiles(csvPath, npzPath+'testing/', test, 1600)\n",
    "makeNpzFiles(csvPath, npzPath+'training/', train, 1600)\n",
    "makeNpzFiles(csvPath, npzPath+'validation/', validation, 1600)\n",
    "\n",
    "# arrays now points to npz files\n",
    "test = [f for f in os.listdir(npzPath+'testing/') if \\\n",
    "        os.path.isfile(os.path.join(npzPath+'testing/', f))]\n",
    "train = [f for f in os.listdir(npzPath+'training/') if \\\n",
    "        os.path.isfile(os.path.join(npzPath+'training/', f))]\n",
    "validation = [f for f in os.listdir(npzPath+'validation/') if \\\n",
    "        os.path.isfile(os.path.join(npzPath+'validation/', f))]\n",
    "\n",
    "# convert from lists to numpy arrays\n",
    "test = np.array(test)\n",
    "train = np.array(train)\n",
    "validation = np.array(validation)\n",
    "\n",
    "stopTime = time.time()\n",
    "duration = stopTime-startTime\n",
    "print()\n",
    "print(\"Data generation:\", round(duration/60, 2), \"minutes\")"
   ]
  },
  {
   "cell_type": "markdown",
   "metadata": {},
   "source": [
    "### Sanity check - Load and visualize one of the fluxrope"
   ]
  },
  {
   "cell_type": "code",
   "execution_count": 12,
   "metadata": {},
   "outputs": [],
   "source": [
    "npzfile = np.load( npzPath + 'training/fluxropes_001.npz' )\n",
    "bx = npzfile['bx']\n",
    "by = npzfile['by']\n",
    "bz = npzfile['bz']\n",
    "\n",
    "# 50 points per fluxrope and 1600 fluxropes per npz file\n",
    "assert bx.shape[0] == 1600\n",
    "assert bx.shape[1] == 50 "
   ]
  },
  {
   "cell_type": "code",
   "execution_count": 13,
   "metadata": {},
   "outputs": [
    {
     "data": {
      "text/plain": [
       "[<matplotlib.lines.Line2D at 0x7fae42e88a58>]"
      ]
     },
     "execution_count": 13,
     "metadata": {},
     "output_type": "execute_result"
    },
    {
     "data": {
      "image/png": "[encoded data removed]",
      "text/plain": [
       "<Figure size 432x288 with 3 Axes>"
      ]
     },
     "metadata": {
      "needs_background": "light"
     },
     "output_type": "display_data"
    }
   ],
   "source": [
    "n = bx.shape[1]\n",
    "x = np.arange(0,n)\n",
    "\n",
    "fig, axs = plt.subplots(3)\n",
    "fig.suptitle('Magnetic Cloud')\n",
    "axs[0].plot(x, bx[0,:])\n",
    "axs[1].plot(x, by[0,:])\n",
    "axs[2].plot(x, bz[0,:])"
   ]
  },
  {
   "cell_type": "markdown",
   "metadata": {},
   "source": [
    "### Create sequences"
   ]
  },
  {
   "cell_type": "code",
   "execution_count": 33,
   "metadata": {},
   "outputs": [
    {
     "name": "stdout",
     "output_type": "stream",
     "text": [
      "Deleted 336 npz files in /data/lstm/npz/training_sequences/\n",
      "Completed training sequence generation\n",
      "Deleted 112 npz files in /data/lstm/npz/validation_sequences/\n",
      "Completed validation sequence generation\n",
      "Deleted 112 npz files in /data/lstm/npz/testing_sequences/\n",
      "Completed testing sequence generation\n",
      "\n",
      "Sequence generation: 12.82 minutes\n"
     ]
    }
   ],
   "source": [
    "startTime = time.time()\n",
    "\n",
    "# train\n",
    "makeSequences(train, npzPath, 'training')\n",
    "    \n",
    "# validation\n",
    "makeSequences(validation, npzPath, 'validation')\n",
    "    \n",
    "# testing\n",
    "makeSequences(test, npzPath, 'testing')\n",
    "\n",
    "# arrays now points to npz sequence files\n",
    "test = [f for f in os.listdir(npzPath+'testing_sequences/') if \\\n",
    "        os.path.isfile(os.path.join(npzPath+'testing_sequences/', f))]\n",
    "\n",
    "train = [f for f in os.listdir(npzPath+'training_sequences/') if \\\n",
    "        os.path.isfile(os.path.join(npzPath+'training_sequences/', f))]\n",
    "\n",
    "validation = [f for f in os.listdir(npzPath+'validation_sequences/') if \\\n",
    "        os.path.isfile(os.path.join(npzPath+'validation_sequences/', f))]\n",
    "\n",
    "stopTime = time.time()\n",
    "duration = stopTime-startTime\n",
    "print()\n",
    "print(\"Sequence generation:\", round(duration/60., 2), \"minutes\")"
   ]
  },
  {
   "cell_type": "markdown",
   "metadata": {},
   "source": [
    "### Data reader"
   ]
  },
  {
   "cell_type": "code",
   "execution_count": 15,
   "metadata": {},
   "outputs": [],
   "source": [
    "class NpzDataGenerator(Sequence):\n",
    "    \n",
    "    def __init__(self, d, files, batch_size=1, shuffle=False):\n",
    "        \n",
    "        self.batch_size = batch_size\n",
    "        self.files = files\n",
    "        self.dir = d\n",
    "        self.shuffle = shuffle\n",
    "        self.on_epoch_end()\n",
    "\n",
    "    def __len__(self):\n",
    "        \n",
    "        'Denotes the number of batches per epoch'\n",
    "\n",
    "        'If the batch size doesnt divide evenly then add 1'\n",
    "        diff = (len(self.files) / self.batch_size) - np.floor((len(self.files) / self.batch_size))\n",
    "        if ( diff > 0 ):\n",
    "            return int(np.floor(len(self.files) / self.batch_size))+1\n",
    "        else:\n",
    "            return int(np.floor(len(self.files) / self.batch_size))\n",
    "\n",
    "    def __getitem__(self, index):\n",
    "        \n",
    "        'Generate one batch of data'\n",
    "        # Generate indexes of the batch\n",
    "        indexes = self.indexes[index*self.batch_size:(index+1)*self.batch_size]\n",
    "\n",
    "        # get list of files\n",
    "        #files = [self.files[k] for k in indexes]\n",
    "        file = self.files[indexes[0]]\n",
    "        \n",
    "        # Generate data\n",
    "        npzfile = np.load(self.dir + file)\n",
    "        x = npzfile['x']\n",
    "        y = npzfile['y']\n",
    "        \n",
    "        #x = x[:,:,0]\n",
    "        #y = y[:,:,0]\n",
    "        #x = x.reshape( x.shape[0], x.shape[1], 1 )\n",
    "        #y = y.reshape( y.shape[0], y.shape[1], 1 )\n",
    "        \n",
    "        y1 = y[:,:,0].reshape((y.shape[0], y.shape[1]))\n",
    "        y2 = y[:,:,1].reshape((y.shape[0], y.shape[1]))\n",
    "        y3 = y[:,:,2].reshape((y.shape[0], y.shape[1]))\n",
    "        \n",
    "        return x, [y1, y2, y3]\n",
    "\n",
    "    def on_epoch_end(self):\n",
    "        \n",
    "        'Updates indexes after each epoch'\n",
    "        self.indexes = np.arange(len(self.files))\n",
    "        if self.shuffle == True:\n",
    "            np.random.shuffle(self.indexes)"
   ]
  },
  {
   "cell_type": "markdown",
   "metadata": {},
   "source": [
    "### Train the model"
   ]
  },
  {
   "cell_type": "code",
   "execution_count": 26,
   "metadata": {},
   "outputs": [],
   "source": [
    "# define model\n",
    "\n",
    "n_outputs = 32\n",
    "input_shape = (8, 3)\n",
    "\n",
    "def get_model():\n",
    "    \n",
    "    model = Sequential()\n",
    "    model.add(Conv1D(filters=64, kernel_size=3, activation='relu', input_shape=input_shape))\n",
    "    model.add(Conv1D(filters=64, kernel_size=3, activation='relu'))\n",
    "    model.add(MaxPooling1D(pool_size=2))\n",
    "    model.add(Flatten())\n",
    "    model.add(RepeatVector(n_outputs))\n",
    "    model.add(LSTM(100, activation='relu', return_sequences=True))\n",
    "    model.add(TimeDistributed(Dense(50, activation='relu')))\n",
    "    model.add(TimeDistributed(Dense(3)))\n",
    "    model.compile(loss='mse', optimizer='adam')\n",
    "    \n",
    "    return model"
   ]
  },
  {
   "cell_type": "code",
   "execution_count": 101,
   "metadata": {},
   "outputs": [],
   "source": [
    "# define model\n",
    "\n",
    "n_outputs = 32\n",
    "input_shape = (8, 3)\n",
    "\n",
    "def get_model():\n",
    "    \n",
    "    model = Sequential()\n",
    "    model.add(Conv1D(filters=64, kernel_size=3, activation='relu', input_shape=input_shape))\n",
    "    model.add(Conv1D(filters=64, kernel_size=3, activation='relu'))\n",
    "    model.add(MaxPooling1D(pool_size=2))\n",
    "    model.add(Flatten())\n",
    "    #model.add(RepeatVector(n_outputs))\n",
    "    #model.add(LSTM(100, activation='relu', return_sequences=True))\n",
    "    #model.add(TimeDistributed(Dense(50, activation='relu')))\n",
    "    #model.add(TimeDistributed(Dense(1)))\n",
    "    model.add(Dense(50, activation='relu'))\n",
    "    model.add(Dense(32))\n",
    "    model.compile(loss='mse', optimizer='adam')\n",
    "    \n",
    "    return model"
   ]
  },
  {
   "cell_type": "code",
   "execution_count": 38,
   "metadata": {},
   "outputs": [],
   "source": [
    "from keras.models import Model\n",
    "from keras.layers import Input\n",
    "from keras.layers import Dense\n",
    "from keras.layers import Flatten\n",
    "from keras.layers.convolutional import Conv1D\n",
    "from keras.layers.convolutional import MaxPooling1D\n",
    "\n",
    "# define model\n",
    "\n",
    "input_shape = (8, 3)\n",
    "\n",
    "def get_model():\n",
    "    \n",
    "    visible = Input(shape=(8,3))\n",
    "    cnn = Conv1D(filters=64, kernel_size=3, activation='relu')(visible)\n",
    "    cnn = Conv1D(filters=64, kernel_size=3)(cnn)\n",
    "    cnn = MaxPooling1D(pool_size=2)(cnn)\n",
    "    cnn = Flatten()(cnn)\n",
    "    cnn = Dense(50, activation='relu')(cnn)\n",
    "    \n",
    "    # define output 1\n",
    "    output1 = Dense(n_steps_out)(cnn)\n",
    "    # define output 2\n",
    "    output2 = Dense(n_steps_out)(cnn)\n",
    "    # define output 3\n",
    "    output3 = Dense(n_steps_out)(cnn)\n",
    "    \n",
    "    model = Model(inputs=visible, outputs=[output1, output2, output3])\n",
    "    model.compile(loss='mse', optimizer='adam')\n",
    "    \n",
    "    return model"
   ]
  },
  {
   "cell_type": "code",
   "execution_count": 39,
   "metadata": {},
   "outputs": [
    {
     "name": "stdout",
     "output_type": "stream",
     "text": [
      "Model: \"model_1\"\n",
      "__________________________________________________________________________________________________\n",
      "Layer (type)                    Output Shape         Param #     Connected to                     \n",
      "==================================================================================================\n",
      "input_1 (InputLayer)            (None, 8, 3)         0                                            \n",
      "__________________________________________________________________________________________________\n",
      "conv1d_1 (Conv1D)               (None, 6, 64)        640         input_1[0][0]                    \n",
      "__________________________________________________________________________________________________\n",
      "max_pooling1d_1 (MaxPooling1D)  (None, 3, 64)        0           conv1d_1[0][0]                   \n",
      "__________________________________________________________________________________________________\n",
      "flatten_1 (Flatten)             (None, 192)          0           max_pooling1d_1[0][0]            \n",
      "__________________________________________________________________________________________________\n",
      "dense_1 (Dense)                 (None, 50)           9650        flatten_1[0][0]                  \n",
      "__________________________________________________________________________________________________\n",
      "dense_2 (Dense)                 (None, 24)           1224        dense_1[0][0]                    \n",
      "__________________________________________________________________________________________________\n",
      "dense_3 (Dense)                 (None, 24)           1224        dense_1[0][0]                    \n",
      "__________________________________________________________________________________________________\n",
      "dense_4 (Dense)                 (None, 24)           1224        dense_1[0][0]                    \n",
      "==================================================================================================\n",
      "Total params: 13,962\n",
      "Trainable params: 13,962\n",
      "Non-trainable params: 0\n",
      "__________________________________________________________________________________________________\n"
     ]
    }
   ],
   "source": [
    "# clear out any old models hanging around\n",
    "keras.backend.clear_session()\n",
    "\n",
    "trainGen = NpzDataGenerator(npzPath+'training_sequences/', train)\n",
    "valGen = NpzDataGenerator(npzPath+'validation_sequences/', validation)\n",
    "    \n",
    "# define model\n",
    "model = get_model()\n",
    "\n",
    "model.summary()"
   ]
  },
  {
   "cell_type": "code",
   "execution_count": 18,
   "metadata": {},
   "outputs": [],
   "source": [
    "# This is required for my GPU: GeForce RTX 2060\n",
    "# Without this config, tensorflow cannot properly allocate GPU memory\n",
    "config = tf.ConfigProto()\n",
    "config.gpu_options.allow_growth = True\n",
    "session = tf.Session(config=config)"
   ]
  },
  {
   "cell_type": "markdown",
   "metadata": {},
   "source": [
    "### Sanity check - do the sequences have the correct dimensions"
   ]
  },
  {
   "cell_type": "code",
   "execution_count": 36,
   "metadata": {},
   "outputs": [
    {
     "name": "stdout",
     "output_type": "stream",
     "text": [
      "(30400, 8, 3)\n",
      "(30400, 24, 3)\n"
     ]
    }
   ],
   "source": [
    "nfile = np.load('/data/lstm/npz/training_sequences/fluxropes_sequences_108.npz')\n",
    "t1 = nfile['x']\n",
    "t2 = nfile['y']\n",
    "print(t1.shape)\n",
    "print(t2.shape)"
   ]
  },
  {
   "cell_type": "code",
   "execution_count": 40,
   "metadata": {},
   "outputs": [
    {
     "name": "stdout",
     "output_type": "stream",
     "text": [
      "Epoch 1/100\n",
      "336/336 [==============================] - 20s 60ms/step - loss: 0.2712 - dense_2_loss: 0.1573 - dense_3_loss: 0.0443 - dense_4_loss: 0.0695 - val_loss: 0.0577 - val_dense_2_loss: 0.0667 - val_dense_3_loss: 0.0107 - val_dense_4_loss: 0.0333\n",
      "Epoch 2/100\n",
      "336/336 [==============================] - 14s 42ms/step - loss: 0.0950 - dense_2_loss: 0.0553 - dense_3_loss: 0.0099 - dense_4_loss: 0.0297 - val_loss: 0.0489 - val_dense_2_loss: 0.0318 - val_dense_3_loss: 0.0091 - val_dense_4_loss: 0.0296\n",
      "Epoch 3/100\n",
      "336/336 [==============================] - 14s 41ms/step - loss: 0.0722 - dense_2_loss: 0.0354 - dense_3_loss: 0.0089 - dense_4_loss: 0.0279 - val_loss: 0.0459 - val_dense_2_loss: 0.0284 - val_dense_3_loss: 0.0086 - val_dense_4_loss: 0.0280\n",
      "Epoch 4/100\n",
      "336/336 [==============================] - 14s 42ms/step - loss: 0.0675 - dense_2_loss: 0.0326 - dense_3_loss: 0.0084 - dense_4_loss: 0.0265 - val_loss: 0.0444 - val_dense_2_loss: 0.0272 - val_dense_3_loss: 0.0082 - val_dense_4_loss: 0.0265\n",
      "Epoch 5/100\n",
      "336/336 [==============================] - 14s 42ms/step - loss: 0.0637 - dense_2_loss: 0.0307 - dense_3_loss: 0.0081 - dense_4_loss: 0.0250 - val_loss: 0.0432 - val_dense_2_loss: 0.0261 - val_dense_3_loss: 0.0079 - val_dense_4_loss: 0.0251\n",
      "Epoch 6/100\n",
      "336/336 [==============================] - 14s 41ms/step - loss: 0.0609 - dense_2_loss: 0.0292 - dense_3_loss: 0.0079 - dense_4_loss: 0.0238 - val_loss: 0.0423 - val_dense_2_loss: 0.0254 - val_dense_3_loss: 0.0076 - val_dense_4_loss: 0.0240\n",
      "Epoch 7/100\n",
      "336/336 [==============================] - 14s 42ms/step - loss: 0.0591 - dense_2_loss: 0.0283 - dense_3_loss: 0.0078 - dense_4_loss: 0.0230 - val_loss: 0.0417 - val_dense_2_loss: 0.0249 - val_dense_3_loss: 0.0075 - val_dense_4_loss: 0.0233\n",
      "Epoch 8/100\n",
      "336/336 [==============================] - 14s 42ms/step - loss: 0.0579 - dense_2_loss: 0.0276 - dense_3_loss: 0.0076 - dense_4_loss: 0.0227 - val_loss: 0.0411 - val_dense_2_loss: 0.0245 - val_dense_3_loss: 0.0073 - val_dense_4_loss: 0.0228\n",
      "Epoch 9/100\n",
      "336/336 [==============================] - 14s 42ms/step - loss: 0.0570 - dense_2_loss: 0.0272 - dense_3_loss: 0.0074 - dense_4_loss: 0.0224 - val_loss: 0.0406 - val_dense_2_loss: 0.0242 - val_dense_3_loss: 0.0072 - val_dense_4_loss: 0.0224\n",
      "Epoch 10/100\n",
      "336/336 [==============================] - 14s 42ms/step - loss: 0.0563 - dense_2_loss: 0.0270 - dense_3_loss: 0.0072 - dense_4_loss: 0.0220 - val_loss: 0.0402 - val_dense_2_loss: 0.0239 - val_dense_3_loss: 0.0071 - val_dense_4_loss: 0.0221\n",
      "Epoch 11/100\n",
      "336/336 [==============================] - 14s 42ms/step - loss: 0.0555 - dense_2_loss: 0.0265 - dense_3_loss: 0.0071 - dense_4_loss: 0.0218 - val_loss: 0.0399 - val_dense_2_loss: 0.0235 - val_dense_3_loss: 0.0071 - val_dense_4_loss: 0.0219\n",
      "Epoch 12/100\n",
      "336/336 [==============================] - 14s 41ms/step - loss: 0.0550 - dense_2_loss: 0.0262 - dense_3_loss: 0.0070 - dense_4_loss: 0.0217 - val_loss: 0.0396 - val_dense_2_loss: 0.0232 - val_dense_3_loss: 0.0070 - val_dense_4_loss: 0.0217\n",
      "Epoch 13/100\n",
      "336/336 [==============================] - 14s 41ms/step - loss: 0.0542 - dense_2_loss: 0.0257 - dense_3_loss: 0.0070 - dense_4_loss: 0.0215 - val_loss: 0.0392 - val_dense_2_loss: 0.0229 - val_dense_3_loss: 0.0069 - val_dense_4_loss: 0.0215\n",
      "Epoch 14/100\n",
      "336/336 [==============================] - 14s 42ms/step - loss: 0.0537 - dense_2_loss: 0.0254 - dense_3_loss: 0.0069 - dense_4_loss: 0.0214 - val_loss: 0.0388 - val_dense_2_loss: 0.0226 - val_dense_3_loss: 0.0068 - val_dense_4_loss: 0.0214\n",
      "Epoch 15/100\n",
      "336/336 [==============================] - 14s 42ms/step - loss: 0.0533 - dense_2_loss: 0.0252 - dense_3_loss: 0.0068 - dense_4_loss: 0.0213 - val_loss: 0.0384 - val_dense_2_loss: 0.0223 - val_dense_3_loss: 0.0068 - val_dense_4_loss: 0.0213\n",
      "Epoch 16/100\n",
      "336/336 [==============================] - 14s 42ms/step - loss: 0.0528 - dense_2_loss: 0.0249 - dense_3_loss: 0.0067 - dense_4_loss: 0.0212 - val_loss: 0.0382 - val_dense_2_loss: 0.0221 - val_dense_3_loss: 0.0067 - val_dense_4_loss: 0.0212\n",
      "Epoch 17/100\n",
      "336/336 [==============================] - 14s 41ms/step - loss: 0.0525 - dense_2_loss: 0.0247 - dense_3_loss: 0.0067 - dense_4_loss: 0.0211 - val_loss: 0.0378 - val_dense_2_loss: 0.0219 - val_dense_3_loss: 0.0066 - val_dense_4_loss: 0.0211\n",
      "Epoch 18/100\n",
      "336/336 [==============================] - 14s 42ms/step - loss: 0.0521 - dense_2_loss: 0.0245 - dense_3_loss: 0.0066 - dense_4_loss: 0.0210 - val_loss: 0.0375 - val_dense_2_loss: 0.0216 - val_dense_3_loss: 0.0065 - val_dense_4_loss: 0.0210\n",
      "Epoch 19/100\n",
      "336/336 [==============================] - 14s 43ms/step - loss: 0.0516 - dense_2_loss: 0.0242 - dense_3_loss: 0.0065 - dense_4_loss: 0.0209 - val_loss: 0.0372 - val_dense_2_loss: 0.0214 - val_dense_3_loss: 0.0065 - val_dense_4_loss: 0.0209\n",
      "Epoch 20/100\n",
      "336/336 [==============================] - 14s 42ms/step - loss: 0.0512 - dense_2_loss: 0.0239 - dense_3_loss: 0.0064 - dense_4_loss: 0.0208 - val_loss: 0.0369 - val_dense_2_loss: 0.0211 - val_dense_3_loss: 0.0064 - val_dense_4_loss: 0.0209\n",
      "Epoch 21/100\n",
      "336/336 [==============================] - 14s 42ms/step - loss: 0.0509 - dense_2_loss: 0.0239 - dense_3_loss: 0.0064 - dense_4_loss: 0.0207 - val_loss: 0.0366 - val_dense_2_loss: 0.0209 - val_dense_3_loss: 0.0064 - val_dense_4_loss: 0.0208\n",
      "Epoch 22/100\n",
      "336/336 [==============================] - 14s 42ms/step - loss: 0.0504 - dense_2_loss: 0.0235 - dense_3_loss: 0.0063 - dense_4_loss: 0.0206 - val_loss: 0.0363 - val_dense_2_loss: 0.0207 - val_dense_3_loss: 0.0063 - val_dense_4_loss: 0.0208\n",
      "Epoch 23/100\n",
      "336/336 [==============================] - 14s 42ms/step - loss: 0.0501 - dense_2_loss: 0.0233 - dense_3_loss: 0.0062 - dense_4_loss: 0.0205 - val_loss: 0.0359 - val_dense_2_loss: 0.0205 - val_dense_3_loss: 0.0062 - val_dense_4_loss: 0.0207\n",
      "Epoch 24/100\n",
      "336/336 [==============================] - 14s 42ms/step - loss: 0.0496 - dense_2_loss: 0.0230 - dense_3_loss: 0.0061 - dense_4_loss: 0.0204 - val_loss: 0.0357 - val_dense_2_loss: 0.0203 - val_dense_3_loss: 0.0062 - val_dense_4_loss: 0.0207\n",
      "Epoch 25/100\n",
      "336/336 [==============================] - 14s 42ms/step - loss: 0.0494 - dense_2_loss: 0.0228 - dense_3_loss: 0.0062 - dense_4_loss: 0.0203 - val_loss: 0.0355 - val_dense_2_loss: 0.0201 - val_dense_3_loss: 0.0061 - val_dense_4_loss: 0.0206\n",
      "Epoch 26/100\n",
      "336/336 [==============================] - 14s 42ms/step - loss: 0.0488 - dense_2_loss: 0.0225 - dense_3_loss: 0.0060 - dense_4_loss: 0.0202 - val_loss: 0.0352 - val_dense_2_loss: 0.0199 - val_dense_3_loss: 0.0060 - val_dense_4_loss: 0.0206\n",
      "Epoch 27/100\n",
      "336/336 [==============================] - 14s 41ms/step - loss: 0.0486 - dense_2_loss: 0.0225 - dense_3_loss: 0.0060 - dense_4_loss: 0.0201 - val_loss: 0.0351 - val_dense_2_loss: 0.0197 - val_dense_3_loss: 0.0060 - val_dense_4_loss: 0.0205\n",
      "Epoch 28/100\n",
      "336/336 [==============================] - 14s 41ms/step - loss: 0.0481 - dense_2_loss: 0.0221 - dense_3_loss: 0.0060 - dense_4_loss: 0.0201 - val_loss: 0.0348 - val_dense_2_loss: 0.0195 - val_dense_3_loss: 0.0059 - val_dense_4_loss: 0.0205\n",
      "Epoch 29/100\n",
      "336/336 [==============================] - 14s 41ms/step - loss: 0.0483 - dense_2_loss: 0.0223 - dense_3_loss: 0.0060 - dense_4_loss: 0.0201 - val_loss: 0.0346 - val_dense_2_loss: 0.0194 - val_dense_3_loss: 0.0059 - val_dense_4_loss: 0.0205\n",
      "Epoch 30/100\n",
      "336/336 [==============================] - 14s 41ms/step - loss: 0.0483 - dense_2_loss: 0.0219 - dense_3_loss: 0.0063 - dense_4_loss: 0.0201 - val_loss: 0.0344 - val_dense_2_loss: 0.0192 - val_dense_3_loss: 0.0059 - val_dense_4_loss: 0.0204\n",
      "Epoch 31/100\n",
      "336/336 [==============================] - 14s 41ms/step - loss: 0.0476 - dense_2_loss: 0.0215 - dense_3_loss: 0.0061 - dense_4_loss: 0.0200 - val_loss: 0.0343 - val_dense_2_loss: 0.0192 - val_dense_3_loss: 0.0058 - val_dense_4_loss: 0.0204\n",
      "Epoch 32/100\n",
      "336/336 [==============================] - 14s 41ms/step - loss: 0.0468 - dense_2_loss: 0.0212 - dense_3_loss: 0.0057 - dense_4_loss: 0.0199 - val_loss: 0.0341 - val_dense_2_loss: 0.0190 - val_dense_3_loss: 0.0058 - val_dense_4_loss: 0.0204\n",
      "Epoch 33/100\n"
     ]
    },
    {
     "name": "stdout",
     "output_type": "stream",
     "text": [
      "336/336 [==============================] - 14s 41ms/step - loss: 0.0468 - dense_2_loss: 0.0212 - dense_3_loss: 0.0057 - dense_4_loss: 0.0199 - val_loss: 0.0338 - val_dense_2_loss: 0.0188 - val_dense_3_loss: 0.0057 - val_dense_4_loss: 0.0203\n",
      "Epoch 34/100\n",
      "336/336 [==============================] - 14s 41ms/step - loss: 0.0467 - dense_2_loss: 0.0212 - dense_3_loss: 0.0056 - dense_4_loss: 0.0199 - val_loss: 0.0337 - val_dense_2_loss: 0.0186 - val_dense_3_loss: 0.0057 - val_dense_4_loss: 0.0203\n",
      "Epoch 35/100\n",
      "336/336 [==============================] - 14s 41ms/step - loss: 0.0461 - dense_2_loss: 0.0207 - dense_3_loss: 0.0056 - dense_4_loss: 0.0198 - val_loss: 0.0335 - val_dense_2_loss: 0.0185 - val_dense_3_loss: 0.0057 - val_dense_4_loss: 0.0202\n",
      "Epoch 36/100\n",
      "336/336 [==============================] - 14s 41ms/step - loss: 0.0462 - dense_2_loss: 0.0208 - dense_3_loss: 0.0056 - dense_4_loss: 0.0198 - val_loss: 0.0334 - val_dense_2_loss: 0.0184 - val_dense_3_loss: 0.0057 - val_dense_4_loss: 0.0202\n",
      "Epoch 37/100\n",
      "336/336 [==============================] - 14s 41ms/step - loss: 0.0458 - dense_2_loss: 0.0205 - dense_3_loss: 0.0055 - dense_4_loss: 0.0198 - val_loss: 0.0331 - val_dense_2_loss: 0.0183 - val_dense_3_loss: 0.0056 - val_dense_4_loss: 0.0201\n",
      "Epoch 38/100\n",
      "336/336 [==============================] - 14s 41ms/step - loss: 0.0454 - dense_2_loss: 0.0202 - dense_3_loss: 0.0055 - dense_4_loss: 0.0197 - val_loss: 0.0328 - val_dense_2_loss: 0.0181 - val_dense_3_loss: 0.0056 - val_dense_4_loss: 0.0201\n",
      "Epoch 39/100\n",
      "336/336 [==============================] - 14s 41ms/step - loss: 0.0452 - dense_2_loss: 0.0199 - dense_3_loss: 0.0055 - dense_4_loss: 0.0198 - val_loss: 0.0325 - val_dense_2_loss: 0.0179 - val_dense_3_loss: 0.0055 - val_dense_4_loss: 0.0200\n",
      "Epoch 40/100\n",
      "336/336 [==============================] - 14s 41ms/step - loss: 0.0448 - dense_2_loss: 0.0196 - dense_3_loss: 0.0055 - dense_4_loss: 0.0197 - val_loss: 0.0323 - val_dense_2_loss: 0.0178 - val_dense_3_loss: 0.0055 - val_dense_4_loss: 0.0200\n",
      "Epoch 41/100\n",
      "336/336 [==============================] - 14s 41ms/step - loss: 0.0450 - dense_2_loss: 0.0198 - dense_3_loss: 0.0056 - dense_4_loss: 0.0196 - val_loss: 0.0320 - val_dense_2_loss: 0.0178 - val_dense_3_loss: 0.0055 - val_dense_4_loss: 0.0199\n",
      "Epoch 42/100\n",
      "336/336 [==============================] - 14s 42ms/step - loss: 0.0452 - dense_2_loss: 0.0195 - dense_3_loss: 0.0061 - dense_4_loss: 0.0196 - val_loss: 0.0317 - val_dense_2_loss: 0.0176 - val_dense_3_loss: 0.0054 - val_dense_4_loss: 0.0199\n",
      "Epoch 43/100\n",
      "336/336 [==============================] - 14s 42ms/step - loss: 0.0444 - dense_2_loss: 0.0192 - dense_3_loss: 0.0056 - dense_4_loss: 0.0196 - val_loss: 0.0316 - val_dense_2_loss: 0.0175 - val_dense_3_loss: 0.0054 - val_dense_4_loss: 0.0199\n",
      "Epoch 44/100\n",
      "336/336 [==============================] - 14s 42ms/step - loss: 0.0439 - dense_2_loss: 0.0190 - dense_3_loss: 0.0055 - dense_4_loss: 0.0194 - val_loss: 0.0313 - val_dense_2_loss: 0.0174 - val_dense_3_loss: 0.0054 - val_dense_4_loss: 0.0198\n",
      "Epoch 45/100\n",
      "336/336 [==============================] - 14s 42ms/step - loss: 0.0439 - dense_2_loss: 0.0190 - dense_3_loss: 0.0054 - dense_4_loss: 0.0195 - val_loss: 0.0311 - val_dense_2_loss: 0.0173 - val_dense_3_loss: 0.0054 - val_dense_4_loss: 0.0199\n",
      "Epoch 46/100\n",
      "336/336 [==============================] - 14s 42ms/step - loss: 0.0433 - dense_2_loss: 0.0186 - dense_3_loss: 0.0053 - dense_4_loss: 0.0194 - val_loss: 0.0309 - val_dense_2_loss: 0.0171 - val_dense_3_loss: 0.0053 - val_dense_4_loss: 0.0198\n",
      "Epoch 47/100\n",
      "336/336 [==============================] - 14s 42ms/step - loss: 0.0433 - dense_2_loss: 0.0186 - dense_3_loss: 0.0054 - dense_4_loss: 0.0193 - val_loss: 0.0308 - val_dense_2_loss: 0.0171 - val_dense_3_loss: 0.0053 - val_dense_4_loss: 0.0198\n",
      "Epoch 48/100\n",
      "336/336 [==============================] - 14s 41ms/step - loss: 0.0430 - dense_2_loss: 0.0184 - dense_3_loss: 0.0053 - dense_4_loss: 0.0193 - val_loss: 0.0306 - val_dense_2_loss: 0.0170 - val_dense_3_loss: 0.0053 - val_dense_4_loss: 0.0198\n",
      "Epoch 49/100\n",
      "336/336 [==============================] - 14s 42ms/step - loss: 0.0429 - dense_2_loss: 0.0183 - dense_3_loss: 0.0053 - dense_4_loss: 0.0192 - val_loss: 0.0305 - val_dense_2_loss: 0.0169 - val_dense_3_loss: 0.0053 - val_dense_4_loss: 0.0197\n",
      "Epoch 50/100\n",
      "336/336 [==============================] - 14s 41ms/step - loss: 0.0425 - dense_2_loss: 0.0181 - dense_3_loss: 0.0053 - dense_4_loss: 0.0192 - val_loss: 0.0303 - val_dense_2_loss: 0.0168 - val_dense_3_loss: 0.0053 - val_dense_4_loss: 0.0197\n",
      "Epoch 51/100\n",
      "336/336 [==============================] - 14s 42ms/step - loss: 0.0428 - dense_2_loss: 0.0182 - dense_3_loss: 0.0052 - dense_4_loss: 0.0193 - val_loss: 0.0300 - val_dense_2_loss: 0.0167 - val_dense_3_loss: 0.0052 - val_dense_4_loss: 0.0198\n",
      "Epoch 52/100\n",
      "336/336 [==============================] - 14s 42ms/step - loss: 0.0418 - dense_2_loss: 0.0175 - dense_3_loss: 0.0052 - dense_4_loss: 0.0191 - val_loss: 0.0299 - val_dense_2_loss: 0.0166 - val_dense_3_loss: 0.0053 - val_dense_4_loss: 0.0197\n",
      "Epoch 53/100\n",
      "336/336 [==============================] - 14s 42ms/step - loss: 0.0421 - dense_2_loss: 0.0177 - dense_3_loss: 0.0052 - dense_4_loss: 0.0192 - val_loss: 0.0297 - val_dense_2_loss: 0.0165 - val_dense_3_loss: 0.0052 - val_dense_4_loss: 0.0197\n",
      "Epoch 54/100\n",
      "336/336 [==============================] - 14s 42ms/step - loss: 0.0417 - dense_2_loss: 0.0173 - dense_3_loss: 0.0052 - dense_4_loss: 0.0191 - val_loss: 0.0296 - val_dense_2_loss: 0.0164 - val_dense_3_loss: 0.0052 - val_dense_4_loss: 0.0197\n",
      "Epoch 55/100\n",
      "336/336 [==============================] - 14s 42ms/step - loss: 0.0418 - dense_2_loss: 0.0174 - dense_3_loss: 0.0052 - dense_4_loss: 0.0192 - val_loss: 0.0294 - val_dense_2_loss: 0.0163 - val_dense_3_loss: 0.0052 - val_dense_4_loss: 0.0197\n",
      "Epoch 56/100\n",
      "336/336 [==============================] - 14s 42ms/step - loss: 0.0416 - dense_2_loss: 0.0173 - dense_3_loss: 0.0052 - dense_4_loss: 0.0191 - val_loss: 0.0292 - val_dense_2_loss: 0.0162 - val_dense_3_loss: 0.0051 - val_dense_4_loss: 0.0197\n",
      "Epoch 57/100\n",
      "336/336 [==============================] - 14s 42ms/step - loss: 0.0412 - dense_2_loss: 0.0170 - dense_3_loss: 0.0052 - dense_4_loss: 0.0190 - val_loss: 0.0290 - val_dense_2_loss: 0.0161 - val_dense_3_loss: 0.0051 - val_dense_4_loss: 0.0197\n",
      "Epoch 58/100\n",
      "336/336 [==============================] - 14s 42ms/step - loss: 0.0413 - dense_2_loss: 0.0171 - dense_3_loss: 0.0052 - dense_4_loss: 0.0191 - val_loss: 0.0288 - val_dense_2_loss: 0.0160 - val_dense_3_loss: 0.0051 - val_dense_4_loss: 0.0197\n",
      "Epoch 59/100\n",
      "336/336 [==============================] - 14s 42ms/step - loss: 0.0410 - dense_2_loss: 0.0167 - dense_3_loss: 0.0053 - dense_4_loss: 0.0189 - val_loss: 0.0286 - val_dense_2_loss: 0.0159 - val_dense_3_loss: 0.0051 - val_dense_4_loss: 0.0196\n",
      "Epoch 60/100\n",
      "336/336 [==============================] - 14s 42ms/step - loss: 0.0407 - dense_2_loss: 0.0166 - dense_3_loss: 0.0051 - dense_4_loss: 0.0190 - val_loss: 0.0284 - val_dense_2_loss: 0.0157 - val_dense_3_loss: 0.0051 - val_dense_4_loss: 0.0196\n",
      "Epoch 61/100\n",
      "336/336 [==============================] - 14s 42ms/step - loss: 0.0406 - dense_2_loss: 0.0166 - dense_3_loss: 0.0051 - dense_4_loss: 0.0190 - val_loss: 0.0283 - val_dense_2_loss: 0.0156 - val_dense_3_loss: 0.0051 - val_dense_4_loss: 0.0196\n",
      "Epoch 62/100\n",
      "336/336 [==============================] - 14s 41ms/step - loss: 0.0401 - dense_2_loss: 0.0162 - dense_3_loss: 0.0051 - dense_4_loss: 0.0189 - val_loss: 0.0281 - val_dense_2_loss: 0.0156 - val_dense_3_loss: 0.0051 - val_dense_4_loss: 0.0196\n",
      "Epoch 63/100\n",
      "336/336 [==============================] - 14s 42ms/step - loss: 0.0405 - dense_2_loss: 0.0165 - dense_3_loss: 0.0050 - dense_4_loss: 0.0190 - val_loss: 0.0280 - val_dense_2_loss: 0.0155 - val_dense_3_loss: 0.0050 - val_dense_4_loss: 0.0196\n",
      "Epoch 64/100\n",
      "336/336 [==============================] - 14s 42ms/step - loss: 0.0400 - dense_2_loss: 0.0160 - dense_3_loss: 0.0050 - dense_4_loss: 0.0189 - val_loss: 0.0279 - val_dense_2_loss: 0.0153 - val_dense_3_loss: 0.0050 - val_dense_4_loss: 0.0196\n",
      "Epoch 65/100\n"
     ]
    },
    {
     "name": "stdout",
     "output_type": "stream",
     "text": [
      "336/336 [==============================] - 14s 41ms/step - loss: 0.0398 - dense_2_loss: 0.0159 - dense_3_loss: 0.0050 - dense_4_loss: 0.0189 - val_loss: 0.0276 - val_dense_2_loss: 0.0152 - val_dense_3_loss: 0.0050 - val_dense_4_loss: 0.0196\n",
      "Epoch 66/100\n",
      "336/336 [==============================] - 14s 41ms/step - loss: 0.0397 - dense_2_loss: 0.0159 - dense_3_loss: 0.0050 - dense_4_loss: 0.0189 - val_loss: 0.0275 - val_dense_2_loss: 0.0151 - val_dense_3_loss: 0.0050 - val_dense_4_loss: 0.0196\n",
      "Epoch 67/100\n",
      "336/336 [==============================] - 14s 41ms/step - loss: 0.0397 - dense_2_loss: 0.0158 - dense_3_loss: 0.0050 - dense_4_loss: 0.0189 - val_loss: 0.0273 - val_dense_2_loss: 0.0150 - val_dense_3_loss: 0.0050 - val_dense_4_loss: 0.0196\n",
      "Epoch 68/100\n",
      "336/336 [==============================] - 14s 41ms/step - loss: 0.0393 - dense_2_loss: 0.0156 - dense_3_loss: 0.0050 - dense_4_loss: 0.0188 - val_loss: 0.0273 - val_dense_2_loss: 0.0149 - val_dense_3_loss: 0.0050 - val_dense_4_loss: 0.0196\n",
      "Epoch 69/100\n",
      "336/336 [==============================] - 14s 41ms/step - loss: 0.0396 - dense_2_loss: 0.0158 - dense_3_loss: 0.0050 - dense_4_loss: 0.0189 - val_loss: 0.0273 - val_dense_2_loss: 0.0149 - val_dense_3_loss: 0.0050 - val_dense_4_loss: 0.0196\n",
      "Epoch 70/100\n",
      "336/336 [==============================] - 14s 41ms/step - loss: 0.0390 - dense_2_loss: 0.0153 - dense_3_loss: 0.0050 - dense_4_loss: 0.0187 - val_loss: 0.0271 - val_dense_2_loss: 0.0147 - val_dense_3_loss: 0.0049 - val_dense_4_loss: 0.0196\n",
      "Epoch 71/100\n",
      "336/336 [==============================] - 14s 41ms/step - loss: 0.0395 - dense_2_loss: 0.0156 - dense_3_loss: 0.0050 - dense_4_loss: 0.0189 - val_loss: 0.0270 - val_dense_2_loss: 0.0148 - val_dense_3_loss: 0.0049 - val_dense_4_loss: 0.0196\n",
      "Epoch 72/100\n",
      "336/336 [==============================] - 14s 41ms/step - loss: 0.0384 - dense_2_loss: 0.0148 - dense_3_loss: 0.0050 - dense_4_loss: 0.0187 - val_loss: 0.0269 - val_dense_2_loss: 0.0145 - val_dense_3_loss: 0.0049 - val_dense_4_loss: 0.0195\n",
      "Epoch 73/100\n",
      "336/336 [==============================] - 14s 42ms/step - loss: 0.0394 - dense_2_loss: 0.0156 - dense_3_loss: 0.0050 - dense_4_loss: 0.0189 - val_loss: 0.0270 - val_dense_2_loss: 0.0148 - val_dense_3_loss: 0.0049 - val_dense_4_loss: 0.0195\n",
      "Epoch 74/100\n",
      "336/336 [==============================] - 14s 42ms/step - loss: 0.0380 - dense_2_loss: 0.0145 - dense_3_loss: 0.0049 - dense_4_loss: 0.0186 - val_loss: 0.0268 - val_dense_2_loss: 0.0144 - val_dense_3_loss: 0.0049 - val_dense_4_loss: 0.0195\n",
      "Epoch 75/100\n",
      "336/336 [==============================] - 14s 41ms/step - loss: 0.0391 - dense_2_loss: 0.0153 - dense_3_loss: 0.0050 - dense_4_loss: 0.0188 - val_loss: 0.0267 - val_dense_2_loss: 0.0147 - val_dense_3_loss: 0.0049 - val_dense_4_loss: 0.0195\n",
      "Epoch 76/100\n",
      "336/336 [==============================] - 14s 42ms/step - loss: 0.0378 - dense_2_loss: 0.0143 - dense_3_loss: 0.0049 - dense_4_loss: 0.0186 - val_loss: 0.0266 - val_dense_2_loss: 0.0144 - val_dense_3_loss: 0.0049 - val_dense_4_loss: 0.0195\n",
      "Epoch 77/100\n",
      "336/336 [==============================] - 14s 42ms/step - loss: 0.0385 - dense_2_loss: 0.0148 - dense_3_loss: 0.0049 - dense_4_loss: 0.0187 - val_loss: 0.0264 - val_dense_2_loss: 0.0145 - val_dense_3_loss: 0.0049 - val_dense_4_loss: 0.0195\n",
      "Epoch 78/100\n",
      "336/336 [==============================] - 14s 42ms/step - loss: 0.0373 - dense_2_loss: 0.0139 - dense_3_loss: 0.0049 - dense_4_loss: 0.0185 - val_loss: 0.0262 - val_dense_2_loss: 0.0142 - val_dense_3_loss: 0.0049 - val_dense_4_loss: 0.0194\n",
      "Epoch 79/100\n",
      "336/336 [==============================] - 14s 42ms/step - loss: 0.0383 - dense_2_loss: 0.0147 - dense_3_loss: 0.0049 - dense_4_loss: 0.0187 - val_loss: 0.0263 - val_dense_2_loss: 0.0143 - val_dense_3_loss: 0.0049 - val_dense_4_loss: 0.0194\n",
      "Epoch 80/100\n",
      "336/336 [==============================] - 14s 42ms/step - loss: 0.0372 - dense_2_loss: 0.0137 - dense_3_loss: 0.0050 - dense_4_loss: 0.0185 - val_loss: 0.0260 - val_dense_2_loss: 0.0139 - val_dense_3_loss: 0.0048 - val_dense_4_loss: 0.0194\n",
      "Epoch 81/100\n",
      "336/336 [==============================] - 14s 42ms/step - loss: 0.0385 - dense_2_loss: 0.0148 - dense_3_loss: 0.0050 - dense_4_loss: 0.0186 - val_loss: 0.0261 - val_dense_2_loss: 0.0142 - val_dense_3_loss: 0.0048 - val_dense_4_loss: 0.0194\n",
      "Epoch 82/100\n",
      "336/336 [==============================] - 14s 41ms/step - loss: 0.0368 - dense_2_loss: 0.0135 - dense_3_loss: 0.0050 - dense_4_loss: 0.0184 - val_loss: 0.0258 - val_dense_2_loss: 0.0137 - val_dense_3_loss: 0.0048 - val_dense_4_loss: 0.0193\n",
      "Epoch 83/100\n",
      "336/336 [==============================] - 14s 42ms/step - loss: 0.0385 - dense_2_loss: 0.0144 - dense_3_loss: 0.0052 - dense_4_loss: 0.0189 - val_loss: 0.0259 - val_dense_2_loss: 0.0140 - val_dense_3_loss: 0.0049 - val_dense_4_loss: 0.0193\n",
      "Epoch 84/100\n",
      "336/336 [==============================] - 14s 42ms/step - loss: 0.0372 - dense_2_loss: 0.0133 - dense_3_loss: 0.0055 - dense_4_loss: 0.0184 - val_loss: 0.0258 - val_dense_2_loss: 0.0136 - val_dense_3_loss: 0.0049 - val_dense_4_loss: 0.0193\n",
      "Epoch 85/100\n",
      "336/336 [==============================] - 14s 42ms/step - loss: 0.0378 - dense_2_loss: 0.0139 - dense_3_loss: 0.0052 - dense_4_loss: 0.0188 - val_loss: 0.0258 - val_dense_2_loss: 0.0137 - val_dense_3_loss: 0.0049 - val_dense_4_loss: 0.0193\n",
      "Epoch 86/100\n",
      "336/336 [==============================] - 14s 41ms/step - loss: 0.0364 - dense_2_loss: 0.0130 - dense_3_loss: 0.0050 - dense_4_loss: 0.0184 - val_loss: 0.0257 - val_dense_2_loss: 0.0134 - val_dense_3_loss: 0.0049 - val_dense_4_loss: 0.0193\n",
      "Epoch 87/100\n",
      "336/336 [==============================] - 14s 42ms/step - loss: 0.0373 - dense_2_loss: 0.0137 - dense_3_loss: 0.0049 - dense_4_loss: 0.0187 - val_loss: 0.0257 - val_dense_2_loss: 0.0135 - val_dense_3_loss: 0.0049 - val_dense_4_loss: 0.0193\n",
      "Epoch 88/100\n",
      "336/336 [==============================] - 14s 41ms/step - loss: 0.0362 - dense_2_loss: 0.0129 - dense_3_loss: 0.0049 - dense_4_loss: 0.0184 - val_loss: 0.0255 - val_dense_2_loss: 0.0133 - val_dense_3_loss: 0.0048 - val_dense_4_loss: 0.0193\n",
      "Epoch 89/100\n",
      "336/336 [==============================] - 14s 42ms/step - loss: 0.0372 - dense_2_loss: 0.0137 - dense_3_loss: 0.0049 - dense_4_loss: 0.0186 - val_loss: 0.0255 - val_dense_2_loss: 0.0135 - val_dense_3_loss: 0.0048 - val_dense_4_loss: 0.0192\n",
      "Epoch 90/100\n",
      "336/336 [==============================] - 14s 42ms/step - loss: 0.0359 - dense_2_loss: 0.0127 - dense_3_loss: 0.0048 - dense_4_loss: 0.0183 - val_loss: 0.0253 - val_dense_2_loss: 0.0131 - val_dense_3_loss: 0.0048 - val_dense_4_loss: 0.0192\n",
      "Epoch 91/100\n",
      "336/336 [==============================] - 14s 42ms/step - loss: 0.0368 - dense_2_loss: 0.0134 - dense_3_loss: 0.0049 - dense_4_loss: 0.0185 - val_loss: 0.0253 - val_dense_2_loss: 0.0133 - val_dense_3_loss: 0.0048 - val_dense_4_loss: 0.0192\n",
      "Epoch 92/100\n",
      "336/336 [==============================] - 14s 42ms/step - loss: 0.0359 - dense_2_loss: 0.0127 - dense_3_loss: 0.0049 - dense_4_loss: 0.0183 - val_loss: 0.0252 - val_dense_2_loss: 0.0130 - val_dense_3_loss: 0.0048 - val_dense_4_loss: 0.0192\n",
      "Epoch 93/100\n",
      "336/336 [==============================] - 14s 42ms/step - loss: 0.0360 - dense_2_loss: 0.0127 - dense_3_loss: 0.0049 - dense_4_loss: 0.0184 - val_loss: 0.0252 - val_dense_2_loss: 0.0130 - val_dense_3_loss: 0.0048 - val_dense_4_loss: 0.0192\n",
      "Epoch 94/100\n",
      "336/336 [==============================] - 14s 41ms/step - loss: 0.0359 - dense_2_loss: 0.0127 - dense_3_loss: 0.0049 - dense_4_loss: 0.0183 - val_loss: 0.0250 - val_dense_2_loss: 0.0130 - val_dense_3_loss: 0.0048 - val_dense_4_loss: 0.0192\n",
      "Epoch 95/100\n",
      "336/336 [==============================] - 14s 41ms/step - loss: 0.0359 - dense_2_loss: 0.0127 - dense_3_loss: 0.0048 - dense_4_loss: 0.0184 - val_loss: 0.0249 - val_dense_2_loss: 0.0129 - val_dense_3_loss: 0.0048 - val_dense_4_loss: 0.0192\n",
      "Epoch 96/100\n",
      "336/336 [==============================] - 14s 42ms/step - loss: 0.0354 - dense_2_loss: 0.0122 - dense_3_loss: 0.0048 - dense_4_loss: 0.0184 - val_loss: 0.0248 - val_dense_2_loss: 0.0128 - val_dense_3_loss: 0.0048 - val_dense_4_loss: 0.0192\n",
      "Epoch 97/100\n"
     ]
    },
    {
     "name": "stdout",
     "output_type": "stream",
     "text": [
      "336/336 [==============================] - 14s 41ms/step - loss: 0.0364 - dense_2_loss: 0.0130 - dense_3_loss: 0.0049 - dense_4_loss: 0.0185 - val_loss: 0.0249 - val_dense_2_loss: 0.0131 - val_dense_3_loss: 0.0048 - val_dense_4_loss: 0.0192\n",
      "Epoch 98/100\n",
      "336/336 [==============================] - 14s 41ms/step - loss: 0.0349 - dense_2_loss: 0.0119 - dense_3_loss: 0.0048 - dense_4_loss: 0.0182 - val_loss: 0.0246 - val_dense_2_loss: 0.0126 - val_dense_3_loss: 0.0048 - val_dense_4_loss: 0.0191\n",
      "Epoch 99/100\n",
      "336/336 [==============================] - 14s 41ms/step - loss: 0.0366 - dense_2_loss: 0.0132 - dense_3_loss: 0.0049 - dense_4_loss: 0.0185 - val_loss: 0.0248 - val_dense_2_loss: 0.0129 - val_dense_3_loss: 0.0048 - val_dense_4_loss: 0.0191\n",
      "Epoch 100/100\n",
      "336/336 [==============================] - 14s 41ms/step - loss: 0.0347 - dense_2_loss: 0.0117 - dense_3_loss: 0.0048 - dense_4_loss: 0.0182 - val_loss: 0.0246 - val_dense_2_loss: 0.0125 - val_dense_3_loss: 0.0048 - val_dense_4_loss: 0.0191\n"
     ]
    },
    {
     "data": {
      "text/plain": [
       "<keras.callbacks.callbacks.History at 0x7fae46392b70>"
      ]
     },
     "execution_count": 40,
     "metadata": {},
     "output_type": "execute_result"
    }
   ],
   "source": [
    "# fit model\n",
    "\n",
    "epochs = 100\n",
    "model.fit_generator(trainGen, epochs=epochs, shuffle=False, verbose=1, validation_data=(valGen))"
   ]
  },
  {
   "cell_type": "markdown",
   "metadata": {},
   "source": [
    "### Visualize the loss"
   ]
  },
  {
   "cell_type": "code",
   "execution_count": 45,
   "metadata": {},
   "outputs": [
    {
     "data": {
      "text/plain": [
       "Text(0.5, 1.0, 'Loss')"
      ]
     },
     "execution_count": 45,
     "metadata": {},
     "output_type": "execute_result"
    },
    {
     "data": {
      "image/png": "[encoded data removed]",
      "text/plain": [
       "<Figure size 432x288 with 1 Axes>"
      ]
     },
     "metadata": {
      "needs_background": "light"
     },
     "output_type": "display_data"
    }
   ],
   "source": [
    "plt.plot(model.history.history['loss'], label=\"Loss\", color='blue')\n",
    "plt.plot(model.history.history['val_loss'], label=\"Validation\", color='red')\n",
    "plt.legend()\n",
    "plt.xlim(0,105)\n",
    "plt.ylim(0,.15)\n",
    "plt.title('Loss')"
   ]
  },
  {
   "cell_type": "markdown",
   "metadata": {},
   "source": [
    "### Evaluate on the test data"
   ]
  },
  {
   "cell_type": "code",
   "execution_count": 42,
   "metadata": {},
   "outputs": [
    {
     "name": "stdout",
     "output_type": "stream",
     "text": [
      "112/112 [==============================] - 6s 56ms/step\n",
      "Testing MSE: [0.013945091515779495, 0.014202057383954525, 0.0049036112613976, 0.017824390903115273]\n"
     ]
    }
   ],
   "source": [
    "testGen = NpzDataGenerator(npzPath+'testing_sequences/', test)\n",
    "mse = model.evaluate_generator(testGen, verbose=1)\n",
    "print(\"Testing MSE:\", mse)"
   ]
  },
  {
   "cell_type": "markdown",
   "metadata": {},
   "source": [
    "### Make some predictions"
   ]
  },
  {
   "cell_type": "code",
   "execution_count": 46,
   "metadata": {},
   "outputs": [
    {
     "name": "stdout",
     "output_type": "stream",
     "text": [
      "(30400, 8, 3)\n",
      "\n",
      "Predicted\n",
      "[array([[1.0816665 , 1.0771936 , 1.0934881 , 1.0960213 , 1.1025053 ,\n",
      "        1.1114004 , 1.1031126 , 1.1146909 , 1.1139371 , 1.1244956 ,\n",
      "        1.1286956 , 1.1100794 , 1.1018293 , 1.0879569 , 1.0807091 ,\n",
      "        1.0579661 , 1.0474472 , 1.0265752 , 1.0028304 , 0.9782356 ,\n",
      "        0.94906414, 0.9198167 , 0.89989793, 0.8850465 ]], dtype=float32), array([[ 0.24650761,  0.24617368,  0.24999073,  0.23832758,  0.24529447,\n",
      "         0.23612309,  0.23350665,  0.22672246,  0.20633811,  0.20825675,\n",
      "         0.19372116,  0.18155155,  0.16996385,  0.15961346,  0.1359928 ,\n",
      "         0.12202951,  0.10963362,  0.08016526,  0.06087803,  0.04347164,\n",
      "         0.02007231,  0.00087142, -0.02648231, -0.04857822]],\n",
      "      dtype=float32), array([[-0.15693837, -0.13512215, -0.10396975, -0.06682399, -0.03701448,\n",
      "        -0.01639064,  0.01687126,  0.03928909,  0.07722078,  0.10239827,\n",
      "         0.13420498,  0.15188776,  0.1794657 ,  0.20379765,  0.22832054,\n",
      "         0.24952608,  0.26132283,  0.28709227,  0.3198499 ,  0.33124524,\n",
      "         0.35068125,  0.37996688,  0.38978547,  0.4151237 ]],\n",
      "      dtype=float32)]\n",
      "\n",
      "Actual\n",
      "[[ 1.07950917  0.24396028 -0.16051327]\n",
      " [ 1.09074545  0.24697103 -0.12484365]\n",
      " [ 1.09917265  0.24922909 -0.08917404]\n",
      " [ 1.1047908   0.25073448 -0.05350442]\n",
      " [ 1.10759988  0.25148715 -0.01783481]\n",
      " [ 1.10759988  0.25148715  0.01783481]\n",
      " [ 1.1047908   0.25073448  0.05350442]\n",
      " [ 1.09917265  0.24922909  0.08917404]\n",
      " [ 1.09074545  0.24697103  0.12484365]\n",
      " [ 1.07950917  0.24396028  0.16051327]\n",
      " [ 1.06546382  0.24019684  0.19618288]\n",
      " [ 1.0486094   0.23568071  0.2318525 ]\n",
      " [ 1.0289459   0.23041189  0.2675221 ]\n",
      " [ 1.00647335  0.22439039  0.30319172]\n",
      " [ 0.98119173  0.2176162   0.33886135]\n",
      " [ 0.95310102  0.21008931  0.37453095]\n",
      " [ 0.92220125  0.20180974  0.41020058]\n",
      " [ 0.8884924   0.19277749  0.44587018]\n",
      " [ 0.8519745   0.18299255  0.4815398 ]\n",
      " [ 0.81264753  0.17245491  0.51720943]\n",
      " [ 0.77051147  0.16116459  0.55287902]\n",
      " [ 0.72556635  0.14912158  0.58854865]\n",
      " [ 0.67781215  0.13632589  0.62421825]\n",
      " [ 0.6272489   0.1227775   0.65988788]]\n"
     ]
    }
   ],
   "source": [
    "nfile = np.load('/data/lstm/npz/training_sequences/fluxropes_sequences_108.npz')\n",
    "t1 = nfile['x']\n",
    "t2 = nfile['y']\n",
    "print(t1.shape)\n",
    "print()\n",
    "\n",
    "v = t1[12,:,:]\n",
    "#v = t1[12,:,0]\n",
    "\n",
    "# demonstrate prediction\n",
    "x_input = v.reshape((1, n_steps_in, n_features))\n",
    "#x_input = v.reshape((1, n_steps_in, 1))\n",
    "yhat = model.predict(x_input, verbose=0)\n",
    "\n",
    "print(\"Predicted\")\n",
    "print(yhat)\n",
    "print()\n",
    "print(\"Actual\")\n",
    "print(t2[12,:,:])"
   ]
  },
  {
   "cell_type": "markdown",
   "metadata": {},
   "source": [
    "### Write model to a file"
   ]
  },
  {
   "cell_type": "code",
   "execution_count": 54,
   "metadata": {},
   "outputs": [],
   "source": [
    "model.save_weights(\"/data/lstm/models/cnn_model_8in_24out_no_noise_all.h5\")"
   ]
  },
  {
   "cell_type": "markdown",
   "metadata": {},
   "source": [
    "### Visualize prediction"
   ]
  },
  {
   "cell_type": "code",
   "execution_count": 53,
   "metadata": {},
   "outputs": [
    {
     "data": {
      "text/plain": [
       "Text(0, 0.5, 'Bz')"
      ]
     },
     "execution_count": 53,
     "metadata": {},
     "output_type": "execute_result"
    },
    {
     "data": {
      "image/png": "[encoded data removed]",
      "text/plain": [
       "<Figure size 432x288 with 4 Axes>"
      ]
     },
     "metadata": {
      "needs_background": "light"
     },
     "output_type": "display_data"
    }
   ],
   "source": [
    "npzfile = np.load( npzPath + 'training/fluxropes_001.npz' )\n",
    "bx = npzfile['bx']\n",
    "by = npzfile['by']\n",
    "bz = npzfile['bz']\n",
    "\n",
    "# there are 1600 fluxropes in this npz file\n",
    "# let's pick one to work with\n",
    "ix = 2\n",
    "bx_seq = bx[ix,0:n_steps_in]\n",
    "by_seq = by[ix,0:n_steps_in]\n",
    "bz_seq = bz[ix,0:n_steps_in]\n",
    "\n",
    "in_seq1 = bx_seq.reshape((n_steps_in, 1))\n",
    "in_seq2 = by_seq.reshape((n_steps_in, 1))\n",
    "in_seq3 = bz_seq.reshape((n_steps_in, 1))\n",
    "   \n",
    "dataset = np.hstack((in_seq1,in_seq2,in_seq3))\n",
    "dataset = dataset.reshape((1, n_steps_in, n_features))\n",
    "#dataset = bx_seq\n",
    "#dataset = dataset.reshape((1, n_steps_in, 1))\n",
    "yhat = model.predict(dataset, verbose=0)\n",
    "\n",
    "bxp = yhat[0][0]\n",
    "byp = yhat[1][0]\n",
    "bzp = yhat[2][0]\n",
    "\n",
    "n = bx[ix,:].shape[0]\n",
    "x = np.arange(0, n)\n",
    "\n",
    "fillValues = np.full(n_steps_in,float('NaN'))\n",
    "#bx1 = np.concatenate( (fillValues, yhat[0,:]) )\n",
    "bx1 = np.concatenate( (fillValues, bxp) )\n",
    "by1 = np.concatenate( (fillValues, byp) )\n",
    "bz1 = np.concatenate( (fillValues, bzp) )\n",
    "\n",
    "fillValues = np.full(len(x)-bx1.shape[0],float('NaN'))\n",
    "bx1 = np.concatenate( (bx1, fillValues) )\n",
    "by1 = np.concatenate( (by1, fillValues) )\n",
    "bz1 = np.concatenate( (bz1, fillValues) )\n",
    "\n",
    "xx = bx[ix,:]*40\n",
    "yy = by[ix,:]*40\n",
    "zz = bz[ix,:]*40\n",
    "b = np.sqrt( xx*xx + yy*yy + zz*zz )\n",
    "\n",
    "xx2 = bx1*40\n",
    "yy2 = by1*40\n",
    "zz2 = bz1*40\n",
    "b2 = np.sqrt( xx2*xx2 + yy2*yy2 + zz2*zz2 )\n",
    "\n",
    "plt.subplot(4, 1, 1)\n",
    "plt.title('Magnetic Cloud Predictions')\n",
    "plt.plot(x, bx[ix,:])\n",
    "plt.plot(x, bx1, color='red', marker='.', linestyle='None' )\n",
    "plt.ylabel('B')\n",
    "plt.ylim(0,15)\n",
    "\n",
    "plt.subplot(4, 1, 2)\n",
    "plt.plot(x, bx[ix,:])\n",
    "plt.plot(x, bx1, color='red', marker='.', linestyle='None' )\n",
    "plt.ylabel('Bx')\n",
    "plt.ylim(-5,5)\n",
    "\n",
    "plt.subplot(4, 1, 3)\n",
    "plt.plot(x, yy)\n",
    "plt.plot(x, yy2, color='red', marker='.', linestyle='None' )\n",
    "plt.ylim(-35,35)\n",
    "plt.ylabel('By')\n",
    "\n",
    "plt.subplot(4, 1, 4)\n",
    "plt.plot(x/n, zz)\n",
    "plt.plot(x/n, zz2, color='red', marker='.', linestyle='None' )\n",
    "plt.ylim(-35,35)\n",
    "plt.ylabel('Bz')"
   ]
  },
  {
   "cell_type": "markdown",
   "metadata": {},
   "source": [
    "### Use the first set of predictions to make another set of predictions"
   ]
  },
  {
   "cell_type": "code",
   "execution_count": 135,
   "metadata": {},
   "outputs": [
    {
     "data": {
      "text/plain": [
       "Text(0, 0.5, 'Bz')"
      ]
     },
     "execution_count": 135,
     "metadata": {},
     "output_type": "execute_result"
    },
    {
     "data": {
      "image/png": "[encoded data removed]",
      "text/plain": [
       "<Figure size 432x288 with 4 Axes>"
      ]
     },
     "metadata": {
      "needs_background": "light"
     },
     "output_type": "display_data"
    }
   ],
   "source": [
    "npzfile = np.load( npzPath + 'training/fluxropes_001.npz' )\n",
    "bx = npzfile['bx']\n",
    "by = npzfile['by']\n",
    "bz = npzfile['bz']\n",
    "\n",
    "# there are 1600 fluxropes in this npz file\n",
    "# let's pick one to work with\n",
    "ix = 12\n",
    "bx_seq = bx[ix,0:n_steps_in]\n",
    "by_seq = by[ix,0:n_steps_in]\n",
    "bz_seq = bz[ix,0:n_steps_in]\n",
    "\n",
    "in_seq1 = bx_seq.reshape((n_steps_in, 1))\n",
    "in_seq2 = by_seq.reshape((n_steps_in, 1))\n",
    "in_seq3 = bz_seq.reshape((n_steps_in, 1))\n",
    "   \n",
    "dataset = np.hstack((in_seq1,in_seq2,in_seq3))\n",
    "dataset = dataset.reshape((1, n_steps_in, n_features))\n",
    "yhat = model.predict(dataset, verbose=0)\n",
    "\n",
    "n = bx[ix,:].shape[0]\n",
    "x = np.arange(0, n)\n",
    "fillValues = np.full(8,float('NaN'))\n",
    "\n",
    "bx1 = np.concatenate( (bx_seq[-4:], yhat[0,:,0]) )\n",
    "by1 = np.concatenate( (by_seq[-4:], yhat[0,:,1]) )\n",
    "bz1 = np.concatenate( (bz_seq[-4:], yhat[0,:,2]) )\n",
    "\n",
    "in_seq1 = bx_seq.reshape((n_steps_in, 1))\n",
    "in_seq2 = by_seq.reshape((n_steps_in, 1))\n",
    "in_seq3 = bz_seq.reshape((n_steps_in, 1))\n",
    "\n",
    "dataset = np.hstack((in_seq1,in_seq2,in_seq3))\n",
    "dataset = dataset.reshape((1, n_steps_in, n_features))\n",
    "yhat = model.predict(dataset, verbose=0)\n",
    "\n",
    "bx1 = np.concatenate( (bx1, yhat[0,:,0]) )\n",
    "by1 = np.concatenate( (by1, yhat[0,:,1]) )\n",
    "bz1 = np.concatenate( (bz1, yhat[0,:,2]) )\n",
    "\n",
    "bx1 = np.concatenate( (fillValues, bx1) )\n",
    "by1 = np.concatenate( (fillValues, by1) )\n",
    "bz1 = np.concatenate( (fillValues, bz1) )\n",
    "\n",
    "fillValues = np.full(len(x)-bx1.shape[0],float('NaN'))\n",
    "bx1 = np.concatenate( (bx1, fillValues) )\n",
    "by1 = np.concatenate( (by1, fillValues) )\n",
    "bz1 = np.concatenate( (bz1, fillValues) )\n",
    "\n",
    "xx = bx[ix,:]*40\n",
    "yy = by[ix,:]*40\n",
    "zz = bz[ix,:]*40\n",
    "b = np.sqrt( xx*xx + yy*yy + zz*zz )\n",
    "\n",
    "xx2 = bx1*40\n",
    "yy2 = by1*40\n",
    "zz2 = bz1*40\n",
    "b2 = np.sqrt( xx*xx + yy*yy + zz*zz )\n",
    "\n",
    "plt.subplot(4, 1, 1)\n",
    "plt.title('Magnetic Cloud Predictions')\n",
    "plt.plot(x, b)\n",
    "plt.plot(x, b2, color='red', marker='.', linestyle='None' )\n",
    "plt.ylabel('B')\n",
    "#plt.ylim(-1,1)\n",
    "\n",
    "plt.subplot(4, 1, 2)\n",
    "plt.plot(x, xx)\n",
    "plt.plot(x, xx2, color='red', marker='.', linestyle='None' )\n",
    "plt.ylabel('Bx')\n",
    "plt.ylim(-6,6)\n",
    "\n",
    "plt.subplot(4, 1, 3)\n",
    "plt.plot(x, yy)\n",
    "plt.plot(x, yy2, color='red', marker='.', linestyle='None' )\n",
    "plt.ylim(-8,8)\n",
    "plt.ylabel('By')\n",
    "\n",
    "plt.subplot(4, 1, 4)\n",
    "plt.plot(x/n, zz)\n",
    "plt.plot(x/n, zz2, color='red', marker='.', linestyle='None' )\n",
    "plt.ylim(-6,6)\n",
    "plt.ylabel('Bz')"
   ]
  },
  {
   "cell_type": "code",
   "execution_count": 38,
   "metadata": {},
   "outputs": [
    {
     "data": {
      "text/plain": [
       "0.24"
      ]
     },
     "execution_count": 38,
     "metadata": {},
     "output_type": "execute_result"
    }
   ],
   "source": [
    "12/50."
   ]
  },
  {
   "cell_type": "code",
   "execution_count": 39,
   "metadata": {},
   "outputs": [
    {
     "data": {
      "text/plain": [
       "48"
      ]
     },
     "execution_count": 39,
     "metadata": {},
     "output_type": "execute_result"
    }
   ],
   "source": [
    "4*12"
   ]
  },
  {
   "cell_type": "code",
   "execution_count": null,
   "metadata": {},
   "outputs": [],
   "source": []
  }
 ],
 "metadata": {
  "kernelspec": {
   "display_name": "Python 3",
   "language": "python",
   "name": "python3"
  },
  "language_info": {
   "codemirror_mode": {
    "name": "ipython",
    "version": 3
   },
   "file_extension": ".py",
   "mimetype": "text/x-python",
   "name": "python",
   "nbconvert_exporter": "python",
   "pygments_lexer": "ipython3",
   "version": "3.6.9"
  }
 },
 "nbformat": 4,
 "nbformat_minor": 4
}
