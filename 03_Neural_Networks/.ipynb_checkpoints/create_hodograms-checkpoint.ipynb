{
 "cells": [
  {
   "cell_type": "code",
   "execution_count": 1,
   "metadata": {},
   "outputs": [],
   "source": [
    "import glob\n",
    "import numpy as np\n",
    "from PIL import Image\n",
    "import matplotlib.pyplot as plt"
   ]
  },
  {
   "cell_type": "markdown",
   "metadata": {},
   "source": [
    "### Define functions we'll need throughout"
   ]
  },
  {
   "cell_type": "code",
   "execution_count": 2,
   "metadata": {},
   "outputs": [],
   "source": [
    "def readCSV(file):\n",
    "              \n",
    "    x = []\n",
    "    y = []\n",
    "    z = []\n",
    "    openFile = open(file, \"r\")\n",
    "    for line in openFile:\n",
    "        parts = line.split(\",\")\n",
    "        x.append(float(parts[0]))\n",
    "        y.append(float(parts[1]))\n",
    "        z.append(float(parts[2]))\n",
    "    openFile.close()\n",
    "        \n",
    "    bx = np.array(x)\n",
    "    by = np.array(y)\n",
    "    bz = np.array(z)\n",
    "       \n",
    "    return bx, by, bz"
   ]
  },
  {
   "cell_type": "code",
   "execution_count": 3,
   "metadata": {},
   "outputs": [],
   "source": [
    "def createHodo(bx, by, bz):\n",
    "\n",
    "    fnames = ['hodo_bx_by.jpg', 'hodo_bx_bz.jpg', 'hodo_bz_by.jpg']\n",
    "    for i in range(3):\n",
    "\n",
    "        fig, ax = plt.subplots(1,1,figsize=(1.5,1.5))\n",
    "\n",
    "        ax.set_axis_off()\n",
    "        if (i == 0):\n",
    "            ax.plot(bx, by, 'k') # 'k' is color abbreviation for black\n",
    "            ax.scatter(bx[0], by[0], s=30, c='grey')\n",
    "        elif (i == 1):\n",
    "            ax.plot(bx, bz, 'k') # 'k' is color abbreviation for black\n",
    "            ax.scatter(bx[0], bz[0], s=30, c='grey')\n",
    "        else:\n",
    "            ax.plot(bz, by, 'k') # 'k' is color abbreviation for black\n",
    "            ax.scatter(bz[0], by[0], s=30, c='grey')\n",
    "        \n",
    "        fig.savefig('/home/narock/Desktop/' + fnames[i])\n",
    "        plt.close()\n",
    "        \n",
    "    stacked = np.zeros( shape=(108,108,3) )\n",
    "    for i in range(3):\n",
    "        img = np.array(Image.open('/home/narock/Desktop/' + fnames[i]).convert('L'))\n",
    "        img = img / np.max(img)\n",
    "        stacked[:,:,i] = img\n",
    "        \n",
    "    return stacked"
   ]
  },
  {
   "cell_type": "markdown",
   "metadata": {},
   "source": [
    "### Configuration variables and path setup"
   ]
  },
  {
   "cell_type": "code",
   "execution_count": 4,
   "metadata": {},
   "outputs": [],
   "source": [
    "csvPath = \"/data/lstm/csv_teressa/\"\n",
    "imgPath = \"/data/lstm/hodos/\""
   ]
  },
  {
   "cell_type": "markdown",
   "metadata": {},
   "source": [
    "### Get a list of all fluxrope files"
   ]
  },
  {
   "cell_type": "code",
   "execution_count": 5,
   "metadata": {},
   "outputs": [
    {
     "name": "stdout",
     "output_type": "stream",
     "text": [
      "Found 42592 fluxrope data files\n"
     ]
    }
   ],
   "source": [
    "# For now, grab just the y0/R = 0 files\n",
    "allFiles = glob.glob( csvPath + \"fluxrope_*_*_*_0_*.txt\")\n",
    "\n",
    "nFiles = len(allFiles)\n",
    "print(\"Found\", nFiles, \"fluxrope data files\")"
   ]
  },
  {
   "cell_type": "markdown",
   "metadata": {},
   "source": [
    "### Create hodograms"
   ]
  },
  {
   "cell_type": "code",
   "execution_count": null,
   "metadata": {},
   "outputs": [],
   "source": [
    "for i in range(nFiles):\n",
    "\n",
    "    bx, by, bz = readCSV(allFiles[i])\n",
    "\n",
    "    sp = 5\n",
    "    ix = 0\n",
    "    n = bx.shape[0]\n",
    "\n",
    "    allHodos = np.zeros( shape=(10,108,108,3))\n",
    "\n",
    "    while (sp <= n):\n",
    "\n",
    "        # break into 10 hodograms, 0 to 10%, 0 to 20%, 0 to 30%, etc.\n",
    "        bxTemp = bx[0:sp]\n",
    "        byTemp = by[0:sp]\n",
    "        bzTemp = bz[0:sp]\n",
    "        allHodos[ix,:,:,:] = createHodo(bxTemp, byTemp, bzTemp)\n",
    "    \n",
    "        parts = allFiles[i].split('/')\n",
    "        fname = parts[-1].strip()\n",
    "        parts = fname.split('.')\n",
    "        fname = parts[0].strip()\n",
    "        outfile = imgPath + fname + '.npz'\n",
    "        np.savez(outfile, hodo=allHodos)\n",
    "        \n",
    "        sp += 5\n",
    "        ix += 1"
   ]
  },
  {
   "cell_type": "code",
   "execution_count": 50,
   "metadata": {},
   "outputs": [
    {
     "data": {
      "text/plain": [
       "<matplotlib.image.AxesImage at 0x7f1c3de41908>"
      ]
     },
     "execution_count": 50,
     "metadata": {},
     "output_type": "execute_result"
    },
    {
     "data": {
      "image/png": "[encoded data removed]",
      "text/plain": [
       "<Figure size 432x288 with 1 Axes>"
      ]
     },
     "metadata": {
      "needs_background": "light"
     },
     "output_type": "display_data"
    }
   ],
   "source": [
    "stacked = np.zeros( shape=(108,108,3) )\n",
    "for i in range(3):\n",
    "    img = np.array(Image.open('/home/narock/Desktop/' + fnames[i]).convert('L'))\n",
    "    img = img / np.max(img)\n",
    "    stacked[:,:,i] = img\n",
    "\n",
    "#img.shape\n",
    "plt.imshow(stacked)\n",
    "#print(img)\n",
    "#np.unique(img,axis=2)"
   ]
  },
  {
   "cell_type": "code",
   "execution_count": 11,
   "metadata": {},
   "outputs": [
    {
     "ename": "ModuleNotFoundError",
     "evalue": "No module named 'Image'",
     "output_type": "error",
     "traceback": [
      "\u001b[0;31m---------------------------------------------------------------------------\u001b[0m",
      "\u001b[0;31mModuleNotFoundError\u001b[0m                       Traceback (most recent call last)",
      "\u001b[0;32m<ipython-input-11-a73c4ff6cc73>\u001b[0m in \u001b[0;36m<module>\u001b[0;34m\u001b[0m\n\u001b[0;32m----> 1\u001b[0;31m \u001b[0;32mimport\u001b[0m \u001b[0mImage\u001b[0m\u001b[0;34m\u001b[0m\u001b[0;34m\u001b[0m\u001b[0m\n\u001b[0m",
      "\u001b[0;31mModuleNotFoundError\u001b[0m: No module named 'Image'"
     ]
    }
   ],
   "source": [
    "import Image"
   ]
  },
  {
   "cell_type": "markdown",
   "metadata": {},
   "source": [
    "### Create npz files of training, testing, and validation to speed up network"
   ]
  },
  {
   "cell_type": "code",
   "execution_count": 145,
   "metadata": {},
   "outputs": [
    {
     "name": "stdout",
     "output_type": "stream",
     "text": [
      "Deleted 112 npz files in /data/lstm/npz/testing/\n",
      "Created 112 npz files in /data/lstm/npz/testing/\n",
      "Deleted 336 npz files in /data/lstm/npz/training/\n",
      "Created 336 npz files in /data/lstm/npz/training/\n",
      "Deleted 112 npz files in /data/lstm/npz/validation/\n",
      "Created 112 npz files in /data/lstm/npz/validation/\n",
      "\n",
      "Data generation: 3.22 minutes\n"
     ]
    }
   ],
   "source": [
    "startTime = time.time()\n",
    "\n",
    "makeNpzFiles(csvPath, npzPath+'testing/', test, 1600)\n",
    "makeNpzFiles(csvPath, npzPath+'training/', train, 1600)\n",
    "makeNpzFiles(csvPath, npzPath+'validation/', validation, 1600)\n",
    "\n",
    "# arrays now points to npz files\n",
    "test = [f for f in os.listdir(npzPath+'testing/') if \\\n",
    "        os.path.isfile(os.path.join(npzPath+'testing/', f))]\n",
    "train = [f for f in os.listdir(npzPath+'training/') if \\\n",
    "        os.path.isfile(os.path.join(npzPath+'training/', f))]\n",
    "validation = [f for f in os.listdir(npzPath+'validation/') if \\\n",
    "        os.path.isfile(os.path.join(npzPath+'validation/', f))]\n",
    "\n",
    "# convert from lists to numpy arrays\n",
    "test = np.array(test)\n",
    "train = np.array(train)\n",
    "validation = np.array(validation)\n",
    "\n",
    "stopTime = time.time()\n",
    "duration = stopTime-startTime\n",
    "print()\n",
    "print(\"Data generation:\", round(duration/60, 2), \"minutes\")"
   ]
  },
  {
   "cell_type": "markdown",
   "metadata": {},
   "source": [
    "### Sanity check - Load and visualize one of the fluxrope"
   ]
  },
  {
   "cell_type": "code",
   "execution_count": 68,
   "metadata": {},
   "outputs": [],
   "source": [
    "npzfile = np.load( npzPath + 'training/fluxropes_001.npz' )\n",
    "bx = npzfile['bx']\n",
    "by = npzfile['by']\n",
    "bz = npzfile['bz']\n",
    "\n",
    "# 50 points per fluxrope and 1600 fluxropes per npz file\n",
    "assert bx.shape[0] == 1600\n",
    "assert bx.shape[1] == 50 "
   ]
  },
  {
   "cell_type": "code",
   "execution_count": 85,
   "metadata": {},
   "outputs": [
    {
     "data": {
      "text/plain": [
       "[<matplotlib.lines.Line2D at 0x7fae45ed6da0>]"
      ]
     },
     "execution_count": 85,
     "metadata": {},
     "output_type": "execute_result"
    },
    {
     "data": {
      "image/png": "[encoded data removed]",
      "text/plain": [
       "<Figure size 432x288 with 3 Axes>"
      ]
     },
     "metadata": {
      "needs_background": "light"
     },
     "output_type": "display_data"
    }
   ],
   "source": [
    "n = bx.shape[1]\n",
    "x = np.arange(0,n)\n",
    "\n",
    "fig, axs = plt.subplots(3)\n",
    "fig.suptitle('Magnetic Cloud')\n",
    "axs[0].plot(x, bx[0,:])\n",
    "axs[1].plot(x, by[0,:])\n",
    "axs[2].plot(x, bz[0,:])"
   ]
  },
  {
   "cell_type": "markdown",
   "metadata": {},
   "source": [
    "### Create sequences"
   ]
  },
  {
   "cell_type": "code",
   "execution_count": 146,
   "metadata": {},
   "outputs": [
    {
     "name": "stdout",
     "output_type": "stream",
     "text": [
      "Deleted 336 npz files in /data/lstm/npz/training_sequences/\n",
      "Completed training sequence generation\n",
      "Deleted 112 npz files in /data/lstm/npz/validation_sequences/\n",
      "Completed validation sequence generation\n",
      "Deleted 112 npz files in /data/lstm/npz/testing_sequences/\n",
      "Completed testing sequence generation\n",
      "\n",
      "Sequence generation: 13.96 minutes\n"
     ]
    }
   ],
   "source": [
    "startTime = time.time()\n",
    "\n",
    "# train\n",
    "makeSequences(train, npzPath, 'training')\n",
    "    \n",
    "# validation\n",
    "makeSequences(validation, npzPath, 'validation')\n",
    "    \n",
    "# testing\n",
    "makeSequences(test, npzPath, 'testing')\n",
    "\n",
    "# arrays now points to npz sequence files\n",
    "test = [f for f in os.listdir(npzPath+'testing_sequences/') if \\\n",
    "        os.path.isfile(os.path.join(npzPath+'testing_sequences/', f))]\n",
    "\n",
    "train = [f for f in os.listdir(npzPath+'training_sequences/') if \\\n",
    "        os.path.isfile(os.path.join(npzPath+'training_sequences/', f))]\n",
    "\n",
    "validation = [f for f in os.listdir(npzPath+'validation_sequences/') if \\\n",
    "        os.path.isfile(os.path.join(npzPath+'validation_sequences/', f))]\n",
    "\n",
    "stopTime = time.time()\n",
    "duration = stopTime-startTime\n",
    "print()\n",
    "print(\"Sequence generation:\", round(duration/60., 2), \"minutes\")"
   ]
  },
  {
   "cell_type": "markdown",
   "metadata": {},
   "source": [
    "### Data reader"
   ]
  },
  {
   "cell_type": "code",
   "execution_count": 209,
   "metadata": {},
   "outputs": [],
   "source": [
    "class NpzDataGenerator(Sequence):\n",
    "    \n",
    "    def __init__(self, d, files, batch_size=1, shuffle=False):\n",
    "        \n",
    "        self.batch_size = batch_size\n",
    "        self.files = files\n",
    "        self.dir = d\n",
    "        self.shuffle = shuffle\n",
    "        self.on_epoch_end()\n",
    "\n",
    "    def __len__(self):\n",
    "        \n",
    "        'Denotes the number of batches per epoch'\n",
    "\n",
    "        'If the batch size doesnt divide evenly then add 1'\n",
    "        diff = (len(self.files) / self.batch_size) - np.floor((len(self.files) / self.batch_size))\n",
    "        if ( diff > 0 ):\n",
    "            return int(np.floor(len(self.files) / self.batch_size))+1\n",
    "        else:\n",
    "            return int(np.floor(len(self.files) / self.batch_size))\n",
    "\n",
    "    def __getitem__(self, index):\n",
    "        \n",
    "        'Generate one batch of data'\n",
    "        # Generate indexes of the batch\n",
    "        indexes = self.indexes[index*self.batch_size:(index+1)*self.batch_size]\n",
    "\n",
    "        # get list of files\n",
    "        #files = [self.files[k] for k in indexes]\n",
    "        file = self.files[indexes[0]]\n",
    "        \n",
    "        # Generate data\n",
    "        npzfile = np.load(self.dir + file)\n",
    "        x = npzfile['x']\n",
    "        y = npzfile['y']\n",
    "        \n",
    "        #x = x[:,:,0]\n",
    "        #y = y[:,:,0]\n",
    "        #x = x.reshape( x.shape[0], x.shape[1], 1 )\n",
    "        #y = y.reshape( y.shape[0], y.shape[1], 1 )\n",
    "        \n",
    "        y1 = y[:,:,0].reshape((y.shape[0], y.shape[1]))\n",
    "        y2 = y[:,:,1].reshape((y.shape[0], y.shape[1]))\n",
    "        y3 = y[:,:,2].reshape((y.shape[0], y.shape[1]))\n",
    "        \n",
    "        x = x[:,:,2]\n",
    "        x = x.reshape( x.shape[0], x.shape[1], 1 )\n",
    "        return x, y3 #[y1, y2, y3]\n",
    "\n",
    "    def on_epoch_end(self):\n",
    "        \n",
    "        'Updates indexes after each epoch'\n",
    "        self.indexes = np.arange(len(self.files))\n",
    "        if self.shuffle == True:\n",
    "            np.random.shuffle(self.indexes)"
   ]
  },
  {
   "cell_type": "markdown",
   "metadata": {},
   "source": [
    "### Train the model"
   ]
  },
  {
   "cell_type": "code",
   "execution_count": 26,
   "metadata": {},
   "outputs": [],
   "source": [
    "# define model\n",
    "\n",
    "n_outputs = 32\n",
    "input_shape = (8, 3)\n",
    "\n",
    "def get_model():\n",
    "    \n",
    "    model = Sequential()\n",
    "    model.add(Conv1D(filters=64, kernel_size=3, activation='relu', input_shape=input_shape))\n",
    "    model.add(Conv1D(filters=64, kernel_size=3, activation='relu'))\n",
    "    model.add(MaxPooling1D(pool_size=2))\n",
    "    model.add(Flatten())\n",
    "    model.add(RepeatVector(n_outputs))\n",
    "    model.add(LSTM(100, activation='relu', return_sequences=True))\n",
    "    model.add(TimeDistributed(Dense(50, activation='relu')))\n",
    "    model.add(TimeDistributed(Dense(3)))\n",
    "    model.compile(loss='mse', optimizer='adam')\n",
    "    \n",
    "    return model"
   ]
  },
  {
   "cell_type": "code",
   "execution_count": 101,
   "metadata": {},
   "outputs": [],
   "source": [
    "# define model\n",
    "\n",
    "n_outputs = 32\n",
    "input_shape = (8, 3)\n",
    "\n",
    "def get_model():\n",
    "    \n",
    "    model = Sequential()\n",
    "    model.add(Conv1D(filters=64, kernel_size=3, activation='relu', input_shape=input_shape))\n",
    "    model.add(Conv1D(filters=64, kernel_size=3, activation='relu'))\n",
    "    model.add(MaxPooling1D(pool_size=2))\n",
    "    model.add(Flatten())\n",
    "    #model.add(RepeatVector(n_outputs))\n",
    "    #model.add(LSTM(100, activation='relu', return_sequences=True))\n",
    "    #model.add(TimeDistributed(Dense(50, activation='relu')))\n",
    "    #model.add(TimeDistributed(Dense(1)))\n",
    "    model.add(Dense(50, activation='relu'))\n",
    "    model.add(Dense(32))\n",
    "    model.compile(loss='mse', optimizer='adam')\n",
    "    \n",
    "    return model"
   ]
  },
  {
   "cell_type": "code",
   "execution_count": 210,
   "metadata": {},
   "outputs": [],
   "source": [
    "from keras.models import Model\n",
    "from keras.layers import Input\n",
    "from keras.layers import Dense\n",
    "from keras.layers import Flatten\n",
    "from keras.layers.convolutional import Conv1D\n",
    "from keras.layers.convolutional import MaxPooling1D\n",
    "\n",
    "# define model\n",
    "\n",
    "input_shape = (n_steps_in, 1)\n",
    "\n",
    "def get_model():\n",
    "    \n",
    "    visible = Input(shape=input_shape)\n",
    "    cnn = Conv1D(filters=64, kernel_size=3, activation='relu')(visible)\n",
    "    #cnn = Conv1D(filters=64, kernel_size=3)(cnn)\n",
    "    cnn = MaxPooling1D(pool_size=2)(cnn)\n",
    "    cnn = Flatten()(cnn)\n",
    "    cnn = Dense(50, activation='relu')(cnn)\n",
    "    \n",
    "    # define output 1\n",
    "    output1 = Dense(n_steps_out)(cnn)\n",
    "    # define output 2\n",
    "    #output2 = Dense(n_steps_out)(cnn)\n",
    "    # define output 3\n",
    "    #output3 = Dense(n_steps_out)(cnn)\n",
    "    \n",
    "    #model = Model(inputs=visible, outputs=[output1, output2, output3])\n",
    "    model = Model(inputs=visible, outputs=output1)\n",
    "    model.compile(loss='mse', optimizer='adam')\n",
    "    \n",
    "    return model"
   ]
  },
  {
   "cell_type": "code",
   "execution_count": 211,
   "metadata": {},
   "outputs": [
    {
     "name": "stdout",
     "output_type": "stream",
     "text": [
      "Model: \"model_1\"\n",
      "_________________________________________________________________\n",
      "Layer (type)                 Output Shape              Param #   \n",
      "=================================================================\n",
      "input_1 (InputLayer)         (None, 16, 1)             0         \n",
      "_________________________________________________________________\n",
      "conv1d_1 (Conv1D)            (None, 14, 64)            256       \n",
      "_________________________________________________________________\n",
      "max_pooling1d_1 (MaxPooling1 (None, 7, 64)             0         \n",
      "_________________________________________________________________\n",
      "flatten_1 (Flatten)          (None, 448)               0         \n",
      "_________________________________________________________________\n",
      "dense_1 (Dense)              (None, 50)                22450     \n",
      "_________________________________________________________________\n",
      "dense_2 (Dense)              (None, 8)                 408       \n",
      "=================================================================\n",
      "Total params: 23,114\n",
      "Trainable params: 23,114\n",
      "Non-trainable params: 0\n",
      "_________________________________________________________________\n"
     ]
    }
   ],
   "source": [
    "# clear out any old models hanging around\n",
    "keras.backend.clear_session()\n",
    "\n",
    "trainGen = NpzDataGenerator(npzPath+'training_sequences/', train)\n",
    "valGen = NpzDataGenerator(npzPath+'validation_sequences/', validation)\n",
    "    \n",
    "# define model\n",
    "model = get_model()\n",
    "\n",
    "model.summary()"
   ]
  },
  {
   "cell_type": "code",
   "execution_count": 18,
   "metadata": {},
   "outputs": [],
   "source": [
    "# This is required for my GPU: GeForce RTX 2060\n",
    "# Without this config, tensorflow cannot properly allocate GPU memory\n",
    "config = tf.ConfigProto()\n",
    "config.gpu_options.allow_growth = True\n",
    "session = tf.Session(config=config)"
   ]
  },
  {
   "cell_type": "markdown",
   "metadata": {},
   "source": [
    "### Sanity check - do the sequences have the correct dimensions"
   ]
  },
  {
   "cell_type": "code",
   "execution_count": 152,
   "metadata": {},
   "outputs": [
    {
     "name": "stdout",
     "output_type": "stream",
     "text": [
      "(43200, 16, 3)\n",
      "(43200, 8, 3)\n"
     ]
    }
   ],
   "source": [
    "nfile = np.load('/data/lstm/npz/training_sequences/fluxropes_sequences_108.npz')\n",
    "t1 = nfile['x']\n",
    "t2 = nfile['y']\n",
    "print(t1.shape)\n",
    "print(t2.shape)"
   ]
  },
  {
   "cell_type": "code",
   "execution_count": 212,
   "metadata": {},
   "outputs": [
    {
     "name": "stdout",
     "output_type": "stream",
     "text": [
      "Epoch 1/100\n",
      "336/336 [==============================] - 23s 68ms/step - loss: 0.0242 - val_loss: 0.0259\n",
      "Epoch 2/100\n",
      "336/336 [==============================] - 23s 69ms/step - loss: 0.0121 - val_loss: 0.0238\n",
      "Epoch 3/100\n",
      "336/336 [==============================] - 23s 69ms/step - loss: 0.0112 - val_loss: 0.0238\n",
      "Epoch 4/100\n",
      "336/336 [==============================] - 23s 69ms/step - loss: 0.0109 - val_loss: 0.0239\n",
      "Epoch 5/100\n",
      "336/336 [==============================] - 23s 69ms/step - loss: 0.0107 - val_loss: 0.0239\n",
      "Epoch 6/100\n",
      "336/336 [==============================] - 23s 69ms/step - loss: 0.0106 - val_loss: 0.0237\n",
      "Epoch 7/100\n",
      "336/336 [==============================] - 23s 69ms/step - loss: 0.0105 - val_loss: 0.0237\n",
      "Epoch 8/100\n",
      "336/336 [==============================] - 23s 68ms/step - loss: 0.0104 - val_loss: 0.0236\n",
      "Epoch 9/100\n",
      "336/336 [==============================] - 23s 69ms/step - loss: 0.0103 - val_loss: 0.0235\n",
      "Epoch 10/100\n",
      "336/336 [==============================] - 23s 68ms/step - loss: 0.0102 - val_loss: 0.0234\n",
      "Epoch 11/100\n",
      "336/336 [==============================] - 23s 69ms/step - loss: 0.0102 - val_loss: 0.0234\n",
      "Epoch 12/100\n",
      "336/336 [==============================] - 23s 69ms/step - loss: 0.0102 - val_loss: 0.0232\n",
      "Epoch 13/100\n",
      "336/336 [==============================] - 23s 69ms/step - loss: 0.0101 - val_loss: 0.0230\n",
      "Epoch 14/100\n",
      "336/336 [==============================] - 23s 69ms/step - loss: 0.0101 - val_loss: 0.0230\n",
      "Epoch 15/100\n",
      "336/336 [==============================] - 23s 69ms/step - loss: 0.0100 - val_loss: 0.0230\n",
      "Epoch 16/100\n",
      "336/336 [==============================] - 23s 69ms/step - loss: 0.0100 - val_loss: 0.0230\n",
      "Epoch 17/100\n",
      "336/336 [==============================] - 23s 69ms/step - loss: 0.0099 - val_loss: 0.0229\n",
      "Epoch 18/100\n",
      "336/336 [==============================] - 23s 70ms/step - loss: 0.0099 - val_loss: 0.0228\n",
      "Epoch 19/100\n",
      "336/336 [==============================] - 23s 68ms/step - loss: 0.0099 - val_loss: 0.0228\n",
      "Epoch 20/100\n",
      "336/336 [==============================] - 23s 69ms/step - loss: 0.0099 - val_loss: 0.0227\n",
      "Epoch 21/100\n",
      "336/336 [==============================] - 23s 69ms/step - loss: 0.0098 - val_loss: 0.0227\n",
      "Epoch 22/100\n",
      "336/336 [==============================] - 23s 69ms/step - loss: 0.0098 - val_loss: 0.0226\n",
      "Epoch 23/100\n",
      "336/336 [==============================] - 23s 68ms/step - loss: 0.0098 - val_loss: 0.0226\n",
      "Epoch 24/100\n",
      "336/336 [==============================] - 23s 69ms/step - loss: 0.0098 - val_loss: 0.0225\n",
      "Epoch 25/100\n",
      "336/336 [==============================] - 23s 68ms/step - loss: 0.0098 - val_loss: 0.0225\n",
      "Epoch 26/100\n",
      "336/336 [==============================] - 23s 68ms/step - loss: 0.0097 - val_loss: 0.0225\n",
      "Epoch 27/100\n",
      "336/336 [==============================] - 23s 69ms/step - loss: 0.0097 - val_loss: 0.0224\n",
      "Epoch 28/100\n",
      "336/336 [==============================] - 23s 68ms/step - loss: 0.0097 - val_loss: 0.0224\n",
      "Epoch 29/100\n",
      "336/336 [==============================] - 23s 69ms/step - loss: 0.0097 - val_loss: 0.0224\n",
      "Epoch 30/100\n",
      "336/336 [==============================] - 23s 69ms/step - loss: 0.0097 - val_loss: 0.0223\n",
      "Epoch 31/100\n",
      "336/336 [==============================] - 23s 69ms/step - loss: 0.0096 - val_loss: 0.0223\n",
      "Epoch 32/100\n",
      "336/336 [==============================] - 23s 69ms/step - loss: 0.0096 - val_loss: 0.0223\n",
      "Epoch 33/100\n",
      "336/336 [==============================] - 23s 68ms/step - loss: 0.0096 - val_loss: 0.0223\n",
      "Epoch 34/100\n",
      "336/336 [==============================] - 23s 69ms/step - loss: 0.0096 - val_loss: 0.0222\n",
      "Epoch 35/100\n",
      "336/336 [==============================] - 23s 69ms/step - loss: 0.0096 - val_loss: 0.0222\n",
      "Epoch 36/100\n",
      "336/336 [==============================] - 23s 68ms/step - loss: 0.0096 - val_loss: 0.0222\n",
      "Epoch 37/100\n",
      "336/336 [==============================] - 23s 69ms/step - loss: 0.0096 - val_loss: 0.0222\n",
      "Epoch 38/100\n",
      "336/336 [==============================] - 23s 69ms/step - loss: 0.0096 - val_loss: 0.0222\n",
      "Epoch 39/100\n",
      "336/336 [==============================] - 23s 70ms/step - loss: 0.0095 - val_loss: 0.0222\n",
      "Epoch 40/100\n",
      "336/336 [==============================] - 23s 70ms/step - loss: 0.0095 - val_loss: 0.0222\n",
      "Epoch 41/100\n",
      "336/336 [==============================] - 23s 69ms/step - loss: 0.0095 - val_loss: 0.0222\n",
      "Epoch 42/100\n",
      "336/336 [==============================] - 23s 69ms/step - loss: 0.0095 - val_loss: 0.0221\n",
      "Epoch 43/100\n",
      "336/336 [==============================] - 23s 69ms/step - loss: 0.0095 - val_loss: 0.0222\n",
      "Epoch 44/100\n",
      "336/336 [==============================] - 23s 69ms/step - loss: 0.0095 - val_loss: 0.0221\n",
      "Epoch 45/100\n",
      "336/336 [==============================] - 23s 69ms/step - loss: 0.0095 - val_loss: 0.0221\n",
      "Epoch 46/100\n",
      "336/336 [==============================] - 23s 69ms/step - loss: 0.0094 - val_loss: 0.0222\n",
      "Epoch 47/100\n",
      "336/336 [==============================] - 23s 68ms/step - loss: 0.0094 - val_loss: 0.0222\n",
      "Epoch 48/100\n",
      "336/336 [==============================] - 23s 70ms/step - loss: 0.0094 - val_loss: 0.0222\n",
      "Epoch 49/100\n",
      "336/336 [==============================] - 23s 69ms/step - loss: 0.0094 - val_loss: 0.0222\n",
      "Epoch 50/100\n",
      "336/336 [==============================] - 23s 69ms/step - loss: 0.0094 - val_loss: 0.0221\n",
      "Epoch 51/100\n",
      "336/336 [==============================] - 23s 69ms/step - loss: 0.0094 - val_loss: 0.0221\n",
      "Epoch 52/100\n",
      "336/336 [==============================] - 23s 69ms/step - loss: 0.0094 - val_loss: 0.0221\n",
      "Epoch 53/100\n",
      "336/336 [==============================] - 23s 70ms/step - loss: 0.0094 - val_loss: 0.0222\n",
      "Epoch 54/100\n",
      "336/336 [==============================] - 23s 68ms/step - loss: 0.0094 - val_loss: 0.0221\n",
      "Epoch 55/100\n",
      "336/336 [==============================] - 23s 68ms/step - loss: 0.0094 - val_loss: 0.0221\n",
      "Epoch 56/100\n",
      "336/336 [==============================] - 23s 68ms/step - loss: 0.0094 - val_loss: 0.0221\n",
      "Epoch 57/100\n",
      "336/336 [==============================] - 23s 69ms/step - loss: 0.0094 - val_loss: 0.0221\n",
      "Epoch 58/100\n",
      "336/336 [==============================] - 23s 69ms/step - loss: 0.0093 - val_loss: 0.0221\n",
      "Epoch 59/100\n",
      "336/336 [==============================] - 23s 70ms/step - loss: 0.0093 - val_loss: 0.0221\n",
      "Epoch 60/100\n",
      "336/336 [==============================] - 23s 69ms/step - loss: 0.0093 - val_loss: 0.0222\n",
      "Epoch 61/100\n",
      "336/336 [==============================] - 23s 69ms/step - loss: 0.0093 - val_loss: 0.0221\n",
      "Epoch 62/100\n",
      "336/336 [==============================] - 23s 69ms/step - loss: 0.0093 - val_loss: 0.0221\n",
      "Epoch 63/100\n",
      "336/336 [==============================] - 23s 68ms/step - loss: 0.0093 - val_loss: 0.0221\n",
      "Epoch 64/100\n",
      "336/336 [==============================] - 23s 69ms/step - loss: 0.0093 - val_loss: 0.0221\n",
      "Epoch 65/100\n",
      "336/336 [==============================] - 23s 69ms/step - loss: 0.0093 - val_loss: 0.0221\n",
      "Epoch 66/100\n",
      "336/336 [==============================] - 23s 69ms/step - loss: 0.0093 - val_loss: 0.0221\n",
      "Epoch 67/100\n",
      "336/336 [==============================] - 23s 69ms/step - loss: 0.0093 - val_loss: 0.0221\n",
      "Epoch 68/100\n",
      "336/336 [==============================] - 23s 69ms/step - loss: 0.0093 - val_loss: 0.0221\n",
      "Epoch 69/100\n",
      "336/336 [==============================] - 23s 69ms/step - loss: 0.0093 - val_loss: 0.0221\n",
      "Epoch 70/100\n",
      "336/336 [==============================] - 23s 69ms/step - loss: 0.0093 - val_loss: 0.0221\n",
      "Epoch 71/100\n",
      "336/336 [==============================] - 23s 69ms/step - loss: 0.0093 - val_loss: 0.0222\n",
      "Epoch 72/100\n",
      "336/336 [==============================] - 23s 68ms/step - loss: 0.0093 - val_loss: 0.0221\n",
      "Epoch 73/100\n",
      "336/336 [==============================] - 23s 68ms/step - loss: 0.0093 - val_loss: 0.0221\n",
      "Epoch 74/100\n",
      "336/336 [==============================] - 23s 69ms/step - loss: 0.0093 - val_loss: 0.0221\n",
      "Epoch 75/100\n",
      "336/336 [==============================] - 23s 69ms/step - loss: 0.0093 - val_loss: 0.0221\n",
      "Epoch 76/100\n",
      "336/336 [==============================] - 23s 68ms/step - loss: 0.0092 - val_loss: 0.0221\n",
      "Epoch 77/100\n",
      "336/336 [==============================] - 23s 69ms/step - loss: 0.0093 - val_loss: 0.0221\n",
      "Epoch 78/100\n",
      "336/336 [==============================] - 23s 69ms/step - loss: 0.0092 - val_loss: 0.0222\n",
      "Epoch 79/100\n",
      "336/336 [==============================] - 23s 69ms/step - loss: 0.0092 - val_loss: 0.0221\n"
     ]
    },
    {
     "name": "stdout",
     "output_type": "stream",
     "text": [
      "Epoch 80/100\n",
      "336/336 [==============================] - 23s 70ms/step - loss: 0.0092 - val_loss: 0.0221\n",
      "Epoch 81/100\n",
      "336/336 [==============================] - 23s 69ms/step - loss: 0.0092 - val_loss: 0.0222\n",
      "Epoch 82/100\n",
      "336/336 [==============================] - 23s 68ms/step - loss: 0.0092 - val_loss: 0.0221\n",
      "Epoch 83/100\n",
      "336/336 [==============================] - 23s 69ms/step - loss: 0.0092 - val_loss: 0.0221\n",
      "Epoch 84/100\n",
      "336/336 [==============================] - 23s 68ms/step - loss: 0.0092 - val_loss: 0.0221\n",
      "Epoch 85/100\n",
      "336/336 [==============================] - 23s 69ms/step - loss: 0.0092 - val_loss: 0.0221\n",
      "Epoch 86/100\n",
      "336/336 [==============================] - 23s 69ms/step - loss: 0.0092 - val_loss: 0.0221\n",
      "Epoch 87/100\n",
      "336/336 [==============================] - 23s 69ms/step - loss: 0.0092 - val_loss: 0.0221\n",
      "Epoch 88/100\n",
      "336/336 [==============================] - 23s 69ms/step - loss: 0.0092 - val_loss: 0.0221\n",
      "Epoch 89/100\n",
      "336/336 [==============================] - 23s 69ms/step - loss: 0.0092 - val_loss: 0.0221\n",
      "Epoch 90/100\n",
      "336/336 [==============================] - 23s 69ms/step - loss: 0.0092 - val_loss: 0.0221\n",
      "Epoch 91/100\n",
      "336/336 [==============================] - 23s 68ms/step - loss: 0.0092 - val_loss: 0.0221\n",
      "Epoch 92/100\n",
      "336/336 [==============================] - 23s 69ms/step - loss: 0.0092 - val_loss: 0.0221\n",
      "Epoch 93/100\n",
      "336/336 [==============================] - 23s 68ms/step - loss: 0.0092 - val_loss: 0.0221\n",
      "Epoch 94/100\n",
      "336/336 [==============================] - 23s 69ms/step - loss: 0.0092 - val_loss: 0.0221\n",
      "Epoch 95/100\n",
      "336/336 [==============================] - 23s 69ms/step - loss: 0.0092 - val_loss: 0.0221\n",
      "Epoch 96/100\n",
      "336/336 [==============================] - 23s 68ms/step - loss: 0.0092 - val_loss: 0.0221\n",
      "Epoch 97/100\n",
      "336/336 [==============================] - 23s 69ms/step - loss: 0.0092 - val_loss: 0.0221\n",
      "Epoch 98/100\n",
      "336/336 [==============================] - 23s 68ms/step - loss: 0.0092 - val_loss: 0.0221\n",
      "Epoch 99/100\n",
      "336/336 [==============================] - 23s 69ms/step - loss: 0.0092 - val_loss: 0.0221\n",
      "Epoch 100/100\n",
      "336/336 [==============================] - 23s 70ms/step - loss: 0.0092 - val_loss: 0.0221\n"
     ]
    },
    {
     "data": {
      "text/plain": [
       "<keras.callbacks.callbacks.History at 0x7fad4441f128>"
      ]
     },
     "execution_count": 212,
     "metadata": {},
     "output_type": "execute_result"
    }
   ],
   "source": [
    "# fit model\n",
    "\n",
    "epochs = 100\n",
    "model.fit_generator(trainGen, epochs=epochs, shuffle=False, verbose=1, validation_data=(valGen))"
   ]
  },
  {
   "cell_type": "markdown",
   "metadata": {},
   "source": [
    "### Visualize the loss"
   ]
  },
  {
   "cell_type": "code",
   "execution_count": 213,
   "metadata": {},
   "outputs": [
    {
     "data": {
      "text/plain": [
       "Text(0.5, 1.0, 'Loss')"
      ]
     },
     "execution_count": 213,
     "metadata": {},
     "output_type": "execute_result"
    },
    {
     "data": {
      "image/png": "[encoded data removed]",
      "text/plain": [
       "<Figure size 432x288 with 1 Axes>"
      ]
     },
     "metadata": {
      "needs_background": "light"
     },
     "output_type": "display_data"
    }
   ],
   "source": [
    "plt.plot(model.history.history['loss'], label=\"Loss\", color='blue')\n",
    "plt.plot(model.history.history['val_loss'], label=\"Validation\", color='red')\n",
    "plt.legend()\n",
    "plt.xlim(0,105)\n",
    "plt.ylim(0,.05)\n",
    "plt.title('Loss')"
   ]
  },
  {
   "cell_type": "markdown",
   "metadata": {},
   "source": [
    "### Evaluate on the test data"
   ]
  },
  {
   "cell_type": "code",
   "execution_count": 214,
   "metadata": {},
   "outputs": [
    {
     "name": "stdout",
     "output_type": "stream",
     "text": [
      "112/112 [==============================] - 7s 62ms/step\n",
      "Testing MSE: 0.0005700502078980207\n"
     ]
    }
   ],
   "source": [
    "testGen = NpzDataGenerator(npzPath+'testing_sequences/', test)\n",
    "mse = model.evaluate_generator(testGen, verbose=1)\n",
    "print(\"Testing MSE:\", mse)"
   ]
  },
  {
   "cell_type": "markdown",
   "metadata": {},
   "source": [
    "### Make some predictions"
   ]
  },
  {
   "cell_type": "code",
   "execution_count": 215,
   "metadata": {},
   "outputs": [
    {
     "name": "stdout",
     "output_type": "stream",
     "text": [
      "\n",
      "Predicted\n",
      "[[-0.02732979 -0.02742875 -0.02904062 -0.03139955 -0.03209557 -0.03250428\n",
      "  -0.03073167 -0.03206921]]\n",
      "\n",
      "Actual\n",
      "[-0.03433954 -0.03520564 -0.03589947 -0.03642102 -0.0367703  -0.03694732\n",
      " -0.03695207 -0.03678455]\n"
     ]
    }
   ],
   "source": [
    "nfile = np.load('/data/lstm/npz/training_sequences/fluxropes_sequences_001.npz')\n",
    "t1 = nfile['x']\n",
    "t2 = nfile['y']\n",
    "#print(t1.shape)\n",
    "print()\n",
    "\n",
    "v = t1[12,:,:]\n",
    "v = v[:,1]\n",
    "#v = t1[12,:,0]\n",
    "\n",
    "# demonstrate prediction\n",
    "#x_input = v.reshape((1, n_steps_in, n_features))\n",
    "x_input = v.reshape((1, n_steps_in, 1))\n",
    "yhat = model.predict(x_input, verbose=0)\n",
    "\n",
    "print(\"Predicted\")\n",
    "print(yhat)\n",
    "print()\n",
    "print(\"Actual\")\n",
    "print(t2[12,:,1])"
   ]
  },
  {
   "cell_type": "markdown",
   "metadata": {},
   "source": [
    "### Write model to a file"
   ]
  },
  {
   "cell_type": "code",
   "execution_count": 216,
   "metadata": {},
   "outputs": [],
   "source": [
    "model.save_weights(\"/data/lstm/models/cnn_model_16in_8out_no_noise_z.h5\")"
   ]
  },
  {
   "cell_type": "markdown",
   "metadata": {},
   "source": [
    "### Visualize prediction"
   ]
  },
  {
   "cell_type": "code",
   "execution_count": 199,
   "metadata": {},
   "outputs": [
    {
     "ename": "ValueError",
     "evalue": "cannot reshape array of size 48 into shape (1,16,1)",
     "output_type": "error",
     "traceback": [
      "\u001b[0;31m---------------------------------------------------------------------------\u001b[0m",
      "\u001b[0;31mValueError\u001b[0m                                Traceback (most recent call last)",
      "\u001b[0;32m<ipython-input-199-e56def30840f>\u001b[0m in \u001b[0;36m<module>\u001b[0;34m\u001b[0m\n\u001b[1;32m     18\u001b[0m \u001b[0;31m#dataset = dataset.reshape((1, n_steps_in, n_features))\u001b[0m\u001b[0;34m\u001b[0m\u001b[0;34m\u001b[0m\u001b[0;34m\u001b[0m\u001b[0m\n\u001b[1;32m     19\u001b[0m \u001b[0;31m#dataset = bx_seq\u001b[0m\u001b[0;34m\u001b[0m\u001b[0;34m\u001b[0m\u001b[0;34m\u001b[0m\u001b[0m\n\u001b[0;32m---> 20\u001b[0;31m \u001b[0mdataset\u001b[0m \u001b[0;34m=\u001b[0m \u001b[0mdataset\u001b[0m\u001b[0;34m.\u001b[0m\u001b[0mreshape\u001b[0m\u001b[0;34m(\u001b[0m\u001b[0;34m(\u001b[0m\u001b[0;36m1\u001b[0m\u001b[0;34m,\u001b[0m \u001b[0mn_steps_in\u001b[0m\u001b[0;34m,\u001b[0m \u001b[0;36m1\u001b[0m\u001b[0;34m)\u001b[0m\u001b[0;34m)\u001b[0m\u001b[0;34m\u001b[0m\u001b[0;34m\u001b[0m\u001b[0m\n\u001b[0m\u001b[1;32m     21\u001b[0m \u001b[0myhat\u001b[0m \u001b[0;34m=\u001b[0m \u001b[0mmodel\u001b[0m\u001b[0;34m.\u001b[0m\u001b[0mpredict\u001b[0m\u001b[0;34m(\u001b[0m\u001b[0mdataset\u001b[0m\u001b[0;34m,\u001b[0m \u001b[0mverbose\u001b[0m\u001b[0;34m=\u001b[0m\u001b[0;36m0\u001b[0m\u001b[0;34m)\u001b[0m\u001b[0;34m\u001b[0m\u001b[0;34m\u001b[0m\u001b[0m\n\u001b[1;32m     22\u001b[0m \u001b[0;34m\u001b[0m\u001b[0m\n",
      "\u001b[0;31mValueError\u001b[0m: cannot reshape array of size 48 into shape (1,16,1)"
     ]
    }
   ],
   "source": [
    "npzfile = np.load( npzPath + 'training/fluxropes_001.npz' )\n",
    "bx = npzfile['bx']\n",
    "#by = npzfile['by']\n",
    "#bz = npzfile['bz']\n",
    "\n",
    "# there are 1600 fluxropes in this npz file\n",
    "# let's pick one to work with\n",
    "ix = 122\n",
    "bx_seq = bx[ix,0:n_steps_in]\n",
    "#by_seq = by[ix,0:n_steps_in]\n",
    "#bz_seq = bz[ix,0:n_steps_in]\n",
    "\n",
    "in_seq1 = bx_seq.reshape((n_steps_in, 1))\n",
    "#in_seq2 = by_seq.reshape((n_steps_in, 1))\n",
    "#in_seq3 = bz_seq.reshape((n_steps_in, 1))\n",
    "   \n",
    "#dataset = np.hstack((in_seq1,in_seq2,in_seq3))\n",
    "#dataset = dataset.reshape((1, n_steps_in, n_features))\n",
    "#dataset = bx_seq\n",
    "dataset = dataset.reshape((1, n_steps_in, 1))\n",
    "yhat = model.predict(dataset, verbose=0)\n",
    "\n",
    "bxp = yhat[0][0]\n",
    "#byp = yhat[1][0]\n",
    "#bzp = yhat[2][0]\n",
    "\n",
    "n = bx[ix,:].shape[0]\n",
    "x = np.arange(0, n)\n",
    "\n",
    "fillValues = np.full(n_steps_in,float('NaN'))\n",
    "#bx1 = np.concatenate( (fillValues, yhat[0,:]) )\n",
    "bx1 = np.concatenate( (fillValues, bxp) )\n",
    "#by1 = np.concatenate( (fillValues, byp) )\n",
    "#bz1 = np.concatenate( (fillValues, bzp) )\n",
    "\n",
    "fillValues = np.full(len(x)-bx1.shape[0],float('NaN'))\n",
    "bx1 = np.concatenate( (bx1, fillValues) )\n",
    "#by1 = np.concatenate( (by1, fillValues) )\n",
    "#bz1 = np.concatenate( (bz1, fillValues) )\n",
    "\n",
    "#xx = bx[ix,:]*40\n",
    "#yy = by[ix,:]*40\n",
    "#zz = bz[ix,:]*40\n",
    "#b = np.sqrt( xx*xx + yy*yy + zz*zz )\n",
    "\n",
    "#xx2 = bx1*40\n",
    "#yy2 = by1*40\n",
    "#zz2 = bz1*40\n",
    "#b2 = np.sqrt( xx2*xx2 + yy2*yy2 + zz2*zz2 )\n",
    "\n",
    "#b1 = np.sqrt( bx[ix,:]*bx[ix,:] + by[ix,:]*by[ix,:] + bz[ix,:]*bz[ix,:] )\n",
    "#b2 = np.sqrt( bx1*bx1 + by1*by1 + bz1*bz1 )\n",
    "\n",
    "#plt.subplot(4, 1, 1)\n",
    "#plt.title('Magnetic Cloud Predictions')\n",
    "#plt.plot(x, b1)\n",
    "#plt.plot(x, b2, color='red', marker='.', linestyle='None' )\n",
    "#plt.ylabel('B')\n",
    "#plt.ylim(0,15)\n",
    "\n",
    "#plt.subplot(4, 1, 2)\n",
    "plt.plot(x, bx[ix,:])\n",
    "plt.plot(x, bx1, color='red', marker='.', linestyle='None' )\n",
    "plt.ylabel('Bx')\n",
    "#plt.ylim(-1,1)\n",
    "\n",
    "#plt.subplot(4, 1, 3)\n",
    "#plt.plot(x, by[ix,:])\n",
    "#plt.plot(x, by1, color='red', marker='.', linestyle='None' )\n",
    "#plt.ylim(-35,35)\n",
    "#plt.ylabel('By')\n",
    "\n",
    "#plt.subplot(4, 1, 4)\n",
    "#plt.plot(x/n, bz[ix,:])\n",
    "#plt.plot(x/n, bz1, color='red', marker='.', linestyle='None' )\n",
    "#plt.ylim(-35,35)\n",
    "#plt.ylabel('Bz')"
   ]
  },
  {
   "cell_type": "markdown",
   "metadata": {},
   "source": [
    "### Use the first set of predictions to make another set of predictions"
   ]
  },
  {
   "cell_type": "code",
   "execution_count": 135,
   "metadata": {},
   "outputs": [
    {
     "data": {
      "text/plain": [
       "Text(0, 0.5, 'Bz')"
      ]
     },
     "execution_count": 135,
     "metadata": {},
     "output_type": "execute_result"
    },
    {
     "data": {
      "image/png": "[encoded data removed]",
      "text/plain": [
       "<Figure size 432x288 with 4 Axes>"
      ]
     },
     "metadata": {
      "needs_background": "light"
     },
     "output_type": "display_data"
    }
   ],
   "source": [
    "npzfile = np.load( npzPath + 'training/fluxropes_001.npz' )\n",
    "bx = npzfile['bx']\n",
    "by = npzfile['by']\n",
    "bz = npzfile['bz']\n",
    "\n",
    "# there are 1600 fluxropes in this npz file\n",
    "# let's pick one to work with\n",
    "ix = 12\n",
    "bx_seq = bx[ix,0:n_steps_in]\n",
    "by_seq = by[ix,0:n_steps_in]\n",
    "bz_seq = bz[ix,0:n_steps_in]\n",
    "\n",
    "in_seq1 = bx_seq.reshape((n_steps_in, 1))\n",
    "in_seq2 = by_seq.reshape((n_steps_in, 1))\n",
    "in_seq3 = bz_seq.reshape((n_steps_in, 1))\n",
    "   \n",
    "dataset = np.hstack((in_seq1,in_seq2,in_seq3))\n",
    "dataset = dataset.reshape((1, n_steps_in, n_features))\n",
    "yhat = model.predict(dataset, verbose=0)\n",
    "\n",
    "n = bx[ix,:].shape[0]\n",
    "x = np.arange(0, n)\n",
    "fillValues = np.full(8,float('NaN'))\n",
    "\n",
    "bx1 = np.concatenate( (bx_seq[-4:], yhat[0,:,0]) )\n",
    "by1 = np.concatenate( (by_seq[-4:], yhat[0,:,1]) )\n",
    "bz1 = np.concatenate( (bz_seq[-4:], yhat[0,:,2]) )\n",
    "\n",
    "in_seq1 = bx_seq.reshape((n_steps_in, 1))\n",
    "in_seq2 = by_seq.reshape((n_steps_in, 1))\n",
    "in_seq3 = bz_seq.reshape((n_steps_in, 1))\n",
    "\n",
    "dataset = np.hstack((in_seq1,in_seq2,in_seq3))\n",
    "dataset = dataset.reshape((1, n_steps_in, n_features))\n",
    "yhat = model.predict(dataset, verbose=0)\n",
    "\n",
    "bx1 = np.concatenate( (bx1, yhat[0,:,0]) )\n",
    "by1 = np.concatenate( (by1, yhat[0,:,1]) )\n",
    "bz1 = np.concatenate( (bz1, yhat[0,:,2]) )\n",
    "\n",
    "bx1 = np.concatenate( (fillValues, bx1) )\n",
    "by1 = np.concatenate( (fillValues, by1) )\n",
    "bz1 = np.concatenate( (fillValues, bz1) )\n",
    "\n",
    "fillValues = np.full(len(x)-bx1.shape[0],float('NaN'))\n",
    "bx1 = np.concatenate( (bx1, fillValues) )\n",
    "by1 = np.concatenate( (by1, fillValues) )\n",
    "bz1 = np.concatenate( (bz1, fillValues) )\n",
    "\n",
    "xx = bx[ix,:]*40\n",
    "yy = by[ix,:]*40\n",
    "zz = bz[ix,:]*40\n",
    "b = np.sqrt( xx*xx + yy*yy + zz*zz )\n",
    "\n",
    "xx2 = bx1*40\n",
    "yy2 = by1*40\n",
    "zz2 = bz1*40\n",
    "b2 = np.sqrt( xx*xx + yy*yy + zz*zz )\n",
    "\n",
    "plt.subplot(4, 1, 1)\n",
    "plt.title('Magnetic Cloud Predictions')\n",
    "plt.plot(x, b)\n",
    "plt.plot(x, b2, color='red', marker='.', linestyle='None' )\n",
    "plt.ylabel('B')\n",
    "#plt.ylim(-1,1)\n",
    "\n",
    "plt.subplot(4, 1, 2)\n",
    "plt.plot(x, xx)\n",
    "plt.plot(x, xx2, color='red', marker='.', linestyle='None' )\n",
    "plt.ylabel('Bx')\n",
    "plt.ylim(-6,6)\n",
    "\n",
    "plt.subplot(4, 1, 3)\n",
    "plt.plot(x, yy)\n",
    "plt.plot(x, yy2, color='red', marker='.', linestyle='None' )\n",
    "plt.ylim(-8,8)\n",
    "plt.ylabel('By')\n",
    "\n",
    "plt.subplot(4, 1, 4)\n",
    "plt.plot(x/n, zz)\n",
    "plt.plot(x/n, zz2, color='red', marker='.', linestyle='None' )\n",
    "plt.ylim(-6,6)\n",
    "plt.ylabel('Bz')"
   ]
  },
  {
   "cell_type": "code",
   "execution_count": 38,
   "metadata": {},
   "outputs": [
    {
     "data": {
      "text/plain": [
       "0.24"
      ]
     },
     "execution_count": 38,
     "metadata": {},
     "output_type": "execute_result"
    }
   ],
   "source": [
    "12/50."
   ]
  },
  {
   "cell_type": "code",
   "execution_count": 39,
   "metadata": {},
   "outputs": [
    {
     "data": {
      "text/plain": [
       "48"
      ]
     },
     "execution_count": 39,
     "metadata": {},
     "output_type": "execute_result"
    }
   ],
   "source": [
    "4*12"
   ]
  },
  {
   "cell_type": "code",
   "execution_count": null,
   "metadata": {},
   "outputs": [],
   "source": []
  }
 ],
 "metadata": {
  "kernelspec": {
   "display_name": "Python 3",
   "language": "python",
   "name": "python3"
  },
  "language_info": {
   "codemirror_mode": {
    "name": "ipython",
    "version": 3
   },
   "file_extension": ".py",
   "mimetype": "text/x-python",
   "name": "python",
   "nbconvert_exporter": "python",
   "pygments_lexer": "ipython3",
   "version": "3.6.9"
  }
 },
 "nbformat": 4,
 "nbformat_minor": 4
}
