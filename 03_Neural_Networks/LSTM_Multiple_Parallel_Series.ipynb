{
 "cells": [
  {
   "cell_type": "code",
   "execution_count": 136,
   "metadata": {},
   "outputs": [],
   "source": [
    "# multivariate multi-step encoder-decoder lstm example\n",
    "import os\n",
    "import time\n",
    "import random\n",
    "\n",
    "import numpy as np\n",
    "import matplotlib.pyplot as plt\n",
    "\n",
    "import tensorflow as tf\n",
    "\n",
    "import keras\n",
    "from keras.utils import Sequence\n",
    "from keras.models import Sequential\n",
    "from keras.layers import LSTM\n",
    "from keras.layers import Dense\n",
    "from keras.layers import RepeatVector\n",
    "from keras.layers import TimeDistributed"
   ]
  },
  {
   "cell_type": "markdown",
   "metadata": {},
   "source": [
    "### Define functions we'll need throughout"
   ]
  },
  {
   "cell_type": "code",
   "execution_count": 137,
   "metadata": {},
   "outputs": [],
   "source": [
    "def normalizeVector(x,y,z,magnitude):\n",
    "    return x/magnitude, y/magnitude, z/magnitude"
   ]
  },
  {
   "cell_type": "code",
   "execution_count": 138,
   "metadata": {},
   "outputs": [],
   "source": [
    "def readCSV(dir,files):\n",
    "\n",
    "    count = 0\n",
    "    for file in files:\n",
    "              \n",
    "        x = []\n",
    "        y = []\n",
    "        z = []\n",
    "        openFile = open(dir + file, \"r\")\n",
    "        for line in openFile:\n",
    "            parts = line.split(\",\")\n",
    "            x.append(float(parts[0]))\n",
    "            y.append(float(parts[1]))\n",
    "            z.append(float(parts[2]))\n",
    "        openFile.close()\n",
    "        \n",
    "        x = np.array(x)\n",
    "        y = np.array(y)\n",
    "        z = np.array(z)\n",
    "        b = np.sqrt( x*x + y*y + z*z )\n",
    "        #x, y, z = normalizeVector(x, y, z, b)\n",
    "        x, y, z = normalizeVector(x, y, z, 40)\n",
    "        \n",
    "        if ( count == 0 ):\n",
    "            bx, by, bz = x, y, z\n",
    "        else:\n",
    "            bx = np.vstack((bx,x))\n",
    "            by = np.vstack((by,y))\n",
    "            bz = np.vstack((bz,z))\n",
    "            \n",
    "        count += 1\n",
    "        \n",
    "    return bx, by, bz"
   ]
  },
  {
   "cell_type": "code",
   "execution_count": 139,
   "metadata": {},
   "outputs": [],
   "source": [
    "# split a multivariate sequence into samples\n",
    "def split_sequences(sequences, n_steps_in, n_steps_out):\n",
    "    X, y = list(), list()\n",
    "    for i in range(len(sequences)):\n",
    "        # find the end of this pattern\n",
    "        end_ix = i + n_steps_in\n",
    "        out_end_ix = end_ix + n_steps_out\n",
    "        # check if we are beyond the dataset\n",
    "        if out_end_ix > len(sequences):\n",
    "            break\n",
    "        # gather input and output parts of the pattern\n",
    "        seq_x, seq_y = sequences[i:end_ix, :], sequences[end_ix:out_end_ix, :]\n",
    "        X.append(seq_x)\n",
    "        y.append(seq_y)\n",
    "    return np.array(X), np.array(y)"
   ]
  },
  {
   "cell_type": "code",
   "execution_count": 140,
   "metadata": {},
   "outputs": [],
   "source": [
    "def makeNpzFiles(csvP, npzP, fileList, stepSize):\n",
    "    \n",
    "    # make sure there are no npz files left over from a previous run\n",
    "    c = 0\n",
    "    for filename in os.listdir(npzP):\n",
    "        file_path = os.path.join(npzP, filename)\n",
    "        try:\n",
    "            if os.path.isfile(file_path) or os.path.islink(file_path):\n",
    "                os.unlink(file_path)\n",
    "                c += 1\n",
    "        except Exception as e:\n",
    "            print('Failed to delete %s. Reason: %s' % (file_path, e))\n",
    "\n",
    "    print(\"Deleted\", c, \"npz files in\", npzP)\n",
    "        \n",
    "    loops = int(np.ceil(len(fileList)/stepSize))\n",
    "    index1 = 0\n",
    "    index2 = stepSize\n",
    "    numFiles = 0\n",
    "    for l in range(loops):\n",
    "        files = fileList[index1:index2]\n",
    "        bx, by, bz = readCSV(csvP, files)\n",
    "        if (l < 10):\n",
    "            counter = '00' + str(l)\n",
    "        elif ( (l >= 10) and (l < 100) ):\n",
    "            counter = '0' + str(l)\n",
    "        else:\n",
    "            counter = str(l)\n",
    "        outfile = npzP + 'fluxropes_' + counter + '.npz'\n",
    "        np.savez(outfile, bx=bx, by=by, bz=bz)\n",
    "        index1 = index2\n",
    "        index2 += stepSize\n",
    "        numFiles += 1\n",
    "    print(\"Created\", numFiles, \"npz files in\", npzP)"
   ]
  },
  {
   "cell_type": "code",
   "execution_count": 141,
   "metadata": {},
   "outputs": [],
   "source": [
    "def makeSequences(files, npzP, path):\n",
    "    \n",
    "    # make sure there are no npz files left over from a previous run\n",
    "    c = 0\n",
    "    p = npzP+path+'_sequences/'\n",
    "    for filename in os.listdir(p):\n",
    "        file_path = os.path.join(p, filename)\n",
    "        try:\n",
    "            if os.path.isfile(file_path) or os.path.islink(file_path):\n",
    "                os.unlink(file_path)\n",
    "                c += 1\n",
    "        except Exception as e:\n",
    "            print('Failed to delete %s. Reason: %s' % (file_path, e))\n",
    "\n",
    "    print(\"Deleted\", c, \"npz files in\", p)\n",
    "    \n",
    "    for file in files:\n",
    "        \n",
    "        npzfile = np.load(npzP + path + '/' + file)\n",
    "        bx = npzfile['bx']\n",
    "        by = npzfile['by']\n",
    "        bz = npzfile['bz']\n",
    "        \n",
    "        n1 = bx.shape[0]\n",
    "        n2 = bx.shape[1]\n",
    "        for i in range( n1 ):\n",
    "            \n",
    "            in_seq1 = bx[i,:].reshape((n2, 1))\n",
    "            in_seq2 = by[i,:].reshape((n2, 1))\n",
    "            in_seq3 = bz[i,:].reshape((n2, 1))\n",
    "            dataset = np.hstack((in_seq1,in_seq2,in_seq3))\n",
    "    \n",
    "            # covert into input/output\n",
    "            xc, yc = split_sequences(dataset, n_steps_in, n_steps_out)\n",
    "    \n",
    "            if ( i == 0 ):\n",
    "                x, y = xc, yc\n",
    "            else:\n",
    "                x = np.concatenate((x,xc))\n",
    "                y = np.concatenate((y,yc))\n",
    "            \n",
    "            \n",
    "        parts = file.split('_')\n",
    "        parts = parts[1].split('.')\n",
    "        counter = parts[0].strip()\n",
    "    \n",
    "        outfile = npzP + path + '_sequences/fluxropes_sequences_' + counter + '.npz'\n",
    "        np.savez(outfile, x=x, y=y)\n",
    "        \n",
    "    print(\"Completed\",path,\"sequence generation\")\n",
    "    "
   ]
  },
  {
   "cell_type": "markdown",
   "metadata": {},
   "source": [
    "### Configuration variables and path setup"
   ]
  },
  {
   "cell_type": "code",
   "execution_count": 160,
   "metadata": {},
   "outputs": [],
   "source": [
    "csvPath = \"/data/lstm/csv_teressa/\"\n",
    "npzPath = \"/data/lstm/npz/\"\n",
    "\n",
    "n_features = 1 # bx, by, and bz\n",
    "n_steps_in, n_steps_out = 8, 32"
   ]
  },
  {
   "cell_type": "markdown",
   "metadata": {},
   "source": [
    "### Split the data into training, testing, and validation"
   ]
  },
  {
   "cell_type": "code",
   "execution_count": 143,
   "metadata": {},
   "outputs": [],
   "source": [
    "allFiles = [f for f in os.listdir(csvPath) if os.path.isfile(os.path.join(csvPath, f))]\n",
    "random.shuffle(allFiles)"
   ]
  },
  {
   "cell_type": "code",
   "execution_count": 144,
   "metadata": {},
   "outputs": [
    {
     "name": "stdout",
     "output_type": "stream",
     "text": [
      "Training files: 536659\n",
      "Test files: 178886\n",
      "Validation files: 178887\n",
      "\n",
      "Total number of files: 894432\n"
     ]
    }
   ],
   "source": [
    "# Distribution is 60% Training, 20% Validation, and 20% Testing\n",
    "cutOff = int(len(allFiles) * 0.6)\n",
    "train = allFiles[:cutOff]\n",
    "rest = allFiles[cutOff:]\n",
    "\n",
    "# there's 40% left over, split it in half for testing and validation\n",
    "test = rest[ : int(len(rest) * 0.5)]\n",
    "validation = rest[ int(len(rest) * 0.5) : ]\n",
    "\n",
    "print(\"Training files:\", len(train))\n",
    "print(\"Test files:\", len(test))\n",
    "print(\"Validation files:\", len(validation))\n",
    "print()\n",
    "print(\"Total number of files:\", len(allFiles))\n",
    "\n",
    "# check to make sure we split everything correctly\n",
    "total = len(test) + len(train) + len(validation)\n",
    "assert total == len(allFiles)"
   ]
  },
  {
   "cell_type": "markdown",
   "metadata": {},
   "source": [
    "### Write the names of the test files to disk for later evaluations"
   ]
  },
  {
   "cell_type": "code",
   "execution_count": 145,
   "metadata": {},
   "outputs": [],
   "source": [
    "filename = '/data/lstm/models/test_file_list.txt'\n",
    "fout = open(filename,'w')\n",
    "for file in test:\n",
    "    line = file.strip() + \"\\n\"\n",
    "    fout.write(line)\n",
    "fout.close()"
   ]
  },
  {
   "cell_type": "markdown",
   "metadata": {},
   "source": [
    "### Create npz files of training, testing, and validation to speed up network"
   ]
  },
  {
   "cell_type": "code",
   "execution_count": 146,
   "metadata": {},
   "outputs": [
    {
     "name": "stdout",
     "output_type": "stream",
     "text": [
      "Deleted 112 npz files in /data/lstm/npz/testing/\n",
      "Created 112 npz files in /data/lstm/npz/testing/\n",
      "Deleted 336 npz files in /data/lstm/npz/training/\n",
      "Created 336 npz files in /data/lstm/npz/training/\n",
      "Deleted 112 npz files in /data/lstm/npz/validation/\n",
      "Created 112 npz files in /data/lstm/npz/validation/\n",
      "\n",
      "Data generation: 3.44 minutes\n"
     ]
    }
   ],
   "source": [
    "startTime = time.time()\n",
    "\n",
    "makeNpzFiles(csvPath, npzPath+'testing/', test, 1600)\n",
    "makeNpzFiles(csvPath, npzPath+'training/', train, 1600)\n",
    "makeNpzFiles(csvPath, npzPath+'validation/', validation, 1600)\n",
    "\n",
    "# arrays now points to npz files\n",
    "test = [f for f in os.listdir(npzPath+'testing/') if \\\n",
    "        os.path.isfile(os.path.join(npzPath+'testing/', f))]\n",
    "train = [f for f in os.listdir(npzPath+'training/') if \\\n",
    "        os.path.isfile(os.path.join(npzPath+'training/', f))]\n",
    "validation = [f for f in os.listdir(npzPath+'validation/') if \\\n",
    "        os.path.isfile(os.path.join(npzPath+'validation/', f))]\n",
    "\n",
    "# convert from lists to numpy arrays\n",
    "test = np.array(test)\n",
    "train = np.array(train)\n",
    "validation = np.array(validation)\n",
    "\n",
    "stopTime = time.time()\n",
    "duration = stopTime-startTime\n",
    "print()\n",
    "print(\"Data generation:\", round(duration/60, 2), \"minutes\")"
   ]
  },
  {
   "cell_type": "markdown",
   "metadata": {},
   "source": [
    "### Sanity check - Load and visualize one of the fluxrope"
   ]
  },
  {
   "cell_type": "code",
   "execution_count": 147,
   "metadata": {},
   "outputs": [],
   "source": [
    "npzfile = np.load( npzPath + 'training/fluxropes_001.npz' )\n",
    "bx = npzfile['bx']\n",
    "by = npzfile['by']\n",
    "bz = npzfile['bz']\n",
    "\n",
    "# 50 points per fluxrope and 1600 fluxropes per npz file\n",
    "assert bx.shape[0] == 1600\n",
    "assert bx.shape[1] == 50 "
   ]
  },
  {
   "cell_type": "code",
   "execution_count": 148,
   "metadata": {},
   "outputs": [
    {
     "data": {
      "text/plain": [
       "[<matplotlib.lines.Line2D at 0x7eff543e6b38>]"
      ]
     },
     "execution_count": 148,
     "metadata": {},
     "output_type": "execute_result"
    },
    {
     "data": {
      "image/png": "[encoded data removed]",
      "text/plain": [
       "<Figure size 432x288 with 3 Axes>"
      ]
     },
     "metadata": {
      "needs_background": "light"
     },
     "output_type": "display_data"
    }
   ],
   "source": [
    "n = bx.shape[1]\n",
    "x = np.arange(0,n)\n",
    "\n",
    "fig, axs = plt.subplots(3)\n",
    "fig.suptitle('Magnetic Cloud')\n",
    "axs[0].plot(x, bx[0,:])\n",
    "axs[1].plot(x, by[0,:])\n",
    "axs[2].plot(x, bz[0,:])"
   ]
  },
  {
   "cell_type": "markdown",
   "metadata": {},
   "source": [
    "### Create sequences for LSTM"
   ]
  },
  {
   "cell_type": "code",
   "execution_count": 149,
   "metadata": {},
   "outputs": [
    {
     "name": "stdout",
     "output_type": "stream",
     "text": [
      "Deleted 336 npz files in /data/lstm/npz/training_sequences/\n",
      "Completed training sequence generation\n",
      "Deleted 112 npz files in /data/lstm/npz/validation_sequences/\n",
      "Completed validation sequence generation\n",
      "Deleted 112 npz files in /data/lstm/npz/testing_sequences/\n",
      "Completed testing sequence generation\n",
      "\n",
      "Sequence generation: 9.5 minutes\n"
     ]
    }
   ],
   "source": [
    "startTime = time.time()\n",
    "\n",
    "# train\n",
    "makeSequences(train, npzPath, 'training')\n",
    "    \n",
    "# validation\n",
    "makeSequences(validation, npzPath, 'validation')\n",
    "    \n",
    "# testing\n",
    "makeSequences(test, npzPath, 'testing')\n",
    "\n",
    "# arrays now points to npz sequence files\n",
    "test = [f for f in os.listdir(npzPath+'testing_sequences/') if \\\n",
    "        os.path.isfile(os.path.join(npzPath+'testing_sequences/', f))]\n",
    "\n",
    "train = [f for f in os.listdir(npzPath+'training_sequences/') if \\\n",
    "        os.path.isfile(os.path.join(npzPath+'training_sequences/', f))]\n",
    "\n",
    "validation = [f for f in os.listdir(npzPath+'validation_sequences/') if \\\n",
    "        os.path.isfile(os.path.join(npzPath+'validation_sequences/', f))]\n",
    "\n",
    "stopTime = time.time()\n",
    "duration = stopTime-startTime\n",
    "print()\n",
    "print(\"Sequence generation:\", round(duration/60., 2), \"minutes\")"
   ]
  },
  {
   "cell_type": "markdown",
   "metadata": {},
   "source": [
    "### Data reader for LSTM"
   ]
  },
  {
   "cell_type": "code",
   "execution_count": 182,
   "metadata": {},
   "outputs": [],
   "source": [
    "class NpzDataGenerator(Sequence):\n",
    "    \n",
    "    def __init__(self, d, files, batch_size=1, shuffle=False):\n",
    "        \n",
    "        self.batch_size = batch_size\n",
    "        self.files = files\n",
    "        self.dir = d\n",
    "        self.shuffle = shuffle\n",
    "        self.on_epoch_end()\n",
    "\n",
    "    def __len__(self):\n",
    "        \n",
    "        'Denotes the number of batches per epoch'\n",
    "\n",
    "        'If the batch size doesnt divide evenly then add 1'\n",
    "        diff = (len(self.files) / self.batch_size) - np.floor((len(self.files) / self.batch_size))\n",
    "        if ( diff > 0 ):\n",
    "            return int(np.floor(len(self.files) / self.batch_size))+1\n",
    "        else:\n",
    "            return int(np.floor(len(self.files) / self.batch_size))\n",
    "\n",
    "    def __getitem__(self, index):\n",
    "        \n",
    "        'Generate one batch of data'\n",
    "        # Generate indexes of the batch\n",
    "        indexes = self.indexes[index*self.batch_size:(index+1)*self.batch_size]\n",
    "\n",
    "        # get list of files\n",
    "        #files = [self.files[k] for k in indexes]\n",
    "        file = self.files[indexes[0]]\n",
    "        \n",
    "        # Generate data\n",
    "        npzfile = np.load(self.dir + file)\n",
    "        x = npzfile['x']\n",
    "        y = npzfile['y']\n",
    "        \n",
    "        x = x[:,:,0]\n",
    "        y = y[:,:,0]\n",
    "        x = x.reshape(x.shape[0],x.shape[1],1)\n",
    "        y = y.reshape(y.shape[0],y.shape[1],1)\n",
    "        \n",
    "        return x, y\n",
    "\n",
    "    def on_epoch_end(self):\n",
    "        \n",
    "        'Updates indexes after each epoch'\n",
    "        self.indexes = np.arange(len(self.files))\n",
    "        if self.shuffle == True:\n",
    "            np.random.shuffle(self.indexes)"
   ]
  },
  {
   "cell_type": "markdown",
   "metadata": {},
   "source": [
    "### Train the model"
   ]
  },
  {
   "cell_type": "code",
   "execution_count": 183,
   "metadata": {},
   "outputs": [
    {
     "name": "stdout",
     "output_type": "stream",
     "text": [
      "Model: \"sequential_1\"\n",
      "_________________________________________________________________\n",
      "Layer (type)                 Output Shape              Param #   \n",
      "=================================================================\n",
      "lstm_1 (LSTM)                (None, 128)               66560     \n",
      "_________________________________________________________________\n",
      "repeat_vector_1 (RepeatVecto (None, 32, 128)           0         \n",
      "_________________________________________________________________\n",
      "lstm_2 (LSTM)                (None, 32, 128)           131584    \n",
      "_________________________________________________________________\n",
      "time_distributed_1 (TimeDist (None, 32, 1)             129       \n",
      "=================================================================\n",
      "Total params: 198,273\n",
      "Trainable params: 198,273\n",
      "Non-trainable params: 0\n",
      "_________________________________________________________________\n"
     ]
    }
   ],
   "source": [
    "# clear out any old models hanging around\n",
    "keras.backend.clear_session()\n",
    "\n",
    "trainGen = NpzDataGenerator(npzPath+'training_sequences/', train)\n",
    "valGen = NpzDataGenerator(npzPath+'validation_sequences/', validation)\n",
    "    \n",
    "# define model\n",
    "model = Sequential()\n",
    "model.add(LSTM(128, activation='relu', input_shape=(n_steps_in, n_features)))\n",
    "model.add(RepeatVector(n_steps_out))\n",
    "model.add(LSTM(128, activation='relu', return_sequences=True))\n",
    "model.add(TimeDistributed(Dense(n_features)))\n",
    "model.compile(optimizer='adam', loss='mse')\n",
    "\n",
    "model.summary()"
   ]
  },
  {
   "cell_type": "code",
   "execution_count": 152,
   "metadata": {},
   "outputs": [],
   "source": [
    "# This is required for my GPU: GeForce RTX 2060\n",
    "# Without this config, tensorflow cannot properly allocate GPU memory\n",
    "config = tf.ConfigProto()\n",
    "config.gpu_options.allow_growth = True\n",
    "session = tf.Session(config=config)"
   ]
  },
  {
   "cell_type": "markdown",
   "metadata": {},
   "source": [
    "### Sanity check - do the sequences have the correct dimensions"
   ]
  },
  {
   "cell_type": "code",
   "execution_count": 165,
   "metadata": {},
   "outputs": [
    {
     "name": "stdout",
     "output_type": "stream",
     "text": [
      "(17600, 8, 3)\n",
      "(17600, 32, 3)\n"
     ]
    }
   ],
   "source": [
    "nfile = np.load('/data/lstm/npz/training_sequences/fluxropes_sequences_108.npz')\n",
    "t1 = nfile['x']\n",
    "t2 = nfile['y']\n",
    "print(t1.shape)\n",
    "print(t2.shape)"
   ]
  },
  {
   "cell_type": "code",
   "execution_count": 178,
   "metadata": {},
   "outputs": [
    {
     "data": {
      "text/plain": [
       "(100, 2, 1)"
      ]
     },
     "execution_count": 178,
     "metadata": {},
     "output_type": "execute_result"
    }
   ],
   "source": [
    "tt = np.zeros(shape=(100,2))\n",
    "tt = tt.reshape(100,2,1)\n",
    "tt.shape"
   ]
  },
  {
   "cell_type": "code",
   "execution_count": 184,
   "metadata": {},
   "outputs": [
    {
     "name": "stdout",
     "output_type": "stream",
     "text": [
      "Epoch 1/50\n",
      "336/336 [==============================] - 123s 367ms/step - loss: 0.1865 - val_loss: 0.0226\n",
      "Epoch 2/50\n",
      "336/336 [==============================] - 126s 374ms/step - loss: 0.1435 - val_loss: 0.0220\n",
      "Epoch 3/50\n",
      "336/336 [==============================] - 123s 367ms/step - loss: 0.1799 - val_loss: 0.0184\n",
      "Epoch 4/50\n",
      "336/336 [==============================] - 124s 369ms/step - loss: 0.2630 - val_loss: 0.0273\n",
      "Epoch 5/50\n",
      "336/336 [==============================] - 124s 368ms/step - loss: 0.1995 - val_loss: 0.0223\n",
      "Epoch 6/50\n",
      "335/336 [============================>.] - ETA: 0s - loss: 0.1256"
     ]
    },
    {
     "ename": "KeyboardInterrupt",
     "evalue": "",
     "output_type": "error",
     "traceback": [
      "\u001b[0;31m---------------------------------------------------------------------------\u001b[0m",
      "\u001b[0;31mKeyboardInterrupt\u001b[0m                         Traceback (most recent call last)",
      "\u001b[0;32m<ipython-input-184-b1f1d681a9b9>\u001b[0m in \u001b[0;36m<module>\u001b[0;34m\u001b[0m\n\u001b[1;32m      1\u001b[0m \u001b[0;31m# fit model\u001b[0m\u001b[0;34m\u001b[0m\u001b[0;34m\u001b[0m\u001b[0;34m\u001b[0m\u001b[0m\n\u001b[1;32m      2\u001b[0m \u001b[0mepochs\u001b[0m \u001b[0;34m=\u001b[0m \u001b[0;36m50\u001b[0m\u001b[0;34m\u001b[0m\u001b[0;34m\u001b[0m\u001b[0m\n\u001b[0;32m----> 3\u001b[0;31m \u001b[0mmodel\u001b[0m\u001b[0;34m.\u001b[0m\u001b[0mfit_generator\u001b[0m\u001b[0;34m(\u001b[0m\u001b[0mtrainGen\u001b[0m\u001b[0;34m,\u001b[0m \u001b[0mepochs\u001b[0m\u001b[0;34m=\u001b[0m\u001b[0mepochs\u001b[0m\u001b[0;34m,\u001b[0m \u001b[0mshuffle\u001b[0m\u001b[0;34m=\u001b[0m\u001b[0;32mFalse\u001b[0m\u001b[0;34m,\u001b[0m \u001b[0mverbose\u001b[0m\u001b[0;34m=\u001b[0m\u001b[0;36m1\u001b[0m\u001b[0;34m,\u001b[0m \u001b[0mvalidation_data\u001b[0m\u001b[0;34m=\u001b[0m\u001b[0;34m(\u001b[0m\u001b[0mvalGen\u001b[0m\u001b[0;34m)\u001b[0m\u001b[0;34m)\u001b[0m\u001b[0;34m\u001b[0m\u001b[0;34m\u001b[0m\u001b[0m\n\u001b[0m",
      "\u001b[0;32m/usr/local/lib/python3.6/dist-packages/keras/legacy/interfaces.py\u001b[0m in \u001b[0;36mwrapper\u001b[0;34m(*args, **kwargs)\u001b[0m\n\u001b[1;32m     89\u001b[0m                 warnings.warn('Update your `' + object_name + '` call to the ' +\n\u001b[1;32m     90\u001b[0m                               'Keras 2 API: ' + signature, stacklevel=2)\n\u001b[0;32m---> 91\u001b[0;31m             \u001b[0;32mreturn\u001b[0m \u001b[0mfunc\u001b[0m\u001b[0;34m(\u001b[0m\u001b[0;34m*\u001b[0m\u001b[0margs\u001b[0m\u001b[0;34m,\u001b[0m \u001b[0;34m**\u001b[0m\u001b[0mkwargs\u001b[0m\u001b[0;34m)\u001b[0m\u001b[0;34m\u001b[0m\u001b[0;34m\u001b[0m\u001b[0m\n\u001b[0m\u001b[1;32m     92\u001b[0m         \u001b[0mwrapper\u001b[0m\u001b[0;34m.\u001b[0m\u001b[0m_original_function\u001b[0m \u001b[0;34m=\u001b[0m \u001b[0mfunc\u001b[0m\u001b[0;34m\u001b[0m\u001b[0;34m\u001b[0m\u001b[0m\n\u001b[1;32m     93\u001b[0m         \u001b[0;32mreturn\u001b[0m \u001b[0mwrapper\u001b[0m\u001b[0;34m\u001b[0m\u001b[0;34m\u001b[0m\u001b[0m\n",
      "\u001b[0;32m/usr/local/lib/python3.6/dist-packages/keras/engine/training.py\u001b[0m in \u001b[0;36mfit_generator\u001b[0;34m(self, generator, steps_per_epoch, epochs, verbose, callbacks, validation_data, validation_steps, validation_freq, class_weight, max_queue_size, workers, use_multiprocessing, shuffle, initial_epoch)\u001b[0m\n\u001b[1;32m   1730\u001b[0m             \u001b[0muse_multiprocessing\u001b[0m\u001b[0;34m=\u001b[0m\u001b[0muse_multiprocessing\u001b[0m\u001b[0;34m,\u001b[0m\u001b[0;34m\u001b[0m\u001b[0;34m\u001b[0m\u001b[0m\n\u001b[1;32m   1731\u001b[0m             \u001b[0mshuffle\u001b[0m\u001b[0;34m=\u001b[0m\u001b[0mshuffle\u001b[0m\u001b[0;34m,\u001b[0m\u001b[0;34m\u001b[0m\u001b[0;34m\u001b[0m\u001b[0m\n\u001b[0;32m-> 1732\u001b[0;31m             initial_epoch=initial_epoch)\n\u001b[0m\u001b[1;32m   1733\u001b[0m \u001b[0;34m\u001b[0m\u001b[0m\n\u001b[1;32m   1734\u001b[0m     \u001b[0;34m@\u001b[0m\u001b[0minterfaces\u001b[0m\u001b[0;34m.\u001b[0m\u001b[0mlegacy_generator_methods_support\u001b[0m\u001b[0;34m\u001b[0m\u001b[0;34m\u001b[0m\u001b[0m\n",
      "\u001b[0;32m/usr/local/lib/python3.6/dist-packages/keras/engine/training_generator.py\u001b[0m in \u001b[0;36mfit_generator\u001b[0;34m(model, generator, steps_per_epoch, epochs, verbose, callbacks, validation_data, validation_steps, validation_freq, class_weight, max_queue_size, workers, use_multiprocessing, shuffle, initial_epoch)\u001b[0m\n\u001b[1;32m    240\u001b[0m                             \u001b[0mvalidation_steps\u001b[0m\u001b[0;34m,\u001b[0m\u001b[0;34m\u001b[0m\u001b[0;34m\u001b[0m\u001b[0m\n\u001b[1;32m    241\u001b[0m                             \u001b[0mcallbacks\u001b[0m\u001b[0;34m=\u001b[0m\u001b[0mcallbacks\u001b[0m\u001b[0;34m,\u001b[0m\u001b[0;34m\u001b[0m\u001b[0;34m\u001b[0m\u001b[0m\n\u001b[0;32m--> 242\u001b[0;31m                             workers=0)\n\u001b[0m\u001b[1;32m    243\u001b[0m                     \u001b[0;32melse\u001b[0m\u001b[0;34m:\u001b[0m\u001b[0;34m\u001b[0m\u001b[0;34m\u001b[0m\u001b[0m\n\u001b[1;32m    244\u001b[0m                         \u001b[0;31m# No need for try/except because\u001b[0m\u001b[0;34m\u001b[0m\u001b[0;34m\u001b[0m\u001b[0;34m\u001b[0m\u001b[0m\n",
      "\u001b[0;32m/usr/local/lib/python3.6/dist-packages/keras/legacy/interfaces.py\u001b[0m in \u001b[0;36mwrapper\u001b[0;34m(*args, **kwargs)\u001b[0m\n\u001b[1;32m     89\u001b[0m                 warnings.warn('Update your `' + object_name + '` call to the ' +\n\u001b[1;32m     90\u001b[0m                               'Keras 2 API: ' + signature, stacklevel=2)\n\u001b[0;32m---> 91\u001b[0;31m             \u001b[0;32mreturn\u001b[0m \u001b[0mfunc\u001b[0m\u001b[0;34m(\u001b[0m\u001b[0;34m*\u001b[0m\u001b[0margs\u001b[0m\u001b[0;34m,\u001b[0m \u001b[0;34m**\u001b[0m\u001b[0mkwargs\u001b[0m\u001b[0;34m)\u001b[0m\u001b[0;34m\u001b[0m\u001b[0;34m\u001b[0m\u001b[0m\n\u001b[0m\u001b[1;32m     92\u001b[0m         \u001b[0mwrapper\u001b[0m\u001b[0;34m.\u001b[0m\u001b[0m_original_function\u001b[0m \u001b[0;34m=\u001b[0m \u001b[0mfunc\u001b[0m\u001b[0;34m\u001b[0m\u001b[0;34m\u001b[0m\u001b[0m\n\u001b[1;32m     93\u001b[0m         \u001b[0;32mreturn\u001b[0m \u001b[0mwrapper\u001b[0m\u001b[0;34m\u001b[0m\u001b[0;34m\u001b[0m\u001b[0m\n",
      "\u001b[0;32m/usr/local/lib/python3.6/dist-packages/keras/engine/training.py\u001b[0m in \u001b[0;36mevaluate_generator\u001b[0;34m(self, generator, steps, callbacks, max_queue_size, workers, use_multiprocessing, verbose)\u001b[0m\n\u001b[1;32m   1789\u001b[0m             \u001b[0mworkers\u001b[0m\u001b[0;34m=\u001b[0m\u001b[0mworkers\u001b[0m\u001b[0;34m,\u001b[0m\u001b[0;34m\u001b[0m\u001b[0;34m\u001b[0m\u001b[0m\n\u001b[1;32m   1790\u001b[0m             \u001b[0muse_multiprocessing\u001b[0m\u001b[0;34m=\u001b[0m\u001b[0muse_multiprocessing\u001b[0m\u001b[0;34m,\u001b[0m\u001b[0;34m\u001b[0m\u001b[0;34m\u001b[0m\u001b[0m\n\u001b[0;32m-> 1791\u001b[0;31m             verbose=verbose)\n\u001b[0m\u001b[1;32m   1792\u001b[0m \u001b[0;34m\u001b[0m\u001b[0m\n\u001b[1;32m   1793\u001b[0m     \u001b[0;34m@\u001b[0m\u001b[0minterfaces\u001b[0m\u001b[0;34m.\u001b[0m\u001b[0mlegacy_generator_methods_support\u001b[0m\u001b[0;34m\u001b[0m\u001b[0;34m\u001b[0m\u001b[0m\n",
      "\u001b[0;32m/usr/local/lib/python3.6/dist-packages/keras/engine/training_generator.py\u001b[0m in \u001b[0;36mevaluate_generator\u001b[0;34m(model, generator, steps, callbacks, max_queue_size, workers, use_multiprocessing, verbose)\u001b[0m\n\u001b[1;32m    399\u001b[0m             outs = model.test_on_batch(x, y,\n\u001b[1;32m    400\u001b[0m                                        \u001b[0msample_weight\u001b[0m\u001b[0;34m=\u001b[0m\u001b[0msample_weight\u001b[0m\u001b[0;34m,\u001b[0m\u001b[0;34m\u001b[0m\u001b[0;34m\u001b[0m\u001b[0m\n\u001b[0;32m--> 401\u001b[0;31m                                        reset_metrics=False)\n\u001b[0m\u001b[1;32m    402\u001b[0m             \u001b[0mouts\u001b[0m \u001b[0;34m=\u001b[0m \u001b[0mto_list\u001b[0m\u001b[0;34m(\u001b[0m\u001b[0mouts\u001b[0m\u001b[0;34m)\u001b[0m\u001b[0;34m\u001b[0m\u001b[0;34m\u001b[0m\u001b[0m\n\u001b[1;32m    403\u001b[0m             \u001b[0mouts_per_batch\u001b[0m\u001b[0;34m.\u001b[0m\u001b[0mappend\u001b[0m\u001b[0;34m(\u001b[0m\u001b[0mouts\u001b[0m\u001b[0;34m)\u001b[0m\u001b[0;34m\u001b[0m\u001b[0;34m\u001b[0m\u001b[0m\n",
      "\u001b[0;32m/usr/local/lib/python3.6/dist-packages/keras/engine/training.py\u001b[0m in \u001b[0;36mtest_on_batch\u001b[0;34m(self, x, y, sample_weight, reset_metrics)\u001b[0m\n\u001b[1;32m   1557\u001b[0m             \u001b[0mins\u001b[0m \u001b[0;34m=\u001b[0m \u001b[0mx\u001b[0m \u001b[0;34m+\u001b[0m \u001b[0my\u001b[0m \u001b[0;34m+\u001b[0m \u001b[0msample_weights\u001b[0m\u001b[0;34m\u001b[0m\u001b[0;34m\u001b[0m\u001b[0m\n\u001b[1;32m   1558\u001b[0m         \u001b[0mself\u001b[0m\u001b[0;34m.\u001b[0m\u001b[0m_make_test_function\u001b[0m\u001b[0;34m(\u001b[0m\u001b[0;34m)\u001b[0m\u001b[0;34m\u001b[0m\u001b[0;34m\u001b[0m\u001b[0m\n\u001b[0;32m-> 1559\u001b[0;31m         \u001b[0moutputs\u001b[0m \u001b[0;34m=\u001b[0m \u001b[0mself\u001b[0m\u001b[0;34m.\u001b[0m\u001b[0mtest_function\u001b[0m\u001b[0;34m(\u001b[0m\u001b[0mins\u001b[0m\u001b[0;34m)\u001b[0m\u001b[0;34m\u001b[0m\u001b[0;34m\u001b[0m\u001b[0m\n\u001b[0m\u001b[1;32m   1560\u001b[0m \u001b[0;34m\u001b[0m\u001b[0m\n\u001b[1;32m   1561\u001b[0m         \u001b[0;32mif\u001b[0m \u001b[0mreset_metrics\u001b[0m\u001b[0;34m:\u001b[0m\u001b[0;34m\u001b[0m\u001b[0;34m\u001b[0m\u001b[0m\n",
      "\u001b[0;32m/usr/local/lib/python3.6/dist-packages/tensorflow/python/keras/backend.py\u001b[0m in \u001b[0;36m__call__\u001b[0;34m(self, inputs)\u001b[0m\n\u001b[1;32m   3290\u001b[0m \u001b[0;34m\u001b[0m\u001b[0m\n\u001b[1;32m   3291\u001b[0m     fetched = self._callable_fn(*array_vals,\n\u001b[0;32m-> 3292\u001b[0;31m                                 run_metadata=self.run_metadata)\n\u001b[0m\u001b[1;32m   3293\u001b[0m     \u001b[0mself\u001b[0m\u001b[0;34m.\u001b[0m\u001b[0m_call_fetch_callbacks\u001b[0m\u001b[0;34m(\u001b[0m\u001b[0mfetched\u001b[0m\u001b[0;34m[\u001b[0m\u001b[0;34m-\u001b[0m\u001b[0mlen\u001b[0m\u001b[0;34m(\u001b[0m\u001b[0mself\u001b[0m\u001b[0;34m.\u001b[0m\u001b[0m_fetches\u001b[0m\u001b[0;34m)\u001b[0m\u001b[0;34m:\u001b[0m\u001b[0;34m]\u001b[0m\u001b[0;34m)\u001b[0m\u001b[0;34m\u001b[0m\u001b[0;34m\u001b[0m\u001b[0m\n\u001b[1;32m   3294\u001b[0m     output_structure = nest.pack_sequence_as(\n",
      "\u001b[0;32m/usr/local/lib/python3.6/dist-packages/tensorflow/python/client/session.py\u001b[0m in \u001b[0;36m__call__\u001b[0;34m(self, *args, **kwargs)\u001b[0m\n\u001b[1;32m   1456\u001b[0m         ret = tf_session.TF_SessionRunCallable(self._session._session,\n\u001b[1;32m   1457\u001b[0m                                                \u001b[0mself\u001b[0m\u001b[0;34m.\u001b[0m\u001b[0m_handle\u001b[0m\u001b[0;34m,\u001b[0m \u001b[0margs\u001b[0m\u001b[0;34m,\u001b[0m\u001b[0;34m\u001b[0m\u001b[0;34m\u001b[0m\u001b[0m\n\u001b[0;32m-> 1458\u001b[0;31m                                                run_metadata_ptr)\n\u001b[0m\u001b[1;32m   1459\u001b[0m         \u001b[0;32mif\u001b[0m \u001b[0mrun_metadata\u001b[0m\u001b[0;34m:\u001b[0m\u001b[0;34m\u001b[0m\u001b[0;34m\u001b[0m\u001b[0m\n\u001b[1;32m   1460\u001b[0m           \u001b[0mproto_data\u001b[0m \u001b[0;34m=\u001b[0m \u001b[0mtf_session\u001b[0m\u001b[0;34m.\u001b[0m\u001b[0mTF_GetBuffer\u001b[0m\u001b[0;34m(\u001b[0m\u001b[0mrun_metadata_ptr\u001b[0m\u001b[0;34m)\u001b[0m\u001b[0;34m\u001b[0m\u001b[0;34m\u001b[0m\u001b[0m\n",
      "\u001b[0;31mKeyboardInterrupt\u001b[0m: "
     ]
    }
   ],
   "source": [
    "# fit model\n",
    "epochs = 50\n",
    "model.fit_generator(trainGen, epochs=epochs, shuffle=False, verbose=1, validation_data=(valGen))"
   ]
  },
  {
   "cell_type": "markdown",
   "metadata": {},
   "source": [
    "### Visualize the loss"
   ]
  },
  {
   "cell_type": "code",
   "execution_count": 112,
   "metadata": {},
   "outputs": [
    {
     "data": {
      "text/plain": [
       "Text(0.5, 1.0, 'Loss')"
      ]
     },
     "execution_count": 112,
     "metadata": {},
     "output_type": "execute_result"
    },
    {
     "data": {
      "image/png": "[encoded data removed]",
      "text/plain": [
       "<Figure size 432x288 with 1 Axes>"
      ]
     },
     "metadata": {
      "needs_background": "light"
     },
     "output_type": "display_data"
    }
   ],
   "source": [
    "plt.plot(model.history.history['loss'], label=\"Loss\", color='blue')\n",
    "plt.plot(model.history.history['val_loss'], label=\"Validation\", color='red')\n",
    "plt.legend()\n",
    "plt.xlim(0,50)\n",
    "plt.ylim(0,.05)\n",
    "plt.title('Loss')"
   ]
  },
  {
   "cell_type": "markdown",
   "metadata": {},
   "source": [
    "### Evaluate on the test data"
   ]
  },
  {
   "cell_type": "code",
   "execution_count": 113,
   "metadata": {},
   "outputs": [
    {
     "name": "stdout",
     "output_type": "stream",
     "text": [
      "112/112 [==============================] - 11s 100ms/step\n",
      "Testing MSE: 0.0014071856858208776\n"
     ]
    }
   ],
   "source": [
    "testGen = NpzDataGenerator(npzPath+'testing_sequences/', test)\n",
    "mse = model.evaluate_generator(testGen, verbose=1)\n",
    "print(\"Testing MSE:\", mse)"
   ]
  },
  {
   "cell_type": "markdown",
   "metadata": {},
   "source": [
    "### Make some predictions"
   ]
  },
  {
   "cell_type": "code",
   "execution_count": 115,
   "metadata": {},
   "outputs": [
    {
     "name": "stdout",
     "output_type": "stream",
     "text": [
      "(62400, 8, 3)\n",
      "\n",
      "Predicted\n",
      "[[[ 0.23144093 -0.80097425  0.9158104 ]\n",
      "  [ 0.2243294  -0.8309721   0.8844949 ]\n",
      "  [ 0.22201099 -0.8590692   0.85625404]\n",
      "  [ 0.23206876 -0.8833488   0.8288481 ]]]\n",
      "\n",
      "Actual\n",
      "[[ 0.22059443 -0.80240125  0.9049526 ]\n",
      " [ 0.21978468 -0.83674043  0.88296862]\n",
      " [ 0.21917737 -0.86876575  0.8590357 ]\n",
      " [ 0.2187725  -0.8984772   0.83315378]]\n"
     ]
    }
   ],
   "source": [
    "nfile = np.load('/data/lstm/npz/training_sequences/fluxropes_sequences_108.npz')\n",
    "t1 = nfile['x']\n",
    "t2 = nfile['y']\n",
    "print(t1.shape)\n",
    "print()\n",
    "\n",
    "v = t1[12,:,:]\n",
    "\n",
    "# demonstrate prediction\n",
    "x_input = v.reshape((1, n_steps_in, n_features))\n",
    "yhat = model.predict(x_input, verbose=0)\n",
    "\n",
    "print(\"Predicted\")\n",
    "print(yhat)\n",
    "print()\n",
    "print(\"Actual\")\n",
    "print(t2[12,:,:])"
   ]
  },
  {
   "cell_type": "markdown",
   "metadata": {},
   "source": [
    "### Write model to a file"
   ]
  },
  {
   "cell_type": "code",
   "execution_count": 116,
   "metadata": {},
   "outputs": [],
   "source": [
    "model.save_weights(\"/data/lstm/models/lstm_model_8in_4out_no_noise_lstm_100.h5\")"
   ]
  },
  {
   "cell_type": "markdown",
   "metadata": {},
   "source": [
    "### Visualize prediction"
   ]
  },
  {
   "cell_type": "code",
   "execution_count": 123,
   "metadata": {},
   "outputs": [
    {
     "data": {
      "text/plain": [
       "Text(0, 0.5, 'Bz')"
      ]
     },
     "execution_count": 123,
     "metadata": {},
     "output_type": "execute_result"
    },
    {
     "data": {
      "image/png": "[encoded data removed]",
      "text/plain": [
       "<Figure size 432x288 with 4 Axes>"
      ]
     },
     "metadata": {
      "needs_background": "light"
     },
     "output_type": "display_data"
    }
   ],
   "source": [
    "npzfile = np.load( npzPath + 'training/fluxropes_001.npz' )\n",
    "bx = npzfile['bx']\n",
    "by = npzfile['by']\n",
    "bz = npzfile['bz']\n",
    "\n",
    "# there are 1600 fluxropes in this npz file\n",
    "# let's pick one to work with\n",
    "ix = 12\n",
    "bx_seq = bx[ix,0:n_steps_in]\n",
    "by_seq = by[ix,0:n_steps_in]\n",
    "bz_seq = bz[ix,0:n_steps_in]\n",
    "\n",
    "in_seq1 = bx_seq.reshape((n_steps_in, 1))\n",
    "in_seq2 = by_seq.reshape((n_steps_in, 1))\n",
    "in_seq3 = bz_seq.reshape((n_steps_in, 1))\n",
    "   \n",
    "dataset = np.hstack((in_seq1,in_seq2,in_seq3))\n",
    "dataset = dataset.reshape((1, n_steps_in, n_features))\n",
    "yhat = model.predict(dataset, verbose=0)\n",
    "\n",
    "n = bx[ix,:].shape[0]\n",
    "x = np.arange(0, n)\n",
    "\n",
    "fillValues = np.full(n_steps_in,float('NaN'))\n",
    "bx1 = np.concatenate( (fillValues, yhat[0,:,0]) )\n",
    "by1 = np.concatenate( (fillValues, yhat[0,:,1]) )\n",
    "bz1 = np.concatenate( (fillValues, yhat[0,:,2]) )\n",
    "\n",
    "fillValues = np.full(len(x)-bx1.shape[0],float('NaN'))\n",
    "bx1 = np.concatenate( (bx1, fillValues) )\n",
    "by1 = np.concatenate( (by1, fillValues) )\n",
    "bz1 = np.concatenate( (bz1, fillValues) )\n",
    "\n",
    "xx = bx[ix,:]*40\n",
    "yy = by[ix,:]*40\n",
    "zz = bz[ix,:]*40\n",
    "b = np.sqrt( xx*xx + yy*yy + zz*zz )\n",
    "\n",
    "xx2 = bx1*40\n",
    "yy2 = by1*40\n",
    "zz2 = bz1*40\n",
    "b2 = np.sqrt( xx*xx + yy*yy + zz*zz )\n",
    "\n",
    "plt.subplot(4, 1, 1)\n",
    "plt.title('Magnetic Cloud Predictions')\n",
    "plt.plot(x, b)\n",
    "plt.plot(x, b2, color='red', marker='.', linestyle='None' )\n",
    "plt.ylabel('B')\n",
    "#plt.ylim(-1,1)\n",
    "\n",
    "plt.subplot(4, 1, 2)\n",
    "plt.plot(x, xx)\n",
    "plt.plot(x, xx2, color='red', marker='.', linestyle='None' )\n",
    "plt.ylabel('Bx')\n",
    "plt.ylim(-5,5)\n",
    "\n",
    "plt.subplot(4, 1, 3)\n",
    "plt.plot(x, yy)\n",
    "plt.plot(x, yy2, color='red', marker='.', linestyle='None' )\n",
    "plt.ylim(-5,5)\n",
    "plt.ylabel('By')\n",
    "\n",
    "plt.subplot(4, 1, 4)\n",
    "plt.plot(x/n, zz)\n",
    "plt.plot(x/n, zz2, color='red', marker='.', linestyle='None' )\n",
    "plt.ylim(-5,5)\n",
    "plt.ylabel('Bz')\n"
   ]
  },
  {
   "cell_type": "markdown",
   "metadata": {},
   "source": [
    "### Use the first set of predictions to make another set of predictions"
   ]
  },
  {
   "cell_type": "code",
   "execution_count": 135,
   "metadata": {},
   "outputs": [
    {
     "data": {
      "text/plain": [
       "Text(0, 0.5, 'Bz')"
      ]
     },
     "execution_count": 135,
     "metadata": {},
     "output_type": "execute_result"
    },
    {
     "data": {
      "image/png": "[encoded data removed]",
      "text/plain": [
       "<Figure size 432x288 with 4 Axes>"
      ]
     },
     "metadata": {
      "needs_background": "light"
     },
     "output_type": "display_data"
    }
   ],
   "source": [
    "npzfile = np.load( npzPath + 'training/fluxropes_001.npz' )\n",
    "bx = npzfile['bx']\n",
    "by = npzfile['by']\n",
    "bz = npzfile['bz']\n",
    "\n",
    "# there are 1600 fluxropes in this npz file\n",
    "# let's pick one to work with\n",
    "ix = 12\n",
    "bx_seq = bx[ix,0:n_steps_in]\n",
    "by_seq = by[ix,0:n_steps_in]\n",
    "bz_seq = bz[ix,0:n_steps_in]\n",
    "\n",
    "in_seq1 = bx_seq.reshape((n_steps_in, 1))\n",
    "in_seq2 = by_seq.reshape((n_steps_in, 1))\n",
    "in_seq3 = bz_seq.reshape((n_steps_in, 1))\n",
    "   \n",
    "dataset = np.hstack((in_seq1,in_seq2,in_seq3))\n",
    "dataset = dataset.reshape((1, n_steps_in, n_features))\n",
    "yhat = model.predict(dataset, verbose=0)\n",
    "\n",
    "n = bx[ix,:].shape[0]\n",
    "x = np.arange(0, n)\n",
    "fillValues = np.full(8,float('NaN'))\n",
    "\n",
    "bx1 = np.concatenate( (bx_seq[-4:], yhat[0,:,0]) )\n",
    "by1 = np.concatenate( (by_seq[-4:], yhat[0,:,1]) )\n",
    "bz1 = np.concatenate( (bz_seq[-4:], yhat[0,:,2]) )\n",
    "\n",
    "in_seq1 = bx_seq.reshape((n_steps_in, 1))\n",
    "in_seq2 = by_seq.reshape((n_steps_in, 1))\n",
    "in_seq3 = bz_seq.reshape((n_steps_in, 1))\n",
    "\n",
    "dataset = np.hstack((in_seq1,in_seq2,in_seq3))\n",
    "dataset = dataset.reshape((1, n_steps_in, n_features))\n",
    "yhat = model.predict(dataset, verbose=0)\n",
    "\n",
    "bx1 = np.concatenate( (bx1, yhat[0,:,0]) )\n",
    "by1 = np.concatenate( (by1, yhat[0,:,1]) )\n",
    "bz1 = np.concatenate( (bz1, yhat[0,:,2]) )\n",
    "\n",
    "bx1 = np.concatenate( (fillValues, bx1) )\n",
    "by1 = np.concatenate( (fillValues, by1) )\n",
    "bz1 = np.concatenate( (fillValues, bz1) )\n",
    "\n",
    "fillValues = np.full(len(x)-bx1.shape[0],float('NaN'))\n",
    "bx1 = np.concatenate( (bx1, fillValues) )\n",
    "by1 = np.concatenate( (by1, fillValues) )\n",
    "bz1 = np.concatenate( (bz1, fillValues) )\n",
    "\n",
    "xx = bx[ix,:]*40\n",
    "yy = by[ix,:]*40\n",
    "zz = bz[ix,:]*40\n",
    "b = np.sqrt( xx*xx + yy*yy + zz*zz )\n",
    "\n",
    "xx2 = bx1*40\n",
    "yy2 = by1*40\n",
    "zz2 = bz1*40\n",
    "b2 = np.sqrt( xx*xx + yy*yy + zz*zz )\n",
    "\n",
    "plt.subplot(4, 1, 1)\n",
    "plt.title('Magnetic Cloud Predictions')\n",
    "plt.plot(x, b)\n",
    "plt.plot(x, b2, color='red', marker='.', linestyle='None' )\n",
    "plt.ylabel('B')\n",
    "#plt.ylim(-1,1)\n",
    "\n",
    "plt.subplot(4, 1, 2)\n",
    "plt.plot(x, xx)\n",
    "plt.plot(x, xx2, color='red', marker='.', linestyle='None' )\n",
    "plt.ylabel('Bx')\n",
    "plt.ylim(-6,6)\n",
    "\n",
    "plt.subplot(4, 1, 3)\n",
    "plt.plot(x, yy)\n",
    "plt.plot(x, yy2, color='red', marker='.', linestyle='None' )\n",
    "plt.ylim(-8,8)\n",
    "plt.ylabel('By')\n",
    "\n",
    "plt.subplot(4, 1, 4)\n",
    "plt.plot(x/n, zz)\n",
    "plt.plot(x/n, zz2, color='red', marker='.', linestyle='None' )\n",
    "plt.ylim(-6,6)\n",
    "plt.ylabel('Bz')"
   ]
  },
  {
   "cell_type": "code",
   "execution_count": 38,
   "metadata": {},
   "outputs": [
    {
     "data": {
      "text/plain": [
       "0.24"
      ]
     },
     "execution_count": 38,
     "metadata": {},
     "output_type": "execute_result"
    }
   ],
   "source": [
    "12/50."
   ]
  },
  {
   "cell_type": "code",
   "execution_count": 39,
   "metadata": {},
   "outputs": [
    {
     "data": {
      "text/plain": [
       "48"
      ]
     },
     "execution_count": 39,
     "metadata": {},
     "output_type": "execute_result"
    }
   ],
   "source": [
    "4*12"
   ]
  },
  {
   "cell_type": "code",
   "execution_count": null,
   "metadata": {},
   "outputs": [],
   "source": []
  }
 ],
 "metadata": {
  "kernelspec": {
   "display_name": "Python 3",
   "language": "python",
   "name": "python3"
  },
  "language_info": {
   "codemirror_mode": {
    "name": "ipython",
    "version": 3
   },
   "file_extension": ".py",
   "mimetype": "text/x-python",
   "name": "python",
   "nbconvert_exporter": "python",
   "pygments_lexer": "ipython3",
   "version": "3.6.9"
  }
 },
 "nbformat": 4,
 "nbformat_minor": 4
}
